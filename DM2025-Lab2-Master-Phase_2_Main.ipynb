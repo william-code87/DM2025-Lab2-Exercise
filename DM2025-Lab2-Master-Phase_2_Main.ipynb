{
 "cells": [
  {
   "cell_type": "markdown",
   "metadata": {},
   "source": [
    "**Table of contents**<a id='toc0_'></a>    \n",
    "- [Data Mining Lab 2 - Phase 2](#toc1_)    \n",
    "  - [Before Starting](#toc1_1_)    \n",
    "  - [Introduction](#toc1_2_)    \n",
    "  - [**1. Data Preparation**](#toc1_3_)    \n",
    "  - [**1.1 Load data**](#toc1_4_)    \n",
    "    - [**1.2 Save data**](#toc1_4_1_)    \n",
    "  - [**2. Large Language Models (LLMs)**](#toc1_5_)    \n",
    "    - [Open-Source vs. Proprietary LLMs](#toc1_5_1_)    \n",
    "    - [Why Use Code (API) for Data Mining?](#toc1_5_2_)    \n",
    "    - [The Gemini API](#toc1_5_3_)    \n",
    "    - [Interacting with the Gemini API](#toc1_5_4_)    \n",
    "    - [**2.1 Text Prompting**](#toc1_5_5_)    \n",
    "        - [**>>> Exercise 1 (Take home):**](#toc1_5_5_1_1_)    \n",
    "    - [**2.2 Structured Output**](#toc1_5_6_)    \n",
    "        - [**>>> Exercise 2 (Take home):**](#toc1_5_6_1_1_)    \n",
    "    - [**2.3 Information Extraction and Grounding:**](#toc1_5_7_)    \n",
    "      - [**`langextract`: A Library for Grounded Extraction**](#toc1_5_7_1_)    \n",
    "        - [**2.3.1 Using PDF Documents:**](#toc1_5_7_1_1_)    \n",
    "        - [**>>> Bonus Exercise 3 (Take home):**](#toc1_5_7_1_2_)    \n",
    "    - [**2.4 Generating LLM Embeddings:**](#toc1_5_8_)    \n",
    "        - [**>>> Exercise 4 (Take home):**](#toc1_5_8_1_1_)    \n",
    "    - [**2.5 Retrieval-Augmented Generation (RAG)**](#toc1_5_9_)    \n",
    "        - [**Actual answer in the URL:**](#toc1_5_9_1_1_)    \n",
    "        - [**Content in the URL that might get into the generated answer because of similar semantic meaning:**](#toc1_5_9_1_2_)    \n",
    "        - [**>>> Bonus Exercise 5 (Take home):**](#toc1_5_9_1_3_)    \n",
    "    - [**2.6 Few-Shot Prompting Classification:**](#toc1_5_10_)    \n",
    "        - [**>>> Exercise 6 (Take home):**](#toc1_5_10_1_1_)    \n",
    "        - [**>>> Exercise 7 (Take home):**](#toc1_5_10_1_2_)    \n",
    "    - [**2.7 Extra LLM Related Materials:**](#toc1_5_11_)    \n",
    "\n",
    "<!-- vscode-jupyter-toc-config\n",
    "\tnumbering=false\n",
    "\tanchor=true\n",
    "\tflat=false\n",
    "\tminLevel=1\n",
    "\tmaxLevel=6\n",
    "\t/vscode-jupyter-toc-config -->\n",
    "<!-- THIS CELL WILL BE REPLACED ON TOC UPDATE. DO NOT WRITE YOUR TEXT IN THIS CELL -->"
   ]
  },
  {
   "cell_type": "markdown",
   "metadata": {
    "id": "uuutyCx4YTpX"
   },
   "source": [
    "# <a id='toc1_'></a>[Data Mining Lab 2 - Phase 2](#toc0_)\n",
    "In this lab's phase 2 session we will focus on exploring some basic LLMs' applications with data.\n"
   ]
  },
  {
   "cell_type": "markdown",
   "metadata": {},
   "source": [
    "## <a id='toc1_1_'></a>[Before Starting](#toc0_)\n",
    "\n",
    "**Make sure you have installed all the required libraries and you have the environment ready to run this lab.**\n",
    "    "
   ]
  },
  {
   "cell_type": "markdown",
   "metadata": {
    "id": "LIpAqCvMYTpX"
   },
   "source": [
    "---\n",
    "## <a id='toc1_2_'></a>[Introduction](#toc0_)"
   ]
  },
  {
   "cell_type": "markdown",
   "metadata": {
    "id": "n2paPeNbYTpX"
   },
   "source": [
    "**Dataset:** [SemEval 2017 Task](https://competitions.codalab.org/competitions/16380)\n",
    "\n",
    "**Task:** Classify text data into 4 different emotions using word embeddings and other deep information retrieval approaches.\n",
    "\n",
    "![pic0.png](./pics/pic0.png)"
   ]
  },
  {
   "cell_type": "markdown",
   "metadata": {
    "id": "op_X7pR-YTpX"
   },
   "source": [
    "---\n",
    "## <a id='toc1_3_'></a>[**1. Data Preparation**](#toc0_)"
   ]
  },
  {
   "cell_type": "markdown",
   "metadata": {
    "id": "pgoEbZzSYTpX"
   },
   "source": [
    "---\n",
    "## <a id='toc1_4_'></a>[**1.1 Load data**](#toc0_)\n",
    "\n",
    "We start by loading the csv files into a single pandas dataframe for training and one for testing."
   ]
  },
  {
   "cell_type": "code",
   "execution_count": 4,
   "metadata": {
    "id": "anfjcPSSYTpX"
   },
   "outputs": [],
   "source": [
    "import pandas as pd\n",
    "\n",
    "### training data\n",
    "anger_train = pd.read_csv(\"data/semeval/train/anger-ratings-0to1.train.txt\",\n",
    "                         sep=\"\\t\", header=None,names=[\"id\", \"text\", \"emotion\", \"intensity\"])\n",
    "sadness_train = pd.read_csv(\"data/semeval/train/sadness-ratings-0to1.train.txt\",\n",
    "                         sep=\"\\t\", header=None, names=[\"id\", \"text\", \"emotion\", \"intensity\"])\n",
    "fear_train = pd.read_csv(\"data/semeval/train/fear-ratings-0to1.train.txt\",\n",
    "                         sep=\"\\t\", header=None, names=[\"id\", \"text\", \"emotion\", \"intensity\"])\n",
    "joy_train = pd.read_csv(\"data/semeval/train/joy-ratings-0to1.train.txt\",\n",
    "                         sep=\"\\t\", header=None, names=[\"id\", \"text\", \"emotion\", \"intensity\"])"
   ]
  },
  {
   "cell_type": "code",
   "execution_count": 5,
   "metadata": {
    "id": "yVc2T5MIYTpX"
   },
   "outputs": [],
   "source": [
    "# combine 4 sub-dataset\n",
    "train_df = pd.concat([anger_train, fear_train, joy_train, sadness_train], ignore_index=True)"
   ]
  },
  {
   "cell_type": "code",
   "execution_count": 6,
   "metadata": {
    "colab": {
     "base_uri": "https://localhost:8080/",
     "height": 206
    },
    "id": "Kw8bGMv7YTpX",
    "outputId": "9f6f7052-302e-4794-ef69-b84450b61b36"
   },
   "outputs": [
    {
     "data": {
      "text/html": [
       "<div>\n",
       "<style scoped>\n",
       "    .dataframe tbody tr th:only-of-type {\n",
       "        vertical-align: middle;\n",
       "    }\n",
       "\n",
       "    .dataframe tbody tr th {\n",
       "        vertical-align: top;\n",
       "    }\n",
       "\n",
       "    .dataframe thead th {\n",
       "        text-align: right;\n",
       "    }\n",
       "</style>\n",
       "<table border=\"1\" class=\"dataframe\">\n",
       "  <thead>\n",
       "    <tr style=\"text-align: right;\">\n",
       "      <th></th>\n",
       "      <th>id</th>\n",
       "      <th>text</th>\n",
       "      <th>emotion</th>\n",
       "      <th>intensity</th>\n",
       "    </tr>\n",
       "  </thead>\n",
       "  <tbody>\n",
       "    <tr>\n",
       "      <th>0</th>\n",
       "      <td>10000</td>\n",
       "      <td>How the fu*k! Who the heck! moved my fridge!.....</td>\n",
       "      <td>anger</td>\n",
       "      <td>0.938</td>\n",
       "    </tr>\n",
       "    <tr>\n",
       "      <th>1</th>\n",
       "      <td>10001</td>\n",
       "      <td>So my Indian Uber driver just called someone t...</td>\n",
       "      <td>anger</td>\n",
       "      <td>0.896</td>\n",
       "    </tr>\n",
       "    <tr>\n",
       "      <th>2</th>\n",
       "      <td>10002</td>\n",
       "      <td>@DPD_UK I asked for my parcel to be delivered ...</td>\n",
       "      <td>anger</td>\n",
       "      <td>0.896</td>\n",
       "    </tr>\n",
       "    <tr>\n",
       "      <th>3</th>\n",
       "      <td>10003</td>\n",
       "      <td>so ef whichever butt wipe pulled the fire alar...</td>\n",
       "      <td>anger</td>\n",
       "      <td>0.896</td>\n",
       "    </tr>\n",
       "    <tr>\n",
       "      <th>4</th>\n",
       "      <td>10004</td>\n",
       "      <td>Don't join @BTCare they put the phone down on ...</td>\n",
       "      <td>anger</td>\n",
       "      <td>0.896</td>\n",
       "    </tr>\n",
       "  </tbody>\n",
       "</table>\n",
       "</div>"
      ],
      "text/plain": [
       "      id                                               text emotion  intensity\n",
       "0  10000  How the fu*k! Who the heck! moved my fridge!.....   anger      0.938\n",
       "1  10001  So my Indian Uber driver just called someone t...   anger      0.896\n",
       "2  10002  @DPD_UK I asked for my parcel to be delivered ...   anger      0.896\n",
       "3  10003  so ef whichever butt wipe pulled the fire alar...   anger      0.896\n",
       "4  10004  Don't join @BTCare they put the phone down on ...   anger      0.896"
      ]
     },
     "execution_count": 6,
     "metadata": {},
     "output_type": "execute_result"
    }
   ],
   "source": [
    "### testing data\n",
    "anger_test = pd.read_csv(\"data/semeval/dev/anger-ratings-0to1.dev.gold.txt\",\n",
    "                         sep=\"\\t\", header=None, names=[\"id\", \"text\", \"emotion\", \"intensity\"])\n",
    "sadness_test = pd.read_csv(\"data/semeval/dev/sadness-ratings-0to1.dev.gold.txt\",\n",
    "                         sep=\"\\t\", header=None, names=[\"id\", \"text\", \"emotion\", \"intensity\"])\n",
    "fear_test = pd.read_csv(\"data/semeval/dev/fear-ratings-0to1.dev.gold.txt\",\n",
    "                         sep=\"\\t\", header=None, names=[\"id\", \"text\", \"emotion\", \"intensity\"])\n",
    "joy_test = pd.read_csv(\"data/semeval/dev/joy-ratings-0to1.dev.gold.txt\",\n",
    "                         sep=\"\\t\", header=None, names=[\"id\", \"text\", \"emotion\", \"intensity\"])\n",
    "\n",
    "# combine 4 sub-dataset\n",
    "test_df = pd.concat([anger_test, fear_test, joy_test, sadness_test], ignore_index=True)\n",
    "train_df.head()"
   ]
  },
  {
   "cell_type": "code",
   "execution_count": 7,
   "metadata": {
    "id": "HBHwcL8sYTpX"
   },
   "outputs": [],
   "source": [
    "# shuffle dataset\n",
    "train_df = train_df.sample(frac=1)\n",
    "test_df = test_df.sample(frac=1)"
   ]
  },
  {
   "cell_type": "code",
   "execution_count": 8,
   "metadata": {
    "colab": {
     "base_uri": "https://localhost:8080/"
    },
    "id": "9w_cDUwCYTpX",
    "outputId": "3582ac44-1f5f-4cb2-b833-d477f152461a",
    "scrolled": true
   },
   "outputs": [
    {
     "name": "stdout",
     "output_type": "stream",
     "text": [
      "Shape of Training df:  (3613, 4)\n",
      "Shape of Testing df:  (347, 4)\n"
     ]
    }
   ],
   "source": [
    "print(\"Shape of Training df: \", train_df.shape)\n",
    "print(\"Shape of Testing df: \", test_df.shape)"
   ]
  },
  {
   "cell_type": "markdown",
   "metadata": {
    "id": "_hr8aKhlYTpo"
   },
   "source": [
    "---\n",
    "### <a id='toc1_4_1_'></a>[**1.2 Save data**](#toc0_)"
   ]
  },
  {
   "cell_type": "code",
   "execution_count": 9,
   "metadata": {
    "id": "dZzepBdpYTpo"
   },
   "outputs": [],
   "source": [
    "# save to pickle file\n",
    "train_df.to_pickle(\"./data/train_df.pkl\") \n",
    "test_df.to_pickle(\"./data/test_df.pkl\")"
   ]
  },
  {
   "cell_type": "code",
   "execution_count": 10,
   "metadata": {
    "id": "H5uO-kOUYTpo"
   },
   "outputs": [],
   "source": [
    "import pandas as pd\n",
    "\n",
    "# load a pickle file\n",
    "train_df = pd.read_pickle(\"./data/train_df.pkl\")\n",
    "test_df = pd.read_pickle(\"./data/test_df.pkl\")"
   ]
  },
  {
   "cell_type": "markdown",
   "metadata": {
    "id": "_sLDcQzeYTpo"
   },
   "source": [
    "For more information: https://reurl.cc/0Dzqx"
   ]
  },
  {
   "cell_type": "markdown",
   "metadata": {},
   "source": [
    "---\n",
    "## <a id='toc1_5_'></a>[**2. Large Language Models (LLMs)**](#toc0_)\n",
    "\n",
    "Before we start we strongly suggest that you watch the following video explanations so you can understand the concepts that we are gonna discuss about LLMs: \n",
    "\n",
    "1. [How Large Language Models Work](https://www.youtube.com/watch?v=5sLYAQS9sWQ)\n",
    "2. [Large Language Models explained briefly](https://www.youtube.com/watch?v=LPZh9BOjkQs)\n",
    "3. [What is Prompt Tuning?](https://www.youtube.com/watch?v=yu27PWzJI_Y)\n",
    "4. [Why Large Language Models Hallucinate](https://www.youtube.com/watch?v=cfqtFvWOfg0)\n",
    "5. [What are LLM Embeddings?](https://www.youtube.com/watch?v=UShw_1NbpCw&t=182s)\n",
    "6. [What is Retrieval-Augmented Generation (RAG)?](https://www.youtube.com/watch?v=T-D1OfcDW1M)\n",
    "7. [RAG vs Fine-Tuning vs Prompt Engineering: Optimizing AI Models](https://www.youtube.com/watch?v=zYGDpG-pTho)\n",
    "8. [Discover Few-Shot Prompting | Google AI Essentials](https://www.youtube.com/watch?v=9qdgEBVkWR4)\n",
    "9. [What is Zero-Shot Learning?](https://www.youtube.com/watch?v=pVpr4GYLzAo)\n",
    "10. [Zero-shot, One-shot and Few-shot Prompting Explained | Prompt Engineering 101](https://www.youtube.com/watch?v=sW5xoicq5TY)\n",
    "\n",
    "`These videos can help you get a better grasp on the core concepts of LLMs if you were not familiar before.`\n",
    "\n",
    "**So now let's start with the main content of Lab 2 Phase 2.**\n",
    "\n",
    "Large Language Models (LLMs) are AI systems trained on vast amounts of text to understand and generate human language for tasks like summarization and translation.\n",
    "\n",
    "### <a id='toc1_5_1_'></a>[Open-Source vs. Proprietary LLMs](#toc0_)\n",
    "*   **Open-Source Models** (e.g., Llama, Gemma) are customizable and cost-effective but require technical skill to manage and may be less powerful.\n",
    "*   **Proprietary Models** (e.g., Gemini, ChatGPT) offer top performance and ease of use but are more costly and less flexible.\n",
    "\n",
    "For students interested in running models locally, the optional notebook `DM2025-Lab2-Optional-Ollama.ipynb` explores using Ollama ([Ollama GitHub Link](https://github.com/ollama/ollama)). It needs a capable GPU to run models (**at least 4GB VRAM**).\n",
    "\n",
    "You can explore the variety of models available through Ollama here:\n",
    "\n",
    "![pic10.png](./pics/pic10.png)\n",
    "\n",
    "### <a id='toc1_5_2_'></a>[Why Use Code (API) for Data Mining?](#toc0_)\n",
    "\n",
    "For data analysis, accessing LLMs programmatically is superior to using web chatbots because it allows for:\n",
    "*   **Automation:** Easily process entire datasets with loops.\n",
    "*   **Structured Output:** Receive data in usable formats like **JSON**, ready for analysis in tools like pandas.\n",
    "*   **Reproducibility:** Ensure consistent results by setting fixed parameters.\n",
    "*   **Privacy:** Maintain data security, especially when running models locally.\n",
    "\n",
    "For the main exercises in this lab, we will use **the Gemini API**. This approach offers several advantages over running local open-source models, such as access to state-of-the-art model performance without needing specialized hardware. While the API has usage limits (rate limits and token quotas), it provides a generous **free tier** that is more than sufficient for our exercises.\n",
    "\n",
    "![pic13.png](./pics/pic13.png)\n",
    "\n",
    "![pic14.png](./pics/pic14.png)\n",
    "\n",
    "### <a id='toc1_5_3_'></a>[The Gemini API](#toc0_)\n",
    "\n",
    "We will primarily use the **Gemini 2.5 Flash-Lite** (`gemini-2.5-flash-lite`) model. As shown in the rate limit table, this model is optimized for high-frequency tasks and offers a high request-per-day limit of 1,000, making it ideal for completing the lab exercises without interruption.\n",
    "\n",
    "Students are encouraged to explore other models available through the API but should remain mindful of their respective usage limits. For instance:\n",
    "*   **Gemini 2.5 Pro** is a more powerful model but has a lower daily request limit of 100.\n",
    "*   The **Gemma 3** model available via the API offers an impressive 14,400 requests per day, providing another excellent alternative for experimentation.\n",
    "\n",
    "Please be aware of your usage limits as you work through the exercises to ensure you do not get rate-limited.\n",
    "\n",
    "[Gemini Documentation](https://ai.google.dev/gemini-api/docs)\n",
    "\n",
    "[Gemini Rate Limits](https://ai.google.dev/gemini-api/docs/rate-limits)\n",
    "\n",
    "[Description of Gemini Models](https://ai.google.dev/gemini-api/docs/models)"
   ]
  },
  {
   "cell_type": "markdown",
   "metadata": {},
   "source": [
    "---\n",
    "\n",
    "### <a id='toc1_5_4_'></a>[Interacting with the Gemini API](#toc0_)\n",
    "\n",
    "The code cell below contains the primary function, `prompt_gemini`, that we will use throughout this lab to communicate with the Gemini API. It's designed to be a flexible wrapper that handles the details of sending a request and receiving a response.\n",
    "\n",
    "Before you run the exercises, here are the key things you need to understand in this setup:\n",
    "\n",
    "*   **API Key Configuration**: The script loads your API key from a `.env` file located in the `./config/` directory. **You must create this file and add your API key** like this: `GOOGLE_API_KEY='YOUR_API_KEY_HERE'`. This is a security best practice to keep your credentials out of the code.\n",
    "\n",
    "*   **Global Settings**: At the top of the script, you can find and modify several important defaults:\n",
    "    *   `MODEL_NAME`: We've set this to `\"gemini-2.5-flash-lite\"`, but you can easily switch to other models like `\"gemini-2.5-pro\"` to experiment.\n",
    "    *   `SYSTEM_INSTRUCTION`: This sets the model's default behavior or persona (e.g., \"You are a helpful assistant\"). You can customize this for different tasks.\n",
    "    *   `SAFETY_SETTINGS`: For our academic exercises, these are turned off to prevent interference. In real-world applications, you would configure these carefully.\n",
    "\n",
    "*   **The `prompt_gemini` function**: This is the main tool you will use. Here are its most important parameters:\n",
    "    *   `input_prompt`: The list of contents (text, images, etc.) you want to send to the model.\n",
    "    *   `temperature`: Controls the randomness of the output. `0.0` makes the output deterministic and less creative, while a higher value (e.g., `0.7`) makes it more varied.\n",
    "    *   `schema`: A powerful feature that allows you to specify a JSON format for the model's output. This is extremely useful for structured data extraction.\n",
    "    *   `with_tokens_info`: If set to `True`, the function will also return the number of input and output tokens used, which is helpful for monitoring your usage against the free tier limits.\n",
    "\n",
    "In the following exercises, you will call this function with different prompts and configurations to solve various tasks.\n",
    "\n",
    "If needed, you can also check some tutorials on how a python function works: [Python Functions Tutorial](https://realpython.com/defining-your-own-python-function/)"
   ]
  },
  {
   "cell_type": "code",
   "execution_count": 11,
   "metadata": {},
   "outputs": [],
   "source": [
    "import os\n",
    "from dotenv import load_dotenv\n",
    "from google import genai\n",
    "from google.genai import types\n",
    "\n",
    "env_path = \"./config/.env\"\n",
    "load_dotenv(dotenv_path=env_path)\n",
    "\n",
    "# System instruction that can dictate how the model behaves in the output, can be customized as needed\n",
    "SYSTEM_INSTRUCTION = (\n",
    "        \"You are a helpful assistant\"\n",
    "    )\n",
    "\n",
    "# Max amount of tokens that the model can output, the Gemini 2.5 Models have this maximum amount\n",
    "# For other models need to check their documentation \n",
    "MAX_OUTPUT_TOKENS = 65535\n",
    "MODEL_NAME = \"gemini-2.5-flash-lite\" # Other models: \"gemini-2.5-pro\", \"gemini-2.5-flash\"; Check different max output tokens: \"gemini-2.0-flash\" , \"gemini-2.0-flash-lite\" \n",
    "\n",
    "# We disable the safety settings, as no moderation is needed in our tasks\n",
    "SAFETY_SETTINGS = [\n",
    "    types.SafetySetting(\n",
    "        category=\"HARM_CATEGORY_HATE_SPEECH\", threshold=\"OFF\"),\n",
    "    types.SafetySetting(\n",
    "        category=\"HARM_CATEGORY_DANGEROUS_CONTENT\", threshold=\"OFF\"),\n",
    "    types.SafetySetting(\n",
    "        category=\"HARM_CATEGORY_SEXUALLY_EXPLICIT\", threshold=\"OFF\"),\n",
    "    types.SafetySetting(\n",
    "        category=\"HARM_CATEGORY_HARASSMENT\", threshold=\"OFF\")\n",
    "]\n",
    "\n",
    "#IMPORTANT: The script loads your API key from a `.env` file located in the `./config/` directory. \n",
    "# You must create this file and add your API key like this: `GOOGLE_API_KEY='YOUR_API_KEY_HERE'`\n",
    "\n",
    "# We input the API Key to be able to use the Gemini models\n",
    "api_key = os.getenv(\"GOOGLE_API_KEY\")\n",
    "os.environ[\"GOOGLE_API_KEY\"] = api_key\n",
    "client = genai.Client(api_key=api_key)\n",
    "\n",
    "# We also set LangExtract to use the API key as well:\n",
    "if 'GEMINI_API_KEY' not in os.environ:\n",
    "    os.environ['GEMINI_API_KEY'] = api_key\n",
    "\n",
    "def prompt_gemini(\n",
    "        input_prompt: list,\n",
    "        schema = None,\n",
    "        temperature: float = 0.0,\n",
    "        system_instruction: str = SYSTEM_INSTRUCTION,\n",
    "        max_output_tokens: int = MAX_OUTPUT_TOKENS,\n",
    "        client: genai.Client = client,\n",
    "        model_name: str = MODEL_NAME,\n",
    "        new_config: types.GenerateContentConfig = None,\n",
    "        with_tools: bool = False,\n",
    "        with_parts: bool = False,\n",
    "        with_tokens_info: bool = False\n",
    "    ):\n",
    "        try:\n",
    "            # If we need a JSON schema we set up the following\n",
    "            if schema:\n",
    "                generate_content_config = types.GenerateContentConfig(\n",
    "                    temperature=temperature,\n",
    "                    system_instruction=system_instruction,\n",
    "                    max_output_tokens=max_output_tokens,\n",
    "                    response_modalities=[\"TEXT\"],\n",
    "                    response_mime_type=\"application/json\",\n",
    "                    response_schema=schema,\n",
    "                    safety_settings=SAFETY_SETTINGS\n",
    "                )\n",
    "            # If there is no need we leave it unstructured\n",
    "            else:\n",
    "                generate_content_config = types.GenerateContentConfig(\n",
    "                    temperature=temperature,\n",
    "                    system_instruction=system_instruction,\n",
    "                    max_output_tokens=max_output_tokens,\n",
    "                    response_modalities=[\"TEXT\"],\n",
    "                    safety_settings=SAFETY_SETTINGS\n",
    "                )\n",
    "            \n",
    "            # We add a different custom configuration if we need it\n",
    "            if new_config:\n",
    "                generate_content_config = new_config\n",
    "            \n",
    "            # For some tasks we need a more specific way to add the contents when prompting the model\n",
    "            # So we need custom parts for it sometimes from the \"types\" objects\n",
    "            if with_parts:\n",
    "                response = client.models.generate_content(\n",
    "                    model=model_name,\n",
    "                    contents=types.Content(parts=input_prompt),\n",
    "                    config=generate_content_config,\n",
    "                )\n",
    "            # In the simplest form the contents can be expressed as a list [] of simple objects like str and Pillow images\n",
    "            else:\n",
    "                response = client.models.generate_content(\n",
    "                    model=model_name,\n",
    "                    contents=input_prompt,\n",
    "                    config=generate_content_config,\n",
    "                )\n",
    "\n",
    "            if with_tools:\n",
    "                # print(response)\n",
    "                # Include raw response when function calling\n",
    "                completion = response\n",
    "                if with_tokens_info:\n",
    "                    log = {\n",
    "                        \"model\": model_name,\n",
    "                        \"input_tokens\": response.usage_metadata.prompt_token_count,\n",
    "                        \"output_tokens\": response.usage_metadata.candidates_token_count,\n",
    "                    }\n",
    "                    return completion, log\n",
    "                return completion\n",
    "            else:\n",
    "                completion = response.text\n",
    "                if with_tokens_info:\n",
    "                    log = {\n",
    "                        \"model\": model_name,\n",
    "                        \"input_tokens\": response.usage_metadata.prompt_token_count,\n",
    "                        \"output_tokens\": response.usage_metadata.candidates_token_count,\n",
    "                    }\n",
    "                    # Return the text response and logs (if selected)\n",
    "                    return completion, log\n",
    "                return completion\n",
    "        except Exception as e:\n",
    "             print(f\"Error occurred when generating response, error: {e}\")\n",
    "             return None"
   ]
  },
  {
   "cell_type": "markdown",
   "metadata": {},
   "source": [
    "---\n",
    "### <a id='toc1_5_5_'></a>[**2.1 Text Prompting**](#toc0_)\n",
    "\n",
    "In the same way as with ChatGPT we can use the Gemini models to ask about anything. Here we are going to ask a question requesting the response to be in markdown format, this is to make it have a better display afterwards.\n",
    "\n",
    "For more information visit:\n",
    "[Gemini's Text Generation Documentation](https://ai.google.dev/gemini-api/docs/text-generation)"
   ]
  },
  {
   "cell_type": "code",
   "execution_count": 12,
   "metadata": {},
   "outputs": [
    {
     "name": "stdout",
     "output_type": "stream",
     "text": [
      "Data mining is the process of **discovering patterns, insights, and knowledge from large datasets**. It's essentially about extracting valuable information that isn't immediately obvious from raw data. Think of it as sifting through a mountain of information to find hidden gems.\n",
      "\n",
      "Here's a breakdown of what that means:\n",
      "\n",
      "**Key Concepts:**\n",
      "\n",
      "*   **Large Datasets:** Data mining is typically applied to datasets that are too large and complex for manual analysis. This can include customer transaction records, website logs, sensor data, social media feeds, scientific experiment results, and much more.\n",
      "*   **Patterns and Insights:** The goal is to identify recurring trends, correlations, anomalies, and relationships within the data. These patterns can reveal underlying structures, predict future behavior, or explain observed phenomena.\n",
      "*   **Knowledge Discovery:** The ultimate aim is to transform raw data into actionable knowledge that can be used for decision-making, problem-solving, and strategic planning.\n",
      "\n",
      "**How it Works (The Process):**\n",
      "\n",
      "Data mining is usually an iterative process that involves several stages:\n",
      "\n",
      "1.  **Business Understanding:** Defining the problem or objective you want to achieve with data mining. What questions are you trying to answer? What business goals are you trying to meet?\n",
      "2.  **Data Understanding:** Exploring and getting familiar with the data. This involves collecting, cleaning, and understanding the data's structure, quality, and meaning.\n",
      "3.  **Data Preparation (Preprocessing):** This is often the most time-consuming stage. It involves:\n",
      "    *   **Cleaning:** Handling missing values, noisy data, and inconsistencies.\n",
      "    *   **Integration:** Combining data from multiple sources.\n",
      "    *   **Transformation:** Normalizing or aggregating data to make it suitable for mining.\n",
      "    *   **Reduction:** Reducing the size of the dataset while preserving important information.\n",
      "4.  **Modeling:** Selecting and applying appropriate data mining techniques (algorithms) to discover patterns. This is where the \"mining\" happens.\n",
      "5.  **Evaluation:** Assessing the quality and usefulness of the discovered patterns. Do they make sense? Are they statistically significant? Do they meet the business objectives?\n",
      "6.  **Deployment:** Putting the discovered knowledge into practice. This could involve integrating it into business processes, creating reports, or building predictive models.\n",
      "\n",
      "**Common Data Mining Techniques:**\n",
      "\n",
      "Data mining employs a variety of techniques, often drawing from statistics, machine learning, and database systems. Some of the most common include:\n",
      "\n",
      "*   **Classification:** Categorizing data into predefined classes (e.g., predicting whether a customer will churn or not).\n",
      "*   **Clustering:** Grouping similar data points together without predefined classes (e.g., segmenting customers into different groups based on their purchasing behavior).\n",
      "*   **Association Rule Mining:** Discovering relationships between items in a dataset (e.g., \"customers who buy bread also tend to buy milk\"). This is often used in market basket analysis.\n",
      "*   **Regression:** Predicting a continuous numerical value (e.g., predicting the price of a house based on its features).\n",
      "*   **Anomaly Detection (Outlier Detection):** Identifying data points that deviate significantly from the norm (e.g., detecting fraudulent transactions).\n",
      "*   **Sequential Pattern Mining:** Discovering patterns that occur in a sequence over time (e.g., identifying common user navigation paths on a website).\n",
      "\n",
      "**Why is Data Mining Important?**\n",
      "\n",
      "Data mining is crucial for businesses and organizations because it enables them to:\n",
      "\n",
      "*   **Make Better Decisions:** By understanding customer behavior, market trends, and operational efficiencies, organizations can make more informed and strategic decisions.\n",
      "*   **Improve Customer Relationships:** Identifying customer preferences and predicting their needs allows for personalized marketing, better customer service, and increased loyalty.\n",
      "*   **Detect Fraud and Risk:** Anomaly detection can help identify fraudulent activities, security breaches, and potential risks.\n",
      "*   **Optimize Operations:** Understanding patterns in operational data can lead to improved efficiency, reduced costs, and better resource allocation.\n",
      "*   **Drive Innovation:** Discovering new insights can spark new product development, service offerings, and business models.\n",
      "*   **Gain a Competitive Advantage:** Organizations that effectively leverage data mining can outperform their competitors by understanding their market and customers better.\n",
      "\n",
      "In essence, data mining is a powerful tool for transforming raw data into valuable intelligence, driving progress and innovation across various fields.\n"
     ]
    }
   ],
   "source": [
    "input_prompt = [\"What is Data Mining?\"]\n",
    "text_response, logs = prompt_gemini(input_prompt = input_prompt, with_tokens_info = True)\n",
    "print(text_response)"
   ]
  },
  {
   "cell_type": "markdown",
   "metadata": {},
   "source": [
    "We can also check the logs of the usage with our model that we defined in our previous function. We can observe the model we used, how many tokens where in the prompt in the input, and the output text response tokens of our model."
   ]
  },
  {
   "cell_type": "code",
   "execution_count": 13,
   "metadata": {},
   "outputs": [
    {
     "name": "stdout",
     "output_type": "stream",
     "text": [
      "{'model': 'gemini-2.5-flash-lite', 'input_tokens': 12, 'output_tokens': 911}\n"
     ]
    }
   ],
   "source": [
    "print(logs)"
   ]
  },
  {
   "cell_type": "markdown",
   "metadata": {},
   "source": [
    "**We can use the IPython library to make the response look better:**"
   ]
  },
  {
   "cell_type": "code",
   "execution_count": 14,
   "metadata": {},
   "outputs": [
    {
     "data": {
      "text/markdown": [
       "Data mining is the process of **discovering patterns, insights, and knowledge from large datasets**. It's essentially about extracting valuable information that isn't immediately obvious from raw data. Think of it as sifting through a mountain of information to find hidden gems.\n",
       "\n",
       "Here's a breakdown of what that means:\n",
       "\n",
       "**Key Concepts:**\n",
       "\n",
       "*   **Large Datasets:** Data mining is typically applied to datasets that are too large and complex for manual analysis. This can include customer transaction records, website logs, sensor data, social media feeds, scientific experiment results, and much more.\n",
       "*   **Patterns and Insights:** The goal is to identify recurring trends, correlations, anomalies, and relationships within the data. These patterns can reveal underlying structures, predict future behavior, or explain observed phenomena.\n",
       "*   **Knowledge Discovery:** The ultimate aim is to transform raw data into actionable knowledge that can be used for decision-making, problem-solving, and strategic planning.\n",
       "\n",
       "**How it Works (The Process):**\n",
       "\n",
       "Data mining is usually an iterative process that involves several stages:\n",
       "\n",
       "1.  **Business Understanding:** Defining the problem or objective you want to achieve with data mining. What questions are you trying to answer? What business goals are you trying to meet?\n",
       "2.  **Data Understanding:** Exploring and getting familiar with the data. This involves collecting, cleaning, and understanding the data's structure, quality, and meaning.\n",
       "3.  **Data Preparation (Preprocessing):** This is often the most time-consuming stage. It involves:\n",
       "    *   **Cleaning:** Handling missing values, noisy data, and inconsistencies.\n",
       "    *   **Integration:** Combining data from multiple sources.\n",
       "    *   **Transformation:** Normalizing or aggregating data to make it suitable for mining.\n",
       "    *   **Reduction:** Reducing the size of the dataset while preserving important information.\n",
       "4.  **Modeling:** Selecting and applying appropriate data mining techniques (algorithms) to discover patterns. This is where the \"mining\" happens.\n",
       "5.  **Evaluation:** Assessing the quality and usefulness of the discovered patterns. Do they make sense? Are they statistically significant? Do they meet the business objectives?\n",
       "6.  **Deployment:** Putting the discovered knowledge into practice. This could involve integrating it into business processes, creating reports, or building predictive models.\n",
       "\n",
       "**Common Data Mining Techniques:**\n",
       "\n",
       "Data mining employs a variety of techniques, often drawing from statistics, machine learning, and database systems. Some of the most common include:\n",
       "\n",
       "*   **Classification:** Categorizing data into predefined classes (e.g., predicting whether a customer will churn or not).\n",
       "*   **Clustering:** Grouping similar data points together without predefined classes (e.g., segmenting customers into different groups based on their purchasing behavior).\n",
       "*   **Association Rule Mining:** Discovering relationships between items in a dataset (e.g., \"customers who buy bread also tend to buy milk\"). This is often used in market basket analysis.\n",
       "*   **Regression:** Predicting a continuous numerical value (e.g., predicting the price of a house based on its features).\n",
       "*   **Anomaly Detection (Outlier Detection):** Identifying data points that deviate significantly from the norm (e.g., detecting fraudulent transactions).\n",
       "*   **Sequential Pattern Mining:** Discovering patterns that occur in a sequence over time (e.g., identifying common user navigation paths on a website).\n",
       "\n",
       "**Why is Data Mining Important?**\n",
       "\n",
       "Data mining is crucial for businesses and organizations because it enables them to:\n",
       "\n",
       "*   **Make Better Decisions:** By understanding customer behavior, market trends, and operational efficiencies, organizations can make more informed and strategic decisions.\n",
       "*   **Improve Customer Relationships:** Identifying customer preferences and predicting their needs allows for personalized marketing, better customer service, and increased loyalty.\n",
       "*   **Detect Fraud and Risk:** Anomaly detection can help identify fraudulent activities, security breaches, and potential risks.\n",
       "*   **Optimize Operations:** Understanding patterns in operational data can lead to improved efficiency, reduced costs, and better resource allocation.\n",
       "*   **Drive Innovation:** Discovering new insights can spark new product development, service offerings, and business models.\n",
       "*   **Gain a Competitive Advantage:** Organizations that effectively leverage data mining can outperform their competitors by understanding their market and customers better.\n",
       "\n",
       "In essence, data mining is a powerful tool for transforming raw data into valuable intelligence, driving progress and innovation across various fields."
      ],
      "text/plain": [
       "<IPython.core.display.Markdown object>"
      ]
     },
     "metadata": {},
     "output_type": "display_data"
    }
   ],
   "source": [
    "from IPython.display import display, Markdown\n",
    "display(Markdown(text_response))"
   ]
  },
  {
   "cell_type": "markdown",
   "metadata": {},
   "source": [
    "---\n",
    "##### <a id='toc1_5_5_1_1_'></a>[**>>> Exercise 1 (Take home):**](#toc0_)\n",
    "\n",
    "`With your own prompt`, run the previous example in the following way:\n",
    "\n",
    "1. Run it with the same model as the example (gemini-2.5-flash-lite). \n",
    "2. Run it with a different gemini model from the available options for the API.\n",
    "3. Discuss the differences on the results with different models.\n",
    "4. Discuss what would happen if you change the system prompt.\n"
   ]
  },
  {
   "cell_type": "code",
   "execution_count": 15,
   "metadata": {},
   "outputs": [
    {
     "name": "stdout",
     "output_type": "stream",
     "text": [
      "--- Response from Gemini 2.5 Flash ---\n",
      "Imagine you're studying for a test. You have a textbook with lots of information, and you also have a set of practice questions.\n",
      "\n",
      "**The Goal:** You want to learn the material well enough to answer *any* question on the test, not just the ones you've seen before.\n",
      "\n",
      "**What is Overfitting?**\n",
      "\n",
      "Overfitting is like **memorizing the answers to the practice questions perfectly, but not actually understanding the underlying concepts.**\n",
      "\n",
      "Here's how the analogy breaks down:\n",
      "\n",
      "*   **The Textbook:** This is like your **training data** in machine learning. It's the information the machine learning model learns from.\n",
      "*   **The Practice Questions:** These are also part of your **training data**. The model \"practices\" on these to get better.\n",
      "*   **The Actual Test:** This is like your **new, unseen data** (or test data). This is what you want the model to perform well on.\n",
      "\n",
      "**The Overfitting Scenario:**\n",
      "\n",
      "Let's say you spend all your study time just memorizing the exact answers to the practice questions. You know them by heart, word for word.\n",
      "\n",
      "*   **On the practice questions:** You'll get 100%! You've \"learned\" them perfectly.\n",
      "*   **On the actual test:** You might struggle. Why? Because the test questions will likely be phrased differently, ask about the same concepts in a new way, or cover slightly different aspects of the material. Since you only memorized the specific answers and didn't grasp the \"why\" behind them, you can't adapt to these new questions.\n",
      "\n",
      "**In Machine Learning Terms:**\n",
      "\n",
      "An overfitted model has learned the training data *too well*. It has essentially memorized the noise and specific details of the training examples, rather than learning the general patterns and relationships that would allow it to make accurate predictions on new, unseen data.\n",
      "\n",
      "**Consequences of Overfitting:**\n",
      "\n",
      "*   **Great performance on training data:** The model looks like a genius when you show it the data it already knows.\n",
      "*   **Poor performance on new data:** When you give it new examples it hasn't seen before, it makes a lot of mistakes. It's like the student who aces the practice quiz but fails the real exam.\n",
      "\n",
      "**How to Avoid Overfitting (The \"Good Student\" Approach):**\n",
      "\n",
      "A good student doesn't just memorize. They:\n",
      "\n",
      "*   **Understand the concepts:** They try to grasp the underlying principles.\n",
      "*   **Practice with variety:** They might look at different types of problems or ask their teacher for clarification.\n",
      "*   **Don't over-focus on tiny details:** They focus on the main ideas.\n",
      "\n",
      "Similarly, in machine learning, we use techniques to prevent overfitting, such as:\n",
      "\n",
      "*   **Using more diverse training data:** Exposing the model to a wider range of examples.\n",
      "*   **Simplifying the model:** Making the model less complex so it can't memorize every detail.\n",
      "*   **Regularization:** Adding penalties to the model for being too complex.\n",
      "*   **Cross-validation:** A technique to evaluate the model's performance on different subsets of the data.\n",
      "\n",
      "**In short:** Overfitting is when a machine learning model becomes too specialized in the data it was trained on, making it perform poorly on new, unseen data. It's like memorizing answers instead of learning the subject.\n",
      "\n",
      "--- Logs ---\n",
      "{'model': 'gemini-2.5-flash-lite', 'input_tokens': 27, 'output_tokens': 715}\n"
     ]
    }
   ],
   "source": [
    "# Answer here\n",
    "input_prompt = [\"Explain the concept of overfitting in machine learning to a beginner. Use an analogy to make it clear.\"]\n",
    "\n",
    "#Run with the Flash model\n",
    "text_response_flash, logs_flash = prompt_gemini(\n",
    "    input_prompt=input_prompt,\n",
    "    with_tokens_info=True,\n",
    "    model_name=\"gemini-2.5-flash-lite\" \n",
    ")\n",
    "\n",
    "print(\"--- Response from Gemini 2.5 Flash ---\")\n",
    "print(text_response_flash)\n",
    "print(\"\\n--- Logs ---\")\n",
    "print(logs_flash)"
   ]
  },
  {
   "cell_type": "code",
   "execution_count": 17,
   "metadata": {},
   "outputs": [
    {
     "name": "stdout",
     "output_type": "stream",
     "text": [
      "\n",
      "--- Response from Gemini 2.5 Pro ---\n",
      "Of course! Here is an explanation of overfitting designed for a beginner, using a clear analogy.\n",
      "\n",
      "### What is Overfitting?\n",
      "\n",
      "Imagine you are training a robot to recognize pictures of cats. You show it 1,000 photos from a single album to teach it.\n",
      "\n",
      "**Overfitting** is what happens when your robot learns this specific album of photos *too well*. It doesn't just learn that cats have fur, whiskers, and pointy ears. It starts memorizing the irrelevant details in your specific photos, like:\n",
      "\n",
      "*   \"The cat in photo #42 always sits on a red blanket.\"\n",
      "*   \"The cat in photo #128 has a tiny white spot on its left ear.\"\n",
      "*   \"All the cats in this album have a green background in their photos.\"\n",
      "\n",
      "The robot becomes an expert on *your album*, but it has learned the wrong lessons. When you show it a new photo of a cat from the internet (one it has never seen before), it gets confused. If the cat isn't on a red blanket or doesn't have that specific white spot, the robot might say, \"That's not a cat!\"\n",
      "\n",
      "In simple terms: **An overfitted model is great at predicting on the data it was trained on, but it's terrible when it sees new, real-world data.** It has memorized the details and noise instead of learning the general pattern.\n",
      "\n",
      "---\n",
      "\n",
      "### The \"Studying for a Test\" Analogy\n",
      "\n",
      "This is the clearest way to think about it. Imagine three students are preparing for a big history exam. The teacher gives them a set of 50 practice questions to help them study.\n",
      "\n",
      "**1. The Underfitting Student (The Slacker)**\n",
      "This student barely glances at the practice questions. They don't learn the dates, the names, or the key events.\n",
      "*   **Performance on Practice Test:** Terrible.\n",
      "*   **Performance on Real Exam:** Terrible.\n",
      "This model is too simple; it didn't learn anything useful.\n",
      "\n",
      "**2. The Overfitting Student (The Memorizer)**\n",
      "This student is clever but misguided. Instead of learning the historical concepts, they **memorize the exact answers to the 50 practice questions.** They know that the answer to question #7 is \"B\" and the answer to question #23 is \"1776,\" but they don't know *why*.\n",
      "*   **Performance on Practice Test:** Perfect! They get 100%.\n",
      "*   **Performance on Real Exam:** Terrible. The real exam has new questions. The questions are about the same topics, but they are worded differently. Since the student only memorized the old answers and didn't learn the underlying concepts, they can't answer anything.\n",
      "\n",
      "This student is the **overfitted model**. It looks brilliant on the training data (the practice questions) but fails completely when faced with new data (the real exam).\n",
      "\n",
      "**3. The Good Student (The Generalizer)**\n",
      "This student uses the practice questions to understand the *concepts*. They learn *why* the events happened, who the key figures were, and how everything connects.\n",
      "*   **Performance on Practice Test:** Very good. Maybe not 100%, but they do well.\n",
      "*   **Performance on Real Exam:** Very good. Because they learned the general principles, they can apply their knowledge to answer new and unfamiliar questions on the same topics.\n",
      "\n",
      "This is the ideal machine learning model. It learns the underlying patterns from the training data without memorizing the noise, allowing it to **generalize** well to new, unseen data.\n",
      "\n",
      "### Tying it Back to Machine Learning\n",
      "\n",
      "*   **The Students** = The Machine Learning Models\n",
      "*   **The Practice Questions** = The Training Data\n",
      "*   **The Real Exam** = New, Unseen Data (the real world)\n",
      "*   **Learning the Concepts** = Finding the true underlying patterns in the data\n",
      "*   **Memorizing the Answers** = Fitting to the noise and specific details in the training data\n",
      "\n",
      "The goal of machine learning is not to create a perfect \"memorizer,\" but to create a good \"generalizer\" that is useful in the real world.\n",
      "\n",
      "--- Logs ---\n",
      "{'model': 'gemini-2.5-pro', 'input_tokens': 27, 'output_tokens': 880}\n"
     ]
    }
   ],
   "source": [
    "#Run with the Pro model\n",
    "text_response_pro, logs_pro = prompt_gemini(\n",
    "    input_prompt=input_prompt,\n",
    "    with_tokens_info=True,\n",
    "    model_name=\"gemini-2.5-pro\" \n",
    ")\n",
    "\n",
    "print(\"\\n--- Response from Gemini 2.5 Pro ---\")\n",
    "print(text_response_pro)\n",
    "print(\"\\n--- Logs ---\")\n",
    "print(logs_pro)"
   ]
  },
  {
   "cell_type": "code",
   "execution_count": null,
   "metadata": {},
   "outputs": [
    {
     "name": "stdout",
     "output_type": "stream",
     "text": [
      "--- Response from Gemini 2.5 Flash ---\n",
      "Ahoy there, ye landlubber! So ye want to learn about this \"overfitting\" business, eh? Well, gather 'round, and ol' Captain Pegleg Pete will spin ye a yarn that'll make yer barnacles tingle!\n",
      "\n",
      "Imagine ye be a young scallywag, just learnin' to chart a course. Yer captain, a grizzled old salt, gives ye a map of a treasure island. Now, this map be a fine thing, showin' ye every cove, every palm tree, every scurvy dog's hiding spot.\n",
      "\n",
      "**Now, here's where the trouble starts, ye see.** If ye be a *good* navigator, ye'll study that map, learn the general lay o' the land, the currents, the prevailing winds. Ye'll know that even if a storm blows a few trees down, or a kraken rearranges a bit o' the coastline, ye can still find yer way to the X that marks the spot. Ye've learned the *spirit* of the map, the true treasure route!\n",
      "\n",
      "But if ye be a *foolish* cabin boy, ye'll do somethin' daft. Ye'll memorize *every single speck* on that map. Ye'll know the exact number of barnacles on a particular rock, the precise shade of green on a specific leaf. Ye'll be able to point to that one, solitary seagull perched on a particular branch, and say, \"Aye, that be the one!\"\n",
      "\n",
      "**That, me hearty, is overfitting!**\n",
      "\n",
      "Ye've trained yer brain, yer \"machine learnin' model\" as these landlubbers call it, to be *too* good at rememberin' the *exact* details of the treasure map ye were given. Ye've learned the noise, the little quirks, the random bits that don't *really* matter for findin' the treasure.\n",
      "\n",
      "Now, what happens when ye set sail on a *new* voyage, to a *different* island? This new island might have a similar treasure, but the map will be different! It'll have different trees, different rocks, maybe even a different kind of seagull!\n",
      "\n",
      "If ye be the foolish cabin boy, ye'll be lost at sea! Ye'll be lookin' for that *exact* number of barnacles, that *exact* shade of green leaf, and ye'll be scratchin' yer head, wonderin' where the treasure be. Yer \"model\" be so focused on the tiny details of the *old* map that it can't handle any new information. It's like tryin' to use a spyglass to see the stars when ye should be usin' a sextant to measure the angle!\n",
      "\n",
      "**The good navigator, the one who learned the *general* principles, will be just fine.** They'll look at the new map, see the general shape of the island, the likely spots for treasure, and they'll be able to chart a course. They've learned the *patterns*, not just the specific markings.\n",
      "\n",
      "So, in this machine learnin' mumbo-jumbo, overfitting means yer model has become a know-it-all about the data ye fed it, but it's useless when ye give it new, unseen data. It's like a parrot that can only squawk the same three words it learned from its cage, but can't understand a single new command!\n",
      "\n",
      "We want our models to be like a seasoned captain, able to adapt to the changing seas, not like a landlubber who's only ever seen one tiny patch of ocean! Now, pass the grog, and let's not think about those barnacles too much! Arrr!\n",
      "\n",
      "--- Logs ---\n",
      "{'model': 'gemini-2.5-flash-lite', 'input_tokens': 49, 'output_tokens': 790}\n"
     ]
    }
   ],
   "source": [
    "# Answer here with pirate role\n",
    "input_prompt = [\"Explain the concept of overfitting in machine learning to a beginner. Use an analogy to make it clear.\"]\n",
    "\n",
    "#Run with the Flash model\n",
    "text_response_flash, logs_flash = prompt_gemini(\n",
    "    input_prompt=input_prompt,\n",
    "    with_tokens_info=True,\n",
    "    model_name=\"gemini-2.5-flash-lite\" \n",
    ")\n",
    "\n",
    "print(\"--- Response from Gemini 2.5 Flash ---\")\n",
    "print(text_response_flash)\n",
    "print(\"\\n--- Logs ---\")\n",
    "print(logs_flash)"
   ]
  },
  {
   "cell_type": "code",
   "execution_count": null,
   "metadata": {},
   "outputs": [],
   "source": [
    "'''\n",
    "3. Both models successfully explained the concept of overfitting, but they did so with distinct styles and depths, highlighting their intended use cases. The Gemini 2.5 Pro model provided a more comprehensive and structured response, while the Gemini 2.5 Flash model delivered a more concise and focused answer.\n",
    "4. Changing the SYSTEM_INSTRUCTION is the most powerful way to control the model's behavior, as it sets the persona, tone, and constraints for the entire conversation. The current prompt, \"You are a helpful assistant\", results in a neutral, informative, and cooperative tone. If you were to change this system prompt, the output would change dramatically, even if the user's input remains the same.\n",
    "'''"
   ]
  },
  {
   "cell_type": "markdown",
   "metadata": {},
   "source": [
    "---\n",
    "### <a id='toc1_5_6_'></a>[**2.2 Structured Output**](#toc0_)\n",
    "\n",
    "By default, an LLM responds with unstructured, free-form text. For data mining, this is often impractical, as we need data in a predictable format to load into tools like a pandas DataFrame for analysis. **Structured output** is a powerful feature that forces the model to return its response in a specific, machine-readable format, such as JSON.\n",
    "\n",
    "The key to enabling this is to provide the model with a **response schema**. This schema acts as a strict template or blueprint that the model's output must conform to. Instead of generating a paragraph, the model will fill in the fields defined in your schema with the relevant information it extracts from the prompt.\n",
    "\n",
    "In the following code, we define this schema using Python classes. Think of each class as defining a JSON object:\n",
    "*   The **attributes** of the class (e.g., `topic_name`, `sub_title`) become the keys in the final JSON object.\n",
    "*   The **type hints** for those attributes (e.g., `str`, `list`) tell the model what kind of data is expected for each key's value.\n",
    "\n",
    "We can even nest these classes inside one another to create complex, hierarchical JSON structures. This allows us to precisely control the format of the output, transforming the LLM from a simple text generator into a reliable tool for automated and structured data extraction.\n",
    "\n",
    "[Gemini's Structured Output Documentation](https://ai.google.dev/gemini-api/docs/structured-output)\n",
    "\n",
    "For data validation of schemas Gemini API uses the Pydantic library, for more documentation on it you can check: [Pydantic](https://docs.pydantic.dev/latest/) \n",
    "\n",
    "[JSON Format Documentation](https://docs.python.org/3/library/json.html)"
   ]
  },
  {
   "cell_type": "code",
   "execution_count": 18,
   "metadata": {},
   "outputs": [],
   "source": [
    "from pydantic import BaseModel\n",
    "\n",
    "# We define our structure schema that Gemini should follow for the output response\n",
    "\n",
    "# Subsections on the topics we query\n",
    "class Subsection(BaseModel):\n",
    "    sub_title: str\n",
    "    sub_explanation: str\n",
    "\n",
    "# The top-level structure for the entire topic analysis\n",
    "class Topic(BaseModel):\n",
    "    topic_name: str\n",
    "    subsections: list[Subsection]"
   ]
  },
  {
   "cell_type": "code",
   "execution_count": 19,
   "metadata": {},
   "outputs": [
    {
     "name": "stdout",
     "output_type": "stream",
     "text": [
      "[\n",
      "  {\n",
      "    \"topic_name\": \"Machine Learning\",\n",
      "    \"subsections\": [\n",
      "      {\n",
      "        \"sub_title\": \"Definition\",\n",
      "        \"sub_explanation\": \"Machine learning (ML) is a subset of artificial intelligence (AI) that focuses on building systems that can learn from and make decisions based on data. Instead of being explicitly programmed, ML algorithms use statistical techniques to enable systems to 'learn' from data, identify patterns, and make predictions or decisions without human intervention.\"\n",
      "      },\n",
      "      {\n",
      "        \"sub_title\": \"Types of Machine Learning\",\n",
      "        \"sub_explanation\": \"Common types include supervised learning (learning from labeled data), unsupervised learning (finding patterns in unlabeled data), and reinforcement learning (learning through trial and error with rewards and penalties).\"\n",
      "      },\n",
      "      {\n",
      "        \"sub_title\": \"Applications\",\n",
      "        \"sub_explanation\": \"ML is used in a wide range of applications, such as image recognition, natural language processing, recommendation systems, fraud detection, and medical diagnosis.\"\n",
      "      }\n",
      "    ]\n",
      "  },\n",
      "  {\n",
      "    \"topic_name\": \"Data Centers\",\n",
      "    \"subsections\": [\n",
      "      {\n",
      "        \"sub_title\": \"Definition\",\n",
      "        \"sub_explanation\": \"A data center is a dedicated physical facility that an organization uses to house its critical IT infrastructure, including servers, storage systems, networking equipment, and related components. These facilities are designed to provide a secure, reliable, and controlled environment for computing operations.\"\n",
      "      },\n",
      "      {\n",
      "        \"sub_title\": \"Key Components\",\n",
      "        \"sub_explanation\": \"Essential components include servers, storage devices, network switches and routers, power supplies (including UPS and generators), cooling systems (HVAC), and physical security measures.\"\n",
      "      },\n",
      "      {\n",
      "        \"sub_title\": \"Purpose\",\n",
      "        \"sub_explanation\": \"Data centers serve as the central hub for data storage, processing, and management, enabling businesses to run applications, host websites, and manage their digital operations.\"\n",
      "      }\n",
      "    ]\n",
      "  },\n",
      "  {\n",
      "    \"topic_name\": \"Large Language Models (LLMs)\",\n",
      "    \"subsections\": [\n",
      "      {\n",
      "        \"sub_title\": \"Definition\",\n",
      "        \"sub_explanation\": \"Large Language Models (LLMs) are a type of artificial intelligence model that are trained on massive amounts of text data. They are designed to understand, generate, and manipulate human language. LLMs are characterized by their enormous size (billions or trillions of parameters) and their ability to perform a wide variety of natural language processing tasks.\"\n",
      "      },\n",
      "      {\n",
      "        \"sub_title\": \"Capabilities\",\n",
      "        \"sub_explanation\": \"LLMs can perform tasks such as text generation, translation, summarization, question answering, code generation, and creative writing. They learn complex linguistic patterns, grammar, facts, and reasoning abilities from their training data.\"\n",
      "      },\n",
      "      {\n",
      "        \"sub_title\": \"Underlying Technology\",\n",
      "        \"sub_explanation\": \"LLMs are typically built using deep learning architectures, most notably the Transformer architecture, which allows them to process sequential data like text very effectively.\"\n",
      "      }\n",
      "    ]\n",
      "  },\n",
      "  {\n",
      "    \"topic_name\": \"Relationship Between Machine Learning, Data Centers, and LLMs\",\n",
      "    \"subsections\": [\n",
      "      {\n",
      "        \"sub_title\": \"LLMs as a Product of Machine Learning\",\n",
      "        \"sub_explanation\": \"LLMs are a sophisticated application and outcome of machine learning research and development. The techniques used to train LLMs, such as deep learning and neural networks, are core machine learning concepts. Therefore, LLMs are a specific, advanced type of machine learning model.\"\n",
      "      },\n",
      "      {\n",
      "        \"sub_title\": \"Data Centers as the Foundation for LLMs and ML\",\n",
      "        \"sub_explanation\": \"Training and running LLMs, as well as many other complex machine learning models, requires immense computational power and vast amounts of data storage. Data centers provide the necessary infrastructure – high-performance servers, specialized hardware (like GPUs and TPUs), robust networking, and reliable power – to handle these computationally intensive tasks. Without data centers, it would be practically impossible to develop, train, and deploy LLMs at scale.\"\n",
      "      },\n",
      "      {\n",
      "        \"sub_title\": \"Interdependence\",\n",
      "        \"sub_explanation\": \"In essence, machine learning is the field of study and the set of techniques. LLMs are a powerful manifestation of these techniques. Data centers are the physical environments and infrastructure that enable the training, deployment, and operation of both general machine learning models and highly demanding LLMs. LLMs rely on ML principles, and both ML and LLMs rely heavily on the resources provided by data centers.\"\n",
      "      }\n",
      "    ]\n",
      "  }\n",
      "]\n"
     ]
    }
   ],
   "source": [
    "input_prompt = [\"Explain what are machine learning, data centers, llms and how do they relate to each other.\"]\n",
    "text_response = prompt_gemini(input_prompt = input_prompt, schema = list[Topic])\n",
    "print(text_response)"
   ]
  },
  {
   "cell_type": "code",
   "execution_count": 20,
   "metadata": {},
   "outputs": [
    {
     "name": "stdout",
     "output_type": "stream",
     "text": [
      "[{'topic_name': 'Machine Learning', 'subsections': [{'sub_title': 'Definition', 'sub_explanation': \"Machine learning (ML) is a subset of artificial intelligence (AI) that focuses on building systems that can learn from and make decisions based on data. Instead of being explicitly programmed, ML algorithms use statistical techniques to enable systems to 'learn' from data, identify patterns, and make predictions or decisions without human intervention.\"}, {'sub_title': 'Types of Machine Learning', 'sub_explanation': 'Common types include supervised learning (learning from labeled data), unsupervised learning (finding patterns in unlabeled data), and reinforcement learning (learning through trial and error with rewards and penalties).'}, {'sub_title': 'Applications', 'sub_explanation': 'ML is used in a wide range of applications, such as image recognition, natural language processing, recommendation systems, fraud detection, and medical diagnosis.'}]}, {'topic_name': 'Data Centers', 'subsections': [{'sub_title': 'Definition', 'sub_explanation': 'A data center is a dedicated physical facility that an organization uses to house its critical IT infrastructure, including servers, storage systems, networking equipment, and related components. These facilities are designed to provide a secure, reliable, and controlled environment for computing operations.'}, {'sub_title': 'Key Components', 'sub_explanation': 'Essential components include servers, storage devices, network switches and routers, power supplies (including UPS and generators), cooling systems (HVAC), and physical security measures.'}, {'sub_title': 'Purpose', 'sub_explanation': 'Data centers serve as the central hub for data storage, processing, and management, enabling businesses to run applications, host websites, and manage their digital operations.'}]}, {'topic_name': 'Large Language Models (LLMs)', 'subsections': [{'sub_title': 'Definition', 'sub_explanation': 'Large Language Models (LLMs) are a type of artificial intelligence model that are trained on massive amounts of text data. They are designed to understand, generate, and manipulate human language. LLMs are characterized by their enormous size (billions or trillions of parameters) and their ability to perform a wide variety of natural language processing tasks.'}, {'sub_title': 'Capabilities', 'sub_explanation': 'LLMs can perform tasks such as text generation, translation, summarization, question answering, code generation, and creative writing. They learn complex linguistic patterns, grammar, facts, and reasoning abilities from their training data.'}, {'sub_title': 'Underlying Technology', 'sub_explanation': 'LLMs are typically built using deep learning architectures, most notably the Transformer architecture, which allows them to process sequential data like text very effectively.'}]}, {'topic_name': 'Relationship Between Machine Learning, Data Centers, and LLMs', 'subsections': [{'sub_title': 'LLMs as a Product of Machine Learning', 'sub_explanation': 'LLMs are a sophisticated application and outcome of machine learning research and development. The techniques used to train LLMs, such as deep learning and neural networks, are core machine learning concepts. Therefore, LLMs are a specific, advanced type of machine learning model.'}, {'sub_title': 'Data Centers as the Foundation for LLMs and ML', 'sub_explanation': 'Training and running LLMs, as well as many other complex machine learning models, requires immense computational power and vast amounts of data storage. Data centers provide the necessary infrastructure – high-performance servers, specialized hardware (like GPUs and TPUs), robust networking, and reliable power – to handle these computationally intensive tasks. Without data centers, it would be practically impossible to develop, train, and deploy LLMs at scale.'}, {'sub_title': 'Interdependence', 'sub_explanation': 'In essence, machine learning is the field of study and the set of techniques. LLMs are a powerful manifestation of these techniques. Data centers are the physical environments and infrastructure that enable the training, deployment, and operation of both general machine learning models and highly demanding LLMs. LLMs rely on ML principles, and both ML and LLMs rely heavily on the resources provided by data centers.'}]}]\n",
      "<class 'list'>\n"
     ]
    }
   ],
   "source": [
    "import json\n",
    "\n",
    "# Now the response can be parsed to a python object using the JSON dictionary structure loading\n",
    "structured_resp = json.loads(text_response)\n",
    "print(structured_resp)\n",
    "print(type(structured_resp))"
   ]
  },
  {
   "cell_type": "code",
   "execution_count": 21,
   "metadata": {},
   "outputs": [
    {
     "name": "stdout",
     "output_type": "stream",
     "text": [
      "Machine Learning \n",
      "\n",
      "\t Definition \n",
      "\n",
      "\t\t Machine learning (ML) is a subset of artificial intelligence (AI) that focuses on building systems that can learn from and make decisions based on data. Instead of being explicitly programmed, ML algorithms use statistical techniques to enable systems to 'learn' from data, identify patterns, and make predictions or decisions without human intervention. \n",
      "\n",
      "\t Types of Machine Learning \n",
      "\n",
      "\t\t Common types include supervised learning (learning from labeled data), unsupervised learning (finding patterns in unlabeled data), and reinforcement learning (learning through trial and error with rewards and penalties). \n",
      "\n",
      "\t Applications \n",
      "\n",
      "\t\t ML is used in a wide range of applications, such as image recognition, natural language processing, recommendation systems, fraud detection, and medical diagnosis. \n",
      "\n",
      "Data Centers \n",
      "\n",
      "\t Definition \n",
      "\n",
      "\t\t A data center is a dedicated physical facility that an organization uses to house its critical IT infrastructure, including servers, storage systems, networking equipment, and related components. These facilities are designed to provide a secure, reliable, and controlled environment for computing operations. \n",
      "\n",
      "\t Key Components \n",
      "\n",
      "\t\t Essential components include servers, storage devices, network switches and routers, power supplies (including UPS and generators), cooling systems (HVAC), and physical security measures. \n",
      "\n",
      "\t Purpose \n",
      "\n",
      "\t\t Data centers serve as the central hub for data storage, processing, and management, enabling businesses to run applications, host websites, and manage their digital operations. \n",
      "\n",
      "Large Language Models (LLMs) \n",
      "\n",
      "\t Definition \n",
      "\n",
      "\t\t Large Language Models (LLMs) are a type of artificial intelligence model that are trained on massive amounts of text data. They are designed to understand, generate, and manipulate human language. LLMs are characterized by their enormous size (billions or trillions of parameters) and their ability to perform a wide variety of natural language processing tasks. \n",
      "\n",
      "\t Capabilities \n",
      "\n",
      "\t\t LLMs can perform tasks such as text generation, translation, summarization, question answering, code generation, and creative writing. They learn complex linguistic patterns, grammar, facts, and reasoning abilities from their training data. \n",
      "\n",
      "\t Underlying Technology \n",
      "\n",
      "\t\t LLMs are typically built using deep learning architectures, most notably the Transformer architecture, which allows them to process sequential data like text very effectively. \n",
      "\n",
      "Relationship Between Machine Learning, Data Centers, and LLMs \n",
      "\n",
      "\t LLMs as a Product of Machine Learning \n",
      "\n",
      "\t\t LLMs are a sophisticated application and outcome of machine learning research and development. The techniques used to train LLMs, such as deep learning and neural networks, are core machine learning concepts. Therefore, LLMs are a specific, advanced type of machine learning model. \n",
      "\n",
      "\t Data Centers as the Foundation for LLMs and ML \n",
      "\n",
      "\t\t Training and running LLMs, as well as many other complex machine learning models, requires immense computational power and vast amounts of data storage. Data centers provide the necessary infrastructure – high-performance servers, specialized hardware (like GPUs and TPUs), robust networking, and reliable power – to handle these computationally intensive tasks. Without data centers, it would be practically impossible to develop, train, and deploy LLMs at scale. \n",
      "\n",
      "\t Interdependence \n",
      "\n",
      "\t\t In essence, machine learning is the field of study and the set of techniques. LLMs are a powerful manifestation of these techniques. Data centers are the physical environments and infrastructure that enable the training, deployment, and operation of both general machine learning models and highly demanding LLMs. LLMs rely on ML principles, and both ML and LLMs rely heavily on the resources provided by data centers. \n",
      "\n"
     ]
    }
   ],
   "source": [
    "# So now we have an object that we can explore/use in a pythonic way for our purposes\n",
    "for topic in structured_resp:\n",
    "    print(topic[\"topic_name\"], \"\\n\")\n",
    "    # We can access each subsection as well\n",
    "    for subsection in topic[\"subsections\"]:\n",
    "        print(\"\\t\", subsection[\"sub_title\"], \"\\n\")\n",
    "        print(\"\\t\\t\", subsection[\"sub_explanation\"], \"\\n\")\n"
   ]
  },
  {
   "cell_type": "markdown",
   "metadata": {},
   "source": [
    "##### <a id='toc1_5_6_1_1_'></a>[**>>> Exercise 2 (Take home):**](#toc0_)\n",
    "\n",
    "Try a prompt with your own schema structure, it needs to be completely different to the example. It should show an intuitive way to represent the text output of the model based on the prompt you chose. See the documentation for reference: https://ai.google.dev/gemini-api/docs/structured-output"
   ]
  },
  {
   "cell_type": "code",
   "execution_count": 22,
   "metadata": {},
   "outputs": [
    {
     "name": "stdout",
     "output_type": "stream",
     "text": [
      "--- Raw JSON Output from Gemini ---\n",
      "{\n",
      "  \"name\": \"Alex Chen\",\n",
      "  \"age\": 22,\n",
      "  \"description\": \"A young man with sharp, intelligent eyes often hidden behind slightly-too-large glasses. He has a perpetually rumpled look, as if he just rolled out of bed after a coding marathon, and often fidgets with the hem of his t-shirt.\",\n",
      "  \"personality\": {\n",
      "    \"main_trait\": \"Curious\",\n",
      "    \"quirk\": \"Taps his fingers rhythmically on any available surface when deep in thought, often unconsciously mimicking the beat of whatever music he was last listening to.\",\n",
      "    \"fear\": \"Being unable to solve a problem or letting down his team.\"\n",
      "  },\n",
      "  \"background\": {\n",
      "    \"summary\": \"Alex grew up in a quiet suburban town, always more comfortable with computers than people. He excelled in his computer science degree, spending most of his time in the university's labs. This is his first time living truly on his own, away from his family and familiar surroundings.\",\n",
      "    \"motivation\": \"To prove himself as a capable software engineer, to learn as much as he can, and to make a meaningful contribution to the projects he works on.\"\n",
      "  }\n",
      "}\n",
      "\n",
      "--- Parsed Character Profile ---\n",
      "Name: Alex Chen\n",
      "Age: 22\n",
      "Description: A young man with sharp, intelligent eyes often hidden behind slightly-too-large glasses. He has a perpetually rumpled look, as if he just rolled out of bed after a coding marathon, and often fidgets with the hem of his t-shirt.\n",
      "\n",
      "## Personality ##\n",
      "Main Trait: Curious\n",
      "Quirk: Taps his fingers rhythmically on any available surface when deep in thought, often unconsciously mimicking the beat of whatever music he was last listening to.\n",
      "Fear: Being unable to solve a problem or letting down his team.\n",
      "\n",
      "## Background ##\n",
      "Summary: Alex grew up in a quiet suburban town, always more comfortable with computers than people. He excelled in his computer science degree, spending most of his time in the university's labs. This is his first time living truly on his own, away from his family and familiar surroundings.\n",
      "Motivation: To prove himself as a capable software engineer, to learn as much as he can, and to make a meaningful contribution to the projects he works on.\n"
     ]
    }
   ],
   "source": [
    "# Answer here\n",
    "from pydantic import BaseModel, Field\n",
    "import json\n",
    "\n",
    "# Define a New, Intuitive Pydantic Schema\n",
    "\n",
    "# A schema to hold a character's core personality traits.\n",
    "class Personality(BaseModel):\n",
    "    main_trait: str = Field(description=\"The character's most dominant personality trait.\")\n",
    "    quirk: str = Field(description=\"An unusual or peculiar habit the character has.\")\n",
    "    fear: str = Field(description=\"The character's greatest fear or phobia.\")\n",
    "\n",
    "# A schema for the character's backstory and motivations.\n",
    "class Background(BaseModel):\n",
    "    summary: str = Field(description=\"A brief summary of the character's life before the story begins.\")\n",
    "    motivation: str = Field(description=\"What drives the character's actions and decisions.\")\n",
    "\n",
    "# The top-level schema for the entire character profile.\n",
    "class CharacterProfile(BaseModel):\n",
    "    name: str = Field(description=\"The character's full name.\")\n",
    "    age: int = Field(description=\"The character's age in years.\")\n",
    "    description: str = Field(description=\"A short, evocative physical description of the character.\")\n",
    "    personality: Personality\n",
    "    background: Background\n",
    "\n",
    "# Create a New Prompt\n",
    "\n",
    "# This prompt asks for an everyday character.\n",
    "input_prompt = [\n",
    "    \"Create a detailed character profile for a recent IT graduate. \"\n",
    "    \"He has just moved to a big city to start his first job as a software engineer. \"\n",
    "    \"He feels both excited and a little anxious about the new challenges.\"\n",
    "]\n",
    "\n",
    "# Call the Model with the New Schema\n",
    "\n",
    "# The 'schema' argument tells Gemini to structure its output to match our CharacterProfile.\n",
    "text_response = prompt_gemini(\n",
    "    input_prompt=input_prompt, \n",
    "    schema=CharacterProfile\n",
    ")\n",
    "\n",
    "# Parse and Display the Structured Output\n",
    "\n",
    "print(\"--- Raw JSON Output from Gemini ---\")\n",
    "print(text_response)\n",
    "\n",
    "# The JSON string response is parsed into a Python dictionary.\n",
    "structured_resp = json.loads(text_response)\n",
    "\n",
    "print(\"\\n--- Parsed Character Profile ---\")\n",
    "print(f\"Name: {structured_resp['name']}\")\n",
    "print(f\"Age: {structured_resp['age']}\")\n",
    "print(f\"Description: {structured_resp['description']}\\n\")\n",
    "\n",
    "# Access nested objects in a structured way.\n",
    "print(\"## Personality ##\")\n",
    "print(f\"Main Trait: {structured_resp['personality']['main_trait']}\")\n",
    "print(f\"Quirk: {structured_resp['personality']['quirk']}\")\n",
    "print(f\"Fear: {structured_resp['personality']['fear']}\\n\")\n",
    "\n",
    "print(\"## Background ##\")\n",
    "print(f\"Summary: {structured_resp['background']['summary']}\")\n",
    "print(f\"Motivation: {structured_resp['background']['motivation']}\")"
   ]
  },
  {
   "cell_type": "markdown",
   "metadata": {},
   "source": [
    "---\n",
    "### <a id='toc1_5_7_'></a>[**2.3 Information Extraction and Grounding:**](#toc0_)\n",
    "\n",
    "`NOTE: This whole section including the exercise is now considered a bonus section, not counted for the main grade.`\n",
    "\n",
    "When using LLMs to extract structured data from text, two main challenges arise:\n",
    "\n",
    "1.  **Trust:** LLMs can \"hallucinate\" or invent information. We need to ensure the extracted data is accurate and comes directly from the source text.\n",
    "2.  **Scalability:** We need a reliable way to extract complex information consistently from thousands of large, messy documents.\n",
    "\n",
    "The solution to these challenges is **grounding**—the process of linking every piece of extracted data back to its specific origin in the source document. This creates a verifiable audit trail, building trust in the output."
   ]
  },
  {
   "cell_type": "markdown",
   "metadata": {},
   "source": [
    "---\n",
    "#### <a id='toc1_5_7_1_'></a>[**`langextract`: A Library for Grounded Extraction**](#toc0_)\n",
    "\n",
    "**`langextract`** is an open-source Python library from Google designed to create trustworthy data extraction pipelines. It uses LLMs to convert unstructured text into structured data with a focus on reliability and traceability.\n",
    "\n",
    "**Key Features:**\n",
    "\n",
    "*   **Precise Grounding:** Its core feature. It maps every extracted item to its exact character position in the original text, allowing for easy verification.\n",
    "*   **Reliable Structured Output:** Uses examples (few-shot prompting) to ensure the LLM's output consistently follows a predefined format.\n",
    "*   **Adaptable & No Fine-Tuning:** Can be adapted to any domain (e.g., legal, medical) simply by changing the examples and instructions, without needing to retrain a model.\n",
    "*   **Handles Long Documents:** Built to process lengthy texts that might exceed an LLM's standard context window.\n",
    "*   **Flexible LLM Support:** It is model-agnostic and works with various LLMs like Gemini, OpenAI models, and even local open-source models through Ollama.\n",
    "\n",
    "**`Github repository:`** [langextract](https://github.com/google/langextract)"
   ]
  },
  {
   "cell_type": "markdown",
   "metadata": {},
   "source": [
    "---\n",
    "\n",
    "##### <a id='toc1_5_7_1_1_'></a>[**2.3.1 Using PDF Documents:**](#toc0_)\n",
    "\n",
    "For PDF Document information extraction we are going to use the `pymupdf` library. Documentation: [pymupdf](https://pymupdf.readthedocs.io/en/latest/)\n",
    "\n",
    "And then we are going to pass it on to langextract to get insights on the document's content.\n",
    "\n",
    "We can also process documents using Gemini, for more information you can check their documentation: [Document Understanding](https://ai.google.dev/gemini-api/docs/document-processing)"
   ]
  },
  {
   "cell_type": "code",
   "execution_count": 23,
   "metadata": {},
   "outputs": [
    {
     "name": "stdout",
     "output_type": "stream",
     "text": [
      "✓ Extracted text from './data/documents/doc_example_review_interstellar.pdf'\n"
     ]
    }
   ],
   "source": [
    "import pymupdf\n",
    "# Extract text from the PDF and format it for the prompt\n",
    "# This is a review from the movie interstellar\n",
    "pdf_path = \"./data/documents/doc_example_review_interstellar.pdf\"\n",
    "formatted_text = \"\"\n",
    "try:\n",
    "    doc = pymupdf.open(pdf_path)\n",
    "    # In case the PDF documents have more than one page, in this example it only has one\n",
    "    for i, page in enumerate(doc):\n",
    "        text = page.get_text(\"text\")\n",
    "        # Format follows the prompt's requirement: **Page X** \"\"\"document's text\"\"\"\n",
    "        formatted_text += f'**Page {i + 1}**\\n'\n",
    "        formatted_text += f'\"\"\"\\n{text.strip()}\\n\"\"\"\\n\\n'\n",
    "    doc.close()\n",
    "    print(f\"✓ Extracted text from '{pdf_path}'\")\n",
    "except Exception as e:\n",
    "    print(f\"Could not read PDF: {e}\")\n",
    "    formatted_text = \"Error: Could not process PDF file.\""
   ]
  },
  {
   "cell_type": "code",
   "execution_count": 24,
   "metadata": {},
   "outputs": [
    {
     "name": "stdout",
     "output_type": "stream",
     "text": [
      "**Page 1**\n",
      "\"\"\"\n",
      "Dan Baldwin\n",
      "Group 4\n",
      "Auteur Review - Interstellar \n",
      "I believe Christopher Nolan: the director behind the 2014 sci-ﬁ/adventure cinematic ‘Interstellar,’ \n",
      "to be a very intellectual and imaginative inventive talent.  \n",
      "His style in his previous ﬁlms sets characters in epic unique locations, with gargantuan issues to \n",
      "face, and artistically impresses the audience with how the characters solve their problems. For \n",
      "example, in Nolan’s 2010 ﬁlm ‘Inception,’ he tackles the idea of dreams, and sets his characters \n",
      "diving through dreams within dreams within even more dreams to complete their goals. Because \n",
      "this idea is so farfetched, and dreams are a subject in which science has made little factual \n",
      "discovery in, Nolan is free to use his creativity to present ideas such as landscapes folding in on \n",
      "themselves and corridors spinning, without seeming unrealistic. \n",
      "This brain-racking epic theme is once again evident in ‘Interstellar,’ as Nolan sets his characters \n",
      "during a second American dust bowl on future Earth. The world is short of food, and will soon be \n",
      "uninhabitable. So, ex-NASA pilot ‘Cooper’ (Matthew McConaughey) is summoned back to space \n",
      "travel in a bid to ﬁnd a new planet for the species to inhabit. Luckily for Cooper and his team, a \n",
      "black hole orbiting Saturn can transport them further into space to land on these potential \n",
      "planets. \n",
      "Throughout the ﬂick, the crew explore multiple worlds - again feeding Nolan’s mind more \n",
      "opportunities to create crazy scenarios. For example, one planet that Cooper and his friends, \n",
      "‘Brand,’ (Anne Hathaway) and ‘Romilly,’ (David Gyasi) visit initially seems like an inﬁnite sea of two \n",
      "feet deep water. Not threatening at all right? Well think again, because the crew suddenly ﬁnd out \n",
      "that a giant 100ft tidal wave is about to hit them, and they have minutes to ﬂy away. Nolan further \n",
      "increases the stakes in this scene as it is explained that every hour spent on this planet counts for \n",
      "seven years on earth, meaning the planet will be destroyed before they return if their ship sinks. \n",
      "At the climax of the ﬁlm, the crew end up sending themselves through a black hole into a \n",
      "tesseract (a 3D representation of a larger dimension) to ﬁnd the ‘secret to harnessing gravity’ \n",
      "which will let the human race bend space-time in order to survive oﬀ earth. I know. Mental. \n",
      "The imagination that Nolan possesses and implicates into ‘Interstellar’ is farfetched and \n",
      "wonderful, not only impressing his audience with the appealing visuals he creates, but induces \n",
      "them to think and discuss what is going on due its scientiﬁc depth. Personally, as someone who is \n",
      "bamboozled by the idea of how big the universe is, I ﬁnd it unendingly entertaining to repeatedly \n",
      "watch this ﬁlm and understanding it more each time, and can only hope the technology portrayed \n",
      "will one day come true. \n",
      "Overall, ‘Interstellar’ is a clear example of Nolan’s auteur talent, as he once again ﬁgments yet \n",
      "another cluster of conditions for us to marvel at. With a fantastic score from world famous \n",
      "composer Hanz Zimmer, his epic, orchestral theme sets the audience in the palm of his hands as \n",
      "we stress over how we are all going to be saved once again.\n",
      "\"\"\"\n",
      "\n",
      "\n"
     ]
    }
   ],
   "source": [
    "print(formatted_text)"
   ]
  },
  {
   "cell_type": "markdown",
   "metadata": {},
   "source": [
    "We define our prompt and examples based on our required type of data, in this case we are going to do it having `movie reviews` in mind."
   ]
  },
  {
   "cell_type": "code",
   "execution_count": 25,
   "metadata": {},
   "outputs": [],
   "source": [
    "import langextract as lx\n",
    "import textwrap\n",
    "\n",
    "# Defining the extraction prompt for \"movie review\" type of data\n",
    "prompt = textwrap.dedent(\"\"\"\\\n",
    "    Extract specific opinions and their impact on the audience from this movie review.\n",
    "    Important: Use exact text verbatim from the input for extraction_text. Do not paraphrase.\n",
    "    Extract entities in order of appearance with no overlapping text spans.\n",
    "\n",
    "    Use the 'opinion_statement' class for direct judgments about film elements (like plot, score, or acting).\n",
    "    - 'subject' should be the element being reviewed.\n",
    "    - 'sentiment' should be Positive, Negative, or Neutral.\n",
    "    - 'key_phrase' should be the core descriptive words.\n",
    "\n",
    "    Use the 'audience_impact' class for phrases describing the effect on the viewer.\n",
    "    - 'emotion_evoked' should be the feeling or reaction (e.g., stress, joy, confusion).\n",
    "    - 'causal_element' is what part of the film caused the reaction.\n",
    "    - 'target_audience' is who was affected (e.g., 'the audience', 'the reviewer').\n",
    "    \"\"\")\n",
    "\n",
    "# Providing high-quality examples to guide the model\n",
    "# These examples show the model exactly how to differentiate between the two classes\n",
    "examples = [\n",
    "    # Example 1: Demonstrates a positive opinion on the plot and its direct impact on the reviewer\n",
    "    lx.data.ExampleData(\n",
    "        text=\"The film boasts a truly clever plot that kept me guessing until the very end.\",\n",
    "        extractions=[\n",
    "            lx.data.Extraction(\n",
    "                extraction_class=\"opinion_statement\",\n",
    "                extraction_text=\"a truly clever plot\",\n",
    "                attributes={\n",
    "                    \"subject\": \"The plot\",\n",
    "                    \"sentiment\": \"Positive\",\n",
    "                    \"key_phrase\": \"truly clever\"\n",
    "                }\n",
    "            ),\n",
    "            lx.data.Extraction(\n",
    "                extraction_class=\"audience_impact\",\n",
    "                extraction_text=\"kept me guessing until the very end\",\n",
    "                attributes={\n",
    "                    \"emotion_evoked\": [\"engaged\", \"curious\"],\n",
    "                    \"causal_element\": \"The plot\",\n",
    "                    \"target_audience\": \"the reviewer\"\n",
    "                }\n",
    "            ),\n",
    "        ]\n",
    "    ),\n",
    "    # Example 2: Shows a negative opinion and a separate audience impact caused by the soundtrack\n",
    "    lx.data.ExampleData(\n",
    "        text=\"Unfortunately, the dialogue felt clunky and unnatural, and the jarring soundtrack made the audience jump.\",\n",
    "        extractions=[\n",
    "            lx.data.Extraction(\n",
    "                extraction_class=\"opinion_statement\",\n",
    "                extraction_text=\"the dialogue felt clunky and unnatural\",\n",
    "                attributes={\n",
    "                    \"subject\": \"The dialogue\",\n",
    "                    \"sentiment\": \"Negative\",\n",
    "                    \"key_phrase\": \"clunky and unnatural\"\n",
    "                }\n",
    "            ),\n",
    "            lx.data.Extraction(\n",
    "                extraction_class=\"audience_impact\",\n",
    "                extraction_text=\"made the audience jump\",\n",
    "                attributes={\n",
    "                    \"emotion_evoked\": [\"startled\", \"on edge\"],\n",
    "                    \"causal_element\": \"The soundtrack\",\n",
    "                    \"target_audience\": \"the audience\"\n",
    "                }\n",
    "            )\n",
    "        ]\n",
    "    )\n",
    "]"
   ]
  },
  {
   "cell_type": "markdown",
   "metadata": {},
   "source": [
    "Here we define our main function to call for langextract information extraction, note that there are some constants in the functions that we are not going to change for the example but it would be required to explore and understand in the exercise. In this function we obtain the resulting raw extracted information into a .jsonl file and the visualization into a .html file. Check the documentation for more information.\n",
    "\n",
    "The files will be saved in the following directory: `results/info_extractions`"
   ]
  },
  {
   "cell_type": "code",
   "execution_count": 26,
   "metadata": {},
   "outputs": [],
   "source": [
    "import os\n",
    "import langextract as lx\n",
    "\n",
    "# We define our main langextract function \n",
    "def grounded_info_extraction(input_documents, prompt, examples, file_name, model_id =\"gemini-2.5-flash-lite\", extraction_passes = 1, max_workers = 5, max_char_buffer = 2000):\n",
    "    result = lx.extract(\n",
    "        text_or_documents=input_documents,\n",
    "        prompt_description=prompt,\n",
    "        examples=examples,\n",
    "        model_id=model_id,\n",
    "        extraction_passes=extraction_passes,    # Improves recall through multiple passes over the same text, needs temperature above 0.0\n",
    "        max_workers=max_workers,         # Parallel processing for speed, remember there are API call rate limits, so do not abuse\n",
    "        max_char_buffer=max_char_buffer    # Smaller contexts for better accuracy, currently: 1000 characters per batch\n",
    "    )\n",
    "\n",
    "    # Display results\n",
    "    print(f\"Extracted {len(result.extractions)} entities:\\n\")\n",
    "    for extraction in result.extractions:\n",
    "        print(f\"• {extraction.extraction_class}: '{extraction.extraction_text}'\")\n",
    "        if extraction.attributes:\n",
    "            for key, value in extraction.attributes.items():\n",
    "                print(f\"  - {key}: {value}\")\n",
    "    \n",
    "    output_dir = \"./results/info_extractions\"\n",
    "    os.makedirs(output_dir, exist_ok=True)\n",
    "    # Save results to JSONL\n",
    "    lx.io.save_annotated_documents([result], output_name=f\"{file_name}.jsonl\", output_dir=output_dir)\n",
    "\n",
    "    # Generate interactive visualization\n",
    "    html_content = lx.visualize(f\"{output_dir}/{file_name}.jsonl\")\n",
    "    with open(f\"{output_dir}/{file_name}_vis.html\", \"w\", encoding=\"utf-8\") as f: #changed\n",
    "        if hasattr(html_content, 'data'):\n",
    "            f.write(html_content.data)\n",
    "        else:\n",
    "            f.write(html_content)\n",
    "\n",
    "    print(f\"✓ Visualization saved to {output_dir}/{file_name}_vis.html\")\n",
    "    \n",
    "    # returning html content for display\n",
    "    return html_content"
   ]
  },
  {
   "cell_type": "code",
   "execution_count": 27,
   "metadata": {},
   "outputs": [
    {
     "name": "stderr",
     "output_type": "stream",
     "text": [
      "WARNING:google_genai._api_client:Both GOOGLE_API_KEY and GEMINI_API_KEY are set. Using GOOGLE_API_KEY.\n"
     ]
    },
    {
     "name": "stdout",
     "output_type": "stream",
     "text": [
      "Extracted 13 entities:\n",
      "\n",
      "• opinion_statement: 'a very intellectual and imaginative inventive talent'\n",
      "  - subject: Christopher Nolan\n",
      "  - sentiment: Positive\n",
      "  - key_phrase: very intellectual and imaginative inventive talent\n",
      "• opinion_statement: 'artistically impresses the audience'\n",
      "  - subject: Nolan's style\n",
      "  - sentiment: Positive\n",
      "  - key_phrase: artistically impresses\n",
      "• opinion_statement: 'This brain-racking epic theme is once again evident in ‘Interstellar,’'\n",
      "  - subject: The theme\n",
      "  - sentiment: Positive\n",
      "  - key_phrase: brain-racking epic theme\n",
      "• opinion_statement: 'crazy scenarios'\n",
      "  - subject: Nolan's mind\n",
      "  - sentiment: Positive\n",
      "  - key_phrase: crazy\n",
      "• opinion_statement: 'Not threatening at all right?'\n",
      "  - subject: The planet\n",
      "  - sentiment: Neutral\n",
      "  - key_phrase: Not threatening at all\n",
      "• opinion_statement: 'a giant 100ft tidal wave is about to hit them'\n",
      "  - subject: The tidal wave\n",
      "  - sentiment: Negative\n",
      "  - key_phrase: giant 100ft tidal wave\n",
      "• audience_impact: 'minutes to ﬂy away'\n",
      "  - emotion_evoked: ['stress', 'urgency']\n",
      "  - causal_element: The tidal wave\n",
      "  - target_audience: the crew\n",
      "• opinion_statement: 'farfetched and wonderful'\n",
      "  - subject: The imagination that Nolan possesses and implicates into ‘Interstellar’\n",
      "  - sentiment: Positive\n",
      "  - key_phrase: farfetched and wonderful\n",
      "• audience_impact: 'not only impressing his audience with the appealing visuals he creates, but induces them to think and discuss what is going on due its scientiﬁc depth'\n",
      "  - emotion_evoked: ['impressed', 'thoughtful', 'engaged']\n",
      "  - causal_element: The appealing visuals and scientific depth\n",
      "  - target_audience: his audience\n",
      "• audience_impact: 'I ﬁnd it unendingly entertaining to repeatedly watch this ﬁlm and understanding it more each time'\n",
      "  - emotion_evoked: ['entertained', 'intellectually stimulated']\n",
      "  - causal_element: The film's complexity and depth\n",
      "  - target_audience: the reviewer\n",
      "• opinion_statement: 'a clear example of Nolan’s auteur talent'\n",
      "  - subject: ‘Interstellar’\n",
      "  - sentiment: Positive\n",
      "  - key_phrase: clear example of Nolan’s auteur talent\n",
      "• opinion_statement: 'fantastic score'\n",
      "  - subject: The score\n",
      "  - sentiment: Positive\n",
      "  - key_phrase: fantastic\n",
      "• audience_impact: 'sets the audience in the palm of his hands as we stress over how we are all going to be saved once again'\n",
      "  - emotion_evoked: ['captivated', 'stressed']\n",
      "  - causal_element: His epic, orchestral theme\n",
      "  - target_audience: the audience\n"
     ]
    },
    {
     "name": "stderr",
     "output_type": "stream",
     "text": [
      "\u001b[94m\u001b[1mLangExtract\u001b[0m: Saving to \u001b[92mresults\\info_extractions\\review_extraction_example.jsonl\u001b[0m: 1 docs [00:00, 646.07 docs/s]"
     ]
    },
    {
     "name": "stdout",
     "output_type": "stream",
     "text": [
      "\u001b[92m✓\u001b[0m Saved \u001b[1m1\u001b[0m documents to \u001b[92mresults\\info_extractions\\review_extraction_example.jsonl\u001b[0m\n"
     ]
    },
    {
     "name": "stderr",
     "output_type": "stream",
     "text": [
      "\n",
      "\u001b[94m\u001b[1mLangExtract\u001b[0m: Loading \u001b[92mresults\\info_extractions\\review_extraction_example.jsonl\u001b[0m: 100%|█████████▉| 8.58k/8.58k [00:00<00:00, 472kB/s]"
     ]
    },
    {
     "name": "stdout",
     "output_type": "stream",
     "text": [
      "\u001b[92m✓\u001b[0m Loaded \u001b[1m1\u001b[0m documents from \u001b[92mresults\\info_extractions\\review_extraction_example.jsonl\u001b[0m\n",
      "✓ Visualization saved to ./results/info_extractions/review_extraction_example_vis.html\n"
     ]
    },
    {
     "name": "stderr",
     "output_type": "stream",
     "text": [
      "\n"
     ]
    }
   ],
   "source": [
    "html_content = grounded_info_extraction(formatted_text, prompt, examples, \"review_extraction_example\")"
   ]
  },
  {
   "cell_type": "code",
   "execution_count": 28,
   "metadata": {},
   "outputs": [
    {
     "data": {
      "text/plain": [
       "{'extractions': [{'extraction_class': 'opinion_statement',\n",
       "   'extraction_text': 'a very intellectual and imaginative inventive talent',\n",
       "   'char_interval': {'start_pos': 172, 'end_pos': 224},\n",
       "   'alignment_status': 'match_exact',\n",
       "   'extraction_index': 1,\n",
       "   'group_index': 0,\n",
       "   'description': None,\n",
       "   'attributes': {'subject': 'Christopher Nolan',\n",
       "    'sentiment': 'Positive',\n",
       "    'key_phrase': 'very intellectual and imaginative inventive talent'}},\n",
       "  {'extraction_class': 'opinion_statement',\n",
       "   'extraction_text': 'artistically impresses the audience',\n",
       "   'char_interval': {'start_pos': 338, 'end_pos': 373},\n",
       "   'alignment_status': 'match_exact',\n",
       "   'extraction_index': 2,\n",
       "   'group_index': 1,\n",
       "   'description': None,\n",
       "   'attributes': {'subject': \"Nolan's style\",\n",
       "    'sentiment': 'Positive',\n",
       "    'key_phrase': 'artistically impresses'}},\n",
       "  {'extraction_class': 'opinion_statement',\n",
       "   'extraction_text': 'This brain-racking epic theme is once again evident in ‘Interstellar,’',\n",
       "   'char_interval': {'start_pos': 878, 'end_pos': 948},\n",
       "   'alignment_status': 'match_exact',\n",
       "   'extraction_index': 3,\n",
       "   'group_index': 2,\n",
       "   'description': None,\n",
       "   'attributes': {'subject': 'The theme',\n",
       "    'sentiment': 'Positive',\n",
       "    'key_phrase': 'brain-racking epic theme'}},\n",
       "  {'extraction_class': 'opinion_statement',\n",
       "   'extraction_text': 'crazy scenarios',\n",
       "   'char_interval': {'start_pos': 1484, 'end_pos': 1499},\n",
       "   'alignment_status': 'match_exact',\n",
       "   'extraction_index': 4,\n",
       "   'group_index': 3,\n",
       "   'description': None,\n",
       "   'attributes': {'subject': \"Nolan's mind\",\n",
       "    'sentiment': 'Positive',\n",
       "    'key_phrase': 'crazy'}},\n",
       "  {'extraction_class': 'opinion_statement',\n",
       "   'extraction_text': 'Not threatening at all right?',\n",
       "   'char_interval': {'start_pos': 1676, 'end_pos': 1705},\n",
       "   'alignment_status': 'match_exact',\n",
       "   'extraction_index': 5,\n",
       "   'group_index': 4,\n",
       "   'description': None,\n",
       "   'attributes': {'subject': 'The planet',\n",
       "    'sentiment': 'Neutral',\n",
       "    'key_phrase': 'Not threatening at all'}},\n",
       "  {'extraction_class': 'opinion_statement',\n",
       "   'extraction_text': 'a giant 100ft tidal wave is about to hit them',\n",
       "   'char_interval': {'start_pos': 1764, 'end_pos': 1809},\n",
       "   'alignment_status': 'match_exact',\n",
       "   'extraction_index': 6,\n",
       "   'group_index': 5,\n",
       "   'description': None,\n",
       "   'attributes': {'subject': 'The tidal wave',\n",
       "    'sentiment': 'Negative',\n",
       "    'key_phrase': 'giant 100ft tidal wave'}},\n",
       "  {'extraction_class': 'audience_impact',\n",
       "   'extraction_text': 'minutes to ﬂy away',\n",
       "   'char_interval': {'start_pos': 1825, 'end_pos': 1843},\n",
       "   'alignment_status': 'match_exact',\n",
       "   'extraction_index': 7,\n",
       "   'group_index': 6,\n",
       "   'description': None,\n",
       "   'attributes': {'emotion_evoked': ['stress', 'urgency'],\n",
       "    'causal_element': 'The tidal wave',\n",
       "    'target_audience': 'the crew'}},\n",
       "  {'extraction_class': 'opinion_statement',\n",
       "   'extraction_text': 'farfetched and wonderful',\n",
       "   'char_interval': {'start_pos': 2418, 'end_pos': 2443},\n",
       "   'alignment_status': 'match_exact',\n",
       "   'extraction_index': 1,\n",
       "   'group_index': 0,\n",
       "   'description': None,\n",
       "   'attributes': {'subject': 'The imagination that Nolan possesses and implicates into ‘Interstellar’',\n",
       "    'sentiment': 'Positive',\n",
       "    'key_phrase': 'farfetched and wonderful'}},\n",
       "  {'extraction_class': 'audience_impact',\n",
       "   'extraction_text': 'not only impressing his audience with the appealing visuals he creates, but induces them to think and discuss what is going on due its scientiﬁc depth',\n",
       "   'char_interval': {'start_pos': 2445, 'end_pos': 2596},\n",
       "   'alignment_status': 'match_exact',\n",
       "   'extraction_index': 2,\n",
       "   'group_index': 1,\n",
       "   'description': None,\n",
       "   'attributes': {'emotion_evoked': ['impressed', 'thoughtful', 'engaged'],\n",
       "    'causal_element': 'The appealing visuals and scientific depth',\n",
       "    'target_audience': 'his audience'}},\n",
       "  {'extraction_class': 'audience_impact',\n",
       "   'extraction_text': 'I ﬁnd it unendingly entertaining to repeatedly watch this ﬁlm and understanding it more each time',\n",
       "   'char_interval': {'start_pos': 2680, 'end_pos': 2778},\n",
       "   'alignment_status': 'match_exact',\n",
       "   'extraction_index': 3,\n",
       "   'group_index': 2,\n",
       "   'description': None,\n",
       "   'attributes': {'emotion_evoked': ['entertained',\n",
       "     'intellectually stimulated'],\n",
       "    'causal_element': \"The film's complexity and depth\",\n",
       "    'target_audience': 'the reviewer'}},\n",
       "  {'extraction_class': 'opinion_statement',\n",
       "   'extraction_text': 'a clear example of Nolan’s auteur talent',\n",
       "   'char_interval': {'start_pos': 2876, 'end_pos': 2916},\n",
       "   'alignment_status': 'match_exact',\n",
       "   'extraction_index': 4,\n",
       "   'group_index': 3,\n",
       "   'description': None,\n",
       "   'attributes': {'subject': '‘Interstellar’',\n",
       "    'sentiment': 'Positive',\n",
       "    'key_phrase': 'clear example of Nolan’s auteur talent'}},\n",
       "  {'extraction_class': 'opinion_statement',\n",
       "   'extraction_text': 'fantastic score',\n",
       "   'char_interval': {'start_pos': 3006, 'end_pos': 3021},\n",
       "   'alignment_status': 'match_exact',\n",
       "   'extraction_index': 5,\n",
       "   'group_index': 4,\n",
       "   'description': None,\n",
       "   'attributes': {'subject': 'The score',\n",
       "    'sentiment': 'Positive',\n",
       "    'key_phrase': 'fantastic'}},\n",
       "  {'extraction_class': 'audience_impact',\n",
       "   'extraction_text': 'sets the audience in the palm of his hands as we stress over how we are all going to be saved once again',\n",
       "   'char_interval': {'start_pos': 3090, 'end_pos': 3195},\n",
       "   'alignment_status': 'match_exact',\n",
       "   'extraction_index': 6,\n",
       "   'group_index': 5,\n",
       "   'description': None,\n",
       "   'attributes': {'emotion_evoked': ['captivated', 'stressed'],\n",
       "    'causal_element': 'His epic, orchestral theme',\n",
       "    'target_audience': 'the audience'}}],\n",
       " 'text': '**Page 1**\\n\"\"\"\\nDan Baldwin\\nGroup 4\\nAuteur Review - Interstellar \\nI believe Christopher Nolan: the director behind the 2014 sci-ﬁ/adventure cinematic ‘Interstellar,’ \\nto be a very intellectual and imaginative inventive talent.  \\nHis style in his previous ﬁlms sets characters in epic unique locations, with gargantuan issues to \\nface, and artistically impresses the audience with how the characters solve their problems. For \\nexample, in Nolan’s 2010 ﬁlm ‘Inception,’ he tackles the idea of dreams, and sets his characters \\ndiving through dreams within dreams within even more dreams to complete their goals. Because \\nthis idea is so farfetched, and dreams are a subject in which science has made little factual \\ndiscovery in, Nolan is free to use his creativity to present ideas such as landscapes folding in on \\nthemselves and corridors spinning, without seeming unrealistic. \\nThis brain-racking epic theme is once again evident in ‘Interstellar,’ as Nolan sets his characters \\nduring a second American dust bowl on future Earth. The world is short of food, and will soon be \\nuninhabitable. So, ex-NASA pilot ‘Cooper’ (Matthew McConaughey) is summoned back to space \\ntravel in a bid to ﬁnd a new planet for the species to inhabit. Luckily for Cooper and his team, a \\nblack hole orbiting Saturn can transport them further into space to land on these potential \\nplanets. \\nThroughout the ﬂick, the crew explore multiple worlds - again feeding Nolan’s mind more \\nopportunities to create crazy scenarios. For example, one planet that Cooper and his friends, \\n‘Brand,’ (Anne Hathaway) and ‘Romilly,’ (David Gyasi) visit initially seems like an inﬁnite sea of two \\nfeet deep water. Not threatening at all right? Well think again, because the crew suddenly ﬁnd out \\nthat a giant 100ft tidal wave is about to hit them, and they have minutes to ﬂy away. Nolan further \\nincreases the stakes in this scene as it is explained that every hour spent on this planet counts for \\nseven years on earth, meaning the planet will be destroyed before they return if their ship sinks. \\nAt the climax of the ﬁlm, the crew end up sending themselves through a black hole into a \\ntesseract (a 3D representation of a larger dimension) to ﬁnd the ‘secret to harnessing gravity’ \\nwhich will let the human race bend space-time in order to survive oﬀ earth. I know. Mental. \\nThe imagination that Nolan possesses and implicates into ‘Interstellar’ is farfetched and \\nwonderful, not only impressing his audience with the appealing visuals he creates, but induces \\nthem to think and discuss what is going on due its scientiﬁc depth. Personally, as someone who is \\nbamboozled by the idea of how big the universe is, I ﬁnd it unendingly entertaining to repeatedly \\nwatch this ﬁlm and understanding it more each time, and can only hope the technology portrayed \\nwill one day come true. \\nOverall, ‘Interstellar’ is a clear example of Nolan’s auteur talent, as he once again ﬁgments yet \\nanother cluster of conditions for us to marvel at. With a fantastic score from world famous \\ncomposer Hanz Zimmer, his epic, orchestral theme sets the audience in the palm of his hands as \\nwe stress over how we are all going to be saved once again.\\n\"\"\"\\n\\n',\n",
       " 'document_id': 'doc_ba44e5af'}"
      ]
     },
     "execution_count": 28,
     "metadata": {},
     "output_type": "execute_result"
    }
   ],
   "source": [
    "import json\n",
    "# We can also observe the structure of the raw extracted data\n",
    "with open(\"./results/info_extractions/review_extraction_example.jsonl\", \"r\", encoding=\"utf-8\") as f: #changed\n",
    "    content_extracted_raw = json.load(f)\n",
    "content_extracted_raw"
   ]
  },
  {
   "cell_type": "code",
   "execution_count": 29,
   "metadata": {},
   "outputs": [
    {
     "data": {
      "text/html": [
       "<style>\n",
       ".lx-highlight { position: relative; border-radius:3px; padding:1px 2px;}\n",
       ".lx-highlight .lx-tooltip {\n",
       "  visibility: hidden;\n",
       "  opacity: 0;\n",
       "  transition: opacity 0.2s ease-in-out;\n",
       "  background: #333;\n",
       "  color: #fff;\n",
       "  text-align: left;\n",
       "  border-radius: 4px;\n",
       "  padding: 6px 8px;\n",
       "  position: absolute;\n",
       "  z-index: 1000;\n",
       "  bottom: 125%;\n",
       "  left: 50%;\n",
       "  transform: translateX(-50%);\n",
       "  font-size: 12px;\n",
       "  max-width: 240px;\n",
       "  white-space: normal;\n",
       "  box-shadow: 0 2px 6px rgba(0,0,0,0.3);\n",
       "}\n",
       ".lx-highlight:hover .lx-tooltip { visibility: visible; opacity:1; }\n",
       ".lx-animated-wrapper { max-width: 100%; font-family: Arial, sans-serif; }\n",
       ".lx-controls {\n",
       "  background: #fafafa; border: 1px solid #90caf9; border-radius: 8px;\n",
       "  padding: 12px; margin-bottom: 16px;\n",
       "}\n",
       ".lx-button-row {\n",
       "  display: flex; justify-content: center; gap: 8px; margin-bottom: 12px;\n",
       "}\n",
       ".lx-control-btn {\n",
       "  background: #4285f4; color: white; border: none; border-radius: 4px;\n",
       "  padding: 8px 16px; cursor: pointer; font-size: 13px; font-weight: 500;\n",
       "  transition: background-color 0.2s;\n",
       "}\n",
       ".lx-control-btn:hover { background: #3367d6; }\n",
       ".lx-progress-container {\n",
       "  margin-bottom: 8px;\n",
       "}\n",
       ".lx-progress-slider {\n",
       "  width: 100%; margin: 0; appearance: none; height: 6px;\n",
       "  background: #ddd; border-radius: 3px; outline: none;\n",
       "}\n",
       ".lx-progress-slider::-webkit-slider-thumb {\n",
       "  appearance: none; width: 18px; height: 18px; background: #4285f4;\n",
       "  border-radius: 50%; cursor: pointer;\n",
       "}\n",
       ".lx-progress-slider::-moz-range-thumb {\n",
       "  width: 18px; height: 18px; background: #4285f4; border-radius: 50%;\n",
       "  cursor: pointer; border: none;\n",
       "}\n",
       ".lx-status-text {\n",
       "  text-align: center; font-size: 12px; color: #666; margin-top: 4px;\n",
       "}\n",
       ".lx-text-window {\n",
       "  font-family: monospace; white-space: pre-wrap; border: 1px solid #90caf9;\n",
       "  padding: 12px; max-height: 260px; overflow-y: auto; margin-bottom: 12px;\n",
       "  line-height: 1.6;\n",
       "}\n",
       ".lx-attributes-panel {\n",
       "  background: #fafafa; border: 1px solid #90caf9; border-radius: 6px;\n",
       "  padding: 8px 10px; margin-top: 8px; font-size: 13px;\n",
       "}\n",
       ".lx-current-highlight {\n",
       "  border-bottom: 4px solid #ff4444;\n",
       "  font-weight: bold;\n",
       "  animation: lx-pulse 1s ease-in-out;\n",
       "}\n",
       "@keyframes lx-pulse {\n",
       "  0% { text-decoration-color: #ff4444; }\n",
       "  50% { text-decoration-color: #ff0000; }\n",
       "  100% { text-decoration-color: #ff4444; }\n",
       "}\n",
       ".lx-legend {\n",
       "  font-size: 12px; margin-bottom: 8px;\n",
       "  padding-bottom: 8px; border-bottom: 1px solid #e0e0e0;\n",
       "}\n",
       ".lx-label {\n",
       "  display: inline-block;\n",
       "  padding: 2px 4px;\n",
       "  border-radius: 3px;\n",
       "  margin-right: 4px;\n",
       "  color: #000;\n",
       "}\n",
       ".lx-attr-key {\n",
       "  font-weight: 600;\n",
       "  color: #1565c0;\n",
       "  letter-spacing: 0.3px;\n",
       "}\n",
       ".lx-attr-value {\n",
       "  font-weight: 400;\n",
       "  opacity: 0.85;\n",
       "  letter-spacing: 0.2px;\n",
       "}\n",
       "\n",
       "/* Add optimizations with larger fonts and better readability for GIFs */\n",
       ".lx-gif-optimized .lx-text-window { font-size: 16px; line-height: 1.8; }\n",
       ".lx-gif-optimized .lx-attributes-panel { font-size: 15px; }\n",
       ".lx-gif-optimized .lx-current-highlight { text-decoration-thickness: 4px; }\n",
       "</style>\n",
       "    <div class=\"lx-animated-wrapper lx-gif-optimized\">\n",
       "      <div class=\"lx-attributes-panel\">\n",
       "        <div class=\"lx-legend\">Highlights Legend: <span class=\"lx-label\" style=\"background-color:#D2E3FC;\">audience_impact</span> <span class=\"lx-label\" style=\"background-color:#C8E6C9;\">opinion_statement</span></div>\n",
       "        <div id=\"attributesContainer\"></div>\n",
       "      </div>\n",
       "      <div class=\"lx-text-window\" id=\"textWindow\">\n",
       "        **Page 1**\n",
       "&quot;&quot;&quot;\n",
       "Dan Baldwin\n",
       "Group 4\n",
       "Auteur Review - Interstellar \n",
       "I believe Christopher Nolan: the director behind the 2014 sci-ﬁ/adventure cinematic ‘Interstellar,’ \n",
       "to be <span class=\"lx-highlight lx-current-highlight\" data-idx=\"0\" style=\"background-color:#C8E6C9;\">a very intellectual and imaginative inventive talent</span>.  \n",
       "His style in his previous ﬁlms sets characters in epic unique locations, with gargantuan issues to \n",
       "face, and <span class=\"lx-highlight\" data-idx=\"1\" style=\"background-color:#C8E6C9;\">artistically impresses the audience</span> with how the characters solve their problems. For \n",
       "example, in Nolan’s 2010 ﬁlm ‘Inception,’ he tackles the idea of dreams, and sets his characters \n",
       "diving through dreams within dreams within even more dreams to complete their goals. Because \n",
       "this idea is so farfetched, and dreams are a subject in which science has made little factual \n",
       "discovery in, Nolan is free to use his creativity to present ideas such as landscapes folding in on \n",
       "themselves and corridors spinning, without seeming unrealistic. \n",
       "<span class=\"lx-highlight\" data-idx=\"2\" style=\"background-color:#C8E6C9;\">This brain-racking epic theme is once again evident in ‘Interstellar,’</span> as Nolan sets his characters \n",
       "during a second American dust bowl on future Earth. The world is short of food, and will soon be \n",
       "uninhabitable. So, ex-NASA pilot ‘Cooper’ (Matthew McConaughey) is summoned back to space \n",
       "travel in a bid to ﬁnd a new planet for the species to inhabit. Luckily for Cooper and his team, a \n",
       "black hole orbiting Saturn can transport them further into space to land on these potential \n",
       "planets. \n",
       "Throughout the ﬂick, the crew explore multiple worlds - again feeding Nolan’s mind more \n",
       "opportunities to create <span class=\"lx-highlight\" data-idx=\"3\" style=\"background-color:#C8E6C9;\">crazy scenarios</span>. For example, one planet that Cooper and his friends, \n",
       "‘Brand,’ (Anne Hathaway) and ‘Romilly,’ (David Gyasi) visit initially seems like an inﬁnite sea of two \n",
       "feet deep water. <span class=\"lx-highlight\" data-idx=\"4\" style=\"background-color:#C8E6C9;\">Not threatening at all right?</span> Well think again, because the crew suddenly ﬁnd out \n",
       "that <span class=\"lx-highlight\" data-idx=\"5\" style=\"background-color:#C8E6C9;\">a giant 100ft tidal wave is about to hit them</span>, and they have <span class=\"lx-highlight\" data-idx=\"6\" style=\"background-color:#D2E3FC;\">minutes to ﬂy away</span>. Nolan further \n",
       "increases the stakes in this scene as it is explained that every hour spent on this planet counts for \n",
       "seven years on earth, meaning the planet will be destroyed before they return if their ship sinks. \n",
       "At the climax of the ﬁlm, the crew end up sending themselves through a black hole into a \n",
       "tesseract (a 3D representation of a larger dimension) to ﬁnd the ‘secret to harnessing gravity’ \n",
       "which will let the human race bend space-time in order to survive oﬀ earth. I know. Mental. \n",
       "The imagination that Nolan possesses and implicates into ‘Interstellar’ is <span class=\"lx-highlight\" data-idx=\"7\" style=\"background-color:#C8E6C9;\">farfetched and \n",
       "wonderful</span>, <span class=\"lx-highlight\" data-idx=\"8\" style=\"background-color:#D2E3FC;\">not only impressing his audience with the appealing visuals he creates, but induces \n",
       "them to think and discuss what is going on due its scientiﬁc depth</span>. Personally, as someone who is \n",
       "bamboozled by the idea of how big the universe is, <span class=\"lx-highlight\" data-idx=\"9\" style=\"background-color:#D2E3FC;\">I ﬁnd it unendingly entertaining to repeatedly \n",
       "watch this ﬁlm and understanding it more each time</span>, and can only hope the technology portrayed \n",
       "will one day come true. \n",
       "Overall, ‘Interstellar’ is <span class=\"lx-highlight\" data-idx=\"10\" style=\"background-color:#C8E6C9;\">a clear example of Nolan’s auteur talent</span>, as he once again ﬁgments yet \n",
       "another cluster of conditions for us to marvel at. With a <span class=\"lx-highlight\" data-idx=\"11\" style=\"background-color:#C8E6C9;\">fantastic score</span> from world famous \n",
       "composer Hanz Zimmer, his epic, orchestral theme <span class=\"lx-highlight\" data-idx=\"12\" style=\"background-color:#D2E3FC;\">sets the audience in the palm of his hands as \n",
       "we stress over how we are all going to be saved once again</span>.\n",
       "&quot;&quot;&quot;\n",
       "\n",
       "\n",
       "      </div>\n",
       "      <div class=\"lx-controls\">\n",
       "        <div class=\"lx-button-row\">\n",
       "          <button class=\"lx-control-btn\" onclick=\"playPause()\">▶️ Play</button>\n",
       "          <button class=\"lx-control-btn\" onclick=\"prevExtraction()\">⏮ Previous</button>\n",
       "          <button class=\"lx-control-btn\" onclick=\"nextExtraction()\">⏭ Next</button>\n",
       "        </div>\n",
       "        <div class=\"lx-progress-container\">\n",
       "          <input type=\"range\" id=\"progressSlider\" class=\"lx-progress-slider\"\n",
       "                 min=\"0\" max=\"12\" value=\"0\"\n",
       "                 onchange=\"jumpToExtraction(this.value)\">\n",
       "        </div>\n",
       "        <div class=\"lx-status-text\">\n",
       "          Entity <span id=\"entityInfo\">1/13</span> |\n",
       "          Pos <span id=\"posInfo\">[172-224]</span>\n",
       "        </div>\n",
       "      </div>\n",
       "    </div>\n",
       "\n",
       "    <script>\n",
       "      (function() {\n",
       "        const extractions = [{\"index\": 0, \"class\": \"opinion_statement\", \"text\": \"a very intellectual and imaginative inventive talent\", \"color\": \"#C8E6C9\", \"startPos\": 172, \"endPos\": 224, \"beforeText\": \"dwin\\nGroup 4\\nAuteur Review - Interstellar \\nI believe Christopher Nolan: the director behind the 2014 sci-\\ufb01/adventure cinematic \\u2018Interstellar,\\u2019 \\nto be \", \"extractionText\": \"a very intellectual and imaginative inventive talent\", \"afterText\": \".  \\nHis style in his previous \\ufb01lms sets characters in epic unique locations, with gargantuan issues to \\nface, and artistically impresses the audience \", \"attributesHtml\": \"<div><strong>class:</strong> opinion_statement</div><div><strong>attributes:</strong> {<span class=\\\"lx-attr-key\\\">subject</span>: <span class=\\\"lx-attr-value\\\">Christopher Nolan</span>, <span class=\\\"lx-attr-key\\\">sentiment</span>: <span class=\\\"lx-attr-value\\\">Positive</span>, <span class=\\\"lx-attr-key\\\">key_phrase</span>: <span class=\\\"lx-attr-value\\\">very intellectual and imaginative inventive talent</span>}</div>\"}, {\"index\": 1, \"class\": \"opinion_statement\", \"text\": \"artistically impresses the audience\", \"color\": \"#C8E6C9\", \"startPos\": 338, \"endPos\": 373, \"beforeText\": \"ual and imaginative inventive talent.  \\nHis style in his previous \\ufb01lms sets characters in epic unique locations, with gargantuan issues to \\nface, and \", \"extractionText\": \"artistically impresses the audience\", \"afterText\": \" with how the characters solve their problems. For \\nexample, in Nolan\\u2019s 2010 \\ufb01lm \\u2018Inception,\\u2019 he tackles the idea of dreams, and sets his characters \\n\", \"attributesHtml\": \"<div><strong>class:</strong> opinion_statement</div><div><strong>attributes:</strong> {<span class=\\\"lx-attr-key\\\">subject</span>: <span class=\\\"lx-attr-value\\\">Nolan&#x27;s style</span>, <span class=\\\"lx-attr-key\\\">sentiment</span>: <span class=\\\"lx-attr-value\\\">Positive</span>, <span class=\\\"lx-attr-key\\\">key_phrase</span>: <span class=\\\"lx-attr-value\\\">artistically impresses</span>}</div>\"}, {\"index\": 2, \"class\": \"opinion_statement\", \"text\": \"This brain-racking epic theme is once again evident in \\u2018Interstellar,\\u2019\", \"color\": \"#C8E6C9\", \"startPos\": 878, \"endPos\": 948, \"beforeText\": \"lan is free to use his creativity to present ideas such as landscapes folding in on \\nthemselves and corridors spinning, without seeming unrealistic. \\n\", \"extractionText\": \"This brain-racking epic theme is once again evident in \\u2018Interstellar,\\u2019\", \"afterText\": \" as Nolan sets his characters \\nduring a second American dust bowl on future Earth. The world is short of food, and will soon be \\nuninhabitable. So, ex\", \"attributesHtml\": \"<div><strong>class:</strong> opinion_statement</div><div><strong>attributes:</strong> {<span class=\\\"lx-attr-key\\\">subject</span>: <span class=\\\"lx-attr-value\\\">The theme</span>, <span class=\\\"lx-attr-key\\\">sentiment</span>: <span class=\\\"lx-attr-value\\\">Positive</span>, <span class=\\\"lx-attr-key\\\">key_phrase</span>: <span class=\\\"lx-attr-value\\\">brain-racking epic theme</span>}</div>\"}, {\"index\": 3, \"class\": \"opinion_statement\", \"text\": \"crazy scenarios\", \"color\": \"#C8E6C9\", \"startPos\": 1484, \"endPos\": 1499, \"beforeText\": \"o land on these potential \\nplanets. \\nThroughout the \\ufb02ick, the crew explore multiple worlds - again feeding Nolan\\u2019s mind more \\nopportunities to create \", \"extractionText\": \"crazy scenarios\", \"afterText\": \". For example, one planet that Cooper and his friends, \\n\\u2018Brand,\\u2019 (Anne Hathaway) and \\u2018Romilly,\\u2019 (David Gyasi) visit initially seems like an in\\ufb01nite se\", \"attributesHtml\": \"<div><strong>class:</strong> opinion_statement</div><div><strong>attributes:</strong> {<span class=\\\"lx-attr-key\\\">subject</span>: <span class=\\\"lx-attr-value\\\">Nolan&#x27;s mind</span>, <span class=\\\"lx-attr-key\\\">sentiment</span>: <span class=\\\"lx-attr-value\\\">Positive</span>, <span class=\\\"lx-attr-key\\\">key_phrase</span>: <span class=\\\"lx-attr-value\\\">crazy</span>}</div>\"}, {\"index\": 4, \"class\": \"opinion_statement\", \"text\": \"Not threatening at all right?\", \"color\": \"#C8E6C9\", \"startPos\": 1676, \"endPos\": 1705, \"beforeText\": \"hat Cooper and his friends, \\n\\u2018Brand,\\u2019 (Anne Hathaway) and \\u2018Romilly,\\u2019 (David Gyasi) visit initially seems like an in\\ufb01nite sea of two \\nfeet deep water. \", \"extractionText\": \"Not threatening at all right?\", \"afterText\": \" Well think again, because the crew suddenly \\ufb01nd out \\nthat a giant 100ft tidal wave is about to hit them, and they have minutes to \\ufb02y away. Nolan furt\", \"attributesHtml\": \"<div><strong>class:</strong> opinion_statement</div><div><strong>attributes:</strong> {<span class=\\\"lx-attr-key\\\">subject</span>: <span class=\\\"lx-attr-value\\\">The planet</span>, <span class=\\\"lx-attr-key\\\">sentiment</span>: <span class=\\\"lx-attr-value\\\">Neutral</span>, <span class=\\\"lx-attr-key\\\">key_phrase</span>: <span class=\\\"lx-attr-value\\\">Not threatening at all</span>}</div>\"}, {\"index\": 5, \"class\": \"opinion_statement\", \"text\": \"a giant 100ft tidal wave is about to hit them\", \"color\": \"#C8E6C9\", \"startPos\": 1764, \"endPos\": 1809, \"beforeText\": \" initially seems like an in\\ufb01nite sea of two \\nfeet deep water. Not threatening at all right? Well think again, because the crew suddenly \\ufb01nd out \\nthat \", \"extractionText\": \"a giant 100ft tidal wave is about to hit them\", \"afterText\": \", and they have minutes to \\ufb02y away. Nolan further \\nincreases the stakes in this scene as it is explained that every hour spent on this planet counts f\", \"attributesHtml\": \"<div><strong>class:</strong> opinion_statement</div><div><strong>attributes:</strong> {<span class=\\\"lx-attr-key\\\">subject</span>: <span class=\\\"lx-attr-value\\\">The tidal wave</span>, <span class=\\\"lx-attr-key\\\">sentiment</span>: <span class=\\\"lx-attr-value\\\">Negative</span>, <span class=\\\"lx-attr-key\\\">key_phrase</span>: <span class=\\\"lx-attr-value\\\">giant 100ft tidal wave</span>}</div>\"}, {\"index\": 6, \"class\": \"audience_impact\", \"text\": \"minutes to \\ufb02y away\", \"color\": \"#D2E3FC\", \"startPos\": 1825, \"endPos\": 1843, \"beforeText\": \" Not threatening at all right? Well think again, because the crew suddenly \\ufb01nd out \\nthat a giant 100ft tidal wave is about to hit them, and they have \", \"extractionText\": \"minutes to \\ufb02y away\", \"afterText\": \". Nolan further \\nincreases the stakes in this scene as it is explained that every hour spent on this planet counts for \\nseven years on earth, meaning \", \"attributesHtml\": \"<div><strong>class:</strong> audience_impact</div><div><strong>attributes:</strong> {<span class=\\\"lx-attr-key\\\">emotion_evoked</span>: <span class=\\\"lx-attr-value\\\">stress, urgency</span>, <span class=\\\"lx-attr-key\\\">causal_element</span>: <span class=\\\"lx-attr-value\\\">The tidal wave</span>, <span class=\\\"lx-attr-key\\\">target_audience</span>: <span class=\\\"lx-attr-value\\\">the crew</span>}</div>\"}, {\"index\": 7, \"class\": \"opinion_statement\", \"text\": \"farfetched and wonderful\", \"color\": \"#C8E6C9\", \"startPos\": 2418, \"endPos\": 2443, \"beforeText\": \" human race bend space-time in order to survive o\\ufb00 earth. I know. Mental. \\nThe imagination that Nolan possesses and implicates into \\u2018Interstellar\\u2019 is \", \"extractionText\": \"farfetched and \\nwonderful\", \"afterText\": \", not only impressing his audience with the appealing visuals he creates, but induces \\nthem to think and discuss what is going on due its scienti\\ufb01c de\", \"attributesHtml\": \"<div><strong>class:</strong> opinion_statement</div><div><strong>attributes:</strong> {<span class=\\\"lx-attr-key\\\">subject</span>: <span class=\\\"lx-attr-value\\\">The imagination that Nolan possesses and implicates into \\u2018Interstellar\\u2019</span>, <span class=\\\"lx-attr-key\\\">sentiment</span>: <span class=\\\"lx-attr-value\\\">Positive</span>, <span class=\\\"lx-attr-key\\\">key_phrase</span>: <span class=\\\"lx-attr-value\\\">farfetched and wonderful</span>}</div>\"}, {\"index\": 8, \"class\": \"audience_impact\", \"text\": \"not only impressing his audience with the appealing visuals he creates, but induces them to think and discuss what is going on due its scienti\\ufb01c depth\", \"color\": \"#D2E3FC\", \"startPos\": 2445, \"endPos\": 2596, \"beforeText\": \" in order to survive o\\ufb00 earth. I know. Mental. \\nThe imagination that Nolan possesses and implicates into \\u2018Interstellar\\u2019 is farfetched and \\nwonderful, \", \"extractionText\": \"not only impressing his audience with the appealing visuals he creates, but induces \\nthem to think and discuss what is going on due its scienti\\ufb01c depth\", \"afterText\": \". Personally, as someone who is \\nbamboozled by the idea of how big the universe is, I \\ufb01nd it unendingly entertaining to repeatedly \\nwatch this \\ufb01lm and\", \"attributesHtml\": \"<div><strong>class:</strong> audience_impact</div><div><strong>attributes:</strong> {<span class=\\\"lx-attr-key\\\">emotion_evoked</span>: <span class=\\\"lx-attr-value\\\">impressed, thoughtful, engaged</span>, <span class=\\\"lx-attr-key\\\">causal_element</span>: <span class=\\\"lx-attr-value\\\">The appealing visuals and scientific depth</span>, <span class=\\\"lx-attr-key\\\">target_audience</span>: <span class=\\\"lx-attr-value\\\">his audience</span>}</div>\"}, {\"index\": 9, \"class\": \"audience_impact\", \"text\": \"I \\ufb01nd it unendingly entertaining to repeatedly watch this \\ufb01lm and understanding it more each time\", \"color\": \"#D2E3FC\", \"startPos\": 2680, \"endPos\": 2778, \"beforeText\": \"them to think and discuss what is going on due its scienti\\ufb01c depth. Personally, as someone who is \\nbamboozled by the idea of how big the universe is, \", \"extractionText\": \"I \\ufb01nd it unendingly entertaining to repeatedly \\nwatch this \\ufb01lm and understanding it more each time\", \"afterText\": \", and can only hope the technology portrayed \\nwill one day come true. \\nOverall, \\u2018Interstellar\\u2019 is a clear example of Nolan\\u2019s auteur talent, as he once\", \"attributesHtml\": \"<div><strong>class:</strong> audience_impact</div><div><strong>attributes:</strong> {<span class=\\\"lx-attr-key\\\">emotion_evoked</span>: <span class=\\\"lx-attr-value\\\">entertained, intellectually stimulated</span>, <span class=\\\"lx-attr-key\\\">causal_element</span>: <span class=\\\"lx-attr-value\\\">The film&#x27;s complexity and depth</span>, <span class=\\\"lx-attr-key\\\">target_audience</span>: <span class=\\\"lx-attr-value\\\">the reviewer</span>}</div>\"}, {\"index\": 10, \"class\": \"opinion_statement\", \"text\": \"a clear example of Nolan\\u2019s auteur talent\", \"color\": \"#C8E6C9\", \"startPos\": 2876, \"endPos\": 2916, \"beforeText\": \" \\nwatch this \\ufb01lm and understanding it more each time, and can only hope the technology portrayed \\nwill one day come true. \\nOverall, \\u2018Interstellar\\u2019 is \", \"extractionText\": \"a clear example of Nolan\\u2019s auteur talent\", \"afterText\": \", as he once again \\ufb01gments yet \\nanother cluster of conditions for us to marvel at. With a fantastic score from world famous \\ncomposer Hanz Zimmer, his\", \"attributesHtml\": \"<div><strong>class:</strong> opinion_statement</div><div><strong>attributes:</strong> {<span class=\\\"lx-attr-key\\\">subject</span>: <span class=\\\"lx-attr-value\\\">\\u2018Interstellar\\u2019</span>, <span class=\\\"lx-attr-key\\\">sentiment</span>: <span class=\\\"lx-attr-value\\\">Positive</span>, <span class=\\\"lx-attr-key\\\">key_phrase</span>: <span class=\\\"lx-attr-value\\\">clear example of Nolan\\u2019s auteur talent</span>}</div>\"}, {\"index\": 11, \"class\": \"opinion_statement\", \"text\": \"fantastic score\", \"color\": \"#C8E6C9\", \"startPos\": 3006, \"endPos\": 3021, \"beforeText\": \", \\u2018Interstellar\\u2019 is a clear example of Nolan\\u2019s auteur talent, as he once again \\ufb01gments yet \\nanother cluster of conditions for us to marvel at. With a \", \"extractionText\": \"fantastic score\", \"afterText\": \" from world famous \\ncomposer Hanz Zimmer, his epic, orchestral theme sets the audience in the palm of his hands as \\nwe stress over how we are all goin\", \"attributesHtml\": \"<div><strong>class:</strong> opinion_statement</div><div><strong>attributes:</strong> {<span class=\\\"lx-attr-key\\\">subject</span>: <span class=\\\"lx-attr-value\\\">The score</span>, <span class=\\\"lx-attr-key\\\">sentiment</span>: <span class=\\\"lx-attr-value\\\">Positive</span>, <span class=\\\"lx-attr-key\\\">key_phrase</span>: <span class=\\\"lx-attr-value\\\">fantastic</span>}</div>\"}, {\"index\": 12, \"class\": \"audience_impact\", \"text\": \"sets the audience in the palm of his hands as we stress over how we are all going to be saved once again\", \"color\": \"#D2E3FC\", \"startPos\": 3090, \"endPos\": 3195, \"beforeText\": \"ts yet \\nanother cluster of conditions for us to marvel at. With a fantastic score from world famous \\ncomposer Hanz Zimmer, his epic, orchestral theme \", \"extractionText\": \"sets the audience in the palm of his hands as \\nwe stress over how we are all going to be saved once again\", \"afterText\": \".\\n&quot;&quot;&quot;\\n\\n\", \"attributesHtml\": \"<div><strong>class:</strong> audience_impact</div><div><strong>attributes:</strong> {<span class=\\\"lx-attr-key\\\">emotion_evoked</span>: <span class=\\\"lx-attr-value\\\">captivated, stressed</span>, <span class=\\\"lx-attr-key\\\">causal_element</span>: <span class=\\\"lx-attr-value\\\">His epic, orchestral theme</span>, <span class=\\\"lx-attr-key\\\">target_audience</span>: <span class=\\\"lx-attr-value\\\">the audience</span>}</div>\"}];\n",
       "        let currentIndex = 0;\n",
       "        let isPlaying = false;\n",
       "        let animationInterval = null;\n",
       "        let animationSpeed = 1.0;\n",
       "\n",
       "        function updateDisplay() {\n",
       "          const extraction = extractions[currentIndex];\n",
       "          if (!extraction) return;\n",
       "\n",
       "          document.getElementById('attributesContainer').innerHTML = extraction.attributesHtml;\n",
       "          document.getElementById('entityInfo').textContent = (currentIndex + 1) + '/' + extractions.length;\n",
       "          document.getElementById('posInfo').textContent = '[' + extraction.startPos + '-' + extraction.endPos + ']';\n",
       "          document.getElementById('progressSlider').value = currentIndex;\n",
       "\n",
       "          const playBtn = document.querySelector('.lx-control-btn');\n",
       "          if (playBtn) playBtn.textContent = isPlaying ? '⏸ Pause' : '▶️ Play';\n",
       "\n",
       "          const prevHighlight = document.querySelector('.lx-text-window .lx-current-highlight');\n",
       "          if (prevHighlight) prevHighlight.classList.remove('lx-current-highlight');\n",
       "          const currentSpan = document.querySelector('.lx-text-window span[data-idx=\"' + currentIndex + '\"]');\n",
       "          if (currentSpan) {\n",
       "            currentSpan.classList.add('lx-current-highlight');\n",
       "            currentSpan.scrollIntoView({block: 'center', behavior: 'smooth'});\n",
       "          }\n",
       "        }\n",
       "\n",
       "        function nextExtraction() {\n",
       "          currentIndex = (currentIndex + 1) % extractions.length;\n",
       "          updateDisplay();\n",
       "        }\n",
       "\n",
       "        function prevExtraction() {\n",
       "          currentIndex = (currentIndex - 1 + extractions.length) % extractions.length;\n",
       "          updateDisplay();\n",
       "        }\n",
       "\n",
       "        function jumpToExtraction(index) {\n",
       "          currentIndex = parseInt(index);\n",
       "          updateDisplay();\n",
       "        }\n",
       "\n",
       "        function playPause() {\n",
       "          if (isPlaying) {\n",
       "            clearInterval(animationInterval);\n",
       "            isPlaying = false;\n",
       "          } else {\n",
       "            animationInterval = setInterval(nextExtraction, animationSpeed * 1000);\n",
       "            isPlaying = true;\n",
       "          }\n",
       "          updateDisplay();\n",
       "        }\n",
       "\n",
       "        window.playPause = playPause;\n",
       "        window.nextExtraction = nextExtraction;\n",
       "        window.prevExtraction = prevExtraction;\n",
       "        window.jumpToExtraction = jumpToExtraction;\n",
       "\n",
       "        updateDisplay();\n",
       "      })();\n",
       "    </script>"
      ],
      "text/plain": [
       "<IPython.core.display.HTML object>"
      ]
     },
     "execution_count": 29,
     "metadata": {},
     "output_type": "execute_result"
    }
   ],
   "source": [
    "html_content"
   ]
  },
  {
   "cell_type": "markdown",
   "metadata": {},
   "source": [
    "---\n",
    "##### <a id='toc1_5_7_1_2_'></a>[**>>> Bonus Exercise 3 (Take home):**](#toc0_)\n",
    "\n",
    "`NOTE: This exercise is now considered a bonus one, not counted for the main grade, only as extra points.`\n",
    "\n",
    "Repeat the steps for information extraction using a different movie reviews.\n",
    "1. Search for movie reviews online and save them in a PDF, we suggest **at least 1 page worth of reviews** like in the example.\n",
    "2. Load the PDF and pass them to langextract to extract information from it.\n",
    "3. Display html with the grounded extracted attributes.\n",
    "4. Discuss about the quality of the extracted information with langextract, how could it be improved based on the options the documentation gives that we didn't try?\n",
    "\n",
    "**`Github repository for reference:`** [langextract](https://github.com/google/langextract)"
   ]
  },
  {
   "cell_type": "code",
   "execution_count": 30,
   "metadata": {},
   "outputs": [
    {
     "name": "stdout",
     "output_type": "stream",
     "text": [
      "✓ Extracted text from './data/documents/Anemone Review.pdf'\n"
     ]
    }
   ],
   "source": [
    "# Answer here\n",
    "import pymupdf\n",
    "# Extract text from the PDF and format it for the prompt\n",
    "# This is a review from the movie interstellar\n",
    "pdf_path = \"./data/documents/Anemone Review.pdf\"\n",
    "formatted_text = \"\"\n",
    "try:\n",
    "    doc = pymupdf.open(pdf_path)\n",
    "    # In case the PDF documents have more than one page, in this example it only has one\n",
    "    for i, page in enumerate(doc):\n",
    "        text = page.get_text(\"text\")\n",
    "        # Format follows the prompt's requirement: **Page X** \"\"\"document's text\"\"\"\n",
    "        formatted_text += f'**Page {i + 1}**\\n'\n",
    "        formatted_text += f'\"\"\"\\n{text.strip()}\\n\"\"\"\\n\\n'\n",
    "    doc.close()\n",
    "    print(f\"✓ Extracted text from '{pdf_path}'\")\n",
    "except Exception as e:\n",
    "    print(f\"Could not read PDF: {e}\")\n",
    "    formatted_text = \"Error: Could not process PDF file.\""
   ]
  },
  {
   "cell_type": "code",
   "execution_count": 31,
   "metadata": {},
   "outputs": [],
   "source": [
    "import langextract as lx\n",
    "import textwrap\n",
    "\n",
    "# Defining the extraction prompt for \"movie review\" type of data\n",
    "prompt = textwrap.dedent(\"\"\"\\\n",
    "    Extract specific opinions and their impact on the audience from this movie review.\n",
    "    Important: Use exact text verbatim from the input for extraction_text. Do not paraphrase.\n",
    "    Extract entities in order of appearance with no overlapping text spans.\n",
    "\n",
    "    Use the 'opinion_statement' class for direct judgments about film elements (like plot, score, or acting).\n",
    "    - 'subject' should be the element being reviewed.\n",
    "    - 'sentiment' should be Positive, Negative, or Neutral.\n",
    "    - 'key_phrase' should be the core descriptive words.\n",
    "\n",
    "    Use the 'audience_impact' class for phrases describing the effect on the viewer.\n",
    "    - 'emotion_evoked' should be the feeling or reaction (e.g., stress, joy, confusion).\n",
    "    - 'causal_element' is what part of the film caused the reaction.\n",
    "    - 'target_audience' is who was affected (e.g., 'the audience', 'the reviewer').\n",
    "    \"\"\")\n",
    "\n",
    "# Providing high-quality examples to guide the model\n",
    "# These examples show the model exactly how to differentiate between the two classes\n",
    "examples = [\n",
    "    # Example 1: Demonstrates a positive opinion on the plot and its direct impact on the reviewer\n",
    "    lx.data.ExampleData(\n",
    "        text=\"The film boasts a truly clever plot that kept me guessing until the very end.\",\n",
    "        extractions=[\n",
    "            lx.data.Extraction(\n",
    "                extraction_class=\"opinion_statement\",\n",
    "                extraction_text=\"a truly clever plot\",\n",
    "                attributes={\n",
    "                    \"subject\": \"The plot\",\n",
    "                    \"sentiment\": \"Positive\",\n",
    "                    \"key_phrase\": \"truly clever\"\n",
    "                }\n",
    "            ),\n",
    "            lx.data.Extraction(\n",
    "                extraction_class=\"audience_impact\",\n",
    "                extraction_text=\"kept me guessing until the very end\",\n",
    "                attributes={\n",
    "                    \"emotion_evoked\": [\"engaged\", \"curious\"],\n",
    "                    \"causal_element\": \"The plot\",\n",
    "                    \"target_audience\": \"the reviewer\"\n",
    "                }\n",
    "            ),\n",
    "        ]\n",
    "    ),\n",
    "    # Example 2: Shows a negative opinion and a separate audience impact caused by the soundtrack\n",
    "    lx.data.ExampleData(\n",
    "        text=\"Unfortunately, the dialogue felt clunky and unnatural, and the jarring soundtrack made the audience jump.\",\n",
    "        extractions=[\n",
    "            lx.data.Extraction(\n",
    "                extraction_class=\"opinion_statement\",\n",
    "                extraction_text=\"the dialogue felt clunky and unnatural\",\n",
    "                attributes={\n",
    "                    \"subject\": \"The dialogue\",\n",
    "                    \"sentiment\": \"Negative\",\n",
    "                    \"key_phrase\": \"clunky and unnatural\"\n",
    "                }\n",
    "            ),\n",
    "            lx.data.Extraction(\n",
    "                extraction_class=\"audience_impact\",\n",
    "                extraction_text=\"made the audience jump\",\n",
    "                attributes={\n",
    "                    \"emotion_evoked\": [\"startled\", \"on edge\"],\n",
    "                    \"causal_element\": \"The soundtrack\",\n",
    "                    \"target_audience\": \"the audience\"\n",
    "                }\n",
    "            )\n",
    "        ]\n",
    "    )\n",
    "]"
   ]
  },
  {
   "cell_type": "code",
   "execution_count": 32,
   "metadata": {},
   "outputs": [],
   "source": [
    "import os\n",
    "import langextract as lx\n",
    "\n",
    "# We define our main langextract function \n",
    "def grounded_info_extraction(input_documents, prompt, examples, file_name, model_id =\"gemini-2.5-flash-lite\", extraction_passes = 1, max_workers = 5, max_char_buffer = 2000):\n",
    "    result = lx.extract(\n",
    "        text_or_documents=input_documents,\n",
    "        prompt_description=prompt,\n",
    "        examples=examples,\n",
    "        model_id=model_id,\n",
    "        extraction_passes=extraction_passes,    # Improves recall through multiple passes over the same text, needs temperature above 0.0\n",
    "        max_workers=max_workers,         # Parallel processing for speed, remember there are API call rate limits, so do not abuse\n",
    "        max_char_buffer=max_char_buffer    # Smaller contexts for better accuracy, currently: 1000 characters per batch\n",
    "    )\n",
    "\n",
    "    # Display results\n",
    "    print(f\"Extracted {len(result.extractions)} entities:\\n\")\n",
    "    for extraction in result.extractions:\n",
    "        print(f\"• {extraction.extraction_class}: '{extraction.extraction_text}'\")\n",
    "        if extraction.attributes:\n",
    "            for key, value in extraction.attributes.items():\n",
    "                print(f\"  - {key}: {value}\")\n",
    "    \n",
    "    output_dir = \"./results/info_extraction_2\"\n",
    "    os.makedirs(output_dir, exist_ok=True)\n",
    "    # Save results to JSONL\n",
    "    lx.io.save_annotated_documents([result], output_name=f\"{file_name}_1.jsonl\", output_dir=output_dir)\n",
    "\n",
    "    # Generate interactive visualization\n",
    "    html_content = lx.visualize(f\"{output_dir}/{file_name}_1.jsonl\")\n",
    "    with open(f\"{output_dir}/{file_name}_vis_1.html\", \"w\", encoding=\"utf-8\") as f: #changed\n",
    "        if hasattr(html_content, 'data'):\n",
    "            f.write(html_content.data)\n",
    "        else:\n",
    "            f.write(html_content)\n",
    "\n",
    "    print(f\"✓ Visualization saved to {output_dir}/{file_name}_vis_1.html\")\n",
    "    \n",
    "    # returning html content for display\n",
    "    return html_content"
   ]
  },
  {
   "cell_type": "code",
   "execution_count": 33,
   "metadata": {},
   "outputs": [
    {
     "name": "stderr",
     "output_type": "stream",
     "text": [
      "WARNING:google_genai._api_client:Both GOOGLE_API_KEY and GEMINI_API_KEY are set. Using GOOGLE_API_KEY.\n"
     ]
    },
    {
     "name": "stdout",
     "output_type": "stream",
     "text": [
      "Extracted 22 entities:\n",
      "\n",
      "• opinion_statement: 'the flower-as-metaphor title is perhaps the most on-the-nose thing'\n",
      "  - subject: The title\n",
      "  - sentiment: Negative\n",
      "  - key_phrase: most on-the-nose\n",
      "• opinion_statement: 'sad, absurdist, brooding, tender and intense'\n",
      "  - subject: Anemone\n",
      "  - sentiment: Neutral\n",
      "  - key_phrase: sad, absurdist, brooding, tender and intense\n",
      "• opinion_statement: 'the ever-excellent Samantha Morton'\n",
      "  - subject: Samantha Morton\n",
      "  - sentiment: Positive\n",
      "  - key_phrase: ever-excellent\n",
      "• opinion_statement: 'Bean is subtle and superb'\n",
      "  - subject: Bean\n",
      "  - sentiment: Positive\n",
      "  - key_phrase: subtle and superb\n",
      "• opinion_statement: 'he may OD on drone shots that make tree tops look like broccoli'\n",
      "  - subject: Drone shots\n",
      "  - sentiment: Negative\n",
      "  - key_phrase: OD on drone shots\n",
      "• opinion_statement: 'he’s definitely one to watch'\n",
      "  - subject: director Day-Lewis\n",
      "  - sentiment: Positive\n",
      "  - key_phrase: one to watch\n",
      "• opinion_statement: 'visual poetry'\n",
      "  - subject: The film\n",
      "  - sentiment: Positive\n",
      "  - key_phrase: visual poetry\n",
      "• opinion_statement: 'evocative use of slow motion'\n",
      "  - subject: Slow motion\n",
      "  - sentiment: Positive\n",
      "  - key_phrase: evocative use\n",
      "• opinion_statement: 'striking imagery'\n",
      "  - subject: Imagery\n",
      "  - sentiment: Positive\n",
      "  - key_phrase: striking\n",
      "• opinion_statement: 'a stunning tracking shot through a countryside fairground'\n",
      "  - subject: A tracking shot\n",
      "  - sentiment: Positive\n",
      "  - key_phrase: stunning\n",
      "• opinion_statement: 'a strand of Lynchian bonkersness'\n",
      "  - subject: The film\n",
      "  - sentiment: Positive\n",
      "  - key_phrase: Lynchian bonkersness\n",
      "• opinion_statement: 'freak hailstorm'\n",
      "  - subject: Hailstorm\n",
      "  - sentiment: Negative\n",
      "  - key_phrase: freak\n",
      "• opinion_statement: 'a giant fish'\n",
      "  - subject: Fish\n",
      "  - sentiment: Negative\n",
      "  - key_phrase: giant\n",
      "• opinion_statement: 'a ghostly camel-like creature with a tiny dick'\n",
      "  - subject: Creature\n",
      "  - sentiment: Negative\n",
      "  - key_phrase: ghostly camel-like with a tiny dick\n",
      "• opinion_statement: 'feels a bit like treading water'\n",
      "  - subject: The story\n",
      "  - sentiment: Negative\n",
      "  - key_phrase: treading water\n",
      "• opinion_statement: 'most compelling'\n",
      "  - subject: The film\n",
      "  - sentiment: Positive\n",
      "  - key_phrase: most compelling\n",
      "• opinion_statement: 'big and boisterous'\n",
      "  - subject: Day-Lewis\n",
      "  - sentiment: Positive\n",
      "  - key_phrase: big and boisterous\n",
      "• opinion_statement: 'small and shameful'\n",
      "  - subject: Day-Lewis\n",
      "  - sentiment: Negative\n",
      "  - key_phrase: small and shameful\n",
      "• opinion_statement: 'a stunning extended scatological tale'\n",
      "  - subject: A tale\n",
      "  - sentiment: Positive\n",
      "  - key_phrase: stunning extended scatological\n",
      "• opinion_statement: 'simultaneously funny and horrifying'\n",
      "  - subject: The tale\n",
      "  - sentiment: Positive\n",
      "  - key_phrase: funny and horrifying\n",
      "• opinion_statement: 'takes its place in the DDL Monologue Hall Of Fame'\n",
      "  - subject: The tale\n",
      "  - sentiment: Positive\n",
      "  - key_phrase: takes its place in the DDL Monologue Hall Of Fame\n",
      "• opinion_statement: 'unexpected broad toilet humour at its best'\n",
      "  - subject: Toilet humour\n",
      "  - sentiment: Positive\n",
      "  - key_phrase: unexpected broad toilet humour at its best\n"
     ]
    },
    {
     "name": "stderr",
     "output_type": "stream",
     "text": [
      "\u001b[94m\u001b[1mLangExtract\u001b[0m: Saving to \u001b[92mresults\\info_extraction_2\\review_extraction_example_1.jsonl\u001b[0m: 1 docs [00:00, 642.41 docs/s]"
     ]
    },
    {
     "name": "stdout",
     "output_type": "stream",
     "text": [
      "\u001b[92m✓\u001b[0m Saved \u001b[1m1\u001b[0m documents to \u001b[92mresults\\info_extraction_2\\review_extraction_example_1.jsonl\u001b[0m\n"
     ]
    },
    {
     "name": "stderr",
     "output_type": "stream",
     "text": [
      "\n",
      "\u001b[94m\u001b[1mLangExtract\u001b[0m: Loading \u001b[92mresults\\info_extraction_2\\review_extraction_example_1.jsonl\u001b[0m: 100%|█████████▉| 10.8k/10.8k [00:00<00:00, 532kB/s]"
     ]
    },
    {
     "name": "stdout",
     "output_type": "stream",
     "text": [
      "\u001b[92m✓\u001b[0m Loaded \u001b[1m1\u001b[0m documents from \u001b[92mresults\\info_extraction_2\\review_extraction_example_1.jsonl\u001b[0m\n",
      "✓ Visualization saved to ./results/info_extraction_2/review_extraction_example_vis_1.html\n"
     ]
    },
    {
     "name": "stderr",
     "output_type": "stream",
     "text": [
      "\n"
     ]
    },
    {
     "data": {
      "text/html": [
       "<style>\n",
       ".lx-highlight { position: relative; border-radius:3px; padding:1px 2px;}\n",
       ".lx-highlight .lx-tooltip {\n",
       "  visibility: hidden;\n",
       "  opacity: 0;\n",
       "  transition: opacity 0.2s ease-in-out;\n",
       "  background: #333;\n",
       "  color: #fff;\n",
       "  text-align: left;\n",
       "  border-radius: 4px;\n",
       "  padding: 6px 8px;\n",
       "  position: absolute;\n",
       "  z-index: 1000;\n",
       "  bottom: 125%;\n",
       "  left: 50%;\n",
       "  transform: translateX(-50%);\n",
       "  font-size: 12px;\n",
       "  max-width: 240px;\n",
       "  white-space: normal;\n",
       "  box-shadow: 0 2px 6px rgba(0,0,0,0.3);\n",
       "}\n",
       ".lx-highlight:hover .lx-tooltip { visibility: visible; opacity:1; }\n",
       ".lx-animated-wrapper { max-width: 100%; font-family: Arial, sans-serif; }\n",
       ".lx-controls {\n",
       "  background: #fafafa; border: 1px solid #90caf9; border-radius: 8px;\n",
       "  padding: 12px; margin-bottom: 16px;\n",
       "}\n",
       ".lx-button-row {\n",
       "  display: flex; justify-content: center; gap: 8px; margin-bottom: 12px;\n",
       "}\n",
       ".lx-control-btn {\n",
       "  background: #4285f4; color: white; border: none; border-radius: 4px;\n",
       "  padding: 8px 16px; cursor: pointer; font-size: 13px; font-weight: 500;\n",
       "  transition: background-color 0.2s;\n",
       "}\n",
       ".lx-control-btn:hover { background: #3367d6; }\n",
       ".lx-progress-container {\n",
       "  margin-bottom: 8px;\n",
       "}\n",
       ".lx-progress-slider {\n",
       "  width: 100%; margin: 0; appearance: none; height: 6px;\n",
       "  background: #ddd; border-radius: 3px; outline: none;\n",
       "}\n",
       ".lx-progress-slider::-webkit-slider-thumb {\n",
       "  appearance: none; width: 18px; height: 18px; background: #4285f4;\n",
       "  border-radius: 50%; cursor: pointer;\n",
       "}\n",
       ".lx-progress-slider::-moz-range-thumb {\n",
       "  width: 18px; height: 18px; background: #4285f4; border-radius: 50%;\n",
       "  cursor: pointer; border: none;\n",
       "}\n",
       ".lx-status-text {\n",
       "  text-align: center; font-size: 12px; color: #666; margin-top: 4px;\n",
       "}\n",
       ".lx-text-window {\n",
       "  font-family: monospace; white-space: pre-wrap; border: 1px solid #90caf9;\n",
       "  padding: 12px; max-height: 260px; overflow-y: auto; margin-bottom: 12px;\n",
       "  line-height: 1.6;\n",
       "}\n",
       ".lx-attributes-panel {\n",
       "  background: #fafafa; border: 1px solid #90caf9; border-radius: 6px;\n",
       "  padding: 8px 10px; margin-top: 8px; font-size: 13px;\n",
       "}\n",
       ".lx-current-highlight {\n",
       "  border-bottom: 4px solid #ff4444;\n",
       "  font-weight: bold;\n",
       "  animation: lx-pulse 1s ease-in-out;\n",
       "}\n",
       "@keyframes lx-pulse {\n",
       "  0% { text-decoration-color: #ff4444; }\n",
       "  50% { text-decoration-color: #ff0000; }\n",
       "  100% { text-decoration-color: #ff4444; }\n",
       "}\n",
       ".lx-legend {\n",
       "  font-size: 12px; margin-bottom: 8px;\n",
       "  padding-bottom: 8px; border-bottom: 1px solid #e0e0e0;\n",
       "}\n",
       ".lx-label {\n",
       "  display: inline-block;\n",
       "  padding: 2px 4px;\n",
       "  border-radius: 3px;\n",
       "  margin-right: 4px;\n",
       "  color: #000;\n",
       "}\n",
       ".lx-attr-key {\n",
       "  font-weight: 600;\n",
       "  color: #1565c0;\n",
       "  letter-spacing: 0.3px;\n",
       "}\n",
       ".lx-attr-value {\n",
       "  font-weight: 400;\n",
       "  opacity: 0.85;\n",
       "  letter-spacing: 0.2px;\n",
       "}\n",
       "\n",
       "/* Add optimizations with larger fonts and better readability for GIFs */\n",
       ".lx-gif-optimized .lx-text-window { font-size: 16px; line-height: 1.8; }\n",
       ".lx-gif-optimized .lx-attributes-panel { font-size: 15px; }\n",
       ".lx-gif-optimized .lx-current-highlight { text-decoration-thickness: 4px; }\n",
       "</style>\n",
       "    <div class=\"lx-animated-wrapper lx-gif-optimized\">\n",
       "      <div class=\"lx-attributes-panel\">\n",
       "        <div class=\"lx-legend\">Highlights Legend: <span class=\"lx-label\" style=\"background-color:#D2E3FC;\">opinion_statement</span></div>\n",
       "        <div id=\"attributesContainer\"></div>\n",
       "      </div>\n",
       "      <div class=\"lx-text-window\" id=\"textWindow\">\n",
       "        **Page 1**\n",
       "&quot;&quot;&quot;\n",
       "Anemone Review \n",
       "For the horticulturally challenged, the anemone is a delicate plant that closes its petals as a storm \n",
       "approaches. For a story about withdrawing from the world and becoming emotionally bottled up, \n",
       "<span class=\"lx-highlight lx-current-highlight\" data-idx=\"0\" style=\"background-color:#D2E3FC;\">the flower-as-metaphor title is perhaps the most on-the-nose thing</span> about Ronan Day-Lewis’ \n",
       "feature debut. Anemone is co-written with and starring his father Daniel in his first on-screen \n",
       "appearance since 2017’s Phantom Thread. It is <span class=\"lx-highlight\" data-idx=\"1\" style=\"background-color:#D2E3FC;\">sad, absurdist, brooding, tender and intense</span>. What \n",
       "were you expecting? Broad toilet humour? \n",
       "The dark heart of the matter is the fractured relationship between soldier siblings Ray (Daniel \n",
       "Day-Lewis) and Jem Stoker (Sean Bean). Twenty years after tours of duty during the Troubles, \n",
       "Ray survives off the grid in a forest (where Ocado definitely won’t deliver), living a life made up \n",
       "of solitude, the Shipping Forecast and tinkering with electronics. In his absence, the better-\n",
       "adjusted, religious Jem has become a husband to Ray’s ex Nessa (<span class=\"lx-highlight\" data-idx=\"2\" style=\"background-color:#D2E3FC;\">the ever-excellent Samantha \n",
       "Morton</span>) and father to Ray’s twentysomething son Brian (Samuel Bottomley). \n",
       "As they come together, the screenplay has the confidence to play early encounters without \n",
       "dialogue, perceptively revealing the strange, often silent bonds between brothers. Gradually and \n",
       "convincingly, the pair begin to connect. <span class=\"lx-highlight\" data-idx=\"3\" style=\"background-color:#D2E3FC;\">Bean is subtle and superb</span> as the quieter Jem, coaxing his \n",
       "sibling to open up, the story exploring the impact of fathers on sons, the limitations of faith, and \n",
       "how violence only begets violence. \n",
       "If it sounds talk-y and stage-bound, director Day-Lewis eschews kitchen-sink mundanity. While \n",
       "<span class=\"lx-highlight\" data-idx=\"4\" style=\"background-color:#D2E3FC;\">he may OD on drone shots that make tree tops look like broccoli</span>, <span class=\"lx-highlight\" data-idx=\"5\" style=\"background-color:#D2E3FC;\">he’s definitely one to watch</span>. \n",
       "There is <span class=\"lx-highlight\" data-idx=\"6\" style=\"background-color:#D2E3FC;\">visual poetry</span> at play, be it in an <span class=\"lx-highlight\" data-idx=\"7\" style=\"background-color:#D2E3FC;\">evocative use of slow motion</span> (dancing, fighting, \n",
       "surprisingly similar), <span class=\"lx-highlight\" data-idx=\"8\" style=\"background-color:#D2E3FC;\">striking imagery</span> (<span class=\"lx-highlight\" data-idx=\"9\" style=\"background-color:#D2E3FC;\">a stunning tracking shot through a countryside \n",
       "fairground</span>) and <span class=\"lx-highlight\" data-idx=\"10\" style=\"background-color:#D2E3FC;\">a strand of Lynchian bonkersness</span> that encompasses a <span class=\"lx-highlight\" data-idx=\"11\" style=\"background-color:#D2E3FC;\">freak hailstorm</span>, <span class=\"lx-highlight\" data-idx=\"12\" style=\"background-color:#D2E3FC;\">a giant fish</span> \n",
       "and, weirdest of all, <span class=\"lx-highlight\" data-idx=\"13\" style=\"background-color:#D2E3FC;\">a ghostly camel-like creature with a tiny dick</span>. Mike Leigh, this is not. \n",
       "When the story cuts back and forth to the worried Nessa and troubled Brian, it <span class=\"lx-highlight\" data-idx=\"14\" style=\"background-color:#D2E3FC;\">feels a bit like \n",
       "treading water</span> until a fantastic dinner-table confrontation. But, unsurprisingly, the film is at its \n",
       "<span class=\"lx-highlight\" data-idx=\"15\" style=\"background-color:#D2E3FC;\">most compelling</span> when observing Ray. With tightly cropped grey hair, tats and a Bill The \n",
       "Butcher-esque ’tache, Day-Lewis is by turns <span class=\"lx-highlight\" data-idx=\"16\" style=\"background-color:#D2E3FC;\">big and boisterous</span> (marvel at him riffing on God’s \n",
       "underpants, His testicles “swinging like church bells”), then <span class=\"lx-highlight\" data-idx=\"17\" style=\"background-color:#D2E3FC;\">small and shameful</span>. Early on, he \n",
       "spins <span class=\"lx-highlight\" data-idx=\"18\" style=\"background-color:#D2E3FC;\">a stunning extended scatological tale</span> that involves a priest and a Guinness-curry-laxative \n",
       "combo that is <span class=\"lx-highlight\" data-idx=\"19\" style=\"background-color:#D2E3FC;\">simultaneously funny and horrifying</span>. It instantly <span class=\"lx-highlight\" data-idx=\"20\" style=\"background-color:#D2E3FC;\">takes its place in the DDL \n",
       "Monologue Hall Of Fame</span>: some of that <span class=\"lx-highlight\" data-idx=\"21\" style=\"background-color:#D2E3FC;\">unexpected broad toilet humour at its best</span>. Welcome \n",
       "back, sir.\n",
       "&quot;&quot;&quot;\n",
       "\n",
       "\n",
       "      </div>\n",
       "      <div class=\"lx-controls\">\n",
       "        <div class=\"lx-button-row\">\n",
       "          <button class=\"lx-control-btn\" onclick=\"playPause()\">▶️ Play</button>\n",
       "          <button class=\"lx-control-btn\" onclick=\"prevExtraction()\">⏮ Previous</button>\n",
       "          <button class=\"lx-control-btn\" onclick=\"nextExtraction()\">⏭ Next</button>\n",
       "        </div>\n",
       "        <div class=\"lx-progress-container\">\n",
       "          <input type=\"range\" id=\"progressSlider\" class=\"lx-progress-slider\"\n",
       "                 min=\"0\" max=\"21\" value=\"0\"\n",
       "                 onchange=\"jumpToExtraction(this.value)\">\n",
       "        </div>\n",
       "        <div class=\"lx-status-text\">\n",
       "          Entity <span id=\"entityInfo\">1/22</span> |\n",
       "          Pos <span id=\"posInfo\">[229-295]</span>\n",
       "        </div>\n",
       "      </div>\n",
       "    </div>\n",
       "\n",
       "    <script>\n",
       "      (function() {\n",
       "        const extractions = [{\"index\": 0, \"class\": \"opinion_statement\", \"text\": \"the flower-as-metaphor title is perhaps the most on-the-nose thing\", \"color\": \"#D2E3FC\", \"startPos\": 229, \"endPos\": 295, \"beforeText\": \"is a delicate plant that closes its petals as a storm \\napproaches. For a story about withdrawing from the world and becoming emotionally bottled up, \\n\", \"extractionText\": \"the flower-as-metaphor title is perhaps the most on-the-nose thing\", \"afterText\": \" about Ronan Day-Lewis\\u2019 \\nfeature debut. Anemone is co-written with and starring his father Daniel in his first on-screen \\nappearance since 2017\\u2019s Phan\", \"attributesHtml\": \"<div><strong>class:</strong> opinion_statement</div><div><strong>attributes:</strong> {<span class=\\\"lx-attr-key\\\">subject</span>: <span class=\\\"lx-attr-value\\\">The title</span>, <span class=\\\"lx-attr-key\\\">sentiment</span>: <span class=\\\"lx-attr-value\\\">Negative</span>, <span class=\\\"lx-attr-key\\\">key_phrase</span>: <span class=\\\"lx-attr-value\\\">most on-the-nose</span>}</div>\"}, {\"index\": 1, \"class\": \"opinion_statement\", \"text\": \"sad, absurdist, brooding, tender and intense\", \"color\": \"#D2E3FC\", \"startPos\": 463, \"endPos\": 507, \"beforeText\": \"ewis\\u2019 \\nfeature debut. Anemone is co-written with and starring his father Daniel in his first on-screen \\nappearance since 2017\\u2019s Phantom Thread. It is \", \"extractionText\": \"sad, absurdist, brooding, tender and intense\", \"afterText\": \". What \\nwere you expecting? Broad toilet humour? \\nThe dark heart of the matter is the fractured relationship between soldier siblings Ray (Daniel \\nDay\", \"attributesHtml\": \"<div><strong>class:</strong> opinion_statement</div><div><strong>attributes:</strong> {<span class=\\\"lx-attr-key\\\">subject</span>: <span class=\\\"lx-attr-value\\\">Anemone</span>, <span class=\\\"lx-attr-key\\\">sentiment</span>: <span class=\\\"lx-attr-value\\\">Neutral</span>, <span class=\\\"lx-attr-key\\\">key_phrase</span>: <span class=\\\"lx-attr-value\\\">sad, absurdist, brooding, tender and intense</span>}</div>\"}, {\"index\": 2, \"class\": \"opinion_statement\", \"text\": \"the ever-excellent Samantha Morton\", \"color\": \"#D2E3FC\", \"startPos\": 1008, \"endPos\": 1043, \"beforeText\": \"de, the Shipping Forecast and tinkering with electronics. In his absence, the better-\\nadjusted, religious Jem has become a husband to Ray\\u2019s ex Nessa (\", \"extractionText\": \"the ever-excellent Samantha \\nMorton\", \"afterText\": \") and father to Ray\\u2019s twentysomething son Brian (Samuel Bottomley). \\nAs they come together, the screenplay has the confidence to play early encounters\", \"attributesHtml\": \"<div><strong>class:</strong> opinion_statement</div><div><strong>attributes:</strong> {<span class=\\\"lx-attr-key\\\">subject</span>: <span class=\\\"lx-attr-value\\\">Samantha Morton</span>, <span class=\\\"lx-attr-key\\\">sentiment</span>: <span class=\\\"lx-attr-value\\\">Positive</span>, <span class=\\\"lx-attr-key\\\">key_phrase</span>: <span class=\\\"lx-attr-value\\\">ever-excellent</span>}</div>\"}, {\"index\": 3, \"class\": \"opinion_statement\", \"text\": \"Bean is subtle and superb\", \"color\": \"#D2E3FC\", \"startPos\": 1342, \"endPos\": 1367, \"beforeText\": \"s without \\ndialogue, perceptively revealing the strange, often silent bonds between brothers. Gradually and \\nconvincingly, the pair begin to connect. \", \"extractionText\": \"Bean is subtle and superb\", \"afterText\": \" as the quieter Jem, coaxing his \\nsibling to open up, the story exploring the impact of fathers on sons, the limitations of faith, and \\nhow violence o\", \"attributesHtml\": \"<div><strong>class:</strong> opinion_statement</div><div><strong>attributes:</strong> {<span class=\\\"lx-attr-key\\\">subject</span>: <span class=\\\"lx-attr-value\\\">Bean</span>, <span class=\\\"lx-attr-key\\\">sentiment</span>: <span class=\\\"lx-attr-value\\\">Positive</span>, <span class=\\\"lx-attr-key\\\">key_phrase</span>: <span class=\\\"lx-attr-value\\\">subtle and superb</span>}</div>\"}, {\"index\": 4, \"class\": \"opinion_statement\", \"text\": \"he may OD on drone shots that make tree tops look like broccoli\", \"color\": \"#D2E3FC\", \"startPos\": 1634, \"endPos\": 1697, \"beforeText\": \"ons of faith, and \\nhow violence only begets violence. \\nIf it sounds talk-y and stage-bound, director Day-Lewis eschews kitchen-sink mundanity. While \\n\", \"extractionText\": \"he may OD on drone shots that make tree tops look like broccoli\", \"afterText\": \", he\\u2019s definitely one to watch. \\nThere is visual poetry at play, be it in an evocative use of slow motion (dancing, fighting, \\nsurprisingly similar), \", \"attributesHtml\": \"<div><strong>class:</strong> opinion_statement</div><div><strong>attributes:</strong> {<span class=\\\"lx-attr-key\\\">subject</span>: <span class=\\\"lx-attr-value\\\">Drone shots</span>, <span class=\\\"lx-attr-key\\\">sentiment</span>: <span class=\\\"lx-attr-value\\\">Negative</span>, <span class=\\\"lx-attr-key\\\">key_phrase</span>: <span class=\\\"lx-attr-value\\\">OD on drone shots</span>}</div>\"}, {\"index\": 5, \"class\": \"opinion_statement\", \"text\": \"he\\u2019s definitely one to watch\", \"color\": \"#D2E3FC\", \"startPos\": 1699, \"endPos\": 1727, \"beforeText\": \"ds talk-y and stage-bound, director Day-Lewis eschews kitchen-sink mundanity. While \\nhe may OD on drone shots that make tree tops look like broccoli, \", \"extractionText\": \"he\\u2019s definitely one to watch\", \"afterText\": \". \\nThere is visual poetry at play, be it in an evocative use of slow motion (dancing, fighting, \\nsurprisingly similar), striking imagery (a stunning t\", \"attributesHtml\": \"<div><strong>class:</strong> opinion_statement</div><div><strong>attributes:</strong> {<span class=\\\"lx-attr-key\\\">subject</span>: <span class=\\\"lx-attr-value\\\">director Day-Lewis</span>, <span class=\\\"lx-attr-key\\\">sentiment</span>: <span class=\\\"lx-attr-value\\\">Positive</span>, <span class=\\\"lx-attr-key\\\">key_phrase</span>: <span class=\\\"lx-attr-value\\\">one to watch</span>}</div>\"}, {\"index\": 6, \"class\": \"opinion_statement\", \"text\": \"visual poetry\", \"color\": \"#D2E3FC\", \"startPos\": 1739, \"endPos\": 1752, \"beforeText\": \"Lewis eschews kitchen-sink mundanity. While \\nhe may OD on drone shots that make tree tops look like broccoli, he\\u2019s definitely one to watch. \\nThere is \", \"extractionText\": \"visual poetry\", \"afterText\": \" at play, be it in an evocative use of slow motion (dancing, fighting, \\nsurprisingly similar), striking imagery (a stunning tracking shot through a co\", \"attributesHtml\": \"<div><strong>class:</strong> opinion_statement</div><div><strong>attributes:</strong> {<span class=\\\"lx-attr-key\\\">subject</span>: <span class=\\\"lx-attr-value\\\">The film</span>, <span class=\\\"lx-attr-key\\\">sentiment</span>: <span class=\\\"lx-attr-value\\\">Positive</span>, <span class=\\\"lx-attr-key\\\">key_phrase</span>: <span class=\\\"lx-attr-value\\\">visual poetry</span>}</div>\"}, {\"index\": 7, \"class\": \"opinion_statement\", \"text\": \"evocative use of slow motion\", \"color\": \"#D2E3FC\", \"startPos\": 1774, \"endPos\": 1802, \"beforeText\": \"y. While \\nhe may OD on drone shots that make tree tops look like broccoli, he\\u2019s definitely one to watch. \\nThere is visual poetry at play, be it in an \", \"extractionText\": \"evocative use of slow motion\", \"afterText\": \" (dancing, fighting, \\nsurprisingly similar), striking imagery (a stunning tracking shot through a countryside \\nfairground) and a strand of Lynchian bo\", \"attributesHtml\": \"<div><strong>class:</strong> opinion_statement</div><div><strong>attributes:</strong> {<span class=\\\"lx-attr-key\\\">subject</span>: <span class=\\\"lx-attr-value\\\">Slow motion</span>, <span class=\\\"lx-attr-key\\\">sentiment</span>: <span class=\\\"lx-attr-value\\\">Positive</span>, <span class=\\\"lx-attr-key\\\">key_phrase</span>: <span class=\\\"lx-attr-value\\\">evocative use</span>}</div>\"}, {\"index\": 8, \"class\": \"opinion_statement\", \"text\": \"striking imagery\", \"color\": \"#D2E3FC\", \"startPos\": 1847, \"endPos\": 1863, \"beforeText\": \", he\\u2019s definitely one to watch. \\nThere is visual poetry at play, be it in an evocative use of slow motion (dancing, fighting, \\nsurprisingly similar), \", \"extractionText\": \"striking imagery\", \"afterText\": \" (a stunning tracking shot through a countryside \\nfairground) and a strand of Lynchian bonkersness that encompasses a freak hailstorm, a giant fish \\na\", \"attributesHtml\": \"<div><strong>class:</strong> opinion_statement</div><div><strong>attributes:</strong> {<span class=\\\"lx-attr-key\\\">subject</span>: <span class=\\\"lx-attr-value\\\">Imagery</span>, <span class=\\\"lx-attr-key\\\">sentiment</span>: <span class=\\\"lx-attr-value\\\">Positive</span>, <span class=\\\"lx-attr-key\\\">key_phrase</span>: <span class=\\\"lx-attr-value\\\">striking</span>}</div>\"}, {\"index\": 9, \"class\": \"opinion_statement\", \"text\": \"a stunning tracking shot through a countryside fairground\", \"color\": \"#D2E3FC\", \"startPos\": 1865, \"endPos\": 1923, \"beforeText\": \"one to watch. \\nThere is visual poetry at play, be it in an evocative use of slow motion (dancing, fighting, \\nsurprisingly similar), striking imagery (\", \"extractionText\": \"a stunning tracking shot through a countryside \\nfairground\", \"afterText\": \") and a strand of Lynchian bonkersness that encompasses a freak hailstorm, a giant fish \\nand, weirdest of all, a ghostly camel-like creature with a ti\", \"attributesHtml\": \"<div><strong>class:</strong> opinion_statement</div><div><strong>attributes:</strong> {<span class=\\\"lx-attr-key\\\">subject</span>: <span class=\\\"lx-attr-value\\\">A tracking shot</span>, <span class=\\\"lx-attr-key\\\">sentiment</span>: <span class=\\\"lx-attr-value\\\">Positive</span>, <span class=\\\"lx-attr-key\\\">key_phrase</span>: <span class=\\\"lx-attr-value\\\">stunning</span>}</div>\"}, {\"index\": 10, \"class\": \"opinion_statement\", \"text\": \"a strand of Lynchian bonkersness\", \"color\": \"#D2E3FC\", \"startPos\": 1929, \"endPos\": 1961, \"beforeText\": \"tive use of slow motion (dancing, fighting, \\nsurprisingly similar), striking imagery (a stunning tracking shot through a countryside \\nfairground) and \", \"extractionText\": \"a strand of Lynchian bonkersness\", \"afterText\": \" that encompasses a freak hailstorm, a giant fish \\nand, weirdest of all, a ghostly camel-like creature with a tiny dick. Mike Leigh, this is not. \\nWhe\", \"attributesHtml\": \"<div><strong>class:</strong> opinion_statement</div><div><strong>attributes:</strong> {<span class=\\\"lx-attr-key\\\">subject</span>: <span class=\\\"lx-attr-value\\\">The film</span>, <span class=\\\"lx-attr-key\\\">sentiment</span>: <span class=\\\"lx-attr-value\\\">Positive</span>, <span class=\\\"lx-attr-key\\\">key_phrase</span>: <span class=\\\"lx-attr-value\\\">Lynchian bonkersness</span>}</div>\"}, {\"index\": 11, \"class\": \"opinion_statement\", \"text\": \"freak hailstorm\", \"color\": \"#D2E3FC\", \"startPos\": 1981, \"endPos\": 1996, \"beforeText\": \"ingly similar), striking imagery (a stunning tracking shot through a countryside \\nfairground) and a strand of Lynchian bonkersness that encompasses a \", \"extractionText\": \"freak hailstorm\", \"afterText\": \", a giant fish \\nand, weirdest of all, a ghostly camel-like creature with a tiny dick. Mike Leigh, this is not. \\nWhen the story cuts back and forth to \", \"attributesHtml\": \"<div><strong>class:</strong> opinion_statement</div><div><strong>attributes:</strong> {<span class=\\\"lx-attr-key\\\">subject</span>: <span class=\\\"lx-attr-value\\\">Hailstorm</span>, <span class=\\\"lx-attr-key\\\">sentiment</span>: <span class=\\\"lx-attr-value\\\">Negative</span>, <span class=\\\"lx-attr-key\\\">key_phrase</span>: <span class=\\\"lx-attr-value\\\">freak</span>}</div>\"}, {\"index\": 12, \"class\": \"opinion_statement\", \"text\": \"a giant fish\", \"color\": \"#D2E3FC\", \"startPos\": 1998, \"endPos\": 2010, \"beforeText\": \"triking imagery (a stunning tracking shot through a countryside \\nfairground) and a strand of Lynchian bonkersness that encompasses a freak hailstorm, \", \"extractionText\": \"a giant fish\", \"afterText\": \" \\nand, weirdest of all, a ghostly camel-like creature with a tiny dick. Mike Leigh, this is not. \\nWhen the story cuts back and forth to the worried Ne\", \"attributesHtml\": \"<div><strong>class:</strong> opinion_statement</div><div><strong>attributes:</strong> {<span class=\\\"lx-attr-key\\\">subject</span>: <span class=\\\"lx-attr-value\\\">Fish</span>, <span class=\\\"lx-attr-key\\\">sentiment</span>: <span class=\\\"lx-attr-value\\\">Negative</span>, <span class=\\\"lx-attr-key\\\">key_phrase</span>: <span class=\\\"lx-attr-value\\\">giant</span>}</div>\"}, {\"index\": 13, \"class\": \"opinion_statement\", \"text\": \"a ghostly camel-like creature with a tiny dick\", \"color\": \"#D2E3FC\", \"startPos\": 2034, \"endPos\": 2080, \"beforeText\": \" shot through a countryside \\nfairground) and a strand of Lynchian bonkersness that encompasses a freak hailstorm, a giant fish \\nand, weirdest of all, \", \"extractionText\": \"a ghostly camel-like creature with a tiny dick\", \"afterText\": \". Mike Leigh, this is not. \\nWhen the story cuts back and forth to the worried Nessa and troubled Brian, it feels a bit like \\ntreading water until a fa\", \"attributesHtml\": \"<div><strong>class:</strong> opinion_statement</div><div><strong>attributes:</strong> {<span class=\\\"lx-attr-key\\\">subject</span>: <span class=\\\"lx-attr-value\\\">Creature</span>, <span class=\\\"lx-attr-key\\\">sentiment</span>: <span class=\\\"lx-attr-value\\\">Negative</span>, <span class=\\\"lx-attr-key\\\">key_phrase</span>: <span class=\\\"lx-attr-value\\\">ghostly camel-like with a tiny dick</span>}</div>\"}, {\"index\": 14, \"class\": \"opinion_statement\", \"text\": \"feels a bit like treading water\", \"color\": \"#D2E3FC\", \"startPos\": 2187, \"endPos\": 2219, \"beforeText\": \"hostly camel-like creature with a tiny dick. Mike Leigh, this is not. \\nWhen the story cuts back and forth to the worried Nessa and troubled Brian, it \", \"extractionText\": \"feels a bit like \\ntreading water\", \"afterText\": \" until a fantastic dinner-table confrontation. But, unsurprisingly, the film is at its \\nmost compelling when observing Ray. With tightly cropped grey \", \"attributesHtml\": \"<div><strong>class:</strong> opinion_statement</div><div><strong>attributes:</strong> {<span class=\\\"lx-attr-key\\\">subject</span>: <span class=\\\"lx-attr-value\\\">The story</span>, <span class=\\\"lx-attr-key\\\">sentiment</span>: <span class=\\\"lx-attr-value\\\">Negative</span>, <span class=\\\"lx-attr-key\\\">key_phrase</span>: <span class=\\\"lx-attr-value\\\">treading water</span>}</div>\"}, {\"index\": 15, \"class\": \"opinion_statement\", \"text\": \"most compelling\", \"color\": \"#D2E3FC\", \"startPos\": 2307, \"endPos\": 2322, \"beforeText\": \" Nessa and troubled Brian, it feels a bit like \\ntreading water until a fantastic dinner-table confrontation. But, unsurprisingly, the film is at its \\n\", \"extractionText\": \"most compelling\", \"afterText\": \" when observing Ray. With tightly cropped grey hair, tats and a Bill The \\nButcher-esque \\u2019tache, Day-Lewis is by turns big and boisterous (marvel at hi\", \"attributesHtml\": \"<div><strong>class:</strong> opinion_statement</div><div><strong>attributes:</strong> {<span class=\\\"lx-attr-key\\\">subject</span>: <span class=\\\"lx-attr-value\\\">The film</span>, <span class=\\\"lx-attr-key\\\">sentiment</span>: <span class=\\\"lx-attr-value\\\">Positive</span>, <span class=\\\"lx-attr-key\\\">key_phrase</span>: <span class=\\\"lx-attr-value\\\">most compelling</span>}</div>\"}, {\"index\": 16, \"class\": \"opinion_statement\", \"text\": \"big and boisterous\", \"color\": \"#D2E3FC\", \"startPos\": 2440, \"endPos\": 2458, \"beforeText\": \" film is at its \\nmost compelling when observing Ray. With tightly cropped grey hair, tats and a Bill The \\nButcher-esque \\u2019tache, Day-Lewis is by turns \", \"extractionText\": \"big and boisterous\", \"afterText\": \" (marvel at him riffing on God\\u2019s \\nunderpants, His testicles \\u201cswinging like church bells\\u201d), then small and shameful. Early on, he \\nspins a stunning ext\", \"attributesHtml\": \"<div><strong>class:</strong> opinion_statement</div><div><strong>attributes:</strong> {<span class=\\\"lx-attr-key\\\">subject</span>: <span class=\\\"lx-attr-value\\\">Day-Lewis</span>, <span class=\\\"lx-attr-key\\\">sentiment</span>: <span class=\\\"lx-attr-value\\\">Positive</span>, <span class=\\\"lx-attr-key\\\">key_phrase</span>: <span class=\\\"lx-attr-value\\\">big and boisterous</span>}</div>\"}, {\"index\": 17, \"class\": \"opinion_statement\", \"text\": \"small and shameful\", \"color\": \"#D2E3FC\", \"startPos\": 2554, \"endPos\": 2572, \"beforeText\": \"esque \\u2019tache, Day-Lewis is by turns big and boisterous (marvel at him riffing on God\\u2019s \\nunderpants, His testicles \\u201cswinging like church bells\\u201d), then \", \"extractionText\": \"small and shameful\", \"afterText\": \". Early on, he \\nspins a stunning extended scatological tale that involves a priest and a Guinness-curry-laxative \\ncombo that is simultaneously funny a\", \"attributesHtml\": \"<div><strong>class:</strong> opinion_statement</div><div><strong>attributes:</strong> {<span class=\\\"lx-attr-key\\\">subject</span>: <span class=\\\"lx-attr-value\\\">Day-Lewis</span>, <span class=\\\"lx-attr-key\\\">sentiment</span>: <span class=\\\"lx-attr-value\\\">Negative</span>, <span class=\\\"lx-attr-key\\\">key_phrase</span>: <span class=\\\"lx-attr-value\\\">small and shameful</span>}</div>\"}, {\"index\": 18, \"class\": \"opinion_statement\", \"text\": \"a stunning extended scatological tale\", \"color\": \"#D2E3FC\", \"startPos\": 2594, \"endPos\": 2631, \"beforeText\": \"and boisterous (marvel at him riffing on God\\u2019s \\nunderpants, His testicles \\u201cswinging like church bells\\u201d), then small and shameful. Early on, he \\nspins \", \"extractionText\": \"a stunning extended scatological tale\", \"afterText\": \" that involves a priest and a Guinness-curry-laxative \\ncombo that is simultaneously funny and horrifying. It instantly takes its place in the DDL \\nMon\", \"attributesHtml\": \"<div><strong>class:</strong> opinion_statement</div><div><strong>attributes:</strong> {<span class=\\\"lx-attr-key\\\">subject</span>: <span class=\\\"lx-attr-value\\\">A tale</span>, <span class=\\\"lx-attr-key\\\">sentiment</span>: <span class=\\\"lx-attr-value\\\">Positive</span>, <span class=\\\"lx-attr-key\\\">key_phrase</span>: <span class=\\\"lx-attr-value\\\">stunning extended scatological</span>}</div>\"}, {\"index\": 19, \"class\": \"opinion_statement\", \"text\": \"simultaneously funny and horrifying\", \"color\": \"#D2E3FC\", \"startPos\": 2700, \"endPos\": 2735, \"beforeText\": \"hen small and shameful. Early on, he \\nspins a stunning extended scatological tale that involves a priest and a Guinness-curry-laxative \\ncombo that is \", \"extractionText\": \"simultaneously funny and horrifying\", \"afterText\": \". It instantly takes its place in the DDL \\nMonologue Hall Of Fame: some of that unexpected broad toilet humour at its best. Welcome \\nback, sir.\\n&quot;&quot;&quot;\\n\\n\", \"attributesHtml\": \"<div><strong>class:</strong> opinion_statement</div><div><strong>attributes:</strong> {<span class=\\\"lx-attr-key\\\">subject</span>: <span class=\\\"lx-attr-value\\\">The tale</span>, <span class=\\\"lx-attr-key\\\">sentiment</span>: <span class=\\\"lx-attr-value\\\">Positive</span>, <span class=\\\"lx-attr-key\\\">key_phrase</span>: <span class=\\\"lx-attr-value\\\">funny and horrifying</span>}</div>\"}, {\"index\": 20, \"class\": \"opinion_statement\", \"text\": \"takes its place in the DDL Monologue Hall Of Fame\", \"color\": \"#D2E3FC\", \"startPos\": 2750, \"endPos\": 2800, \"beforeText\": \"ning extended scatological tale that involves a priest and a Guinness-curry-laxative \\ncombo that is simultaneously funny and horrifying. It instantly \", \"extractionText\": \"takes its place in the DDL \\nMonologue Hall Of Fame\", \"afterText\": \": some of that unexpected broad toilet humour at its best. Welcome \\nback, sir.\\n&quot;&quot;&quot;\\n\\n\", \"attributesHtml\": \"<div><strong>class:</strong> opinion_statement</div><div><strong>attributes:</strong> {<span class=\\\"lx-attr-key\\\">subject</span>: <span class=\\\"lx-attr-value\\\">The tale</span>, <span class=\\\"lx-attr-key\\\">sentiment</span>: <span class=\\\"lx-attr-value\\\">Positive</span>, <span class=\\\"lx-attr-key\\\">key_phrase</span>: <span class=\\\"lx-attr-value\\\">takes its place in the DDL Monologue Hall Of Fame</span>}</div>\"}, {\"index\": 21, \"class\": \"opinion_statement\", \"text\": \"unexpected broad toilet humour at its best\", \"color\": \"#D2E3FC\", \"startPos\": 2815, \"endPos\": 2857, \"beforeText\": \"ness-curry-laxative \\ncombo that is simultaneously funny and horrifying. It instantly takes its place in the DDL \\nMonologue Hall Of Fame: some of that \", \"extractionText\": \"unexpected broad toilet humour at its best\", \"afterText\": \". Welcome \\nback, sir.\\n&quot;&quot;&quot;\\n\\n\", \"attributesHtml\": \"<div><strong>class:</strong> opinion_statement</div><div><strong>attributes:</strong> {<span class=\\\"lx-attr-key\\\">subject</span>: <span class=\\\"lx-attr-value\\\">Toilet humour</span>, <span class=\\\"lx-attr-key\\\">sentiment</span>: <span class=\\\"lx-attr-value\\\">Positive</span>, <span class=\\\"lx-attr-key\\\">key_phrase</span>: <span class=\\\"lx-attr-value\\\">unexpected broad toilet humour at its best</span>}</div>\"}];\n",
       "        let currentIndex = 0;\n",
       "        let isPlaying = false;\n",
       "        let animationInterval = null;\n",
       "        let animationSpeed = 1.0;\n",
       "\n",
       "        function updateDisplay() {\n",
       "          const extraction = extractions[currentIndex];\n",
       "          if (!extraction) return;\n",
       "\n",
       "          document.getElementById('attributesContainer').innerHTML = extraction.attributesHtml;\n",
       "          document.getElementById('entityInfo').textContent = (currentIndex + 1) + '/' + extractions.length;\n",
       "          document.getElementById('posInfo').textContent = '[' + extraction.startPos + '-' + extraction.endPos + ']';\n",
       "          document.getElementById('progressSlider').value = currentIndex;\n",
       "\n",
       "          const playBtn = document.querySelector('.lx-control-btn');\n",
       "          if (playBtn) playBtn.textContent = isPlaying ? '⏸ Pause' : '▶️ Play';\n",
       "\n",
       "          const prevHighlight = document.querySelector('.lx-text-window .lx-current-highlight');\n",
       "          if (prevHighlight) prevHighlight.classList.remove('lx-current-highlight');\n",
       "          const currentSpan = document.querySelector('.lx-text-window span[data-idx=\"' + currentIndex + '\"]');\n",
       "          if (currentSpan) {\n",
       "            currentSpan.classList.add('lx-current-highlight');\n",
       "            currentSpan.scrollIntoView({block: 'center', behavior: 'smooth'});\n",
       "          }\n",
       "        }\n",
       "\n",
       "        function nextExtraction() {\n",
       "          currentIndex = (currentIndex + 1) % extractions.length;\n",
       "          updateDisplay();\n",
       "        }\n",
       "\n",
       "        function prevExtraction() {\n",
       "          currentIndex = (currentIndex - 1 + extractions.length) % extractions.length;\n",
       "          updateDisplay();\n",
       "        }\n",
       "\n",
       "        function jumpToExtraction(index) {\n",
       "          currentIndex = parseInt(index);\n",
       "          updateDisplay();\n",
       "        }\n",
       "\n",
       "        function playPause() {\n",
       "          if (isPlaying) {\n",
       "            clearInterval(animationInterval);\n",
       "            isPlaying = false;\n",
       "          } else {\n",
       "            animationInterval = setInterval(nextExtraction, animationSpeed * 1000);\n",
       "            isPlaying = true;\n",
       "          }\n",
       "          updateDisplay();\n",
       "        }\n",
       "\n",
       "        window.playPause = playPause;\n",
       "        window.nextExtraction = nextExtraction;\n",
       "        window.prevExtraction = prevExtraction;\n",
       "        window.jumpToExtraction = jumpToExtraction;\n",
       "\n",
       "        updateDisplay();\n",
       "      })();\n",
       "    </script>"
      ],
      "text/plain": [
       "<IPython.core.display.HTML object>"
      ]
     },
     "execution_count": 33,
     "metadata": {},
     "output_type": "execute_result"
    }
   ],
   "source": [
    "html_content = grounded_info_extraction(formatted_text, prompt, examples, \"review_extraction_example\")\n",
    "html_content"
   ]
  },
  {
   "cell_type": "code",
   "execution_count": 34,
   "metadata": {},
   "outputs": [
    {
     "data": {
      "text/plain": [
       "'\\nThe quality of the information extracted by the current langextract setup is expected to be high in precision but potentially lacking in recall. This means that the entities it does find are likely to be correct and well-structured, but it may fail to identify all possible entities within the document.\\n1. Strengths (High Precision)\\nThe configuration has two major strengths that contribute to high-quality, accurate extractions:\\n- Clear, Constrained Prompt: The prompt is very specific, instructing the model to use exact text verbatim and defining a clear purpose for each class (opinion_statement vs. audience_impact) and attribute. This significantly reduces the chances of the model hallucinating or paraphrasing, ensuring the results are grounded in the source text.\\n- High-Quality Examples: The provided few-shot examples are excellent. They clearly demonstrate how to differentiate between the two classes and how to populate the attributes correctly. This is the most critical factor in guiding the model to produce accurate and consistently formatted output.\\n\\n2. Weaknesses (Potentially Low Recall)\\nThe current setup has potential weaknesses that could cause it to miss relevant information:\\n- Single Extraction Pass: The function is set to extraction_passes = 1. The model only gets one opportunity to analyze each text chunk, which means it might miss more subtle opinions or impacts that are not stated as obviously as the examples provided.\\n- Context Fragmentation: Using a max_char_buffer of 2000 characters means the document is split into chunks. If a key sentence starts at the end of one chunk and finishes in the next, the model will only see a fragment and will likely fail to extract the complete thought.\\n'"
      ]
     },
     "execution_count": 34,
     "metadata": {},
     "output_type": "execute_result"
    }
   ],
   "source": [
    "'''\n",
    "The quality of the information extracted by the current langextract setup is expected to be high in precision but potentially lacking in recall. This means that the entities it does find are likely to be correct and well-structured, but it may fail to identify all possible entities within the document.\n",
    "1. Strengths (High Precision)\n",
    "The configuration has two major strengths that contribute to high-quality, accurate extractions:\n",
    "- Clear, Constrained Prompt: The prompt is very specific, instructing the model to use exact text verbatim and defining a clear purpose for each class (opinion_statement vs. audience_impact) and attribute. This significantly reduces the chances of the model hallucinating or paraphrasing, ensuring the results are grounded in the source text.\n",
    "- High-Quality Examples: The provided few-shot examples are excellent. They clearly demonstrate how to differentiate between the two classes and how to populate the attributes correctly. This is the most critical factor in guiding the model to produce accurate and consistently formatted output.\n",
    "\n",
    "2. Weaknesses (Potentially Low Recall)\n",
    "The current setup has potential weaknesses that could cause it to miss relevant information:\n",
    "- Single Extraction Pass: The function is set to extraction_passes = 1. The model only gets one opportunity to analyze each text chunk, which means it might miss more subtle opinions or impacts that are not stated as obviously as the examples provided.\n",
    "- Context Fragmentation: Using a max_char_buffer of 2000 characters means the document is split into chunks. If a key sentence starts at the end of one chunk and finishes in the next, the model will only see a fragment and will likely fail to extract the complete thought.\n",
    "'''"
   ]
  },
  {
   "cell_type": "code",
   "execution_count": 35,
   "metadata": {},
   "outputs": [
    {
     "data": {
      "text/plain": [
       "'\\nHow the Extraction Could Be Improved\\n1. Increase Recall with Multiple Passes\\nSetting extraction_passes to a value greater than 1 (e.g., 2 or 3) makes the model re-run the extraction on the same text. By also setting a temperature greater than 0, the model\\'s output will vary slightly on each pass, often allowing it to discover entities it missed the first time. The library automatically handles deduplication of results.\\n2. Prevent Context Fragmentation with context_bleed\\nThe context_bleed parameter adds a specified number of characters from the preceding and succeeding text to each chunk. This ensures that the model always has the full context for sentences that fall on the boundary between chunks.\\n3. Enhance Nuance with a More Powerful Model\\nSwitching to a model like gemini-2.5-pro provides stronger reasoning capabilities. It would be better at identifying the causal_element when it\\'s only implied, or at capturing more complex sentiments that aren\\'t strictly \"Positive\" or \"Negative.\"\\n'"
      ]
     },
     "execution_count": 35,
     "metadata": {},
     "output_type": "execute_result"
    }
   ],
   "source": [
    "'''\n",
    "How the Extraction Could Be Improved\n",
    "1. Increase Recall with Multiple Passes\n",
    "Setting extraction_passes to a value greater than 1 (e.g., 2 or 3) makes the model re-run the extraction on the same text. By also setting a temperature greater than 0, the model's output will vary slightly on each pass, often allowing it to discover entities it missed the first time. The library automatically handles deduplication of results.\n",
    "2. Prevent Context Fragmentation with context_bleed\n",
    "The context_bleed parameter adds a specified number of characters from the preceding and succeeding text to each chunk. This ensures that the model always has the full context for sentences that fall on the boundary between chunks.\n",
    "3. Enhance Nuance with a More Powerful Model\n",
    "Switching to a model like gemini-2.5-pro provides stronger reasoning capabilities. It would be better at identifying the causal_element when it's only implied, or at capturing more complex sentiments that aren't strictly \"Positive\" or \"Negative.\"\n",
    "'''"
   ]
  },
  {
   "cell_type": "markdown",
   "metadata": {},
   "source": [
    "---\n",
    "### <a id='toc1_5_8_'></a>[**2.4 Generating LLM Embeddings:**](#toc0_)\n",
    "\n",
    "LLM embeddings are dense numerical vectors that represent the semantic meaning of text. Generated by Large Language Models, they map words, phrases, or documents into a high-dimensional space where similar concepts are positioned closely together.\n",
    "\n",
    "Their key advantages are:\n",
    "\n",
    "*   **Contextual Understanding:** Unlike older methods, LLM embeddings are contextual. The vector for a word like **\"bank\"** will be different depending on whether it's used in the context of a \"river bank\" or a \"money bank,\" providing a more nuanced representation of language.\n",
    "\n",
    "*   **Versatility from Pre-training:** They are pre-trained on vast amounts of text data. This allows them to generalize effectively across various tasks, such as classification, clustering, and similarity detection. They do not require extensive retraining.\n",
    "\n",
    "<span style=\"color:green\">For the exercise in this section there is no need to re-run the cells, you can use the data that has been saved previously to the corresponding directory.</span>\n",
    "\n",
    "**Now let's generate some embeddings with Gemini for a sample of our dataset:**"
   ]
  },
  {
   "cell_type": "code",
   "execution_count": 36,
   "metadata": {},
   "outputs": [],
   "source": [
    "from google import genai\n",
    "import pandas as pd\n",
    "import time\n",
    "from google.api_core import exceptions\n",
    "\n",
    "# Let's define our function to get the embeddings with Gemini\n",
    "def get_gemini_embedding(text: str, model: str=\"gemini-embedding-001\"):\n",
    "    try:\n",
    "        result = client.models.embed_content(model=model, contents=[text])\n",
    "        # 100 requests per minute limit -> 60s / 100 = 0.6s per request\n",
    "        # buffer time to avoid rate limits\n",
    "        time.sleep(0.6)\n",
    "        return result.embeddings\n",
    "    except exceptions.ResourceExhausted as e:\n",
    "        print(f\"Rate limit exceeded. Waiting to retry... Error: {e}\")\n",
    "        time.sleep(5) # Wait for 5 seconds before the next attempt\n",
    "        return get_gemini_embedding(text, model) # Retry the request\n",
    "    except Exception as e:\n",
    "        print(f\"An unexpected error occurred: {e}\")\n",
    "        return None\n"
   ]
  },
  {
   "cell_type": "code",
   "execution_count": 37,
   "metadata": {},
   "outputs": [
    {
     "name": "stdout",
     "output_type": "stream",
     "text": [
      "Sampling 160 rows from the training set...\n",
      "Sampling 40 rows from the test set...\n"
     ]
    },
    {
     "name": "stderr",
     "output_type": "stream",
     "text": [
      "C:\\Users\\Yi-Shin Chen\\AppData\\Local\\Temp\\ipykernel_22520\\2000596105.py:14: FutureWarning: DataFrameGroupBy.apply operated on the grouping columns. This behavior is deprecated, and in a future version of pandas the grouping columns will be excluded from the operation. Either pass `include_groups=False` to exclude the groupings or explicitly select the grouping columns after groupby to silence this warning.\n",
      "  sampled_df = df.groupby(stratify_col, group_keys=False).apply(\n",
      "C:\\Users\\Yi-Shin Chen\\AppData\\Local\\Temp\\ipykernel_22520\\2000596105.py:14: FutureWarning: DataFrameGroupBy.apply operated on the grouping columns. This behavior is deprecated, and in a future version of pandas the grouping columns will be excluded from the operation. Either pass `include_groups=False` to exclude the groupings or explicitly select the grouping columns after groupby to silence this warning.\n",
      "  sampled_df = df.groupby(stratify_col, group_keys=False).apply(\n"
     ]
    }
   ],
   "source": [
    "total_extractions = 200\n",
    "train_ratio = 0.8\n",
    "test_ratio = 0.2\n",
    "\n",
    "n_train_to_sample = int(total_extractions * train_ratio)\n",
    "n_test_to_sample = int(total_extractions * test_ratio)\n",
    "# We use the text column\n",
    "column_name = 'text'\n",
    "\n",
    "# This function is to get a stratified sample from our data, meaning to have the same distribution of labels as in the full dataset\n",
    "def stratified_sample(df: pd.DataFrame, n_samples: int, stratify_col: str = 'emotion') -> pd.DataFrame:\n",
    "    if n_samples >= len(df):\n",
    "        return df.copy() # Return a copy if requested sample is larger or equal\n",
    "    sampled_df = df.groupby(stratify_col, group_keys=False).apply(\n",
    "        lambda x: x.sample(n=max(0, int(round(len(x) / len(df) * n_samples))))\n",
    "    )\n",
    "\n",
    "    # Adjust for rounding errors to get the exact number of samples\n",
    "    current_samples = len(sampled_df)\n",
    "    if current_samples < n_samples:\n",
    "        remaining_indices = df.index.difference(sampled_df.index)\n",
    "        additional_samples = df.loc[remaining_indices].sample(n=n_samples - current_samples, random_state=42)\n",
    "        sampled_df = pd.concat([sampled_df, additional_samples])\n",
    "    elif current_samples > n_samples:\n",
    "        sampled_df = sampled_df.sample(n=n_samples, random_state=42)\n",
    "    return sampled_df\n",
    "\n",
    "print(f\"Sampling {n_train_to_sample} rows from the training set...\")\n",
    "train_df_new = stratified_sample(train_df, n_train_to_sample, 'emotion')\n",
    "\n",
    "print(f\"Sampling {n_test_to_sample} rows from the test set...\")\n",
    "test_df_new = stratified_sample(test_df, n_test_to_sample, 'emotion')\n"
   ]
  },
  {
   "cell_type": "code",
   "execution_count": 38,
   "metadata": {},
   "outputs": [
    {
     "data": {
      "text/plain": [
       "emotion\n",
       "fear       51\n",
       "anger      38\n",
       "joy        36\n",
       "sadness    35\n",
       "Name: count, dtype: int64"
      ]
     },
     "execution_count": 38,
     "metadata": {},
     "output_type": "execute_result"
    }
   ],
   "source": [
    "train_df_new[\"emotion\"].value_counts()"
   ]
  },
  {
   "cell_type": "code",
   "execution_count": 39,
   "metadata": {},
   "outputs": [
    {
     "data": {
      "text/plain": [
       "emotion\n",
       "fear       13\n",
       "anger      10\n",
       "joy         9\n",
       "sadness     8\n",
       "Name: count, dtype: int64"
      ]
     },
     "execution_count": 39,
     "metadata": {},
     "output_type": "execute_result"
    }
   ],
   "source": [
    "test_df_new[\"emotion\"].value_counts()"
   ]
  },
  {
   "cell_type": "code",
   "execution_count": 41,
   "metadata": {},
   "outputs": [
    {
     "name": "stdout",
     "output_type": "stream",
     "text": [
      "\n",
      "Generating embeddings for the new training set...\n"
     ]
    }
   ],
   "source": [
    "# Apply the function to the specified column and store the result in a new column 'embeddings'\n",
    "print(\"\\nGenerating embeddings for the new training set...\")\n",
    "train_df_new['embeddings'] = train_df_new[column_name].apply(get_gemini_embedding)"
   ]
  },
  {
   "cell_type": "code",
   "execution_count": 42,
   "metadata": {},
   "outputs": [
    {
     "name": "stdout",
     "output_type": "stream",
     "text": [
      "\n",
      "Generating embeddings for the new test set...\n"
     ]
    }
   ],
   "source": [
    "print(\"\\nGenerating embeddings for the new test set...\")\n",
    "test_df_new['embeddings'] = test_df_new[column_name].apply(get_gemini_embedding)"
   ]
  },
  {
   "cell_type": "code",
   "execution_count": 43,
   "metadata": {},
   "outputs": [],
   "source": [
    "from google.genai import types\n",
    "\n",
    "# After getting the embeddings we need to convert the Gemini type ContentDict of the embeddings into a simple list with them\n",
    "train_df_new['embeddings_values'] = train_df_new[\"embeddings\"].apply(lambda row: list(types.ContentDict(row[0]).values())[0])\n",
    "test_df_new['embeddings_values'] = test_df_new[\"embeddings\"].apply(lambda row: list(types.ContentDict(row[0]).values())[0])\n"
   ]
  },
  {
   "cell_type": "code",
   "execution_count": 44,
   "metadata": {},
   "outputs": [
    {
     "data": {
      "text/html": [
       "<div>\n",
       "<style scoped>\n",
       "    .dataframe tbody tr th:only-of-type {\n",
       "        vertical-align: middle;\n",
       "    }\n",
       "\n",
       "    .dataframe tbody tr th {\n",
       "        vertical-align: top;\n",
       "    }\n",
       "\n",
       "    .dataframe thead th {\n",
       "        text-align: right;\n",
       "    }\n",
       "</style>\n",
       "<table border=\"1\" class=\"dataframe\">\n",
       "  <thead>\n",
       "    <tr style=\"text-align: right;\">\n",
       "      <th></th>\n",
       "      <th>id</th>\n",
       "      <th>text</th>\n",
       "      <th>emotion</th>\n",
       "      <th>intensity</th>\n",
       "      <th>embeddings</th>\n",
       "      <th>embeddings_values</th>\n",
       "    </tr>\n",
       "  </thead>\n",
       "  <tbody>\n",
       "    <tr>\n",
       "      <th>8</th>\n",
       "      <td>10008</td>\n",
       "      <td>@TeamShanny legit why i am so furious with him...</td>\n",
       "      <td>anger</td>\n",
       "      <td>0.875</td>\n",
       "      <td>[values=[-0.010053319, -0.014821784, 0.0122693...</td>\n",
       "      <td>[-0.010053319, -0.014821784, 0.012269372, -0.0...</td>\n",
       "    </tr>\n",
       "    <tr>\n",
       "      <th>250</th>\n",
       "      <td>10250</td>\n",
       "      <td>A @FirstBSA not turning up? Why am I not surpr...</td>\n",
       "      <td>anger</td>\n",
       "      <td>0.583</td>\n",
       "      <td>[values=[-0.029218547, 0.026159419, -0.0140497...</td>\n",
       "      <td>[-0.029218547, 0.026159419, -0.014049791, -0.0...</td>\n",
       "    </tr>\n",
       "    <tr>\n",
       "      <th>91</th>\n",
       "      <td>10091</td>\n",
       "      <td>Now that the whole clown rage has scared me sh...</td>\n",
       "      <td>anger</td>\n",
       "      <td>0.729</td>\n",
       "      <td>[values=[-0.027961224, -0.014357985, -0.021745...</td>\n",
       "      <td>[-0.027961224, -0.014357985, -0.021745464, -0....</td>\n",
       "    </tr>\n",
       "    <tr>\n",
       "      <th>285</th>\n",
       "      <td>10285</td>\n",
       "      <td>@EagleGiles23 @tgilmore_92 what I miss? #outrage</td>\n",
       "      <td>anger</td>\n",
       "      <td>0.562</td>\n",
       "      <td>[values=[-0.0348745, 0.011225981, 0.01215889, ...</td>\n",
       "      <td>[-0.0348745, 0.011225981, 0.01215889, -0.06998...</td>\n",
       "    </tr>\n",
       "    <tr>\n",
       "      <th>114</th>\n",
       "      <td>10114</td>\n",
       "      <td>@VerizonSupport thanks for saying My wife and ...</td>\n",
       "      <td>anger</td>\n",
       "      <td>0.688</td>\n",
       "      <td>[values=[-0.0098733995, -0.022821026, -0.01479...</td>\n",
       "      <td>[-0.0098733995, -0.022821026, -0.014794565, -0...</td>\n",
       "    </tr>\n",
       "    <tr>\n",
       "      <th>...</th>\n",
       "      <td>...</td>\n",
       "      <td>...</td>\n",
       "      <td>...</td>\n",
       "      <td>...</td>\n",
       "      <td>...</td>\n",
       "      <td>...</td>\n",
       "    </tr>\n",
       "    <tr>\n",
       "      <th>2897</th>\n",
       "      <td>40070</td>\n",
       "      <td>@lebara - worst possible decision I could have...</td>\n",
       "      <td>sadness</td>\n",
       "      <td>0.771</td>\n",
       "      <td>[values=[-0.017406378, 0.002675957, -0.0021365...</td>\n",
       "      <td>[-0.017406378, 0.002675957, -0.0021365578, -0....</td>\n",
       "    </tr>\n",
       "    <tr>\n",
       "      <th>3079</th>\n",
       "      <td>40252</td>\n",
       "      <td>Im kind of confused.  The one thing i do right...</td>\n",
       "      <td>sadness</td>\n",
       "      <td>0.604</td>\n",
       "      <td>[values=[-0.0041911225, -0.013182946, 0.009323...</td>\n",
       "      <td>[-0.0041911225, -0.013182946, 0.0093234675, -0...</td>\n",
       "    </tr>\n",
       "    <tr>\n",
       "      <th>3029</th>\n",
       "      <td>40202</td>\n",
       "      <td>I don't want the pity of my instructors but I'...</td>\n",
       "      <td>sadness</td>\n",
       "      <td>0.625</td>\n",
       "      <td>[values=[-0.01088152, -0.0023349237, -0.007624...</td>\n",
       "      <td>[-0.01088152, -0.0023349237, -0.0076245274, -0...</td>\n",
       "    </tr>\n",
       "    <tr>\n",
       "      <th>3148</th>\n",
       "      <td>40321</td>\n",
       "      <td>@HillaryClinton @TheDemocrats It's ok 2 be dis...</td>\n",
       "      <td>sadness</td>\n",
       "      <td>0.542</td>\n",
       "      <td>[values=[-0.01229252, 0.0017323963, 0.01021699...</td>\n",
       "      <td>[-0.01229252, 0.0017323963, 0.010216998, -0.05...</td>\n",
       "    </tr>\n",
       "    <tr>\n",
       "      <th>2899</th>\n",
       "      <td>40072</td>\n",
       "      <td>No one wants to win the wild card because you ...</td>\n",
       "      <td>sadness</td>\n",
       "      <td>0.767</td>\n",
       "      <td>[values=[-0.015803566, 0.0012630903, 0.0182258...</td>\n",
       "      <td>[-0.015803566, 0.0012630903, 0.018225819, -0.0...</td>\n",
       "    </tr>\n",
       "  </tbody>\n",
       "</table>\n",
       "<p>160 rows × 6 columns</p>\n",
       "</div>"
      ],
      "text/plain": [
       "         id                                               text  emotion  \\\n",
       "8     10008  @TeamShanny legit why i am so furious with him...    anger   \n",
       "250   10250  A @FirstBSA not turning up? Why am I not surpr...    anger   \n",
       "91    10091  Now that the whole clown rage has scared me sh...    anger   \n",
       "285   10285   @EagleGiles23 @tgilmore_92 what I miss? #outrage    anger   \n",
       "114   10114  @VerizonSupport thanks for saying My wife and ...    anger   \n",
       "...     ...                                                ...      ...   \n",
       "2897  40070  @lebara - worst possible decision I could have...  sadness   \n",
       "3079  40252  Im kind of confused.  The one thing i do right...  sadness   \n",
       "3029  40202  I don't want the pity of my instructors but I'...  sadness   \n",
       "3148  40321  @HillaryClinton @TheDemocrats It's ok 2 be dis...  sadness   \n",
       "2899  40072  No one wants to win the wild card because you ...  sadness   \n",
       "\n",
       "      intensity                                         embeddings  \\\n",
       "8         0.875  [values=[-0.010053319, -0.014821784, 0.0122693...   \n",
       "250       0.583  [values=[-0.029218547, 0.026159419, -0.0140497...   \n",
       "91        0.729  [values=[-0.027961224, -0.014357985, -0.021745...   \n",
       "285       0.562  [values=[-0.0348745, 0.011225981, 0.01215889, ...   \n",
       "114       0.688  [values=[-0.0098733995, -0.022821026, -0.01479...   \n",
       "...         ...                                                ...   \n",
       "2897      0.771  [values=[-0.017406378, 0.002675957, -0.0021365...   \n",
       "3079      0.604  [values=[-0.0041911225, -0.013182946, 0.009323...   \n",
       "3029      0.625  [values=[-0.01088152, -0.0023349237, -0.007624...   \n",
       "3148      0.542  [values=[-0.01229252, 0.0017323963, 0.01021699...   \n",
       "2899      0.767  [values=[-0.015803566, 0.0012630903, 0.0182258...   \n",
       "\n",
       "                                      embeddings_values  \n",
       "8     [-0.010053319, -0.014821784, 0.012269372, -0.0...  \n",
       "250   [-0.029218547, 0.026159419, -0.014049791, -0.0...  \n",
       "91    [-0.027961224, -0.014357985, -0.021745464, -0....  \n",
       "285   [-0.0348745, 0.011225981, 0.01215889, -0.06998...  \n",
       "114   [-0.0098733995, -0.022821026, -0.014794565, -0...  \n",
       "...                                                 ...  \n",
       "2897  [-0.017406378, 0.002675957, -0.0021365578, -0....  \n",
       "3079  [-0.0041911225, -0.013182946, 0.0093234675, -0...  \n",
       "3029  [-0.01088152, -0.0023349237, -0.0076245274, -0...  \n",
       "3148  [-0.01229252, 0.0017323963, 0.010216998, -0.05...  \n",
       "2899  [-0.015803566, 0.0012630903, 0.018225819, -0.0...  \n",
       "\n",
       "[160 rows x 6 columns]"
      ]
     },
     "execution_count": 44,
     "metadata": {},
     "output_type": "execute_result"
    }
   ],
   "source": [
    "train_df_new #We can see the new column with the embeddings "
   ]
  },
  {
   "cell_type": "code",
   "execution_count": 45,
   "metadata": {},
   "outputs": [
    {
     "data": {
      "text/html": [
       "<div>\n",
       "<style scoped>\n",
       "    .dataframe tbody tr th:only-of-type {\n",
       "        vertical-align: middle;\n",
       "    }\n",
       "\n",
       "    .dataframe tbody tr th {\n",
       "        vertical-align: top;\n",
       "    }\n",
       "\n",
       "    .dataframe thead th {\n",
       "        text-align: right;\n",
       "    }\n",
       "</style>\n",
       "<table border=\"1\" class=\"dataframe\">\n",
       "  <thead>\n",
       "    <tr style=\"text-align: right;\">\n",
       "      <th></th>\n",
       "      <th>id</th>\n",
       "      <th>text</th>\n",
       "      <th>emotion</th>\n",
       "      <th>intensity</th>\n",
       "      <th>embeddings</th>\n",
       "      <th>embeddings_values</th>\n",
       "    </tr>\n",
       "  </thead>\n",
       "  <tbody>\n",
       "    <tr>\n",
       "      <th>219</th>\n",
       "      <td>30848</td>\n",
       "      <td>Ready for that nice, breezy, calm, sunshine we...</td>\n",
       "      <td>joy</td>\n",
       "      <td>0.583</td>\n",
       "      <td>[values=[0.0020740312, -0.023727704, -0.016465...</td>\n",
       "      <td>[0.0020740312, -0.023727704, -0.016465494, -0....</td>\n",
       "    </tr>\n",
       "    <tr>\n",
       "      <th>132</th>\n",
       "      <td>21195</td>\n",
       "      <td>At school, my classmate is with me at music cl...</td>\n",
       "      <td>fear</td>\n",
       "      <td>0.220</td>\n",
       "      <td>[values=[0.0058550555, -0.003213643, -0.009505...</td>\n",
       "      <td>[0.0058550555, -0.003213643, -0.009505645, -0....</td>\n",
       "    </tr>\n",
       "    <tr>\n",
       "      <th>53</th>\n",
       "      <td>10910</td>\n",
       "      <td>Having a baby born too soon is #lifechanging 6...</td>\n",
       "      <td>anger</td>\n",
       "      <td>0.375</td>\n",
       "      <td>[values=[-0.025528934, -0.0049635707, -0.01072...</td>\n",
       "      <td>[-0.025528934, -0.0049635707, -0.010728385, -0...</td>\n",
       "    </tr>\n",
       "    <tr>\n",
       "      <th>260</th>\n",
       "      <td>30889</td>\n",
       "      <td>How can l rule my mind !!!!!! \\nIt's hilarious...</td>\n",
       "      <td>joy</td>\n",
       "      <td>0.396</td>\n",
       "      <td>[values=[0.0031156964, 0.0015582611, -0.007834...</td>\n",
       "      <td>[0.0031156964, 0.0015582611, -0.007834814, -0....</td>\n",
       "    </tr>\n",
       "    <tr>\n",
       "      <th>67</th>\n",
       "      <td>10924</td>\n",
       "      <td>Anger, resentment, and hatred are the destroye...</td>\n",
       "      <td>anger</td>\n",
       "      <td>0.396</td>\n",
       "      <td>[values=[0.0054825684, 0.013875896, -0.0055669...</td>\n",
       "      <td>[0.0054825684, 0.013875896, -0.0055669188, -0....</td>\n",
       "    </tr>\n",
       "    <tr>\n",
       "      <th>289</th>\n",
       "      <td>40802</td>\n",
       "      <td>[ @HedgehogDylan ] *she would frown a bit, fol...</td>\n",
       "      <td>sadness</td>\n",
       "      <td>0.562</td>\n",
       "      <td>[values=[-0.015942886, 0.0062166224, -0.009731...</td>\n",
       "      <td>[-0.015942886, 0.0062166224, -0.009731274, -0....</td>\n",
       "    </tr>\n",
       "    <tr>\n",
       "      <th>138</th>\n",
       "      <td>21201</td>\n",
       "      <td>He called me fat, so I pushed him into the loc...</td>\n",
       "      <td>fear</td>\n",
       "      <td>0.479</td>\n",
       "      <td>[values=[0.019757502, -0.002136181, 0.00714481...</td>\n",
       "      <td>[0.019757502, -0.002136181, 0.007144817, -0.07...</td>\n",
       "    </tr>\n",
       "    <tr>\n",
       "      <th>311</th>\n",
       "      <td>40824</td>\n",
       "      <td>On bedrest since I got out of the hospital. U ...</td>\n",
       "      <td>sadness</td>\n",
       "      <td>0.440</td>\n",
       "      <td>[values=[0.0041351523, -0.0051084706, -0.02860...</td>\n",
       "      <td>[0.0041351523, -0.0051084706, -0.028601801, -0...</td>\n",
       "    </tr>\n",
       "    <tr>\n",
       "      <th>207</th>\n",
       "      <td>30836</td>\n",
       "      <td>@Geminiak @LondonNPC you're welcome! #wordgeek...</td>\n",
       "      <td>joy</td>\n",
       "      <td>0.646</td>\n",
       "      <td>[values=[-0.023334293, -0.012189703, -0.010642...</td>\n",
       "      <td>[-0.023334293, -0.012189703, -0.0106423935, -0...</td>\n",
       "    </tr>\n",
       "    <tr>\n",
       "      <th>70</th>\n",
       "      <td>10927</td>\n",
       "      <td>Sting is just too damn earnest for early morni...</td>\n",
       "      <td>anger</td>\n",
       "      <td>0.370</td>\n",
       "      <td>[values=[-0.014882094, 0.0127369985, -0.016873...</td>\n",
       "      <td>[-0.014882094, 0.0127369985, -0.016873686, -0....</td>\n",
       "    </tr>\n",
       "    <tr>\n",
       "      <th>265</th>\n",
       "      <td>30894</td>\n",
       "      <td>@PhilGlutting Hey There Phil Glutting thank yo...</td>\n",
       "      <td>joy</td>\n",
       "      <td>0.760</td>\n",
       "      <td>[values=[-0.034564763, 0.009070156, -0.0020970...</td>\n",
       "      <td>[-0.034564763, 0.009070156, -0.0020970262, -0....</td>\n",
       "    </tr>\n",
       "    <tr>\n",
       "      <th>172</th>\n",
       "      <td>21235</td>\n",
       "      <td>Trying to book holiday flights on @britishairw...</td>\n",
       "      <td>fear</td>\n",
       "      <td>0.312</td>\n",
       "      <td>[values=[-0.0375891, -0.013699848, -0.00197240...</td>\n",
       "      <td>[-0.0375891, -0.013699848, -0.001972409, -0.07...</td>\n",
       "    </tr>\n",
       "    <tr>\n",
       "      <th>107</th>\n",
       "      <td>21170</td>\n",
       "      <td>The Apocalypse has hit our gym and it's  nothi...</td>\n",
       "      <td>fear</td>\n",
       "      <td>0.583</td>\n",
       "      <td>[values=[0.00029141922, -0.038468916, 0.029741...</td>\n",
       "      <td>[0.00029141922, -0.038468916, 0.029741589, -0....</td>\n",
       "    </tr>\n",
       "    <tr>\n",
       "      <th>64</th>\n",
       "      <td>10921</td>\n",
       "      <td>@MaddenFreestyle i turn the game on wanting to...</td>\n",
       "      <td>anger</td>\n",
       "      <td>0.500</td>\n",
       "      <td>[values=[-0.02317859, -0.004650827, -0.0013773...</td>\n",
       "      <td>[-0.02317859, -0.004650827, -0.001377392, -0.0...</td>\n",
       "    </tr>\n",
       "    <tr>\n",
       "      <th>148</th>\n",
       "      <td>21211</td>\n",
       "      <td>Why upping rooms makes a few apprehend leaving...</td>\n",
       "      <td>fear</td>\n",
       "      <td>0.396</td>\n",
       "      <td>[values=[0.020049091, 0.0029705425, 0.01238865...</td>\n",
       "      <td>[0.020049091, 0.0029705425, 0.01238865, -0.067...</td>\n",
       "    </tr>\n",
       "    <tr>\n",
       "      <th>307</th>\n",
       "      <td>40820</td>\n",
       "      <td>MC: what are you listen to these days?\\nBogum:...</td>\n",
       "      <td>sadness</td>\n",
       "      <td>0.583</td>\n",
       "      <td>[values=[0.019539252, 0.005026681, 0.003033225...</td>\n",
       "      <td>[0.019539252, 0.005026681, 0.0030332252, -0.08...</td>\n",
       "    </tr>\n",
       "    <tr>\n",
       "      <th>161</th>\n",
       "      <td>21224</td>\n",
       "      <td>The moment you bring her to meet your best fri...</td>\n",
       "      <td>fear</td>\n",
       "      <td>0.875</td>\n",
       "      <td>[values=[-0.045178644, -0.0022112103, -0.00407...</td>\n",
       "      <td>[-0.045178644, -0.0022112103, -0.0040777577, -...</td>\n",
       "    </tr>\n",
       "    <tr>\n",
       "      <th>283</th>\n",
       "      <td>40796</td>\n",
       "      <td>Public products: high downhearted price tag co...</td>\n",
       "      <td>sadness</td>\n",
       "      <td>0.354</td>\n",
       "      <td>[values=[0.016449967, -0.037677467, 0.00111561...</td>\n",
       "      <td>[0.016449967, -0.037677467, 0.0011156169, -0.0...</td>\n",
       "    </tr>\n",
       "    <tr>\n",
       "      <th>300</th>\n",
       "      <td>40813</td>\n",
       "      <td>This shit hurting my heart 😪 that's how seriou...</td>\n",
       "      <td>sadness</td>\n",
       "      <td>0.875</td>\n",
       "      <td>[values=[-0.0069135656, -0.0037595944, -0.0228...</td>\n",
       "      <td>[-0.0069135656, -0.0037595944, -0.022816306, -...</td>\n",
       "    </tr>\n",
       "    <tr>\n",
       "      <th>68</th>\n",
       "      <td>10925</td>\n",
       "      <td>Anger, resentment, and hatred are the destroye...</td>\n",
       "      <td>anger</td>\n",
       "      <td>0.375</td>\n",
       "      <td>[values=[0.006805829, 0.009590601, -0.00079551...</td>\n",
       "      <td>[0.006805829, 0.009590601, -0.0007955102, -0.0...</td>\n",
       "    </tr>\n",
       "    <tr>\n",
       "      <th>254</th>\n",
       "      <td>30883</td>\n",
       "      <td>@MichiganBromo Good optimism sir :)</td>\n",
       "      <td>joy</td>\n",
       "      <td>0.538</td>\n",
       "      <td>[values=[-0.0066055977, 0.008421034, -0.014206...</td>\n",
       "      <td>[-0.0066055977, 0.008421034, -0.014206991, -0....</td>\n",
       "    </tr>\n",
       "    <tr>\n",
       "      <th>36</th>\n",
       "      <td>10893</td>\n",
       "      <td>@pbhushan1 @IndianExpress so in your opinion i...</td>\n",
       "      <td>anger</td>\n",
       "      <td>0.526</td>\n",
       "      <td>[values=[-0.015313634, -0.009707481, -0.004503...</td>\n",
       "      <td>[-0.015313634, -0.009707481, -0.0045037856, -0...</td>\n",
       "    </tr>\n",
       "    <tr>\n",
       "      <th>98</th>\n",
       "      <td>21161</td>\n",
       "      <td>@ccrago It was dreadful, even after he met the...</td>\n",
       "      <td>fear</td>\n",
       "      <td>0.500</td>\n",
       "      <td>[values=[-0.024175065, -0.016342454, -0.008305...</td>\n",
       "      <td>[-0.024175065, -0.016342454, -0.008305394, -0....</td>\n",
       "    </tr>\n",
       "    <tr>\n",
       "      <th>80</th>\n",
       "      <td>10937</td>\n",
       "      <td>@gayla_weeks1 I try not to let my anger seep i...</td>\n",
       "      <td>anger</td>\n",
       "      <td>0.625</td>\n",
       "      <td>[values=[0.0010474615, 0.0004441994, -0.010692...</td>\n",
       "      <td>[0.0010474615, 0.0004441994, -0.010692925, -0....</td>\n",
       "    </tr>\n",
       "    <tr>\n",
       "      <th>237</th>\n",
       "      <td>30866</td>\n",
       "      <td>A #new day to #live and #smile. Hope all the #...</td>\n",
       "      <td>joy</td>\n",
       "      <td>0.688</td>\n",
       "      <td>[values=[-0.021614783, -0.014422985, -0.017751...</td>\n",
       "      <td>[-0.021614783, -0.014422985, -0.017751982, -0....</td>\n",
       "    </tr>\n",
       "    <tr>\n",
       "      <th>179</th>\n",
       "      <td>21242</td>\n",
       "      <td>Southend players always haunt Man U</td>\n",
       "      <td>fear</td>\n",
       "      <td>0.417</td>\n",
       "      <td>[values=[-0.007465832, -0.025449552, -0.023478...</td>\n",
       "      <td>[-0.007465832, -0.025449552, -0.02347882, -0.0...</td>\n",
       "    </tr>\n",
       "    <tr>\n",
       "      <th>47</th>\n",
       "      <td>10904</td>\n",
       "      <td>#oow16 #sting decent new song</td>\n",
       "      <td>anger</td>\n",
       "      <td>0.125</td>\n",
       "      <td>[values=[-0.0081596095, -0.0066988626, 0.02333...</td>\n",
       "      <td>[-0.0081596095, -0.0066988626, 0.023331072, -0...</td>\n",
       "    </tr>\n",
       "    <tr>\n",
       "      <th>238</th>\n",
       "      <td>30867</td>\n",
       "      <td>@DocBellsSwan *peers down at you, eyes crinkli...</td>\n",
       "      <td>joy</td>\n",
       "      <td>0.660</td>\n",
       "      <td>[values=[-0.01825409, -0.009553344, -0.0124245...</td>\n",
       "      <td>[-0.01825409, -0.009553344, -0.012424581, -0.0...</td>\n",
       "    </tr>\n",
       "    <tr>\n",
       "      <th>310</th>\n",
       "      <td>40823</td>\n",
       "      <td>you are on an endless journey of figuring your...</td>\n",
       "      <td>sadness</td>\n",
       "      <td>0.375</td>\n",
       "      <td>[values=[-0.036277726, 0.011091107, -0.0132130...</td>\n",
       "      <td>[-0.036277726, 0.011091107, -0.013213003, -0.0...</td>\n",
       "    </tr>\n",
       "    <tr>\n",
       "      <th>18</th>\n",
       "      <td>10875</td>\n",
       "      <td>@TrussElise Obama must be fuming.. lol</td>\n",
       "      <td>anger</td>\n",
       "      <td>0.500</td>\n",
       "      <td>[values=[-0.0028347652, 0.04002049, -0.0105925...</td>\n",
       "      <td>[-0.0028347652, 0.04002049, -0.010592525, -0.0...</td>\n",
       "    </tr>\n",
       "    <tr>\n",
       "      <th>314</th>\n",
       "      <td>40827</td>\n",
       "      <td>A3: But chronic sadness may mean there are und...</td>\n",
       "      <td>sadness</td>\n",
       "      <td>0.562</td>\n",
       "      <td>[values=[0.0032898958, 0.030603174, 0.00228165...</td>\n",
       "      <td>[0.0032898958, 0.030603174, 0.0022816553, -0.0...</td>\n",
       "    </tr>\n",
       "    <tr>\n",
       "      <th>240</th>\n",
       "      <td>30869</td>\n",
       "      <td>Chris would take full responsibility and would...</td>\n",
       "      <td>joy</td>\n",
       "      <td>0.280</td>\n",
       "      <td>[values=[0.006588017, -0.006120494, 0.00766196...</td>\n",
       "      <td>[0.006588017, -0.006120494, 0.007661961, -0.06...</td>\n",
       "    </tr>\n",
       "    <tr>\n",
       "      <th>331</th>\n",
       "      <td>40844</td>\n",
       "      <td>yesterday i finished watching penny dreadful a...</td>\n",
       "      <td>sadness</td>\n",
       "      <td>0.312</td>\n",
       "      <td>[values=[-0.019259144, -0.021168273, 0.0303008...</td>\n",
       "      <td>[-0.019259144, -0.021168273, 0.030300863, -0.0...</td>\n",
       "    </tr>\n",
       "    <tr>\n",
       "      <th>139</th>\n",
       "      <td>21202</td>\n",
       "      <td>Whatt a trailerrrr !!! @karanjohar @AnushkaSha...</td>\n",
       "      <td>fear</td>\n",
       "      <td>0.417</td>\n",
       "      <td>[values=[-0.00999517, -0.006098625, 0.00768208...</td>\n",
       "      <td>[-0.00999517, -0.006098625, 0.0076820883, -0.0...</td>\n",
       "    </tr>\n",
       "    <tr>\n",
       "      <th>156</th>\n",
       "      <td>21219</td>\n",
       "      <td>About 7 weeks till I can pick up my camera aga...</td>\n",
       "      <td>fear</td>\n",
       "      <td>0.312</td>\n",
       "      <td>[values=[-0.02468868, -0.015727378, -0.0265125...</td>\n",
       "      <td>[-0.02468868, -0.015727378, -0.026512522, -0.0...</td>\n",
       "    </tr>\n",
       "    <tr>\n",
       "      <th>178</th>\n",
       "      <td>21241</td>\n",
       "      <td>Tweeting from the sporadic wifi on the tube</td>\n",
       "      <td>fear</td>\n",
       "      <td>0.292</td>\n",
       "      <td>[values=[-0.0066989562, 0.0057921065, -0.01125...</td>\n",
       "      <td>[-0.0066989562, 0.0057921065, -0.011250335, -0...</td>\n",
       "    </tr>\n",
       "    <tr>\n",
       "      <th>106</th>\n",
       "      <td>21169</td>\n",
       "      <td>The Apocalypse has hit our gym and it's  nothi...</td>\n",
       "      <td>fear</td>\n",
       "      <td>0.812</td>\n",
       "      <td>[values=[-0.01286561, -0.03984262, 0.02198895,...</td>\n",
       "      <td>[-0.01286561, -0.03984262, 0.02198895, -0.0525...</td>\n",
       "    </tr>\n",
       "    <tr>\n",
       "      <th>56</th>\n",
       "      <td>10913</td>\n",
       "      <td>@fluffysoftlouis no no. I insist that you give...</td>\n",
       "      <td>anger</td>\n",
       "      <td>0.562</td>\n",
       "      <td>[values=[-0.005988847, 0.028879639, -0.0112791...</td>\n",
       "      <td>[-0.005988847, 0.028879639, -0.011279167, -0.0...</td>\n",
       "    </tr>\n",
       "    <tr>\n",
       "      <th>102</th>\n",
       "      <td>21165</td>\n",
       "      <td>@All4 is the android app it designed to be bug...</td>\n",
       "      <td>fear</td>\n",
       "      <td>0.250</td>\n",
       "      <td>[values=[-0.006601296, -0.005685248, -0.010660...</td>\n",
       "      <td>[-0.006601296, -0.005685248, -0.010660758, -0....</td>\n",
       "    </tr>\n",
       "    <tr>\n",
       "      <th>220</th>\n",
       "      <td>30849</td>\n",
       "      <td>it gets better. without explanation; you just ...</td>\n",
       "      <td>joy</td>\n",
       "      <td>0.896</td>\n",
       "      <td>[values=[0.00196318, 0.006932176, -0.016605558...</td>\n",
       "      <td>[0.00196318, 0.006932176, -0.016605558, -0.060...</td>\n",
       "    </tr>\n",
       "  </tbody>\n",
       "</table>\n",
       "</div>"
      ],
      "text/plain": [
       "        id                                               text  emotion  \\\n",
       "219  30848  Ready for that nice, breezy, calm, sunshine we...      joy   \n",
       "132  21195  At school, my classmate is with me at music cl...     fear   \n",
       "53   10910  Having a baby born too soon is #lifechanging 6...    anger   \n",
       "260  30889  How can l rule my mind !!!!!! \\nIt's hilarious...      joy   \n",
       "67   10924  Anger, resentment, and hatred are the destroye...    anger   \n",
       "289  40802  [ @HedgehogDylan ] *she would frown a bit, fol...  sadness   \n",
       "138  21201  He called me fat, so I pushed him into the loc...     fear   \n",
       "311  40824  On bedrest since I got out of the hospital. U ...  sadness   \n",
       "207  30836  @Geminiak @LondonNPC you're welcome! #wordgeek...      joy   \n",
       "70   10927  Sting is just too damn earnest for early morni...    anger   \n",
       "265  30894  @PhilGlutting Hey There Phil Glutting thank yo...      joy   \n",
       "172  21235  Trying to book holiday flights on @britishairw...     fear   \n",
       "107  21170  The Apocalypse has hit our gym and it's  nothi...     fear   \n",
       "64   10921  @MaddenFreestyle i turn the game on wanting to...    anger   \n",
       "148  21211  Why upping rooms makes a few apprehend leaving...     fear   \n",
       "307  40820  MC: what are you listen to these days?\\nBogum:...  sadness   \n",
       "161  21224  The moment you bring her to meet your best fri...     fear   \n",
       "283  40796  Public products: high downhearted price tag co...  sadness   \n",
       "300  40813  This shit hurting my heart 😪 that's how seriou...  sadness   \n",
       "68   10925  Anger, resentment, and hatred are the destroye...    anger   \n",
       "254  30883                @MichiganBromo Good optimism sir :)      joy   \n",
       "36   10893  @pbhushan1 @IndianExpress so in your opinion i...    anger   \n",
       "98   21161  @ccrago It was dreadful, even after he met the...     fear   \n",
       "80   10937  @gayla_weeks1 I try not to let my anger seep i...    anger   \n",
       "237  30866  A #new day to #live and #smile. Hope all the #...      joy   \n",
       "179  21242                Southend players always haunt Man U     fear   \n",
       "47   10904                      #oow16 #sting decent new song    anger   \n",
       "238  30867  @DocBellsSwan *peers down at you, eyes crinkli...      joy   \n",
       "310  40823  you are on an endless journey of figuring your...  sadness   \n",
       "18   10875             @TrussElise Obama must be fuming.. lol    anger   \n",
       "314  40827  A3: But chronic sadness may mean there are und...  sadness   \n",
       "240  30869  Chris would take full responsibility and would...      joy   \n",
       "331  40844  yesterday i finished watching penny dreadful a...  sadness   \n",
       "139  21202  Whatt a trailerrrr !!! @karanjohar @AnushkaSha...     fear   \n",
       "156  21219  About 7 weeks till I can pick up my camera aga...     fear   \n",
       "178  21241       Tweeting from the sporadic wifi on the tube      fear   \n",
       "106  21169  The Apocalypse has hit our gym and it's  nothi...     fear   \n",
       "56   10913  @fluffysoftlouis no no. I insist that you give...    anger   \n",
       "102  21165  @All4 is the android app it designed to be bug...     fear   \n",
       "220  30849  it gets better. without explanation; you just ...      joy   \n",
       "\n",
       "     intensity                                         embeddings  \\\n",
       "219      0.583  [values=[0.0020740312, -0.023727704, -0.016465...   \n",
       "132      0.220  [values=[0.0058550555, -0.003213643, -0.009505...   \n",
       "53       0.375  [values=[-0.025528934, -0.0049635707, -0.01072...   \n",
       "260      0.396  [values=[0.0031156964, 0.0015582611, -0.007834...   \n",
       "67       0.396  [values=[0.0054825684, 0.013875896, -0.0055669...   \n",
       "289      0.562  [values=[-0.015942886, 0.0062166224, -0.009731...   \n",
       "138      0.479  [values=[0.019757502, -0.002136181, 0.00714481...   \n",
       "311      0.440  [values=[0.0041351523, -0.0051084706, -0.02860...   \n",
       "207      0.646  [values=[-0.023334293, -0.012189703, -0.010642...   \n",
       "70       0.370  [values=[-0.014882094, 0.0127369985, -0.016873...   \n",
       "265      0.760  [values=[-0.034564763, 0.009070156, -0.0020970...   \n",
       "172      0.312  [values=[-0.0375891, -0.013699848, -0.00197240...   \n",
       "107      0.583  [values=[0.00029141922, -0.038468916, 0.029741...   \n",
       "64       0.500  [values=[-0.02317859, -0.004650827, -0.0013773...   \n",
       "148      0.396  [values=[0.020049091, 0.0029705425, 0.01238865...   \n",
       "307      0.583  [values=[0.019539252, 0.005026681, 0.003033225...   \n",
       "161      0.875  [values=[-0.045178644, -0.0022112103, -0.00407...   \n",
       "283      0.354  [values=[0.016449967, -0.037677467, 0.00111561...   \n",
       "300      0.875  [values=[-0.0069135656, -0.0037595944, -0.0228...   \n",
       "68       0.375  [values=[0.006805829, 0.009590601, -0.00079551...   \n",
       "254      0.538  [values=[-0.0066055977, 0.008421034, -0.014206...   \n",
       "36       0.526  [values=[-0.015313634, -0.009707481, -0.004503...   \n",
       "98       0.500  [values=[-0.024175065, -0.016342454, -0.008305...   \n",
       "80       0.625  [values=[0.0010474615, 0.0004441994, -0.010692...   \n",
       "237      0.688  [values=[-0.021614783, -0.014422985, -0.017751...   \n",
       "179      0.417  [values=[-0.007465832, -0.025449552, -0.023478...   \n",
       "47       0.125  [values=[-0.0081596095, -0.0066988626, 0.02333...   \n",
       "238      0.660  [values=[-0.01825409, -0.009553344, -0.0124245...   \n",
       "310      0.375  [values=[-0.036277726, 0.011091107, -0.0132130...   \n",
       "18       0.500  [values=[-0.0028347652, 0.04002049, -0.0105925...   \n",
       "314      0.562  [values=[0.0032898958, 0.030603174, 0.00228165...   \n",
       "240      0.280  [values=[0.006588017, -0.006120494, 0.00766196...   \n",
       "331      0.312  [values=[-0.019259144, -0.021168273, 0.0303008...   \n",
       "139      0.417  [values=[-0.00999517, -0.006098625, 0.00768208...   \n",
       "156      0.312  [values=[-0.02468868, -0.015727378, -0.0265125...   \n",
       "178      0.292  [values=[-0.0066989562, 0.0057921065, -0.01125...   \n",
       "106      0.812  [values=[-0.01286561, -0.03984262, 0.02198895,...   \n",
       "56       0.562  [values=[-0.005988847, 0.028879639, -0.0112791...   \n",
       "102      0.250  [values=[-0.006601296, -0.005685248, -0.010660...   \n",
       "220      0.896  [values=[0.00196318, 0.006932176, -0.016605558...   \n",
       "\n",
       "                                     embeddings_values  \n",
       "219  [0.0020740312, -0.023727704, -0.016465494, -0....  \n",
       "132  [0.0058550555, -0.003213643, -0.009505645, -0....  \n",
       "53   [-0.025528934, -0.0049635707, -0.010728385, -0...  \n",
       "260  [0.0031156964, 0.0015582611, -0.007834814, -0....  \n",
       "67   [0.0054825684, 0.013875896, -0.0055669188, -0....  \n",
       "289  [-0.015942886, 0.0062166224, -0.009731274, -0....  \n",
       "138  [0.019757502, -0.002136181, 0.007144817, -0.07...  \n",
       "311  [0.0041351523, -0.0051084706, -0.028601801, -0...  \n",
       "207  [-0.023334293, -0.012189703, -0.0106423935, -0...  \n",
       "70   [-0.014882094, 0.0127369985, -0.016873686, -0....  \n",
       "265  [-0.034564763, 0.009070156, -0.0020970262, -0....  \n",
       "172  [-0.0375891, -0.013699848, -0.001972409, -0.07...  \n",
       "107  [0.00029141922, -0.038468916, 0.029741589, -0....  \n",
       "64   [-0.02317859, -0.004650827, -0.001377392, -0.0...  \n",
       "148  [0.020049091, 0.0029705425, 0.01238865, -0.067...  \n",
       "307  [0.019539252, 0.005026681, 0.0030332252, -0.08...  \n",
       "161  [-0.045178644, -0.0022112103, -0.0040777577, -...  \n",
       "283  [0.016449967, -0.037677467, 0.0011156169, -0.0...  \n",
       "300  [-0.0069135656, -0.0037595944, -0.022816306, -...  \n",
       "68   [0.006805829, 0.009590601, -0.0007955102, -0.0...  \n",
       "254  [-0.0066055977, 0.008421034, -0.014206991, -0....  \n",
       "36   [-0.015313634, -0.009707481, -0.0045037856, -0...  \n",
       "98   [-0.024175065, -0.016342454, -0.008305394, -0....  \n",
       "80   [0.0010474615, 0.0004441994, -0.010692925, -0....  \n",
       "237  [-0.021614783, -0.014422985, -0.017751982, -0....  \n",
       "179  [-0.007465832, -0.025449552, -0.02347882, -0.0...  \n",
       "47   [-0.0081596095, -0.0066988626, 0.023331072, -0...  \n",
       "238  [-0.01825409, -0.009553344, -0.012424581, -0.0...  \n",
       "310  [-0.036277726, 0.011091107, -0.013213003, -0.0...  \n",
       "18   [-0.0028347652, 0.04002049, -0.010592525, -0.0...  \n",
       "314  [0.0032898958, 0.030603174, 0.0022816553, -0.0...  \n",
       "240  [0.006588017, -0.006120494, 0.007661961, -0.06...  \n",
       "331  [-0.019259144, -0.021168273, 0.030300863, -0.0...  \n",
       "139  [-0.00999517, -0.006098625, 0.0076820883, -0.0...  \n",
       "156  [-0.02468868, -0.015727378, -0.026512522, -0.0...  \n",
       "178  [-0.0066989562, 0.0057921065, -0.011250335, -0...  \n",
       "106  [-0.01286561, -0.03984262, 0.02198895, -0.0525...  \n",
       "56   [-0.005988847, 0.028879639, -0.011279167, -0.0...  \n",
       "102  [-0.006601296, -0.005685248, -0.010660758, -0....  \n",
       "220  [0.00196318, 0.006932176, -0.016605558, -0.060...  "
      ]
     },
     "execution_count": 45,
     "metadata": {},
     "output_type": "execute_result"
    }
   ],
   "source": [
    "test_df_new #We can see the new column with the embeddings "
   ]
  },
  {
   "cell_type": "code",
   "execution_count": 46,
   "metadata": {},
   "outputs": [],
   "source": [
    "# save them to pickle files\n",
    "train_df_new.to_pickle(\"./data/train_df_sample_embeddings.pkl\") \n",
    "test_df_new.to_pickle(\"./data/test_df_sample_embeddings.pkl\")"
   ]
  },
  {
   "cell_type": "code",
   "execution_count": 47,
   "metadata": {},
   "outputs": [],
   "source": [
    "import pandas as pd\n",
    "# load the pickle files\n",
    "train_df_new = pd.read_pickle(\"./data/train_df_sample_embeddings.pkl\")\n",
    "test_df_new = pd.read_pickle(\"./data/test_df_sample_embeddings.pkl\")"
   ]
  },
  {
   "cell_type": "code",
   "execution_count": 48,
   "metadata": {},
   "outputs": [
    {
     "data": {
      "text/plain": [
       "3072"
      ]
     },
     "execution_count": 48,
     "metadata": {},
     "output_type": "execute_result"
    }
   ],
   "source": [
    "len(train_df_new.iloc[0][\"embeddings_values\"]) # Gemini embedding dimension is 3072 "
   ]
  },
  {
   "cell_type": "code",
   "execution_count": 49,
   "metadata": {},
   "outputs": [
    {
     "name": "stderr",
     "output_type": "stream",
     "text": [
      "d:\\Home work\\dm2\\DM2025-Lab2-Exercise\\.venv\\Lib\\site-packages\\umap\\umap_.py:1952: UserWarning: n_jobs value 1 overridden to 1 by setting random_state. Use no seed for parallelism.\n",
      "  warn(\n"
     ]
    },
    {
     "data": {
      "application/vnd.plotly.v1+json": {
       "config": {
        "plotlyServerURL": "https://plot.ly"
       },
       "data": [
        {
         "customdata": [
          [
           "@TeamShanny legit why i am so furious with him, people are such fucking idiots.",
           0.875
          ],
          [
           "A @FirstBSA not turning up? Why am I not surprised. Late for work again! ",
           0.583
          ],
          [
           "Now that the whole clown rage has scared me shitless, I'm gonna go cry in my room",
           0.729
          ],
          [
           "@EagleGiles23 @tgilmore_92 what I miss? #outrage",
           0.562
          ],
          [
           "@VerizonSupport thanks for saying My wife and I were getting our iphones today and then losing both of them with no ETA #thanks #angry",
           0.688
          ],
          [
           "Tonight's #DragRace #AllStars2 episode GAVE ME LIFE! Yaassss queens! #teamalaska #teamkatya  #bwahaha",
           0.25
          ],
          [
           "@AllegedLowbrow It's 'Eye-for-Eye'. Indian Army never forgives, Never Forgets. They always take revenge, Pakistan breaks laws, I.A follows",
           0.562
          ],
          [
           "Did we miss the fact that #BurkeRamsey swung &amp;hit his sister #JonBenet in the face with a golf club previously out of a fit of ?",
           0.417
          ],
          [
           "@CBSBigBrother never bring back Meech and Bridgette. Crying because someone looks at you? Ugh, and Bridgette. ",
           0.479
          ],
          [
           "@luxbet Did you even give out any pizzas ? Serious fail #hungry  #hangry",
           0.4
          ],
          [
           "@rtrn94 Mine is that the party did decide but the party has been slowly transformed into a vengeful hell-cult of white male resentment",
           0.792
          ],
          [
           "@edquinn63 how can you even forget to pick ur fave child up from school ",
           0.396
          ],
          [
           "and apparently he's supposed to have a Scottish accent??? I'm #offended",
           0.562
          ],
          [
           "Cheap pout my brodcast",
           0.232
          ],
          [
           "When you burst out crying alone and u realize that no one truly knows how unhappy you really are because you don't want anyone to know",
           0.396
          ],
          [
           "When you break a record in #madden I wish it didn't say the same shit after every rush like you just broke the record. #shutupphilsimms",
           0.812
          ],
          [
           "Don't join @BTCare they put the phone down on you, talk over you and are rude. Taking money out of my acc willynilly! ",
           0.604
          ],
          [
           "@kingcharles9th i Lowkey forgot you had twitter and if you don't follow me back im gonna be #offended",
           0.421
          ],
          [
           "@OstinOng YUUUHH 🙄😭 plus clin ep and prevmed ugghhh hahaha ",
           0.438
          ],
          [
           "I swear if @devincameron23 blocks me I'm going to hit her back #revenge",
           0.646
          ],
          [
           "They're like the rape apologists who (inadvertently?) make men sound like rabid, mindless beasts. With friends like these...",
           0.583
          ],
          [
           "@kingcharles9th i Lowkey forgot you had twitter and if you don't follow me back im gonna be ",
           0.417
          ],
          [
           "What the fuck am I supposed to do with no lunch, no dinner, no money and I'm off to work #furious #hangry #day5",
           0.729
          ],
          [
           "@BigBrother__USA she is just jealous and a cry baby! #bitter #gladsheisgone #crybaby",
           0.571
          ],
          [
           "@dcexaminer Democrats and their voters have zero tolerance for honesty. They associate honesty with anger and hate.",
           0.667
          ],
          [
           "@CBSBigBrother never bring back Meech and Bridgette. Crying because someone looks at you? Ugh, and Bridgette. #bitter",
           0.521
          ],
          [
           "Like I can't do 12 hours worth of standing or calorie burning in 3 hours 😭😭😭😭 #1stworldprobs4vs",
           0.458
          ],
          [
           "Unbelievable takes 10 minutes to get through to @BarclaysUK then there's a fault and the call hangs up #fuming #treatcustomersfairly",
           0.792
          ],
          [
           "Holding a #grudge doesn't make you #strong; it makes you #bitter. #Forgiving doesn't make you #weak; it sets you #free.",
           0.312
          ],
          [
           "@DeltaDomain @SawDraze @qurions dis dat nigga from fume right?",
           0.417
          ],
          [
           "@m_warner21 Yikes. The wrath of Maddie...",
           0.521
          ],
          [
           "Kik me I want to swap pics I will post on my account anonymously if you wish Kik: vsvplou #Kik #kikme  #nudes #tits #snapchat",
           0.188
          ],
          [
           "What terrible thing to see and have no vision-\\n\\nHelen Keller-\\n\\n-Begin with the end in mind-\\n\\nStephen Covey-\\n\\n#whereareugoing #relentless",
           0.396
          ],
          [
           "im so mad about power rangers. im incensed. im furious.",
           0.667
          ],
          [
           "@thomeagle Just to help maintain and boost our status as a world class centre for education, culture and tolerance. #outrage",
           0.438
          ],
          [
           "@leesyatt you are a cruel, cruel man. #therewillbeblood #revenge",
           0.84
          ],
          [
           "Have wee pop socks on and they KEEP FALLING OFF INSIDE MY SHOES #rage",
           0.759
          ],
          [
           "@NM_NickNocturne Incentivise people to roam the Internet being morally offended, as if they didn't do it enough already.",
           0.542
          ],
          [
           "Having a baby born too soon is #lifechanging 6 years on and it feels like only yesterday #sad #happy #angry #emotionalrollercoaster",
           0.375
          ],
          [
           "Anger, resentment, and hatred are the destroyer of your fortune today.",
           0.396
          ],
          [
           "Sting is just too damn earnest for early morning listening. ",
           0.37
          ],
          [
           "@MaddenFreestyle i turn the game on wanting to play madden, and before i load up a game i just turn it off now.",
           0.5
          ],
          [
           "Anger, resentment, and hatred are the destroyer of your fortune today.'",
           0.375
          ],
          [
           "@pbhushan1 @IndianExpress so in your opinion is this the worst delhi govt? #acrid  #hypocrisy",
           0.526
          ],
          [
           "@gayla_weeks1 I try not to let my anger seep into reviews, but I resent having my time wasted on books like that. Time is precious.",
           0.625
          ],
          [
           "#oow16 #sting decent new song",
           0.125
          ],
          [
           "@TrussElise Obama must be fuming.. lol",
           0.5
          ],
          [
           "@fluffysoftlouis no no. I insist that you give me your best insult first",
           0.562
          ]
         ],
         "hovertemplate": "emotion=anger<br>UMAP1=%{x}<br>UMAP2=%{y}<br>text=%{customdata[0]}<br>intensity=%{customdata[1]}<extra></extra>",
         "legendgroup": "anger",
         "marker": {
          "color": "#636efa",
          "symbol": "circle"
         },
         "mode": "markers",
         "name": "anger",
         "orientation": "v",
         "showlegend": true,
         "type": "scatter",
         "x": {
          "bdata": "0wnGP4FzAkA1U4ZA93AQQPNzoT8srERAHaUlQIfeQkBFrJg/guzDP8oWRkD9fidAm4MNQHrT0j+bmZJACgXQPz04mT9Vng5AZRp4QLR27D+AXUNA56QMQGNK4D88P4g/MKY6QCknhT9rNWlAgF+VP+C4KT9Kl+Q/Wpj4P6s7CEBEOn9AoOLHP2rbHkB7Tpk/G/7ePzYzIUByYKdAyAgsP9pVG0AFkeg/deUNPx4uLUCq5Tk/4R8tQHOoH0CmVQ1A",
          "dtype": "f4"
         },
         "xaxis": "x",
         "y": {
          "bdata": "w+2DQEs+U0DM4XZA9S98QAQ6Q0AkJOpAopEHQPOpTEDppmVA+ipXQGmbCEBNBW1AXi+HQIRasUBPi6FAQvNsQDyvNUC5tJFACSCXQDuykkBxRiZAyMGdQFEyekCZQntATPD6PyDjb0AnVIxAOW4oQC+7f0CAjZ1Agh+IQBC3m0AtBVJA80uFQD1Za0BRKH5AKSyCQEf8gUBc+ZJA85yBQIowsEBMXWBA8iGEQEGXCkAzTIBAz5u5QBjwh0BMBJFA",
          "dtype": "f4"
         },
         "yaxis": "y"
        },
        {
         "customdata": [
          [
           "White Americans are worried about Arab terrorists. Black Americans are fearful of a terrorist in a Police uniform on a daily basis.",
           0.854
          ],
          [
           "Sickness bug! ",
           0.5
          ],
          [
           "If I was friends with me I'd hate me SO MUCH with the amount I bully them",
           0.542
          ],
          [
           "@rkuuleiq Fear is best/beast product of God/s. :) #aTheism #theism #biBle  #christianity #hell #heaven #purgatory #psychology #jesus",
           0.37
          ],
          [
           "@bdp514am We are a tired and restless community. We are human and tired of asking for change only to be ignored.",
           0.458
          ],
          [
           "I have another test tonight ",
           0.438
          ],
          [
           "@TheYoungEvans_ 'Kylie, you know me. I won't take no for answer for this kind of things...' *he would smirk and start on the crust.*",
           0.396
          ],
          [
           "@tannerfox awe cnt wait to see",
           0.16
          ],
          [
           "@saltmage I find it less daunting if I know one person at least!",
           0.521
          ],
          [
           "@Max_Kellerman  it also helps that the majority of NFL coaching is inept. Some of Bill O'Brien's play calling was wow, #awful! #GOPATS",
           0.438
          ],
          [
           "Ignored broken tooth for so long, now have abscess. Need dentist but #fear makes it hard for me to go..45 and still can't go to dentist",
           0.896
          ],
          [
           "The #500thTest match would have be a T20 or an ODI if @virendersehwag @B_McCullum42 been in their National Colors #nightmare #hitter  @BCCI",
           0.438
          ],
          [
           "@STLouis_RamsFan their whole team is limited when they're on the field.  #terrible",
           0.271
          ],
          [
           "I'm afraid she's the goat you libeling people? #afraid #goat #libeling",
           0.698
          ],
          [
           "oh yay old scientist builds himself a robot assistant and makes it look like a hot naked woman nothing alarming here",
           0.3
          ],
          [
           "@BBHOH #terrible Paul so deserved that win!!! #bbfail",
           0.354
          ],
          [
           "@DSWT I despair at this madness! It's beyond #shocking it's cold blooded murder!  How long will #SouthAfrica stand by &amp;watch #WorldRhinoDay",
           0.771
          ],
          [
           "searching for what pro and academic writers have to say about #writing #anxiety and #writersblock",
           0.729
          ],
          [
           "Missing the 500th test match today , not able to witness it like watching it in India #shy #indvsnz #500thTest @BCCI",
           0.479
          ],
          [
           "bout to read this article 'Moving the Conversation Forward: Homosexuality &amp; Christianity' from someone in the foursquare church #nervous",
           0.667
          ],
          [
           "induction day tomorrow for pizza express ",
           0.275
          ],
          [
           "Everyday gay panic is STUNNING: I drew 1 guy's att'n to it when he blocked up a toilet stall's cracks w/paper towels. TOTAL INCOMPREHENSION.",
           0.562
          ],
          [
           "On a side note if you are self medicating ? That's not helping that is burying the anxiety that WILL manifest in another way. Heart disease?",
           0.54
          ],
          [
           "#Trump is #afraid of the big, bad #Hillary. #election #PresidentialDebate #PresidentialElection2016 #orangehitler #skip #hide #coward #fear",
           0.531
          ],
          [
           "I seem to alternate between 'sleep-full' and sleepless nights. Tonight is a sleepless one. 😕 #insomnia #anxiety #notfair",
           0.792
          ],
          [
           "#India right of reply at #UNGA - #Pakistan preaching of human rights is by a country which is itself the global epicentre of #terrorism",
           0.742
          ],
          [
           "When someone tells you they're going to 'tear you apart' and all they have to say is 'why are you so tall?' #shocking",
           0.542
          ],
          [
           "I hate that a black lady is painting herself white on the internet for laughs and likes...  #BadForm #DidntLaugh",
           0.5
          ],
          [
           "Background. Suffered a bit at times of #stress. Always a bit #shy. About 8 years ago (aged 30) I was made redundant. That's when it started",
           0.771
          ],
          [
           "Damnnit! Gonna be 1400 pts shy on Chiefs Rewards of getting a post game photo.",
           0.521
          ],
          [
           "@MrsCassonC @15_jordyn WAS THERE A CLOWN IN YOUR NEIGHBORHOOD? #nightmare #creepy #EnoughIsEnough",
           0.812
          ],
          [
           "#GADOT please put a left turn signal at Williams and Ivan Allen Jr Blvd. This is absolutely ridiculous #ATLtraffic #horrible",
           0.479
          ],
          [
           "Tomorrow is going to be a challenge, I have to talk at a freshers fair to STRANGERS 😁and pick up my new flat keys ",
           0.58
          ],
          [
           "Can't start a good day without a cup of tea! \\n\\n#tea #start #day #goodday",
           0.104
          ],
          [
           "wow if i need to start over on SIF im prob gonna just die",
           0.667
          ],
          [
           "The Zika #Hoax Files: DEET is part of a binary chemical weapon targeting your brain: #Toxin #fear #neurological #USCitizens #Insect #mammal",
           0.667
          ],
          [
           "I really wanna go to fright fest 😩",
           0.333
          ],
          [
           "@TheMoosesAngel He looks down at his brother, a smile forming on his face. 'What? People fearing me?'",
           0.333
          ],
          [
           "@alivitali that's what I'm afraid of!",
           0.792
          ],
          [
           "In my room 101 would go  Russell Howard,Tom Odell,Michael Buble!!! #pants #nogood ",
           0.25
          ],
          [
           "Termination rate is at 22.22% I gotta make some things shake",
           0.479
          ],
          [
           "@alicemazzy he was more partisan on social issues a few years back; now he just concern trolls the center left as Chait does the far left",
           0.354
          ],
          [
           "And I would advise that everyone wait to watch @KevinCanWaitCBS ,or actually don't wait, just don't even watch it because it is ",
           0.266
          ],
          [
           "Everything you’ve ever wanted is on the other side of fear. –George Addair #ThursdayThoughts #yourpushfactor  #life #quote",
           0.271
          ],
          [
           "So is texting a guy 'I'm ready for sex now' considered flirting?' #shocking",
           0.431
          ],
          [
           "@JasonBHampton it's Bowers. I went and drove it for a while this evening #horrible",
           0.447
          ],
          [
           "@LmRyle @tomcolicchio @realDonaldTrump @HillaryClinton @ajjaffe I understand your concerns but look at her foundation contributions ",
           0.315
          ],
          [
           "Man Utd are shambles that was horrific 😭😭😭",
           0.521
          ],
          [
           "@madihayousufzai Please DM your concern",
           0.271
          ],
          [
           "#AnthonyWeiner #DISTRACTION #what is really going on? #selection #election #Syria  #race #riots #GasCrisis2016 #NoDAPL #rape",
           0.771
          ],
          [
           "Ha! @mquirk @joshuahoodbooks Got your book after our 'meeting' at the Starbucks in NOLA. If Josh says it's terrific, I'm all in.",
           0.125
          ],
          [
           "At school, my classmate is with me at music class and he sang Hallelujah like, god, with my friend we were breathless.",
           0.22
          ],
          [
           "He called me fat, so I pushed him into the lockers then he threaten to sue me' 😂",
           0.479
          ],
          [
           "Trying to book holiday flights on @britishairways website is becoming a ",
           0.312
          ],
          [
           "The Apocalypse has hit our gym and it's  nothing what I thought it would be...\\n\\nEveryone is wearing vests! What if it's contagious? ",
           0.583
          ],
          [
           "Why upping rooms makes a few apprehend leaving out charcoal ownership: UnZU",
           0.396
          ],
          [
           "The moment you bring her to meet your best friend and you're nervous af! 😬😆  #thefriendtest",
           0.875
          ],
          [
           "@ccrago It was dreadful, even after he met the Catfish he still thought it was her!",
           0.5
          ],
          [
           "Southend players always haunt Man U",
           0.417
          ],
          [
           "Whatt a trailerrrr !!! @karanjohar @AnushkaSharma #RanbirKapoor #AishwaryaRaiBachchan i am COMPLETELY BLOWN !! #awestruck #longingformore",
           0.417
          ],
          [
           "About 7 weeks till I can pick up my camera again. Though I think there is a group cemetery shoot in october I can make! #photography ",
           0.312
          ],
          [
           "Tweeting from the sporadic wifi on the tube ",
           0.292
          ],
          [
           "The Apocalypse has hit our gym and it's  nothing what I thought it would be...\\n\\nEveryone is wearing vests! What if it's contagious? #afraid",
           0.812
          ],
          [
           "@All4 is the android app it designed to be buggy and work sporadically on a fire TV box? ",
           0.25
          ]
         ],
         "hovertemplate": "emotion=fear<br>UMAP1=%{x}<br>UMAP2=%{y}<br>text=%{customdata[0]}<br>intensity=%{customdata[1]}<extra></extra>",
         "legendgroup": "fear",
         "marker": {
          "color": "#EF553B",
          "symbol": "circle"
         },
         "mode": "markers",
         "name": "fear",
         "orientation": "v",
         "showlegend": true,
         "type": "scatter",
         "x": {
          "bdata": "Hh5dQJU9g0A81mdAIzSNQC++KUD9d5lAYf47QHoJT0CijZtA6FUIQPnHqUAF1WNAyokJQNs6iEBrDGFARBGAP6/RDkAx3qtAy4mCQPOPnECw85tAuheJQF8HrkAuNHRA4RmtQBYjK0BVInlAEZ3ZPyEPsEAcxuM/Y9pMQFZe5j+ZJp9AbBV5QI/peUB3VYVAdheQQNElgEDu245AVEnLP1cAhEC7c0xA+fGgP9HHoUBQhmRA6H4KQGMgWkBpsPQ/CyE+QOTnX0AeGz9AQkalQGZaT0DqLKY/J3uEQHfDJUCD+JBAhjEdQA85+j89zjRAZueoQB7CL0D2ko9A4+CvPw==",
          "dtype": "f4"
         },
         "xaxis": "x",
         "y": {
          "bdata": "8qMTQMpzcUDnlYpAa2A4QJbdVECtI5BAWt2TQN2KuEAnBolAZ9NMQArVakB8GXpAT6xBQPEzO0C8rGlA5AZgQDL9EkDLHmhAWNiZQOBDXEDk7oRA6URSQHhucUCgxhJAVwt9QIMOBkAvnU9AyKCOQMe/eUA7D3VAOcdFQNF5NEBuCX9A5FjIQFj0hkBADChA1NOHQFfvSECgJEZAk4FRQAYhiEDpD+k/kAFRQHzoWECjRF9Ae209QHk+8z989yhAypmCQCOOCUBcQ9VA3jnBQENFjEBhph9Av6VbQNhClECSdl9A5GQ9QDSMMUBsvt5AZDqlQDXPvkBZdEhAxMoYQA==",
          "dtype": "f4"
         },
         "yaxis": "y"
        },
        {
         "customdata": [
          [
           "I like talking to someone who makes me laugh, laughter is the best medicine",
           0.646
          ],
          [
           "@Tomstarling86 He didn't have many chances to show what he can do but looked lively and had a good shot tipped over the bar before the end.",
           0.36
          ],
          [
           "#Talking about our #Problems is our greatest #Addiction#Break the #habitTalk about ur #Joys#quote  #problemsolving #behappy",
           0.494
          ],
          [
           "Made my night that @GordonReid91 Reid was included in tonight's hilarity. Some of those points were brilliant. Thanks @andy_murray",
           0.812
          ],
          [
           "Tonight my top delight was a Skein of Geese flying about 1 foot above me as I swam in #Windermere. Breeze dropped &amp; it became like glass.",
           0.544
          ],
          [
           "hate overthinking e v e r y t h i n g like i jus' wanna be happy pls",
           0.04
          ],
          [
           "Meanwhile, the so-called M’s fans sit there knitting or sleeping not sure which but they certainly aren’t cheering like the other teams fans",
           0.271
          ],
          [
           "@RobRiggle @joelmchale @NFLonFOX I still can't get jimmy garoppolo out of my head and it's been almost 3 weeks. Thanks a lot! ",
           0.5
          ],
          [
           "@HillaryClinton did you see the gleeful look on @realDonaldTrump 's face when criminal Don King used the 'n' word to denigrate Blacks?",
           0.2
          ],
          [
           "Halfway to work and I realize I forgot to put on underwear....It's going to be one of those days! #mombrain #toomuchgoingon #longday #breezy",
           0.25
          ],
          [
           "Oh dear an evening of absolute hilarity I don't think I have laughed so much in a long time! 😂",
           0.958
          ],
          [
           "@LFScott57 Miss Cookie sends her thanks! She's not as spry as she used to be - like me! She doesn't have the adventures the young pups do!",
           0.6
          ],
          [
           "Watch this amazing live.ly broadcast by @its.finfin  #musically",
           0.458
          ],
          [
           "Getting my comedic relief w/ @SofiaVergara during season premiere of #ModernFamily. Just what a girl needs! #hilarious",
           0.846
          ],
          [
           "@AdsByFlaherty And you're cheerfully defending a group of unchecked, armed thugs who've shown a history of racism, violence, and lies.",
           0.104
          ],
          [
           "I can not depict what I feel right now.. I feel jubilant yet anxious, or..dunno. It seems like now I'm having something worth wait everyday.",
           0.5
          ],
          [
           "@reinervshunter you got this #staystrong #smile #yourebeautiful",
           0.656
          ],
          [
           "@blackeyed_susie They ain't going away, and I don't want to see them hurt; changing hearts/minds is really our only option, no? #optimism",
           0.333
          ],
          [
           "@lennyabrahamson May I send you a copy of #HeroTheGreyhound? Either e-book or real paper one! A boy and a greyhound #smiles #tears #laughter",
           0.667
          ],
          [
           "Had a coworker look at her phone and say, cheerfully, 'oh look, Kap's getting death threats now.' 🙄. Then she goes to say the 49ers are",
           0.385
          ],
          [
           "Intermit animated^%%%ncaa pittsburgh vs mississippi sprightly shiny bbva level peg varsity football telly scra...",
           0.406
          ],
          [
           "@alyankovic I really wish I could attend the show at RCMH. I'm there in spirit, cheering you and the dudes on! :)",
           0.577
          ],
          [
           "@JackCurryYES he's just lucky...bad pitchers...#WHATEVER...ElKracken is #legit #future  #gottawearshades #LetsGoYankees",
           0.32
          ],
          [
           "Thank you @twitter for the balloons today.  #goodday #48",
           0.562
          ],
          [
           "@airvistara as always it was indeed a wonderful experience flying with you guys today #bestinbusiness  #happyme",
           0.76
          ],
          [
           "@buzzlightbeard2 If you don't love yourself... Honesty is the best policy #smile",
           0.438
          ],
          [
           "I love when my dog is playful, but he really just scratched my face while flailing his paws in excitement and almost tore my nose ring out",
           0.333
          ],
          [
           "#smile every morning to a positive head start with your #clients relations",
           0.562
          ],
          [
           "@shwood @mpforstein OMD you 2 are cracking me up! Thanks for the follow Brian. I need some levity to balance the cynicism I share w/Michael😀",
           0.84
          ],
          [
           "Rewatching 'Raising Hope' (with hubs this time) and totally forgot how hilarious it is 😂 #HereWeGo",
           0.76
          ],
          [
           "The point of living, and being an optimist, is to be foolish enough to believe the best is yet to come' - Peter Ustinov  #quote",
           0.407
          ],
          [
           "As a photographer this portrait shooting mode on the iPhone 7 Plus is going to frustrate me ~75% of the time but delight ~25% of the time.",
           0.161
          ],
          [
           "The birds chirp , the sun shines and the wind chimes chime. There was once a smile on this face.",
           0.353
          ],
          [
           "@honevbee close up shots of my ugly mug as I continue to talk about Blaine years after glee has been dead",
           0.28
          ],
          [
           "Three days off a month with two ex wives and no home could be worse. I don't know how, but it could #oilandgas ",
           0.125
          ],
          [
           "“Set a goal to achieve something that's so big so exhilarating that excites you &amp; scares you at the same time.” \\n― #BobProctor",
           0.383
          ],
          [
           "Ready for that nice, breezy, calm, sunshine weather.🍂🍁 #Autumn",
           0.583
          ],
          [
           "How can l rule my mind !!!!!! \\nIt's hilarious that you can't 😭😑😮",
           0.396
          ],
          [
           "@Geminiak @LondonNPC you're welcome! #wordgeek \\nAlso, good to put a face to the twitter feed, even if it was only a cheery hello! 😀",
           0.646
          ],
          [
           "@PhilGlutting Hey There Phil Glutting thank you for following us, it's appreciated :) #smile",
           0.76
          ],
          [
           "@MichiganBromo Good optimism sir :)",
           0.538
          ],
          [
           "A #new day to #live and #smile. Hope all the #followers a nice #night or #day. :D",
           0.688
          ],
          [
           "@DocBellsSwan *peers down at you, eyes crinkling with mirth and affection* I do love ye so, my bonnie Belle.",
           0.66
          ],
          [
           "Chris would take full responsibility and would want us all to rejoice in the memories we all had with him.",
           0.28
          ],
          [
           "it gets better. without explanation; you just wake up one morning and you’re just happy, totally and utterly elated.",
           0.896
          ]
         ],
         "hovertemplate": "emotion=joy<br>UMAP1=%{x}<br>UMAP2=%{y}<br>text=%{customdata[0]}<br>intensity=%{customdata[1]}<extra></extra>",
         "legendgroup": "joy",
         "marker": {
          "color": "#00cc96",
          "symbol": "circle"
         },
         "mode": "markers",
         "name": "joy",
         "orientation": "v",
         "showlegend": true,
         "type": "scatter",
         "x": {
          "bdata": "PyyCQBJNSUA1e4RAsJxLQHVtWkDarotArYAdQNT7CECDJ1dAA0E1QIVMZkCRPU1ASRbUP1h4SkB+AD9AgfmlQCRbiUD8dGlARsBPQKabMkDjQN4/m2BhQOADPEDhyFtAAkFiQBWkhkC9rJtAwHKBQBD8Q0DklVBAiZhnQIA7qUACOItAs2KRQJa4HUA9Z5tANQSRQJmBYkBnQVpAf8NmQMqUXEA1RndAzzuXQBDviUATTY5A",
          "dtype": "f4"
         },
         "xaxis": "x",
         "y": {
          "bdata": "QDbbQBX3tUAWIbdA9LHjQGbm3EBJzJlAkQSkQGh9XUCAMQtAf7JmQDEV5kAJjcxAIjC1QKUt6UDAqRJAK5GTQDOU0EC4Dq1A6rXfQIZjMUAzW7RA5ECoQP/qrUB/lNVAyVncQPsS0UAq7cpA71TMQGbczEBb/+tAazG3QFtvpUDUbcVA1LHZQB85bUCzbF1A2XfDQJeWlkDAF9JA/lHVQLnqtUB31s1A34zVQE+rr0B2Zr9A",
          "dtype": "f4"
         },
         "yaxis": "y"
        },
        {
         "customdata": [
          [
           "Snores on TL. Boredom sunk in.",
           0.333
          ],
          [
           "@BTS_twt people have so much negativity filled inside them but im always happy that in such a gloomy world someone like u exists Namjoon",
           0.45
          ],
          [
           "My nephew sees that i have a frown on my face and he tells me 'you're  beautiful '!😢💞😩",
           0.542
          ],
          [
           "@thatsabingo grim really",
           0.688
          ],
          [
           "gloomy weather puts me in the best mood",
           0.271
          ],
          [
           "Someone needs to tell Candice she'll be stuck with that shitty pout if the wind changes. #GBBO",
           0.521
          ],
          [
           "@kcbbcxo don't get discouraged! it's early on &amp; it can get overwhelming. keep reading &amp; use cue cards 😊 it'll get better!!",
           0.229
          ],
          [
           "If you find me lost, will you stay as a passerby or will you get lost with me? #musings #melancholy",
           0.68
          ],
          [
           "Americans as a whole are, for the most part, feeling borderline despair at the very least. Looking at a situation out of control.",
           0.688
          ],
          [
           "Another grim &amp; compelling news report by @Nawalf on the blockade of aid to the starving in #Yemen #BBC #dosomethingpoliticans",
           0.708
          ],
          [
           "@Groupon_UK who do I contact about a shocking experience with Clear Sky Holidays booked through you guys?? #customerservicefail #dreadful",
           0.542
          ],
          [
           "Cheap pout my brodcast",
           0.438
          ],
          [
           "Candice's pout gets more preposterous by the week. This week it's gone a bit Jack Nicholson's Joker. #GBBO",
           0.397
          ],
          [
           "@_noTORIEty lol senior year we would get early dismal for work study ,he was her boss and you know what happened next 🙃",
           0.354
          ],
          [
           "@LVLMLeah Nooooooooooooooooooooo. We have stupid, dismal, lame winters where we maybe get some dangerous ice once.",
           0.646
          ],
          [
           "Please bear with me, I'm not Twitter savvy😝 in real life I'm a Facebook person. Help me gain followers 🤓 #blog #selfhelp ",
           0.146
          ],
          [
           "Can I just sulk in peace 😂",
           0.688
          ],
          [
           "@Theshadeshit91 \\nOh, I'm sorry about it, do not be sad yourself there is nothing important in the world to grieve about it",
           0.625
          ],
          [
           "@EBled2 Great to have you as our tournament chair and award was #serious",
           0.132
          ],
          [
           "Trying to think positive, and not let this situation discourage me ✨✨✨✨✨✨✨✨✨✨✨✨✨✨✨✨✨✨✨✨✨✨✨✨✨✨✨✨✨✨✨✨✨✨✨✨✨✨✨✨✨✨✨✨✨✨✨✨✨✨✨✨✨✨✨✨✨✨✨✨✨✨✨✨✨✨✨✨✨✨✨✨✨",
           0.44
          ],
          [
           "@janhopis I found the first few episodes of Bojack incredibly funny. Then it got less funny but I stayed for the #drama",
           0.354
          ],
          [
           "Don't get discouraged when simple minds don't see your vision",
           0.375
          ],
          [
           "2 applications for my dbs and still waiting. Been over a year now. Going to loose my job 👍🏿 @GOVUK  #thanks #unhappy #crb",
           0.792
          ],
          [
           "Like keep grinding boy your life can change in one year, and even when it's dark out the sun is shining somewhere...'",
           0.417
          ],
          [
           "Always do sober what you said you'd do drunk. That will teach you to keep your mouth shut. \\n― Ernest Hemingway #quote",
           0.479
          ],
          [
           "the rappers who stayed true to the game is rich.",
           0.208
          ],
          [
           "The weather sure matches the mood in this state today.. #gloomy",
           0.792
          ],
          [
           "@TheCatHeSay I may be #alwayshungry but I haven't sunk that low yet!! @Thereluctantcat",
           0.312
          ],
          [
           "Kinda wanna just book a vacation and go...anyone wanna tag along? #adventure #serious",
           0.312
          ],
          [
           "What's a Kali's kitten? [She asked, a frown curling on her fair skinned forehead as he showed her the scar] A cat did - (@ScarredTiger)",
           0.417
          ],
          [
           "@lebara - worst possible decision I could have made when arriving in the UK. Shocking service. Poor coverage. #unhappy",
           0.771
          ],
          [
           "Im kind of confused.  The one thing i do right now has a great future, but on the other hand so does the new thing . #lost #needhelp",
           0.604
          ],
          [
           "I don't want the pity of my instructors but I'd like some understanding. I'm truly trying despite ALL circumstances that make me discouraged",
           0.625
          ],
          [
           "@HillaryClinton @TheDemocrats It's ok 2 be disgusted or dishearten with presidential race but don't let that stop u from voting IT MATTERS",
           0.542
          ],
          [
           "No one wants to win the wild card because you have to play the Cubs on the road.  #sadness",
           0.767
          ],
          [
           "[ @HedgehogDylan ] *she would frown a bit, folding her arms* 'why is it that every time I'm in need of assistance someone expects a lil **",
           0.562
          ],
          [
           "On bedrest since I got out of the hospital. U find in unopened beer.. what do I do. Pour that shit out! No alcohol at all for me #sober",
           0.44
          ],
          [
           "MC: what are you listen to these days?\\nBogum: these days I feel gloomy, I listen to ccm (spiritual song) often.\\n\\nChurch oppa mode. :)",
           0.583
          ],
          [
           "Public products: high downhearted price tag consumer survey sum and substance: OVth",
           0.354
          ],
          [
           "This shit hurting my heart 😪 that's how serious it is .",
           0.875
          ],
          [
           "you are on an endless journey of figuring yourself out; don't be discouraged when you don't know who you are yet.",
           0.375
          ],
          [
           "A3: But chronic sadness may mean there are underlying issues than getting sad occassionally over a particular issue (2/2) #mhchat",
           0.562
          ],
          [
           "yesterday i finished watching penny dreadful and from all the beautiful things i saw one question remains: were the writers HIM's fans?",
           0.312
          ]
         ],
         "hovertemplate": "emotion=sadness<br>UMAP1=%{x}<br>UMAP2=%{y}<br>text=%{customdata[0]}<br>intensity=%{customdata[1]}<extra></extra>",
         "legendgroup": "sadness",
         "marker": {
          "color": "#ab63fa",
          "symbol": "circle"
         },
         "mode": "markers",
         "name": "sadness",
         "orientation": "v",
         "showlegend": true,
         "type": "scatter",
         "x": {
          "bdata": "0iIXQAu8nUAUaZxApukgQHxdnUCTJKE/iGqBQElFoEDX/mBATL8MQKewrz942eI/DoGLP8uFSEAzTbE/0aRCQAyOkUCy6IpANhBGQIXBhUA4nlVAchN+QCnSnj8h8X9ABX2oP/0k5j8dk51AzmAtQCcZpEDz/E9AARqCP8CBnUB1VIVAdN9TQEyTjEAsS01AHvi5P4HuoUA2hwVASUl2QKj6jUAKJppAHGo+QA==",
          "dtype": "f4"
         },
         "xaxis": "x",
         "y": {
          "bdata": "9ROuQGJ/vkANMM1Ay/aWQK1SvkD1I41AfbypQCoep0ALMTtAt5sSQIr3IECIR69AuZ+PQB0jikAZxYlApL6+QIhWn0BNeqBA9yDPQPGhs0BIpexABZ2sQBZEKEAzyL1A7rOWQOEbpkBkDq1Agi+NQG77oUA4PHFA4B4pQIX1mUBRSqVA/UkCQBzMm0B/QHdA/H2GQMj3vkCz2apAAA6OQNM+rUAQ2KRAJmPsQA==",
          "dtype": "f4"
         },
         "yaxis": "y"
        }
       ],
       "layout": {
        "legend": {
         "title": {
          "text": "emotion"
         },
         "tracegroupgap": 0
        },
        "template": {
         "data": {
          "bar": [
           {
            "error_x": {
             "color": "#2a3f5f"
            },
            "error_y": {
             "color": "#2a3f5f"
            },
            "marker": {
             "line": {
              "color": "#E5ECF6",
              "width": 0.5
             },
             "pattern": {
              "fillmode": "overlay",
              "size": 10,
              "solidity": 0.2
             }
            },
            "type": "bar"
           }
          ],
          "barpolar": [
           {
            "marker": {
             "line": {
              "color": "#E5ECF6",
              "width": 0.5
             },
             "pattern": {
              "fillmode": "overlay",
              "size": 10,
              "solidity": 0.2
             }
            },
            "type": "barpolar"
           }
          ],
          "carpet": [
           {
            "aaxis": {
             "endlinecolor": "#2a3f5f",
             "gridcolor": "white",
             "linecolor": "white",
             "minorgridcolor": "white",
             "startlinecolor": "#2a3f5f"
            },
            "baxis": {
             "endlinecolor": "#2a3f5f",
             "gridcolor": "white",
             "linecolor": "white",
             "minorgridcolor": "white",
             "startlinecolor": "#2a3f5f"
            },
            "type": "carpet"
           }
          ],
          "choropleth": [
           {
            "colorbar": {
             "outlinewidth": 0,
             "ticks": ""
            },
            "type": "choropleth"
           }
          ],
          "contour": [
           {
            "colorbar": {
             "outlinewidth": 0,
             "ticks": ""
            },
            "colorscale": [
             [
              0,
              "#0d0887"
             ],
             [
              0.1111111111111111,
              "#46039f"
             ],
             [
              0.2222222222222222,
              "#7201a8"
             ],
             [
              0.3333333333333333,
              "#9c179e"
             ],
             [
              0.4444444444444444,
              "#bd3786"
             ],
             [
              0.5555555555555556,
              "#d8576b"
             ],
             [
              0.6666666666666666,
              "#ed7953"
             ],
             [
              0.7777777777777778,
              "#fb9f3a"
             ],
             [
              0.8888888888888888,
              "#fdca26"
             ],
             [
              1,
              "#f0f921"
             ]
            ],
            "type": "contour"
           }
          ],
          "contourcarpet": [
           {
            "colorbar": {
             "outlinewidth": 0,
             "ticks": ""
            },
            "type": "contourcarpet"
           }
          ],
          "heatmap": [
           {
            "colorbar": {
             "outlinewidth": 0,
             "ticks": ""
            },
            "colorscale": [
             [
              0,
              "#0d0887"
             ],
             [
              0.1111111111111111,
              "#46039f"
             ],
             [
              0.2222222222222222,
              "#7201a8"
             ],
             [
              0.3333333333333333,
              "#9c179e"
             ],
             [
              0.4444444444444444,
              "#bd3786"
             ],
             [
              0.5555555555555556,
              "#d8576b"
             ],
             [
              0.6666666666666666,
              "#ed7953"
             ],
             [
              0.7777777777777778,
              "#fb9f3a"
             ],
             [
              0.8888888888888888,
              "#fdca26"
             ],
             [
              1,
              "#f0f921"
             ]
            ],
            "type": "heatmap"
           }
          ],
          "histogram": [
           {
            "marker": {
             "pattern": {
              "fillmode": "overlay",
              "size": 10,
              "solidity": 0.2
             }
            },
            "type": "histogram"
           }
          ],
          "histogram2d": [
           {
            "colorbar": {
             "outlinewidth": 0,
             "ticks": ""
            },
            "colorscale": [
             [
              0,
              "#0d0887"
             ],
             [
              0.1111111111111111,
              "#46039f"
             ],
             [
              0.2222222222222222,
              "#7201a8"
             ],
             [
              0.3333333333333333,
              "#9c179e"
             ],
             [
              0.4444444444444444,
              "#bd3786"
             ],
             [
              0.5555555555555556,
              "#d8576b"
             ],
             [
              0.6666666666666666,
              "#ed7953"
             ],
             [
              0.7777777777777778,
              "#fb9f3a"
             ],
             [
              0.8888888888888888,
              "#fdca26"
             ],
             [
              1,
              "#f0f921"
             ]
            ],
            "type": "histogram2d"
           }
          ],
          "histogram2dcontour": [
           {
            "colorbar": {
             "outlinewidth": 0,
             "ticks": ""
            },
            "colorscale": [
             [
              0,
              "#0d0887"
             ],
             [
              0.1111111111111111,
              "#46039f"
             ],
             [
              0.2222222222222222,
              "#7201a8"
             ],
             [
              0.3333333333333333,
              "#9c179e"
             ],
             [
              0.4444444444444444,
              "#bd3786"
             ],
             [
              0.5555555555555556,
              "#d8576b"
             ],
             [
              0.6666666666666666,
              "#ed7953"
             ],
             [
              0.7777777777777778,
              "#fb9f3a"
             ],
             [
              0.8888888888888888,
              "#fdca26"
             ],
             [
              1,
              "#f0f921"
             ]
            ],
            "type": "histogram2dcontour"
           }
          ],
          "mesh3d": [
           {
            "colorbar": {
             "outlinewidth": 0,
             "ticks": ""
            },
            "type": "mesh3d"
           }
          ],
          "parcoords": [
           {
            "line": {
             "colorbar": {
              "outlinewidth": 0,
              "ticks": ""
             }
            },
            "type": "parcoords"
           }
          ],
          "pie": [
           {
            "automargin": true,
            "type": "pie"
           }
          ],
          "scatter": [
           {
            "fillpattern": {
             "fillmode": "overlay",
             "size": 10,
             "solidity": 0.2
            },
            "type": "scatter"
           }
          ],
          "scatter3d": [
           {
            "line": {
             "colorbar": {
              "outlinewidth": 0,
              "ticks": ""
             }
            },
            "marker": {
             "colorbar": {
              "outlinewidth": 0,
              "ticks": ""
             }
            },
            "type": "scatter3d"
           }
          ],
          "scattercarpet": [
           {
            "marker": {
             "colorbar": {
              "outlinewidth": 0,
              "ticks": ""
             }
            },
            "type": "scattercarpet"
           }
          ],
          "scattergeo": [
           {
            "marker": {
             "colorbar": {
              "outlinewidth": 0,
              "ticks": ""
             }
            },
            "type": "scattergeo"
           }
          ],
          "scattergl": [
           {
            "marker": {
             "colorbar": {
              "outlinewidth": 0,
              "ticks": ""
             }
            },
            "type": "scattergl"
           }
          ],
          "scattermap": [
           {
            "marker": {
             "colorbar": {
              "outlinewidth": 0,
              "ticks": ""
             }
            },
            "type": "scattermap"
           }
          ],
          "scattermapbox": [
           {
            "marker": {
             "colorbar": {
              "outlinewidth": 0,
              "ticks": ""
             }
            },
            "type": "scattermapbox"
           }
          ],
          "scatterpolar": [
           {
            "marker": {
             "colorbar": {
              "outlinewidth": 0,
              "ticks": ""
             }
            },
            "type": "scatterpolar"
           }
          ],
          "scatterpolargl": [
           {
            "marker": {
             "colorbar": {
              "outlinewidth": 0,
              "ticks": ""
             }
            },
            "type": "scatterpolargl"
           }
          ],
          "scatterternary": [
           {
            "marker": {
             "colorbar": {
              "outlinewidth": 0,
              "ticks": ""
             }
            },
            "type": "scatterternary"
           }
          ],
          "surface": [
           {
            "colorbar": {
             "outlinewidth": 0,
             "ticks": ""
            },
            "colorscale": [
             [
              0,
              "#0d0887"
             ],
             [
              0.1111111111111111,
              "#46039f"
             ],
             [
              0.2222222222222222,
              "#7201a8"
             ],
             [
              0.3333333333333333,
              "#9c179e"
             ],
             [
              0.4444444444444444,
              "#bd3786"
             ],
             [
              0.5555555555555556,
              "#d8576b"
             ],
             [
              0.6666666666666666,
              "#ed7953"
             ],
             [
              0.7777777777777778,
              "#fb9f3a"
             ],
             [
              0.8888888888888888,
              "#fdca26"
             ],
             [
              1,
              "#f0f921"
             ]
            ],
            "type": "surface"
           }
          ],
          "table": [
           {
            "cells": {
             "fill": {
              "color": "#EBF0F8"
             },
             "line": {
              "color": "white"
             }
            },
            "header": {
             "fill": {
              "color": "#C8D4E3"
             },
             "line": {
              "color": "white"
             }
            },
            "type": "table"
           }
          ]
         },
         "layout": {
          "annotationdefaults": {
           "arrowcolor": "#2a3f5f",
           "arrowhead": 0,
           "arrowwidth": 1
          },
          "autotypenumbers": "strict",
          "coloraxis": {
           "colorbar": {
            "outlinewidth": 0,
            "ticks": ""
           }
          },
          "colorscale": {
           "diverging": [
            [
             0,
             "#8e0152"
            ],
            [
             0.1,
             "#c51b7d"
            ],
            [
             0.2,
             "#de77ae"
            ],
            [
             0.3,
             "#f1b6da"
            ],
            [
             0.4,
             "#fde0ef"
            ],
            [
             0.5,
             "#f7f7f7"
            ],
            [
             0.6,
             "#e6f5d0"
            ],
            [
             0.7,
             "#b8e186"
            ],
            [
             0.8,
             "#7fbc41"
            ],
            [
             0.9,
             "#4d9221"
            ],
            [
             1,
             "#276419"
            ]
           ],
           "sequential": [
            [
             0,
             "#0d0887"
            ],
            [
             0.1111111111111111,
             "#46039f"
            ],
            [
             0.2222222222222222,
             "#7201a8"
            ],
            [
             0.3333333333333333,
             "#9c179e"
            ],
            [
             0.4444444444444444,
             "#bd3786"
            ],
            [
             0.5555555555555556,
             "#d8576b"
            ],
            [
             0.6666666666666666,
             "#ed7953"
            ],
            [
             0.7777777777777778,
             "#fb9f3a"
            ],
            [
             0.8888888888888888,
             "#fdca26"
            ],
            [
             1,
             "#f0f921"
            ]
           ],
           "sequentialminus": [
            [
             0,
             "#0d0887"
            ],
            [
             0.1111111111111111,
             "#46039f"
            ],
            [
             0.2222222222222222,
             "#7201a8"
            ],
            [
             0.3333333333333333,
             "#9c179e"
            ],
            [
             0.4444444444444444,
             "#bd3786"
            ],
            [
             0.5555555555555556,
             "#d8576b"
            ],
            [
             0.6666666666666666,
             "#ed7953"
            ],
            [
             0.7777777777777778,
             "#fb9f3a"
            ],
            [
             0.8888888888888888,
             "#fdca26"
            ],
            [
             1,
             "#f0f921"
            ]
           ]
          },
          "colorway": [
           "#636efa",
           "#EF553B",
           "#00cc96",
           "#ab63fa",
           "#FFA15A",
           "#19d3f3",
           "#FF6692",
           "#B6E880",
           "#FF97FF",
           "#FECB52"
          ],
          "font": {
           "color": "#2a3f5f"
          },
          "geo": {
           "bgcolor": "white",
           "lakecolor": "white",
           "landcolor": "#E5ECF6",
           "showlakes": true,
           "showland": true,
           "subunitcolor": "white"
          },
          "hoverlabel": {
           "align": "left"
          },
          "hovermode": "closest",
          "mapbox": {
           "style": "light"
          },
          "paper_bgcolor": "white",
          "plot_bgcolor": "#E5ECF6",
          "polar": {
           "angularaxis": {
            "gridcolor": "white",
            "linecolor": "white",
            "ticks": ""
           },
           "bgcolor": "#E5ECF6",
           "radialaxis": {
            "gridcolor": "white",
            "linecolor": "white",
            "ticks": ""
           }
          },
          "scene": {
           "xaxis": {
            "backgroundcolor": "#E5ECF6",
            "gridcolor": "white",
            "gridwidth": 2,
            "linecolor": "white",
            "showbackground": true,
            "ticks": "",
            "zerolinecolor": "white"
           },
           "yaxis": {
            "backgroundcolor": "#E5ECF6",
            "gridcolor": "white",
            "gridwidth": 2,
            "linecolor": "white",
            "showbackground": true,
            "ticks": "",
            "zerolinecolor": "white"
           },
           "zaxis": {
            "backgroundcolor": "#E5ECF6",
            "gridcolor": "white",
            "gridwidth": 2,
            "linecolor": "white",
            "showbackground": true,
            "ticks": "",
            "zerolinecolor": "white"
           }
          },
          "shapedefaults": {
           "line": {
            "color": "#2a3f5f"
           }
          },
          "ternary": {
           "aaxis": {
            "gridcolor": "white",
            "linecolor": "white",
            "ticks": ""
           },
           "baxis": {
            "gridcolor": "white",
            "linecolor": "white",
            "ticks": ""
           },
           "bgcolor": "#E5ECF6",
           "caxis": {
            "gridcolor": "white",
            "linecolor": "white",
            "ticks": ""
           }
          },
          "title": {
           "x": 0.05
          },
          "xaxis": {
           "automargin": true,
           "gridcolor": "white",
           "linecolor": "white",
           "ticks": "",
           "title": {
            "standoff": 15
           },
           "zerolinecolor": "white",
           "zerolinewidth": 2
          },
          "yaxis": {
           "automargin": true,
           "gridcolor": "white",
           "linecolor": "white",
           "ticks": "",
           "title": {
            "standoff": 15
           },
           "zerolinecolor": "white",
           "zerolinewidth": 2
          }
         }
        },
        "title": {
         "text": "2D UMAP Projection of Text Embeddings"
        },
        "xaxis": {
         "anchor": "y",
         "domain": [
          0,
          1
         ],
         "title": {
          "text": "UMAP1"
         }
        },
        "yaxis": {
         "anchor": "x",
         "domain": [
          0,
          1
         ],
         "title": {
          "text": "UMAP2"
         }
        }
       }
      }
     },
     "metadata": {},
     "output_type": "display_data"
    }
   ],
   "source": [
    "import pandas as pd\n",
    "import numpy as np\n",
    "import umap\n",
    "import plotly.express as px\n",
    "\n",
    "# Concatenate the training and test data\n",
    "combined_df = pd.concat([train_df_new, test_df_new], ignore_index=True)\n",
    "\n",
    "# Prepare the embeddings for UMAP\n",
    "# Convert the list of embeddings into a 2D numpy array\n",
    "X_embeddings = np.array(combined_df['embeddings_values'].tolist())\n",
    "\n",
    "# Apply UMAP for dimensionality reduction\n",
    "reducer = umap.UMAP(n_components=2, metric='cosine', random_state=28) \n",
    "embedding_2d = reducer.fit_transform(X_embeddings)\n",
    "\n",
    "# Create a DataFrame for plotting\n",
    "df_plot = pd.DataFrame(embedding_2d, columns=['UMAP1', 'UMAP2'])\n",
    "df_plot['emotion'] = combined_df['emotion']\n",
    "df_plot['intensity'] = combined_df['intensity']\n",
    "df_plot['text'] = combined_df['text']\n",
    "\n",
    "\n",
    "# Visualize the embeddings with Plotly\n",
    "fig = px.scatter(\n",
    "    df_plot,\n",
    "    x='UMAP1',\n",
    "    y='UMAP2',\n",
    "    color='emotion',  # Color points by the 'emotion' column\n",
    "    hover_data=['text', 'intensity'],  # Show text and intensity on hover\n",
    "    title='2D UMAP Projection of Text Embeddings'\n",
    ")\n",
    "\n",
    "fig.show()"
   ]
  },
  {
   "cell_type": "markdown",
   "metadata": {},
   "source": [
    "We can see that even with Gemini's embeddings there doesn't seem to be a clear 2D separation of clusters with our data classes. It could be because emotions are often not discrete. Texts can contain mixed feelings (e.g., \"bittersweet\") or use similar language to express different emotions, causing their embeddings to be naturally close in semantic space. And also the process of projecting high-dimensional embeddings down to a 2D visualization inevitably loses some information, which can make distinct clusters appear to overlap."
   ]
  },
  {
   "cell_type": "markdown",
   "metadata": {},
   "source": [
    "---\n",
    "##### <a id='toc1_5_8_1_1_'></a>[**>>> Exercise 4 (Take home):**](#toc0_)\n",
    "\n",
    "Apply UMAP to the same embeddings to reduce the dimensionality to 3D vectors and plot the 3D graph, discuss the differences and similarities with the 2D graph."
   ]
  },
  {
   "cell_type": "code",
   "execution_count": 50,
   "metadata": {},
   "outputs": [
    {
     "name": "stderr",
     "output_type": "stream",
     "text": [
      "d:\\Home work\\dm2\\DM2025-Lab2-Exercise\\.venv\\Lib\\site-packages\\umap\\umap_.py:1952: UserWarning:\n",
      "\n",
      "n_jobs value 1 overridden to 1 by setting random_state. Use no seed for parallelism.\n",
      "\n"
     ]
    },
    {
     "data": {
      "application/vnd.plotly.v1+json": {
       "config": {
        "plotlyServerURL": "https://plot.ly"
       },
       "data": [
        {
         "customdata": [
          [
           "@TeamShanny legit why i am so furious with him, people are such fucking idiots.",
           0.875
          ],
          [
           "A @FirstBSA not turning up? Why am I not surprised. Late for work again! ",
           0.583
          ],
          [
           "Now that the whole clown rage has scared me shitless, I'm gonna go cry in my room",
           0.729
          ],
          [
           "@EagleGiles23 @tgilmore_92 what I miss? #outrage",
           0.562
          ],
          [
           "@VerizonSupport thanks for saying My wife and I were getting our iphones today and then losing both of them with no ETA #thanks #angry",
           0.688
          ],
          [
           "Tonight's #DragRace #AllStars2 episode GAVE ME LIFE! Yaassss queens! #teamalaska #teamkatya  #bwahaha",
           0.25
          ],
          [
           "@AllegedLowbrow It's 'Eye-for-Eye'. Indian Army never forgives, Never Forgets. They always take revenge, Pakistan breaks laws, I.A follows",
           0.562
          ],
          [
           "Did we miss the fact that #BurkeRamsey swung &amp;hit his sister #JonBenet in the face with a golf club previously out of a fit of ?",
           0.417
          ],
          [
           "@CBSBigBrother never bring back Meech and Bridgette. Crying because someone looks at you? Ugh, and Bridgette. ",
           0.479
          ],
          [
           "@luxbet Did you even give out any pizzas ? Serious fail #hungry  #hangry",
           0.4
          ],
          [
           "@rtrn94 Mine is that the party did decide but the party has been slowly transformed into a vengeful hell-cult of white male resentment",
           0.792
          ],
          [
           "@edquinn63 how can you even forget to pick ur fave child up from school ",
           0.396
          ],
          [
           "and apparently he's supposed to have a Scottish accent??? I'm #offended",
           0.562
          ],
          [
           "Cheap pout my brodcast",
           0.232
          ],
          [
           "When you burst out crying alone and u realize that no one truly knows how unhappy you really are because you don't want anyone to know",
           0.396
          ],
          [
           "When you break a record in #madden I wish it didn't say the same shit after every rush like you just broke the record. #shutupphilsimms",
           0.812
          ],
          [
           "Don't join @BTCare they put the phone down on you, talk over you and are rude. Taking money out of my acc willynilly! ",
           0.604
          ],
          [
           "@kingcharles9th i Lowkey forgot you had twitter and if you don't follow me back im gonna be #offended",
           0.421
          ],
          [
           "@OstinOng YUUUHH 🙄😭 plus clin ep and prevmed ugghhh hahaha ",
           0.438
          ],
          [
           "I swear if @devincameron23 blocks me I'm going to hit her back #revenge",
           0.646
          ],
          [
           "They're like the rape apologists who (inadvertently?) make men sound like rabid, mindless beasts. With friends like these...",
           0.583
          ],
          [
           "@kingcharles9th i Lowkey forgot you had twitter and if you don't follow me back im gonna be ",
           0.417
          ],
          [
           "What the fuck am I supposed to do with no lunch, no dinner, no money and I'm off to work #furious #hangry #day5",
           0.729
          ],
          [
           "@BigBrother__USA she is just jealous and a cry baby! #bitter #gladsheisgone #crybaby",
           0.571
          ],
          [
           "@dcexaminer Democrats and their voters have zero tolerance for honesty. They associate honesty with anger and hate.",
           0.667
          ],
          [
           "@CBSBigBrother never bring back Meech and Bridgette. Crying because someone looks at you? Ugh, and Bridgette. #bitter",
           0.521
          ],
          [
           "Like I can't do 12 hours worth of standing or calorie burning in 3 hours 😭😭😭😭 #1stworldprobs4vs",
           0.458
          ],
          [
           "Unbelievable takes 10 minutes to get through to @BarclaysUK then there's a fault and the call hangs up #fuming #treatcustomersfairly",
           0.792
          ],
          [
           "Holding a #grudge doesn't make you #strong; it makes you #bitter. #Forgiving doesn't make you #weak; it sets you #free.",
           0.312
          ],
          [
           "@DeltaDomain @SawDraze @qurions dis dat nigga from fume right?",
           0.417
          ],
          [
           "@m_warner21 Yikes. The wrath of Maddie...",
           0.521
          ],
          [
           "Kik me I want to swap pics I will post on my account anonymously if you wish Kik: vsvplou #Kik #kikme  #nudes #tits #snapchat",
           0.188
          ],
          [
           "What terrible thing to see and have no vision-\\n\\nHelen Keller-\\n\\n-Begin with the end in mind-\\n\\nStephen Covey-\\n\\n#whereareugoing #relentless",
           0.396
          ],
          [
           "im so mad about power rangers. im incensed. im furious.",
           0.667
          ],
          [
           "@thomeagle Just to help maintain and boost our status as a world class centre for education, culture and tolerance. #outrage",
           0.438
          ],
          [
           "@leesyatt you are a cruel, cruel man. #therewillbeblood #revenge",
           0.84
          ],
          [
           "Have wee pop socks on and they KEEP FALLING OFF INSIDE MY SHOES #rage",
           0.759
          ],
          [
           "@NM_NickNocturne Incentivise people to roam the Internet being morally offended, as if they didn't do it enough already.",
           0.542
          ],
          [
           "Having a baby born too soon is #lifechanging 6 years on and it feels like only yesterday #sad #happy #angry #emotionalrollercoaster",
           0.375
          ],
          [
           "Anger, resentment, and hatred are the destroyer of your fortune today.",
           0.396
          ],
          [
           "Sting is just too damn earnest for early morning listening. ",
           0.37
          ],
          [
           "@MaddenFreestyle i turn the game on wanting to play madden, and before i load up a game i just turn it off now.",
           0.5
          ],
          [
           "Anger, resentment, and hatred are the destroyer of your fortune today.'",
           0.375
          ],
          [
           "@pbhushan1 @IndianExpress so in your opinion is this the worst delhi govt? #acrid  #hypocrisy",
           0.526
          ],
          [
           "@gayla_weeks1 I try not to let my anger seep into reviews, but I resent having my time wasted on books like that. Time is precious.",
           0.625
          ],
          [
           "#oow16 #sting decent new song",
           0.125
          ],
          [
           "@TrussElise Obama must be fuming.. lol",
           0.5
          ],
          [
           "@fluffysoftlouis no no. I insist that you give me your best insult first",
           0.562
          ]
         ],
         "hovertemplate": "emotion=anger<br>UMAP1=%{x}<br>UMAP2=%{y}<br>UMAP3=%{z}<br>text=%{customdata[0]}<br>intensity=%{customdata[1]}<extra></extra>",
         "legendgroup": "anger",
         "marker": {
          "color": "#636efa",
          "symbol": "circle"
         },
         "mode": "markers",
         "name": "anger",
         "scene": "scene",
         "showlegend": true,
         "type": "scatter3d",
         "x": {
          "bdata": "WK4AQNV4FkDBbfQ/ZoSrP4ZIJEBL0QpAa33/PlvJxj/9VQBAj9EfQI1QMTywzAFA10b0P2upTz+BNAtAkPjxP014KUCcmfs/W3sOQFuJyT/mGoE+iZoJQEaVG0Cz9uk/vSsZPswx+T8LBxtAMPEqQIIDiD+4I8I/PDWqP9TB1T/OM0s/roD/PzB0/T5Yg78/ADcXQJ8BHT+zEMk/NoV4P+Y+GT86QNQ/G/h5P/Ti8D5zro8/KWi8PrdKkj93mOU/",
          "dtype": "f4"
         },
         "y": {
          "bdata": "/lHmPyhePz8j5aA/NZTcP30ghT9nlolAM3O3P2esZj+VR/E/5FybP4Jbxz/sl3U/Ny0SQPCySEAVYghAkBXLP3LMYD9Y9SJA3brsPxNfF0Ce8pA/fI0vQEUBxj/GlAJAgO3SPzUG7z81XLw/I2EpP1FgAEAFExVAJg0BQDzrL0CoR5g/64biPx3u7j9dUAJAM6KsP3+SA0CERvQ/fzf6P+VvFkDG57k/VboDQEL2pz+JuwhAYMobQGMrDECwGihA",
          "dtype": "f4"
         },
         "z": {
          "bdata": "1d1zQPF8dUCnCKxAJkZ1QOc0Z0D7VrFAuYhhQHFdhEC7Jy1AL2lzQEhKfEAL1YJA0PtzQM6hgEBkbcNAEh1DQGi4S0DJFnFAtWypQD+WYUDVh4BADkl6QEwhhEAKmTBAhT90QM4sMUCFxZ1ABwJVQNOrPECX1YhAIUtvQEOBaEBrB7FAPfFxQOxcd0BQ51dAHF+FQAs5fECaxtJAuotSQEumkEB90jVATJRXQFaQXUBnWlRA7sqUQFXJd0AFVmlA",
          "dtype": "f4"
         }
        },
        {
         "customdata": [
          [
           "White Americans are worried about Arab terrorists. Black Americans are fearful of a terrorist in a Police uniform on a daily basis.",
           0.854
          ],
          [
           "Sickness bug! ",
           0.5
          ],
          [
           "If I was friends with me I'd hate me SO MUCH with the amount I bully them",
           0.542
          ],
          [
           "@rkuuleiq Fear is best/beast product of God/s. :) #aTheism #theism #biBle  #christianity #hell #heaven #purgatory #psychology #jesus",
           0.37
          ],
          [
           "@bdp514am We are a tired and restless community. We are human and tired of asking for change only to be ignored.",
           0.458
          ],
          [
           "I have another test tonight ",
           0.438
          ],
          [
           "@TheYoungEvans_ 'Kylie, you know me. I won't take no for answer for this kind of things...' *he would smirk and start on the crust.*",
           0.396
          ],
          [
           "@tannerfox awe cnt wait to see",
           0.16
          ],
          [
           "@saltmage I find it less daunting if I know one person at least!",
           0.521
          ],
          [
           "@Max_Kellerman  it also helps that the majority of NFL coaching is inept. Some of Bill O'Brien's play calling was wow, #awful! #GOPATS",
           0.438
          ],
          [
           "Ignored broken tooth for so long, now have abscess. Need dentist but #fear makes it hard for me to go..45 and still can't go to dentist",
           0.896
          ],
          [
           "The #500thTest match would have be a T20 or an ODI if @virendersehwag @B_McCullum42 been in their National Colors #nightmare #hitter  @BCCI",
           0.438
          ],
          [
           "@STLouis_RamsFan their whole team is limited when they're on the field.  #terrible",
           0.271
          ],
          [
           "I'm afraid she's the goat you libeling people? #afraid #goat #libeling",
           0.698
          ],
          [
           "oh yay old scientist builds himself a robot assistant and makes it look like a hot naked woman nothing alarming here",
           0.3
          ],
          [
           "@BBHOH #terrible Paul so deserved that win!!! #bbfail",
           0.354
          ],
          [
           "@DSWT I despair at this madness! It's beyond #shocking it's cold blooded murder!  How long will #SouthAfrica stand by &amp;watch #WorldRhinoDay",
           0.771
          ],
          [
           "searching for what pro and academic writers have to say about #writing #anxiety and #writersblock",
           0.729
          ],
          [
           "Missing the 500th test match today , not able to witness it like watching it in India #shy #indvsnz #500thTest @BCCI",
           0.479
          ],
          [
           "bout to read this article 'Moving the Conversation Forward: Homosexuality &amp; Christianity' from someone in the foursquare church #nervous",
           0.667
          ],
          [
           "induction day tomorrow for pizza express ",
           0.275
          ],
          [
           "Everyday gay panic is STUNNING: I drew 1 guy's att'n to it when he blocked up a toilet stall's cracks w/paper towels. TOTAL INCOMPREHENSION.",
           0.562
          ],
          [
           "On a side note if you are self medicating ? That's not helping that is burying the anxiety that WILL manifest in another way. Heart disease?",
           0.54
          ],
          [
           "#Trump is #afraid of the big, bad #Hillary. #election #PresidentialDebate #PresidentialElection2016 #orangehitler #skip #hide #coward #fear",
           0.531
          ],
          [
           "I seem to alternate between 'sleep-full' and sleepless nights. Tonight is a sleepless one. 😕 #insomnia #anxiety #notfair",
           0.792
          ],
          [
           "#India right of reply at #UNGA - #Pakistan preaching of human rights is by a country which is itself the global epicentre of #terrorism",
           0.742
          ],
          [
           "When someone tells you they're going to 'tear you apart' and all they have to say is 'why are you so tall?' #shocking",
           0.542
          ],
          [
           "I hate that a black lady is painting herself white on the internet for laughs and likes...  #BadForm #DidntLaugh",
           0.5
          ],
          [
           "Background. Suffered a bit at times of #stress. Always a bit #shy. About 8 years ago (aged 30) I was made redundant. That's when it started",
           0.771
          ],
          [
           "Damnnit! Gonna be 1400 pts shy on Chiefs Rewards of getting a post game photo.",
           0.521
          ],
          [
           "@MrsCassonC @15_jordyn WAS THERE A CLOWN IN YOUR NEIGHBORHOOD? #nightmare #creepy #EnoughIsEnough",
           0.812
          ],
          [
           "#GADOT please put a left turn signal at Williams and Ivan Allen Jr Blvd. This is absolutely ridiculous #ATLtraffic #horrible",
           0.479
          ],
          [
           "Tomorrow is going to be a challenge, I have to talk at a freshers fair to STRANGERS 😁and pick up my new flat keys ",
           0.58
          ],
          [
           "Can't start a good day without a cup of tea! \\n\\n#tea #start #day #goodday",
           0.104
          ],
          [
           "wow if i need to start over on SIF im prob gonna just die",
           0.667
          ],
          [
           "The Zika #Hoax Files: DEET is part of a binary chemical weapon targeting your brain: #Toxin #fear #neurological #USCitizens #Insect #mammal",
           0.667
          ],
          [
           "I really wanna go to fright fest 😩",
           0.333
          ],
          [
           "@TheMoosesAngel He looks down at his brother, a smile forming on his face. 'What? People fearing me?'",
           0.333
          ],
          [
           "@alivitali that's what I'm afraid of!",
           0.792
          ],
          [
           "In my room 101 would go  Russell Howard,Tom Odell,Michael Buble!!! #pants #nogood ",
           0.25
          ],
          [
           "Termination rate is at 22.22% I gotta make some things shake",
           0.479
          ],
          [
           "@alicemazzy he was more partisan on social issues a few years back; now he just concern trolls the center left as Chait does the far left",
           0.354
          ],
          [
           "And I would advise that everyone wait to watch @KevinCanWaitCBS ,or actually don't wait, just don't even watch it because it is ",
           0.266
          ],
          [
           "Everything you’ve ever wanted is on the other side of fear. –George Addair #ThursdayThoughts #yourpushfactor  #life #quote",
           0.271
          ],
          [
           "So is texting a guy 'I'm ready for sex now' considered flirting?' #shocking",
           0.431
          ],
          [
           "@JasonBHampton it's Bowers. I went and drove it for a while this evening #horrible",
           0.447
          ],
          [
           "@LmRyle @tomcolicchio @realDonaldTrump @HillaryClinton @ajjaffe I understand your concerns but look at her foundation contributions ",
           0.315
          ],
          [
           "Man Utd are shambles that was horrific 😭😭😭",
           0.521
          ],
          [
           "@madihayousufzai Please DM your concern",
           0.271
          ],
          [
           "#AnthonyWeiner #DISTRACTION #what is really going on? #selection #election #Syria  #race #riots #GasCrisis2016 #NoDAPL #rape",
           0.771
          ],
          [
           "Ha! @mquirk @joshuahoodbooks Got your book after our 'meeting' at the Starbucks in NOLA. If Josh says it's terrific, I'm all in.",
           0.125
          ],
          [
           "At school, my classmate is with me at music class and he sang Hallelujah like, god, with my friend we were breathless.",
           0.22
          ],
          [
           "He called me fat, so I pushed him into the lockers then he threaten to sue me' 😂",
           0.479
          ],
          [
           "Trying to book holiday flights on @britishairways website is becoming a ",
           0.312
          ],
          [
           "The Apocalypse has hit our gym and it's  nothing what I thought it would be...\\n\\nEveryone is wearing vests! What if it's contagious? ",
           0.583
          ],
          [
           "Why upping rooms makes a few apprehend leaving out charcoal ownership: UnZU",
           0.396
          ],
          [
           "The moment you bring her to meet your best friend and you're nervous af! 😬😆  #thefriendtest",
           0.875
          ],
          [
           "@ccrago It was dreadful, even after he met the Catfish he still thought it was her!",
           0.5
          ],
          [
           "Southend players always haunt Man U",
           0.417
          ],
          [
           "Whatt a trailerrrr !!! @karanjohar @AnushkaSharma #RanbirKapoor #AishwaryaRaiBachchan i am COMPLETELY BLOWN !! #awestruck #longingformore",
           0.417
          ],
          [
           "About 7 weeks till I can pick up my camera again. Though I think there is a group cemetery shoot in october I can make! #photography ",
           0.312
          ],
          [
           "Tweeting from the sporadic wifi on the tube ",
           0.292
          ],
          [
           "The Apocalypse has hit our gym and it's  nothing what I thought it would be...\\n\\nEveryone is wearing vests! What if it's contagious? #afraid",
           0.812
          ],
          [
           "@All4 is the android app it designed to be buggy and work sporadically on a fire TV box? ",
           0.25
          ]
         ],
         "hovertemplate": "emotion=fear<br>UMAP1=%{x}<br>UMAP2=%{y}<br>UMAP3=%{z}<br>text=%{customdata[0]}<br>intensity=%{customdata[1]}<extra></extra>",
         "legendgroup": "fear",
         "marker": {
          "color": "#EF553B",
          "symbol": "circle"
         },
         "mode": "markers",
         "name": "fear",
         "scene": "scene",
         "showlegend": true,
         "type": "scatter3d",
         "x": {
          "bdata": "i4RwPtTDxD+dSyRAAxoVP9spCz9Cu5I/LdPbP5CnlD9RD08/XJqvP6YhsD+DE+0/+OTLP6AoTj9Mpqw/k2/4PwoGmD/Ht5w/T6HjPwT2cT8DmIQ/bnaFP1h6tT+bm2g8p5OwP3EqyT4hlGs/ld8FQPGAsD9zZxJATDbMP6+aAUBRVYE/qKW5P7N7FkA66as+fJTiPzDHZD9AqoI//tcnQJWy5D/nBQG9FwYiQAcPjT/V8Jo/e67WPxaGAL6RV+c/TGyfPyWGmrzvaIE/YUrKP3bU4D8HMSZAghWlP5RrLz9w6YA/vgvGP43L9T8KLg5A44CtP9IvvD9rTHg/TIUpQA==",
          "dtype": "f4"
         },
         "y": {
          "bdata": "T0iWPydIXz9A7+k/6w9lPyeR+T9IReg/rKMAQIeeIUDpLwBAlsCcP190fT8AXQJATG6EP7nYRj/RNzc/NKPjPxxfWj+oBIw/XscbQDQqZj9iAsM/21gLP60Kfz/SxZk/vresP1ePnj960zs/VaAOQIuvmT9Akc4/Ee9CP6WHhz803rA/EJloQJLotD/8noI/GdfJP2GTgT/zFVA/E9bVP69aoj/l3Nw/B7fsP2Smbj9QCyU/Q5h7P8GbyT8woko/QtX3P8qfyz8K2IFAOl03QK1i2T+bIg8/bWEWP8kjIECDPDg/0KxNP+j+eT9e4YZA7tIXQJjpXEDqSAk/OGYAPw==",
          "dtype": "f4"
         },
         "z": {
          "bdata": "IoeQQCjnqUBCn6BA6KuuQK79jECBN8FARCSPQB7GqUDYF8FA5qs5QO1kyEBmR6JAdptAQItEp0C/151AkacmQAEHb0Au385AClyqQObnvkDV6sRAqeyhQOmRy0DzQZtAChfSQExZaEAN1pdAf3tQQIdu0kA4819AGaWCQLTDN0CADshArva3QI7EqkAYmqRAxwu7QNrCnkB9Jq9AexRPQAVirUCoz3hA3YhDQD5XxkDfdpdAY35FQCmzjkDe2kxAecaFQLFBlkBIsqdA9nDWQI0jl0CxZVhAxlOjQGHwg0CQMLNAe4BZQFG4VkAKfaxA7ivCQB8xj0A0WKtAsmxfQA==",
          "dtype": "f4"
         }
        },
        {
         "customdata": [
          [
           "I like talking to someone who makes me laugh, laughter is the best medicine",
           0.646
          ],
          [
           "@Tomstarling86 He didn't have many chances to show what he can do but looked lively and had a good shot tipped over the bar before the end.",
           0.36
          ],
          [
           "#Talking about our #Problems is our greatest #Addiction#Break the #habitTalk about ur #Joys#quote  #problemsolving #behappy",
           0.494
          ],
          [
           "Made my night that @GordonReid91 Reid was included in tonight's hilarity. Some of those points were brilliant. Thanks @andy_murray",
           0.812
          ],
          [
           "Tonight my top delight was a Skein of Geese flying about 1 foot above me as I swam in #Windermere. Breeze dropped &amp; it became like glass.",
           0.544
          ],
          [
           "hate overthinking e v e r y t h i n g like i jus' wanna be happy pls",
           0.04
          ],
          [
           "Meanwhile, the so-called M’s fans sit there knitting or sleeping not sure which but they certainly aren’t cheering like the other teams fans",
           0.271
          ],
          [
           "@RobRiggle @joelmchale @NFLonFOX I still can't get jimmy garoppolo out of my head and it's been almost 3 weeks. Thanks a lot! ",
           0.5
          ],
          [
           "@HillaryClinton did you see the gleeful look on @realDonaldTrump 's face when criminal Don King used the 'n' word to denigrate Blacks?",
           0.2
          ],
          [
           "Halfway to work and I realize I forgot to put on underwear....It's going to be one of those days! #mombrain #toomuchgoingon #longday #breezy",
           0.25
          ],
          [
           "Oh dear an evening of absolute hilarity I don't think I have laughed so much in a long time! 😂",
           0.958
          ],
          [
           "@LFScott57 Miss Cookie sends her thanks! She's not as spry as she used to be - like me! She doesn't have the adventures the young pups do!",
           0.6
          ],
          [
           "Watch this amazing live.ly broadcast by @its.finfin  #musically",
           0.458
          ],
          [
           "Getting my comedic relief w/ @SofiaVergara during season premiere of #ModernFamily. Just what a girl needs! #hilarious",
           0.846
          ],
          [
           "@AdsByFlaherty And you're cheerfully defending a group of unchecked, armed thugs who've shown a history of racism, violence, and lies.",
           0.104
          ],
          [
           "I can not depict what I feel right now.. I feel jubilant yet anxious, or..dunno. It seems like now I'm having something worth wait everyday.",
           0.5
          ],
          [
           "@reinervshunter you got this #staystrong #smile #yourebeautiful",
           0.656
          ],
          [
           "@blackeyed_susie They ain't going away, and I don't want to see them hurt; changing hearts/minds is really our only option, no? #optimism",
           0.333
          ],
          [
           "@lennyabrahamson May I send you a copy of #HeroTheGreyhound? Either e-book or real paper one! A boy and a greyhound #smiles #tears #laughter",
           0.667
          ],
          [
           "Had a coworker look at her phone and say, cheerfully, 'oh look, Kap's getting death threats now.' 🙄. Then she goes to say the 49ers are",
           0.385
          ],
          [
           "Intermit animated^%%%ncaa pittsburgh vs mississippi sprightly shiny bbva level peg varsity football telly scra...",
           0.406
          ],
          [
           "@alyankovic I really wish I could attend the show at RCMH. I'm there in spirit, cheering you and the dudes on! :)",
           0.577
          ],
          [
           "@JackCurryYES he's just lucky...bad pitchers...#WHATEVER...ElKracken is #legit #future  #gottawearshades #LetsGoYankees",
           0.32
          ],
          [
           "Thank you @twitter for the balloons today.  #goodday #48",
           0.562
          ],
          [
           "@airvistara as always it was indeed a wonderful experience flying with you guys today #bestinbusiness  #happyme",
           0.76
          ],
          [
           "@buzzlightbeard2 If you don't love yourself... Honesty is the best policy #smile",
           0.438
          ],
          [
           "I love when my dog is playful, but he really just scratched my face while flailing his paws in excitement and almost tore my nose ring out",
           0.333
          ],
          [
           "#smile every morning to a positive head start with your #clients relations",
           0.562
          ],
          [
           "@shwood @mpforstein OMD you 2 are cracking me up! Thanks for the follow Brian. I need some levity to balance the cynicism I share w/Michael😀",
           0.84
          ],
          [
           "Rewatching 'Raising Hope' (with hubs this time) and totally forgot how hilarious it is 😂 #HereWeGo",
           0.76
          ],
          [
           "The point of living, and being an optimist, is to be foolish enough to believe the best is yet to come' - Peter Ustinov  #quote",
           0.407
          ],
          [
           "As a photographer this portrait shooting mode on the iPhone 7 Plus is going to frustrate me ~75% of the time but delight ~25% of the time.",
           0.161
          ],
          [
           "The birds chirp , the sun shines and the wind chimes chime. There was once a smile on this face.",
           0.353
          ],
          [
           "@honevbee close up shots of my ugly mug as I continue to talk about Blaine years after glee has been dead",
           0.28
          ],
          [
           "Three days off a month with two ex wives and no home could be worse. I don't know how, but it could #oilandgas ",
           0.125
          ],
          [
           "“Set a goal to achieve something that's so big so exhilarating that excites you &amp; scares you at the same time.” \\n― #BobProctor",
           0.383
          ],
          [
           "Ready for that nice, breezy, calm, sunshine weather.🍂🍁 #Autumn",
           0.583
          ],
          [
           "How can l rule my mind !!!!!! \\nIt's hilarious that you can't 😭😑😮",
           0.396
          ],
          [
           "@Geminiak @LondonNPC you're welcome! #wordgeek \\nAlso, good to put a face to the twitter feed, even if it was only a cheery hello! 😀",
           0.646
          ],
          [
           "@PhilGlutting Hey There Phil Glutting thank you for following us, it's appreciated :) #smile",
           0.76
          ],
          [
           "@MichiganBromo Good optimism sir :)",
           0.538
          ],
          [
           "A #new day to #live and #smile. Hope all the #followers a nice #night or #day. :D",
           0.688
          ],
          [
           "@DocBellsSwan *peers down at you, eyes crinkling with mirth and affection* I do love ye so, my bonnie Belle.",
           0.66
          ],
          [
           "Chris would take full responsibility and would want us all to rejoice in the memories we all had with him.",
           0.28
          ],
          [
           "it gets better. without explanation; you just wake up one morning and you’re just happy, totally and utterly elated.",
           0.896
          ]
         ],
         "hovertemplate": "emotion=joy<br>UMAP1=%{x}<br>UMAP2=%{y}<br>UMAP3=%{z}<br>text=%{customdata[0]}<br>intensity=%{customdata[1]}<extra></extra>",
         "legendgroup": "joy",
         "marker": {
          "color": "#00cc96",
          "symbol": "circle"
         },
         "mode": "markers",
         "name": "joy",
         "scene": "scene",
         "showlegend": true,
         "type": "scatter3d",
         "x": {
          "bdata": "ZBD1P4kxID+yZgpA6uHhP3qF3j/+PxtAA9vkPp+hvz8KDPm940INQKJxAkBQSYA/IP5rP+Rl9D9OfVs+DxTEP1ehcz/6bgs/uPGbP61tyz4kQCw/oBiRPwaHOj9QHak/Tzz5Pz3Ocj8I1I4/GWioP0zbij9W2fQ/nphEP3Opmj9527o/hrVUP93VJkA2g1o/fKTYP62ZFUCwc2E/qW6AP25vUT/znKQ/TW50Px7v7j/Gwtk/",
          "dtype": "f4"
         },
         "y": {
          "bdata": "CwBzQHbdQkBZmT5ABJiEQNfpgEBodhdAYxY0QDzUtz/pHbA/xsFuP2pLgUDy1oFAVo9KQDsHikCotKs/ELYEQAGKX0CfSSNAkuqKQJVxdD9owFBAb+0lQAPiPUDhNHpANrp8QCrSZ0Bt9UlAg2RuQEUWgkAqyIxAR1k8QGiEHEDuo1JA9YxiQNGfvD8W8o4/nw5TQHoLD0DrT29ANjR9QLpRQkAAbm5AfddhQBIzNkDRElFA",
          "dtype": "f4"
         },
         "z": {
          "bdata": "8qi+QE7XqUCvSbpAw5WqQPynqUAhCb1AiTCSQCp2P0ANQJBAicWNQKHNtEAWkKpAEfeHQLWetUDoenhA6xHUQNsOxEAXE61AG52sQBA5fUCS44JA7n+wQAiMokD5a6tAnI2qQEvTw0BYI9FArsO9QG2ap0BJpblASfayQLzIy0Aju8RAgrPIQGk6kEAKTMNAUnTGQBwiq0AhL7BAtJuyQH65rkCborxAimLQQLW1uEA0FsVA",
          "dtype": "f4"
         }
        },
        {
         "customdata": [
          [
           "Snores on TL. Boredom sunk in.",
           0.333
          ],
          [
           "@BTS_twt people have so much negativity filled inside them but im always happy that in such a gloomy world someone like u exists Namjoon",
           0.45
          ],
          [
           "My nephew sees that i have a frown on my face and he tells me 'you're  beautiful '!😢💞😩",
           0.542
          ],
          [
           "@thatsabingo grim really",
           0.688
          ],
          [
           "gloomy weather puts me in the best mood",
           0.271
          ],
          [
           "Someone needs to tell Candice she'll be stuck with that shitty pout if the wind changes. #GBBO",
           0.521
          ],
          [
           "@kcbbcxo don't get discouraged! it's early on &amp; it can get overwhelming. keep reading &amp; use cue cards 😊 it'll get better!!",
           0.229
          ],
          [
           "If you find me lost, will you stay as a passerby or will you get lost with me? #musings #melancholy",
           0.68
          ],
          [
           "Americans as a whole are, for the most part, feeling borderline despair at the very least. Looking at a situation out of control.",
           0.688
          ],
          [
           "Another grim &amp; compelling news report by @Nawalf on the blockade of aid to the starving in #Yemen #BBC #dosomethingpoliticans",
           0.708
          ],
          [
           "@Groupon_UK who do I contact about a shocking experience with Clear Sky Holidays booked through you guys?? #customerservicefail #dreadful",
           0.542
          ],
          [
           "Cheap pout my brodcast",
           0.438
          ],
          [
           "Candice's pout gets more preposterous by the week. This week it's gone a bit Jack Nicholson's Joker. #GBBO",
           0.397
          ],
          [
           "@_noTORIEty lol senior year we would get early dismal for work study ,he was her boss and you know what happened next 🙃",
           0.354
          ],
          [
           "@LVLMLeah Nooooooooooooooooooooo. We have stupid, dismal, lame winters where we maybe get some dangerous ice once.",
           0.646
          ],
          [
           "Please bear with me, I'm not Twitter savvy😝 in real life I'm a Facebook person. Help me gain followers 🤓 #blog #selfhelp ",
           0.146
          ],
          [
           "Can I just sulk in peace 😂",
           0.688
          ],
          [
           "@Theshadeshit91 \\nOh, I'm sorry about it, do not be sad yourself there is nothing important in the world to grieve about it",
           0.625
          ],
          [
           "@EBled2 Great to have you as our tournament chair and award was #serious",
           0.132
          ],
          [
           "Trying to think positive, and not let this situation discourage me ✨✨✨✨✨✨✨✨✨✨✨✨✨✨✨✨✨✨✨✨✨✨✨✨✨✨✨✨✨✨✨✨✨✨✨✨✨✨✨✨✨✨✨✨✨✨✨✨✨✨✨✨✨✨✨✨✨✨✨✨✨✨✨✨✨✨✨✨✨✨✨✨✨",
           0.44
          ],
          [
           "@janhopis I found the first few episodes of Bojack incredibly funny. Then it got less funny but I stayed for the #drama",
           0.354
          ],
          [
           "Don't get discouraged when simple minds don't see your vision",
           0.375
          ],
          [
           "2 applications for my dbs and still waiting. Been over a year now. Going to loose my job 👍🏿 @GOVUK  #thanks #unhappy #crb",
           0.792
          ],
          [
           "Like keep grinding boy your life can change in one year, and even when it's dark out the sun is shining somewhere...'",
           0.417
          ],
          [
           "Always do sober what you said you'd do drunk. That will teach you to keep your mouth shut. \\n― Ernest Hemingway #quote",
           0.479
          ],
          [
           "the rappers who stayed true to the game is rich.",
           0.208
          ],
          [
           "The weather sure matches the mood in this state today.. #gloomy",
           0.792
          ],
          [
           "@TheCatHeSay I may be #alwayshungry but I haven't sunk that low yet!! @Thereluctantcat",
           0.312
          ],
          [
           "Kinda wanna just book a vacation and go...anyone wanna tag along? #adventure #serious",
           0.312
          ],
          [
           "What's a Kali's kitten? [She asked, a frown curling on her fair skinned forehead as he showed her the scar] A cat did - (@ScarredTiger)",
           0.417
          ],
          [
           "@lebara - worst possible decision I could have made when arriving in the UK. Shocking service. Poor coverage. #unhappy",
           0.771
          ],
          [
           "Im kind of confused.  The one thing i do right now has a great future, but on the other hand so does the new thing . #lost #needhelp",
           0.604
          ],
          [
           "I don't want the pity of my instructors but I'd like some understanding. I'm truly trying despite ALL circumstances that make me discouraged",
           0.625
          ],
          [
           "@HillaryClinton @TheDemocrats It's ok 2 be disgusted or dishearten with presidential race but don't let that stop u from voting IT MATTERS",
           0.542
          ],
          [
           "No one wants to win the wild card because you have to play the Cubs on the road.  #sadness",
           0.767
          ],
          [
           "[ @HedgehogDylan ] *she would frown a bit, folding her arms* 'why is it that every time I'm in need of assistance someone expects a lil **",
           0.562
          ],
          [
           "On bedrest since I got out of the hospital. U find in unopened beer.. what do I do. Pour that shit out! No alcohol at all for me #sober",
           0.44
          ],
          [
           "MC: what are you listen to these days?\\nBogum: these days I feel gloomy, I listen to ccm (spiritual song) often.\\n\\nChurch oppa mode. :)",
           0.583
          ],
          [
           "Public products: high downhearted price tag consumer survey sum and substance: OVth",
           0.354
          ],
          [
           "This shit hurting my heart 😪 that's how serious it is .",
           0.875
          ],
          [
           "you are on an endless journey of figuring yourself out; don't be discouraged when you don't know who you are yet.",
           0.375
          ],
          [
           "A3: But chronic sadness may mean there are underlying issues than getting sad occassionally over a particular issue (2/2) #mhchat",
           0.562
          ],
          [
           "yesterday i finished watching penny dreadful and from all the beautiful things i saw one question remains: were the writers HIM's fans?",
           0.312
          ]
         ],
         "hovertemplate": "emotion=sadness<br>UMAP1=%{x}<br>UMAP2=%{y}<br>UMAP3=%{z}<br>text=%{customdata[0]}<br>intensity=%{customdata[1]}<extra></extra>",
         "legendgroup": "sadness",
         "marker": {
          "color": "#ab63fa",
          "symbol": "circle"
         },
         "mode": "markers",
         "name": "sadness",
         "scene": "scene",
         "showlegend": true,
         "type": "scatter3d",
         "x": {
          "bdata": "JFEwP9V/BkASA5s/aCLQP5EV/z8r6/U/+cUuP4aYAUAN0pI+8muRP7dIGUAApzM/PBL6P0kS1j9PN/g/9fbOP8DOFUDARQdAD6qiP6B9Kj80x/M/+Pn+PvuVMEANiV4/7gofQEKEnz+ZZgJAJCoPQJJC2j9bYpQ/y+wiQL7plD8oAEc/ckBQviqIDkB1cKM/JtogQCXZ/T8h+w4/G00IQBUtFz/cuQxADRgVQA==",
          "dtype": "f4"
         },
         "y": {
          "bdata": "/dVAQDwBOkCGD1JAE+sWQDpmQkD4xRFAAaEfQG2TDkDrsvE/jaJ0P368LD/ZNE5AsJoWQMcK1D+RJwJAnRJaQCfV/D87WBZAoYaCQET1LUCe1IxAsuwhQE29Kz8Br0NAzoUOQJFdLECe+yFAJwXqP7bVA0D4dKw/lqUzPwATCUCc7hdAbpLQP0IlFECy2cM/7hPwP1viN0DpyDZA2/a/Pxc7HECLfw5AEjuOQA==",
          "dtype": "f4"
         },
         "z": {
          "bdata": "AJiMQDoYyEDmjNJAaDyFQLV0ykATAT1Au4a+QAgNxkD6F5hAe190QFruUUDWgYJADRw4QOqwlEA1y1RAlyiVQFUgu0BXUrlAJiulQN3YwEBmK7xAl9i8QGQpXEBPvrpAEqSRQONDjECw+MZA1BqGQF+xwEBSxZdA+1VPQMOBzkAAt7xAROqSQL+AtUCsbZNA+eKMQDjU0kDtmIJA24mrQCJYxkBwg8ZAAdy2QA==",
          "dtype": "f4"
         }
        }
       ],
       "layout": {
        "legend": {
         "title": {
          "text": "emotion"
         },
         "tracegroupgap": 0
        },
        "scene": {
         "domain": {
          "x": [
           0,
           1
          ],
          "y": [
           0,
           1
          ]
         },
         "xaxis": {
          "title": {
           "text": "UMAP1"
          }
         },
         "yaxis": {
          "title": {
           "text": "UMAP2"
          }
         },
         "zaxis": {
          "title": {
           "text": "UMAP3"
          }
         }
        },
        "template": {
         "data": {
          "bar": [
           {
            "error_x": {
             "color": "#2a3f5f"
            },
            "error_y": {
             "color": "#2a3f5f"
            },
            "marker": {
             "line": {
              "color": "#E5ECF6",
              "width": 0.5
             },
             "pattern": {
              "fillmode": "overlay",
              "size": 10,
              "solidity": 0.2
             }
            },
            "type": "bar"
           }
          ],
          "barpolar": [
           {
            "marker": {
             "line": {
              "color": "#E5ECF6",
              "width": 0.5
             },
             "pattern": {
              "fillmode": "overlay",
              "size": 10,
              "solidity": 0.2
             }
            },
            "type": "barpolar"
           }
          ],
          "carpet": [
           {
            "aaxis": {
             "endlinecolor": "#2a3f5f",
             "gridcolor": "white",
             "linecolor": "white",
             "minorgridcolor": "white",
             "startlinecolor": "#2a3f5f"
            },
            "baxis": {
             "endlinecolor": "#2a3f5f",
             "gridcolor": "white",
             "linecolor": "white",
             "minorgridcolor": "white",
             "startlinecolor": "#2a3f5f"
            },
            "type": "carpet"
           }
          ],
          "choropleth": [
           {
            "colorbar": {
             "outlinewidth": 0,
             "ticks": ""
            },
            "type": "choropleth"
           }
          ],
          "contour": [
           {
            "colorbar": {
             "outlinewidth": 0,
             "ticks": ""
            },
            "colorscale": [
             [
              0,
              "#0d0887"
             ],
             [
              0.1111111111111111,
              "#46039f"
             ],
             [
              0.2222222222222222,
              "#7201a8"
             ],
             [
              0.3333333333333333,
              "#9c179e"
             ],
             [
              0.4444444444444444,
              "#bd3786"
             ],
             [
              0.5555555555555556,
              "#d8576b"
             ],
             [
              0.6666666666666666,
              "#ed7953"
             ],
             [
              0.7777777777777778,
              "#fb9f3a"
             ],
             [
              0.8888888888888888,
              "#fdca26"
             ],
             [
              1,
              "#f0f921"
             ]
            ],
            "type": "contour"
           }
          ],
          "contourcarpet": [
           {
            "colorbar": {
             "outlinewidth": 0,
             "ticks": ""
            },
            "type": "contourcarpet"
           }
          ],
          "heatmap": [
           {
            "colorbar": {
             "outlinewidth": 0,
             "ticks": ""
            },
            "colorscale": [
             [
              0,
              "#0d0887"
             ],
             [
              0.1111111111111111,
              "#46039f"
             ],
             [
              0.2222222222222222,
              "#7201a8"
             ],
             [
              0.3333333333333333,
              "#9c179e"
             ],
             [
              0.4444444444444444,
              "#bd3786"
             ],
             [
              0.5555555555555556,
              "#d8576b"
             ],
             [
              0.6666666666666666,
              "#ed7953"
             ],
             [
              0.7777777777777778,
              "#fb9f3a"
             ],
             [
              0.8888888888888888,
              "#fdca26"
             ],
             [
              1,
              "#f0f921"
             ]
            ],
            "type": "heatmap"
           }
          ],
          "histogram": [
           {
            "marker": {
             "pattern": {
              "fillmode": "overlay",
              "size": 10,
              "solidity": 0.2
             }
            },
            "type": "histogram"
           }
          ],
          "histogram2d": [
           {
            "colorbar": {
             "outlinewidth": 0,
             "ticks": ""
            },
            "colorscale": [
             [
              0,
              "#0d0887"
             ],
             [
              0.1111111111111111,
              "#46039f"
             ],
             [
              0.2222222222222222,
              "#7201a8"
             ],
             [
              0.3333333333333333,
              "#9c179e"
             ],
             [
              0.4444444444444444,
              "#bd3786"
             ],
             [
              0.5555555555555556,
              "#d8576b"
             ],
             [
              0.6666666666666666,
              "#ed7953"
             ],
             [
              0.7777777777777778,
              "#fb9f3a"
             ],
             [
              0.8888888888888888,
              "#fdca26"
             ],
             [
              1,
              "#f0f921"
             ]
            ],
            "type": "histogram2d"
           }
          ],
          "histogram2dcontour": [
           {
            "colorbar": {
             "outlinewidth": 0,
             "ticks": ""
            },
            "colorscale": [
             [
              0,
              "#0d0887"
             ],
             [
              0.1111111111111111,
              "#46039f"
             ],
             [
              0.2222222222222222,
              "#7201a8"
             ],
             [
              0.3333333333333333,
              "#9c179e"
             ],
             [
              0.4444444444444444,
              "#bd3786"
             ],
             [
              0.5555555555555556,
              "#d8576b"
             ],
             [
              0.6666666666666666,
              "#ed7953"
             ],
             [
              0.7777777777777778,
              "#fb9f3a"
             ],
             [
              0.8888888888888888,
              "#fdca26"
             ],
             [
              1,
              "#f0f921"
             ]
            ],
            "type": "histogram2dcontour"
           }
          ],
          "mesh3d": [
           {
            "colorbar": {
             "outlinewidth": 0,
             "ticks": ""
            },
            "type": "mesh3d"
           }
          ],
          "parcoords": [
           {
            "line": {
             "colorbar": {
              "outlinewidth": 0,
              "ticks": ""
             }
            },
            "type": "parcoords"
           }
          ],
          "pie": [
           {
            "automargin": true,
            "type": "pie"
           }
          ],
          "scatter": [
           {
            "fillpattern": {
             "fillmode": "overlay",
             "size": 10,
             "solidity": 0.2
            },
            "type": "scatter"
           }
          ],
          "scatter3d": [
           {
            "line": {
             "colorbar": {
              "outlinewidth": 0,
              "ticks": ""
             }
            },
            "marker": {
             "colorbar": {
              "outlinewidth": 0,
              "ticks": ""
             }
            },
            "type": "scatter3d"
           }
          ],
          "scattercarpet": [
           {
            "marker": {
             "colorbar": {
              "outlinewidth": 0,
              "ticks": ""
             }
            },
            "type": "scattercarpet"
           }
          ],
          "scattergeo": [
           {
            "marker": {
             "colorbar": {
              "outlinewidth": 0,
              "ticks": ""
             }
            },
            "type": "scattergeo"
           }
          ],
          "scattergl": [
           {
            "marker": {
             "colorbar": {
              "outlinewidth": 0,
              "ticks": ""
             }
            },
            "type": "scattergl"
           }
          ],
          "scattermap": [
           {
            "marker": {
             "colorbar": {
              "outlinewidth": 0,
              "ticks": ""
             }
            },
            "type": "scattermap"
           }
          ],
          "scattermapbox": [
           {
            "marker": {
             "colorbar": {
              "outlinewidth": 0,
              "ticks": ""
             }
            },
            "type": "scattermapbox"
           }
          ],
          "scatterpolar": [
           {
            "marker": {
             "colorbar": {
              "outlinewidth": 0,
              "ticks": ""
             }
            },
            "type": "scatterpolar"
           }
          ],
          "scatterpolargl": [
           {
            "marker": {
             "colorbar": {
              "outlinewidth": 0,
              "ticks": ""
             }
            },
            "type": "scatterpolargl"
           }
          ],
          "scatterternary": [
           {
            "marker": {
             "colorbar": {
              "outlinewidth": 0,
              "ticks": ""
             }
            },
            "type": "scatterternary"
           }
          ],
          "surface": [
           {
            "colorbar": {
             "outlinewidth": 0,
             "ticks": ""
            },
            "colorscale": [
             [
              0,
              "#0d0887"
             ],
             [
              0.1111111111111111,
              "#46039f"
             ],
             [
              0.2222222222222222,
              "#7201a8"
             ],
             [
              0.3333333333333333,
              "#9c179e"
             ],
             [
              0.4444444444444444,
              "#bd3786"
             ],
             [
              0.5555555555555556,
              "#d8576b"
             ],
             [
              0.6666666666666666,
              "#ed7953"
             ],
             [
              0.7777777777777778,
              "#fb9f3a"
             ],
             [
              0.8888888888888888,
              "#fdca26"
             ],
             [
              1,
              "#f0f921"
             ]
            ],
            "type": "surface"
           }
          ],
          "table": [
           {
            "cells": {
             "fill": {
              "color": "#EBF0F8"
             },
             "line": {
              "color": "white"
             }
            },
            "header": {
             "fill": {
              "color": "#C8D4E3"
             },
             "line": {
              "color": "white"
             }
            },
            "type": "table"
           }
          ]
         },
         "layout": {
          "annotationdefaults": {
           "arrowcolor": "#2a3f5f",
           "arrowhead": 0,
           "arrowwidth": 1
          },
          "autotypenumbers": "strict",
          "coloraxis": {
           "colorbar": {
            "outlinewidth": 0,
            "ticks": ""
           }
          },
          "colorscale": {
           "diverging": [
            [
             0,
             "#8e0152"
            ],
            [
             0.1,
             "#c51b7d"
            ],
            [
             0.2,
             "#de77ae"
            ],
            [
             0.3,
             "#f1b6da"
            ],
            [
             0.4,
             "#fde0ef"
            ],
            [
             0.5,
             "#f7f7f7"
            ],
            [
             0.6,
             "#e6f5d0"
            ],
            [
             0.7,
             "#b8e186"
            ],
            [
             0.8,
             "#7fbc41"
            ],
            [
             0.9,
             "#4d9221"
            ],
            [
             1,
             "#276419"
            ]
           ],
           "sequential": [
            [
             0,
             "#0d0887"
            ],
            [
             0.1111111111111111,
             "#46039f"
            ],
            [
             0.2222222222222222,
             "#7201a8"
            ],
            [
             0.3333333333333333,
             "#9c179e"
            ],
            [
             0.4444444444444444,
             "#bd3786"
            ],
            [
             0.5555555555555556,
             "#d8576b"
            ],
            [
             0.6666666666666666,
             "#ed7953"
            ],
            [
             0.7777777777777778,
             "#fb9f3a"
            ],
            [
             0.8888888888888888,
             "#fdca26"
            ],
            [
             1,
             "#f0f921"
            ]
           ],
           "sequentialminus": [
            [
             0,
             "#0d0887"
            ],
            [
             0.1111111111111111,
             "#46039f"
            ],
            [
             0.2222222222222222,
             "#7201a8"
            ],
            [
             0.3333333333333333,
             "#9c179e"
            ],
            [
             0.4444444444444444,
             "#bd3786"
            ],
            [
             0.5555555555555556,
             "#d8576b"
            ],
            [
             0.6666666666666666,
             "#ed7953"
            ],
            [
             0.7777777777777778,
             "#fb9f3a"
            ],
            [
             0.8888888888888888,
             "#fdca26"
            ],
            [
             1,
             "#f0f921"
            ]
           ]
          },
          "colorway": [
           "#636efa",
           "#EF553B",
           "#00cc96",
           "#ab63fa",
           "#FFA15A",
           "#19d3f3",
           "#FF6692",
           "#B6E880",
           "#FF97FF",
           "#FECB52"
          ],
          "font": {
           "color": "#2a3f5f"
          },
          "geo": {
           "bgcolor": "white",
           "lakecolor": "white",
           "landcolor": "#E5ECF6",
           "showlakes": true,
           "showland": true,
           "subunitcolor": "white"
          },
          "hoverlabel": {
           "align": "left"
          },
          "hovermode": "closest",
          "mapbox": {
           "style": "light"
          },
          "paper_bgcolor": "white",
          "plot_bgcolor": "#E5ECF6",
          "polar": {
           "angularaxis": {
            "gridcolor": "white",
            "linecolor": "white",
            "ticks": ""
           },
           "bgcolor": "#E5ECF6",
           "radialaxis": {
            "gridcolor": "white",
            "linecolor": "white",
            "ticks": ""
           }
          },
          "scene": {
           "xaxis": {
            "backgroundcolor": "#E5ECF6",
            "gridcolor": "white",
            "gridwidth": 2,
            "linecolor": "white",
            "showbackground": true,
            "ticks": "",
            "zerolinecolor": "white"
           },
           "yaxis": {
            "backgroundcolor": "#E5ECF6",
            "gridcolor": "white",
            "gridwidth": 2,
            "linecolor": "white",
            "showbackground": true,
            "ticks": "",
            "zerolinecolor": "white"
           },
           "zaxis": {
            "backgroundcolor": "#E5ECF6",
            "gridcolor": "white",
            "gridwidth": 2,
            "linecolor": "white",
            "showbackground": true,
            "ticks": "",
            "zerolinecolor": "white"
           }
          },
          "shapedefaults": {
           "line": {
            "color": "#2a3f5f"
           }
          },
          "ternary": {
           "aaxis": {
            "gridcolor": "white",
            "linecolor": "white",
            "ticks": ""
           },
           "baxis": {
            "gridcolor": "white",
            "linecolor": "white",
            "ticks": ""
           },
           "bgcolor": "#E5ECF6",
           "caxis": {
            "gridcolor": "white",
            "linecolor": "white",
            "ticks": ""
           }
          },
          "title": {
           "x": 0.05
          },
          "xaxis": {
           "automargin": true,
           "gridcolor": "white",
           "linecolor": "white",
           "ticks": "",
           "title": {
            "standoff": 15
           },
           "zerolinecolor": "white",
           "zerolinewidth": 2
          },
          "yaxis": {
           "automargin": true,
           "gridcolor": "white",
           "linecolor": "white",
           "ticks": "",
           "title": {
            "standoff": 15
           },
           "zerolinecolor": "white",
           "zerolinewidth": 2
          }
         }
        },
        "title": {
         "text": "3D UMAP Projection of Text Embeddings"
        }
       }
      }
     },
     "metadata": {},
     "output_type": "display_data"
    }
   ],
   "source": [
    "# Answer here\n",
    "\n",
    "# Apply UMAP for 3D Dimensionality Reduction\n",
    "reducer_3d = umap.UMAP(n_components=3, metric='cosine', random_state=28)\n",
    "embedding_3d = reducer_3d.fit_transform(X_embeddings)\n",
    "\n",
    "# Create a DataFrame for 3D Plotting\n",
    "df_plot_3d = pd.DataFrame(embedding_3d, columns=['UMAP1', 'UMAP2', 'UMAP3'])\n",
    "df_plot_3d['emotion'] = combined_df['emotion']\n",
    "df_plot_3d['intensity'] = combined_df['intensity']\n",
    "df_plot_3d['text'] = combined_df['text']\n",
    "\n",
    "\n",
    "# Visualize the 3D Embeddings with Plotly\n",
    "fig_3d = px.scatter_3d(\n",
    "    df_plot_3d,\n",
    "    x='UMAP1',\n",
    "    y='UMAP2',\n",
    "    z='UMAP3',\n",
    "    color='emotion',                  \n",
    "    hover_data=['text', 'intensity'], \n",
    "    title='3D UMAP Projection of Text Embeddings'\n",
    ")\n",
    "\n",
    "fig_3d.show()"
   ]
  },
  {
   "cell_type": "code",
   "execution_count": null,
   "metadata": {},
   "outputs": [],
   "source": [
    "'''\n",
    "Similarities\n",
    "1. Cluster Preservation: Both plots will likely show the same fundamental grouping of data. UMAP's strength is preserving local neighborhood structures, so distinct emotions like 'joy', 'anger', 'sadness', and 'fear' should form visible clusters in both 2D and 3D space.\n",
    "2. Relative Cluster Positions: The general relationship between clusters should remain consistent. For example, the negative emotions ('anger', 'sadness', 'fear') might group closer to each other, while the 'joy' cluster remains distant from them in both visualizations.\n",
    "\n",
    "Differences\n",
    "1. Separation of Clusters: The most significant advantage of the 3D plot is its ability to reveal better separation between clusters. Two emotion clusters that appear to overlap or touch in the 2D projection might be clearly distinct when viewed with the added depth of a third dimension. You can rotate the 3D plot to find angles that show this separation clearly.\n",
    "2. Intra-Cluster Structure: The 3D view can reveal the internal \"shape\" and structure of each emotion cluster. What looks like a flat circle of points in 2D might actually be a more complex, spherical, or elongated cloud in 3D. This can provide insights into the diversity of language within a single emotion category.\n",
    "3. Interactivity and Exploration: While both plots are interactive, the 3D plot offers a richer exploration experience. The ability to rotate, pan, and zoom in a 3D space allows for a much deeper and more intuitive understanding of the high-dimensional relationships that UMAP has preserved. The 2D plot is limited to panning and zooming on a flat plane.\n",
    "'''"
   ]
  },
  {
   "cell_type": "markdown",
   "metadata": {},
   "source": [
    "---\n",
    "### <a id='toc1_5_9_'></a>[**2.5 Retrieval-Augmented Generation (RAG)**](#toc0_)\n",
    "\n",
    "`NOTE: This whole section including the exercise is now considered a bonus section, not counted for the main grade.`\n",
    "\n",
    "RAG (Retrieval-Augmented Generation) is a technique where a language model combines document retrieval with text generation. In RAG, a retrieval system first finds relevant documents or text chunks, and then the language model uses this retrieved information to generate a more informed and accurate response. This method enhances the model's ability to answer questions by grounding its responses in real, external data.\n",
    "\n",
    "In the following code, we will load a webpage as a document, which allows us to retrieve text from a URL. After loading the content, we will split the document into smaller, manageable chunks, making it easier for our model to process. Then, we'll generate embeddings for these chunks with a specified LLM model (Gemini Embedding Model). These embeddings will be stored in a vector database, which enables us to perform similarity searches. By setting up this retrieval system, we can use a RAG chain to answer questions. The retriever finds relevant text chunks from the document based on a query, and the LLM generates a response by incorporating this retrieved information, making the answers more grounded and accurate.\n",
    "\n",
    "In this example we use the library langchain, for documentation on more functions of the library you can check the following link: [LangChain Tutorials](https://python.langchain.com/docs/tutorials/)"
   ]
  },
  {
   "cell_type": "code",
   "execution_count": 51,
   "metadata": {},
   "outputs": [
    {
     "name": "stderr",
     "output_type": "stream",
     "text": [
      "WARNING:langchain_community.utils.user_agent:USER_AGENT environment variable not set, consider setting it to identify your requests.\n"
     ]
    }
   ],
   "source": [
    "from langchain.text_splitter import RecursiveCharacterTextSplitter\n",
    "from langchain_community.document_loaders import WebBaseLoader\n",
    "from langchain_community.vectorstores import Chroma\n",
    "from langchain_google_genai import GoogleGenerativeAIEmbeddings\n",
    "\n",
    "# Function to load, split, and retrieve documents\n",
    "def load_and_retrieve_docs(url):\n",
    "    loader = WebBaseLoader(\n",
    "        web_paths=(url,),\n",
    "        bs_kwargs=dict() \n",
    "    ) \n",
    "    docs = loader.load() #We will load the URL that will serve as our data source\n",
    "    text_splitter = RecursiveCharacterTextSplitter(chunk_size=1000, chunk_overlap=150) #We will divide the URL in chunks of text for easier comparison in the vector space\n",
    "    splits = text_splitter.split_documents(docs)\n",
    "    #print(splits) #You can print this to see how the chunks in the url where split\n",
    "    embeddings = GoogleGenerativeAIEmbeddings(model=\"models/gemini-embedding-001\")\n",
    "    vectorstore = Chroma.from_documents(documents=splits, embedding=embeddings) #Our vector space for comparison\n",
    "    return vectorstore.as_retriever()\n",
    "\n",
    "\n",
    "def format_docs(docs):\n",
    "    return \"\\n\\n\".join(doc.page_content for doc in docs) #Format the retrieved docs in an orderly manner for prompting\n",
    "\n",
    "# Define the Gemini LLM function\n",
    "def gemini_llm(question, context):\n",
    "    system_prompt = \"You are a RAG Agent that needs to provide a well structured answer based on the provided question and context.\"\n",
    "    formatted_prompt = f\"Question: {question}\\n\\nContext: {context}\"\n",
    "    response, logs = prompt_gemini(input_prompt = formatted_prompt, system_instruction = system_prompt, with_tokens_info = True)\n",
    "    print(f\"logs: \\n{logs}\")\n",
    "    # print(f\"Retrieved context: \\n{context}\\n\\n\") # You can print this to observe the retrieved context\n",
    "    return response\n",
    "\n",
    "\n",
    "# Define the RAG chain\n",
    "def rag_chain(question, retriever):\n",
    "    retrieved_docs = retriever.invoke(question)\n",
    "    formatted_context = format_docs(retrieved_docs)\n",
    "    return gemini_llm(question, formatted_context)\n"
   ]
  },
  {
   "cell_type": "code",
   "execution_count": 52,
   "metadata": {},
   "outputs": [
    {
     "name": "stdout",
     "output_type": "stream",
     "text": [
      "logs: \n",
      "{'model': 'gemini-2.5-flash-lite', 'input_tokens': 734, 'output_tokens': 192}\n"
     ]
    },
    {
     "data": {
      "text/markdown": [
       "The key challenges in realizing AGI's full potential, as highlighted in the provided text, are:\n",
       "\n",
       "*   **Learning from Diverse Data:** AGI needs to learn from unstructured and diverse data sources, unlike narrow AI which performs well with structured data.\n",
       "*   **Computational Power:** The significant computational resources required to process and learn from vast amounts of data present a substantial hurdle.\n",
       "*   **Ethical Concerns:** This includes issues related to autonomy, privacy, and control, and ensuring AGI systems align with human values.\n",
       "*   **Job Displacement:** The potential for AGI-driven automation to cause job losses necessitates strategies for workforce transition and retraining.\n",
       "*   **Security Risks:** Advanced AI systems could be vulnerable to hacking or misuse, leading to large-scale security threats.\n",
       "*   **Unpredictable Behavior:** The inherent complexity of AGI can make its actions difficult to predict or control, potentially leading to unintended consequences."
      ],
      "text/plain": [
       "<IPython.core.display.Markdown object>"
      ]
     },
     "metadata": {},
     "output_type": "display_data"
    }
   ],
   "source": [
    "url=\"https://qbotica.com/understanding-artificial-general-intelligence-agi-an-in-depth-overview/\"\n",
    "# Create the retriever\n",
    "retriever = load_and_retrieve_docs(url)\n",
    "\n",
    "# Use the RAG chain\n",
    "result = rag_chain(question=\"What are the Key Challenges in Realizing AGI’s Full Potential\", retriever=retriever)\n",
    "display(Markdown(result))"
   ]
  },
  {
   "cell_type": "markdown",
   "metadata": {},
   "source": [
    "\n",
    "##### <a id='toc1_5_9_1_1_'></a>[**Actual answer in the URL:**](#toc0_)\n",
    "\n",
    "![pic11.png](pics/pic11.png)\n",
    "\n",
    "##### <a id='toc1_5_9_1_2_'></a>[**Content in the URL that might get into the generated answer because of similar semantic meaning:**](#toc0_)\n",
    "\n",
    "![pic12.png](pics/pic12.png)\n",
    "\n",
    "source: https://qbotica.com/understanding-artificial-general-intelligence-agi-an-in-depth-overview/\n"
   ]
  },
  {
   "cell_type": "markdown",
   "metadata": {},
   "source": [
    "---\n",
    "##### <a id='toc1_5_9_1_3_'></a>[**>>> Bonus Exercise 5 (Take home):**](#toc0_)\n",
    "\n",
    "`NOTE: This exercise is now considered a bonus one, not counted for the main grade, only as extra points.`\n",
    "\n",
    "Your task is to test the RAG system with your own chosen URL and analyze its performance.\n",
    "\n",
    "1. Find a URL of a webpage with interesting text content to test the RAG pipeline.\n",
    "2. Make a question about the content in the webpage you chose.\n",
    "3. Discuss how good the question was answered by the model, if the model missed important information related to your question.\n",
    "4. Display a screenshot of the real answer in the webpage."
   ]
  },
  {
   "cell_type": "code",
   "execution_count": 54,
   "metadata": {},
   "outputs": [
    {
     "name": "stdout",
     "output_type": "stream",
     "text": [
      "logs: \n",
      "{'model': 'gemini-2.5-flash-lite', 'input_tokens': 714, 'output_tokens': 122}\n"
     ]
    },
    {
     "data": {
      "text/markdown": [
       "The Parker Solar Probe crossed the **Alfvén critical surface**.\n",
       "\n",
       "Its significance lies in the fact that this boundary marks the entry into the Sun's upper atmosphere, the corona. Previously, scientists were unsure of its exact location, with estimates ranging between 10 to 20 solar radii from the Sun's surface. The probe's crossing of this surface, confirmed by specific magnetic and particle conditions encountered at 18.8 solar radii, validates predictions about its shape not being smooth but having spikes and valleys. This discovery helps scientists understand how solar events influence the atmosphere and solar wind."
      ],
      "text/plain": [
       "<IPython.core.display.Markdown object>"
      ]
     },
     "metadata": {},
     "output_type": "display_data"
    }
   ],
   "source": [
    "# Answer here\n",
    "url=\"https://www.nasa.gov/solar-system/nasa-enters-the-solar-atmosphere-for-the-first-time-bringing-new-discoveries/\"\n",
    "# Create the retriever\n",
    "retriever = load_and_retrieve_docs(url)\n",
    "\n",
    "# Use the RAG chain\n",
    "result = rag_chain(question=\"What is the name of the specific boundary the Parker Solar Probe crossed, and what is its significance?\", retriever=retriever)\n",
    "display(Markdown(result))"
   ]
  },
  {
   "cell_type": "code",
   "execution_count": null,
   "metadata": {},
   "outputs": [],
   "source": [
    "'''\n",
    "1. Accuracy: The model correctly identified the key term, the \"Alfvén critical surface.\" This shows that the document retrieval step successfully found the relevant chunks of text containing the answer.\n",
    "2. Completeness: It correctly summarized the boundary's significance, stating that it marks the transition from the solar atmosphere to the solar wind and is crucial for understanding solar physics.\n",
    "3. Missed Information: The answer is excellent, but it did omit one specific detail from the retrieved context: that the Alfvén critical surface is the point where the solar wind's speed exceeds the Alfvén speed. This is a minor point, and the provided summary is still a high-quality and correct answer for the question asked.\n",
    "'''"
   ]
  },
  {
   "attachments": {
    "image-2.png": {
     "image/png": "[encoded data removed]"
    },
    "image.png": {
     "image/png": "[encoded data removed]"
    }
   },
   "cell_type": "markdown",
   "metadata": {},
   "source": [
    "![image-2.png](attachment:image-2.png)\n",
    "![image.png](attachment:image.png)"
   ]
  },
  {
   "cell_type": "markdown",
   "metadata": {},
   "source": [
    "---\n",
    "### <a id='toc1_5_10_'></a>[**2.6 Few-Shot Prompting Classification:**](#toc0_)\n",
    "\n",
    "Few-shot prompting is a technique where a Large Language Model (LLM) is given a small number of labeled examples within a prompt to guide its classification. This allows the model to perform a new task with minimal data, avoiding the need for extensive fine-tuning.\n",
    "\n",
    "In this lab, we will use the Gemini API to perform zero-shot, 1-shot, and 5-shot emotion classification:\n",
    "\n",
    "*   **Zero-shot:** The model classifies text without any prior examples.\n",
    "*   **1-shot:** The model is given one example for each emotion before classifying.\n",
    "*   **5-shot:** The model is given five examples per emotion for better context.\n",
    "\n",
    "To make our implementation robust and efficient, we are incorporating two key features:\n",
    "\n",
    "1.  **Structured Output:** We provide the Gemini model with a specific output schema (`Emotions` class). This instructs the model to return *only* a valid emotion label (e.g., `joy`), which makes the output predictable and reliable, minimizing errors.\n",
    "2.  **API Rate Handling:** The code includes a function to manage the requests-per-minute limit of the Gemini API.\n",
    "\n",
    "We will test the model's performance on a small sample of 20 texts per emotion to ensure the process runs quickly. If the model provides an invalid response, the code will automatically retry the request until a valid classification is received.\n",
    "\n",
    "**Prompt Structure:**\n",
    "`System Instruction -> Task Description -> Examples (if not zero-shot) -> Text to Classify`\n",
    "\n",
    "\n",
    "<span style=\"color:green\">For the exercises in this section there is no need to re-run the cells, you can use the data that has been saved previously to the corresponding directory.</span>"
   ]
  },
  {
   "cell_type": "code",
   "execution_count": 55,
   "metadata": {},
   "outputs": [],
   "source": [
    "# Funciton for visualizing confusion_matrix\n",
    "import matplotlib.pyplot as plt\n",
    "import seaborn as sns\n",
    "import numpy as np\n",
    "import itertools\n",
    "\n",
    "def plot_confusion_matrix(cm, classes, title='Confusion matrix',\n",
    "                          cmap=sns.cubehelix_palette(as_cmap=True)):\n",
    "    \"\"\"\n",
    "    This function is modified from: \n",
    "    http://scikit-learn.org/stable/auto_examples/model_selection/plot_confusion_matrix.html\n",
    "    \"\"\"\n",
    "    classes.sort()\n",
    "    tick_marks = np.arange(len(classes))    \n",
    "    \n",
    "    fig, ax = plt.subplots(figsize=(5,5))\n",
    "    im = ax.imshow(cm, interpolation='nearest', cmap=cmap)\n",
    "    ax.figure.colorbar(im, ax=ax)\n",
    "    ax.set(xticks=np.arange(cm.shape[1]),\n",
    "           yticks=np.arange(cm.shape[0]),\n",
    "           xticklabels = classes,\n",
    "           yticklabels = classes,\n",
    "           title = title,\n",
    "           xlabel = 'Predicted label',\n",
    "           ylabel = 'True label')\n",
    "\n",
    "    fmt = 'd'\n",
    "    thresh = cm.max() / 2.\n",
    "    for i, j in itertools.product(range(cm.shape[0]), range(cm.shape[1])):\n",
    "        plt.text(j, i, format(cm[i, j], fmt), horizontalalignment=\"center\", color=\"white\" if cm[i, j] > thresh else \"black\")\n",
    "    ylim_top = len(classes) - 0.5\n",
    "    plt.ylim([ylim_top, -.5])\n",
    "    plt.tight_layout()\n",
    "    plt.show()"
   ]
  },
  {
   "cell_type": "code",
   "execution_count": 56,
   "metadata": {},
   "outputs": [],
   "source": [
    "import pandas as pd\n",
    "import matplotlib.pyplot as plt\n",
    "import seaborn as sns\n",
    "from sklearn.metrics import accuracy_score, confusion_matrix, classification_report\n",
    "import enum\n",
    "import os\n",
    "from tqdm import tqdm\n",
    "import json\n",
    "import time\n",
    "# Define the emotion labels\n",
    "emotions = ['anger', 'fear', 'joy', 'sadness']\n",
    "# Define the model to use for few-shot prompting\n",
    "\n",
    "# Schema for the output, the type enum can be used to make a pool of options if what we want is to classify our text selecting only one of them\n",
    "class Emotions(enum.StrEnum):\n",
    "    ANGER = 'anger'\n",
    "    FEAR = 'fear'\n",
    "    JOY = 'joy'\n",
    "    SADNESS = 'sadness'\n",
    "\n",
    "\n",
    "# Function to handle the rate limits of gemini models\n",
    "def handle_rate_limit(request_count, first_request_time, max_calls_per_min):\n",
    "    current_time = time.time()\n",
    "\n",
    "    # Initialize timer on the first request of a new window\n",
    "    if request_count == 0:\n",
    "        first_request_time = current_time\n",
    "\n",
    "    request_count += 1\n",
    "\n",
    "    # If the rate limit is reached\n",
    "    if request_count > max_calls_per_min:\n",
    "        elapsed_time = current_time - first_request_time\n",
    "        if elapsed_time < 60:\n",
    "            wait_time = 60 - elapsed_time\n",
    "            print(f\"Rate limit of {max_calls_per_min} requests per minute reached. Waiting for {wait_time:.2f} seconds.\")\n",
    "            time.sleep(wait_time)\n",
    "\n",
    "        # Reset for the new window\n",
    "        request_count = 1\n",
    "        first_request_time = time.time()\n",
    "    \n",
    "    return request_count, first_request_time, max_calls_per_min\n",
    "\n",
    "# Function to sample examples per emotion category\n",
    "def sample_few_shots(df, emotions, num_samples=5):\n",
    "    few_shot_examples = {}\n",
    "    for emotion in emotions:\n",
    "        few_shot_examples[emotion] = df[df['emotion'] == emotion].sample(n=num_samples, random_state=42)\n",
    "    return few_shot_examples\n",
    "\n",
    "# Function to build the prompt based on the number of examples (few-shot, 1-shot, zero-shot)\n",
    "def build_prompt(examples, emotions, num_shots=5):\n",
    "    classification_instructions = \"\"\"\n",
    "You will be given a text extracted from social media and your task is to classify the text into one of the following emotion categories: \n",
    "\"anger\" | \"fear\" | \"joy\" | \"sadness\"\n",
    "    \"\"\"\n",
    "    \n",
    "    prompt = classification_instructions + \"\\n\\n\"\n",
    "    \n",
    "    if num_shots > 0:\n",
    "        prompt += f\"Examples: \\n\"\n",
    "        for emotion in emotions:\n",
    "            for _, row in examples[emotion].iterrows():\n",
    "                prompt += f\"Text: {row['text']}\\nClass: {emotion}\\n\\n\" #Show the examples in the same format it will be shown for the classification text\n",
    "                if num_shots == 1:  # If 1-shot, break after the first example for each emotion\n",
    "                    break\n",
    "    return prompt\n",
    "\n",
    "# Function to classify using the LLM with retry for incorrect responses\n",
    "def classify_with_llm(test_text, prompt_base, system_prompt, classes, schema):\n",
    "    response = None\n",
    "    while not response or response not in classes:\n",
    "        full_prompt = f\"{prompt_base}\\nClassification:\\nText: {test_text}\\nClass: \" #The classification text will leave the emotion label to be filled in by the LLM\n",
    "        try:\n",
    "            result = prompt_gemini(input_prompt = [full_prompt], schema = schema, system_instruction = system_prompt)\n",
    "            # print(f\"result: {result} \\n\")\n",
    "            # print(f\"type: {type(result)}\")\n",
    "            if not result:\n",
    "                # In case of giving empty responses with temperature 0.0, we set a higher temperature to seek for different responses\n",
    "                result = prompt_gemini(input_prompt = [full_prompt], schema = schema, system_instruction = system_prompt, temperature=1.0)\n",
    "\n",
    "            try:\n",
    "                # If the result is in the correct format it can be parsed using json\n",
    "                response = json.load(result)\n",
    "            except:\n",
    "                # In case it's not in a json friendly format\n",
    "                # Deleting characters \" and ' in case they appear in our response with the class of the text \n",
    "                response = result.replace('\"', '')    \n",
    "                response = response.replace(\"'\", \"\")  \n",
    "\n",
    "                \n",
    "        # except exceptions.ResourceExhausted as e:\n",
    "        except Exception as e:\n",
    "            print(f\"Waiting to retry... Error: {e}\")\n",
    "            time.sleep(15)\n",
    "            print(f\"test_text: {test_text}\")\n",
    "            return classify_with_llm(test_text, prompt_base, system_prompt, classes, schema) # Retry the request\n",
    "\n",
    "\n",
    "        if response not in classes:  # Retry if not a valid response\n",
    "            print(f\"Invalid response: {response}. Asking for reclassification.\")\n",
    "    return response\n",
    "\n",
    "# Main function to run the experiment with the option for zero-shot, 1-shot, or 5-shot prompting\n",
    "def run_experiment(df_train, df_test, num_test_samples=5, num_shots=5):\n",
    "    # Sample examples for few-shot prompting based on num_shots\n",
    "    if num_shots > 0:\n",
    "        few_shot_examples = sample_few_shots(df_train, emotions, num_samples=num_shots) \n",
    "        prompt_base = build_prompt(few_shot_examples, emotions, num_shots=num_shots)\n",
    "    else:\n",
    "        prompt_base = build_prompt(None, emotions, num_shots=0)  # Zero-shot has no examples\n",
    "\n",
    "    # System prompt for our classification model:\n",
    "    system_prompt = \"You are an emotion classification model for text data. Do not give empty responses, classify according to the list of possible classes.\"\n",
    "\n",
    "    # Prepare to classify the test set\n",
    "    results_data = []\n",
    "\n",
    "    print(prompt_base)\n",
    "    # Sample 20 examples per emotion for the test set to classify\n",
    "    test_samples = sample_few_shots(df_test, emotions, num_samples=num_test_samples)\n",
    "\n",
    "    # Variables to handle rate limit of gemini\n",
    "    request_count = 0\n",
    "    max_calls_per_min = 15 # Gemini 2.5 Flash Lite has this maximum set in the documentation\n",
    "    first_request_time = None\n",
    "\n",
    "    # Classify 20 test examples (5 from each category) and save predictions\n",
    "    for emotion in emotions:\n",
    "        for _, test_row in tqdm(test_samples[emotion].iterrows(), desc=f\"Processing samples for emotion: {emotion}...\", total=num_test_samples):\n",
    "            test_text = test_row['text']\n",
    "            request_count, first_request_time, max_calls_per_min = handle_rate_limit(request_count, first_request_time, max_calls_per_min)  # Check and handle rate limit before each API call\n",
    "            predicted_emotion = classify_with_llm(test_text = test_text, prompt_base = prompt_base, system_prompt = system_prompt, classes = emotions, schema = Emotions)\n",
    "            # Append the results data:\n",
    "            results_data.append({\n",
    "                    'text': test_text,\n",
    "                    'true_emotion': emotion,\n",
    "                    'predicted_emotion': predicted_emotion\n",
    "                })\n",
    "\n",
    "    # Create dataframe to save the results data\n",
    "    results_df = pd.DataFrame(results_data)\n",
    "    \n",
    "    # Extract just the true and predicted labels for metrics calculations\n",
    "    true_labels = results_df['true_emotion']\n",
    "    predictions = results_df['predicted_emotion']\n",
    "\n",
    "    output_dir = \"./results/llm_classification_results\"\n",
    "    os.makedirs(output_dir, exist_ok=True)\n",
    "    # Save the results\n",
    "    filename = f\"{output_dir}/results_samples_{num_test_samples}_shots_{num_shots}.csv\"\n",
    "    \n",
    "    # Save the DataFrame to CSV\n",
    "    results_df.to_csv(filename, index=False)\n",
    "    print(f\"\\nResults saved to {filename}\")\n",
    "\n",
    "    # Calculate accuracy\n",
    "    accuracy = accuracy_score(true_labels, predictions)\n",
    "    print(f\"Accuracy: {accuracy * 100:.2f}%\")\n",
    "    \n",
    "    # Classification report\n",
    "    print(classification_report(y_true=true_labels, y_pred=predictions))\n",
    "    \n",
    "    # Plot confusion matrix\n",
    "    cm = confusion_matrix(y_true=true_labels, y_pred=predictions) \n",
    "    my_tags = ['anger', 'fear', 'joy', 'sadness']\n",
    "    plot_confusion_matrix(cm, classes=my_tags, title=f'Confusion matrix for classification with \\n{num_shots}-shot prompting')"
   ]
  },
  {
   "cell_type": "markdown",
   "metadata": {},
   "source": [
    "**Important: The next part should take around 16 minutes to finish running due to API Rate Limits**\n",
    "\n",
    "**Note:** You might see an `429 RESOURCE_EXHAUSTED` error when running the following code all at once, this is because the `current API Rate Limit handling cannot reliably find out how many requests we have left per minute` from cell to cell, there is no Gemini feature created for it to get the information from their servers. So, `if you don't want to see the error you can just wait 1 minute` after one cell finished processing. But `even if there is an error showing it is fine`, internally in the code `there is a retry that happens every 15 seconds` until we finish processing our sampled data. `The lab is designed to never reach the total rate limit per day quota.`"
   ]
  },
  {
   "cell_type": "code",
   "execution_count": 57,
   "metadata": {},
   "outputs": [
    {
     "name": "stdout",
     "output_type": "stream",
     "text": [
      "\n",
      "You will be given a text extracted from social media and your task is to classify the text into one of the following emotion categories: \n",
      "\"anger\" | \"fear\" | \"joy\" | \"sadness\"\n",
      "    \n",
      "\n",
      "\n"
     ]
    },
    {
     "name": "stderr",
     "output_type": "stream",
     "text": [
      "Processing samples for emotion: anger...:  75%|███████▌  | 15/20 [00:14<00:04,  1.07it/s]"
     ]
    },
    {
     "name": "stdout",
     "output_type": "stream",
     "text": [
      "Rate limit of 15 requests per minute reached. Waiting for 45.56 seconds.\n"
     ]
    },
    {
     "name": "stderr",
     "output_type": "stream",
     "text": [
      "Processing samples for emotion: anger...: 100%|██████████| 20/20 [01:04<00:00,  3.24s/it]\n",
      "Processing samples for emotion: fear...:  50%|█████     | 10/20 [00:10<00:10,  1.01s/it]"
     ]
    },
    {
     "name": "stdout",
     "output_type": "stream",
     "text": [
      "Rate limit of 15 requests per minute reached. Waiting for 44.94 seconds.\n"
     ]
    },
    {
     "name": "stderr",
     "output_type": "stream",
     "text": [
      "Processing samples for emotion: fear...: 100%|██████████| 20/20 [01:07<00:00,  3.38s/it]\n",
      "Processing samples for emotion: joy...:  25%|██▌       | 5/20 [00:03<00:11,  1.31it/s]"
     ]
    },
    {
     "name": "stdout",
     "output_type": "stream",
     "text": [
      "Rate limit of 15 requests per minute reached. Waiting for 43.71 seconds.\n"
     ]
    },
    {
     "name": "stderr",
     "output_type": "stream",
     "text": [
      "Processing samples for emotion: joy...: 100%|██████████| 20/20 [01:02<00:00,  3.10s/it]\n",
      "Processing samples for emotion: sadness...:   0%|          | 0/20 [00:00<?, ?it/s]"
     ]
    },
    {
     "name": "stdout",
     "output_type": "stream",
     "text": [
      "Rate limit of 15 requests per minute reached. Waiting for 45.55 seconds.\n"
     ]
    },
    {
     "name": "stderr",
     "output_type": "stream",
     "text": [
      "Processing samples for emotion: sadness...:  75%|███████▌  | 15/20 [01:01<00:06,  1.21s/it]"
     ]
    },
    {
     "name": "stdout",
     "output_type": "stream",
     "text": [
      "Rate limit of 15 requests per minute reached. Waiting for 43.81 seconds.\n"
     ]
    },
    {
     "name": "stderr",
     "output_type": "stream",
     "text": [
      "Processing samples for emotion: sadness...: 100%|██████████| 20/20 [01:50<00:00,  5.54s/it]\n"
     ]
    },
    {
     "name": "stdout",
     "output_type": "stream",
     "text": [
      "\n",
      "Results saved to ./results/llm_classification_results/results_samples_20_shots_0.csv\n",
      "Accuracy: 51.25%\n",
      "              precision    recall  f1-score   support\n",
      "\n",
      "       anger       0.43      0.65      0.52        20\n",
      "        fear       0.83      0.25      0.38        20\n",
      "         joy       0.48      0.80      0.60        20\n",
      "     sadness       0.64      0.35      0.45        20\n",
      "\n",
      "    accuracy                           0.51        80\n",
      "   macro avg       0.60      0.51      0.49        80\n",
      "weighted avg       0.60      0.51      0.49        80\n",
      "\n"
     ]
    },
    {
     "data": {
      "image/png": "[encoded data removed]",
      "text/plain": [
       "<Figure size 500x500 with 2 Axes>"
      ]
     },
     "metadata": {},
     "output_type": "display_data"
    }
   ],
   "source": [
    "# If you see '429 RESOURCE_EXHAUSTED' errors it's fine, wait until the data gets processed, it will keep retrying until it finishes\n",
    "\n",
    "# Example of running the experiment with zero-shot prompting\n",
    "run_experiment(train_df, test_df, num_test_samples=20, num_shots=0)"
   ]
  },
  {
   "cell_type": "code",
   "execution_count": 58,
   "metadata": {},
   "outputs": [
    {
     "name": "stdout",
     "output_type": "stream",
     "text": [
      "\n",
      "You will be given a text extracted from social media and your task is to classify the text into one of the following emotion categories: \n",
      "\"anger\" | \"fear\" | \"joy\" | \"sadness\"\n",
      "    \n",
      "\n",
      "Examples: \n",
      "Text: Zero help from @ups customer service. Just pushing the buck back and forth and promising callbacks that don’t happen.  #loathing\n",
      "Class: anger\n",
      "\n",
      "Text: When the sadness leaves you broken in your bed, I will hold you in the depths of your despair, and it's all in the name of love 🎶\n",
      "Class: fear\n",
      "\n",
      "Text: Thank you @twitter for the balloons today. #smile #goodday #48\n",
      "Class: joy\n",
      "\n",
      "Text: you never call me when your sober\n",
      "Class: sadness\n",
      "\n",
      "\n"
     ]
    },
    {
     "name": "stderr",
     "output_type": "stream",
     "text": [
      "Processing samples for emotion: anger...:  55%|█████▌    | 11/20 [00:10<00:08,  1.03it/s]"
     ]
    },
    {
     "name": "stdout",
     "output_type": "stream",
     "text": [
      "Error occurred when generating response, error: 429 RESOURCE_EXHAUSTED. {'error': {'code': 429, 'message': 'You exceeded your current quota, please check your plan and billing details. For more information on this error, head to: https://ai.google.dev/gemini-api/docs/rate-limits.\\n* Quota exceeded for metric: generativelanguage.googleapis.com/generate_content_free_tier_requests, limit: 15\\nPlease retry in 42.268700918s.', 'status': 'RESOURCE_EXHAUSTED', 'details': [{'@type': 'type.googleapis.com/google.rpc.QuotaFailure', 'violations': [{'quotaMetric': 'generativelanguage.googleapis.com/generate_content_free_tier_requests', 'quotaId': 'GenerateRequestsPerMinutePerProjectPerModel-FreeTier', 'quotaDimensions': {'location': 'global', 'model': 'gemini-2.5-flash-lite'}, 'quotaValue': '15'}]}, {'@type': 'type.googleapis.com/google.rpc.Help', 'links': [{'description': 'Learn more about Gemini API quotas', 'url': 'https://ai.google.dev/gemini-api/docs/rate-limits'}]}, {'@type': 'type.googleapis.com/google.rpc.RetryInfo', 'retryDelay': '42s'}]}}\n",
      "Error occurred when generating response, error: 429 RESOURCE_EXHAUSTED. {'error': {'code': 429, 'message': 'You exceeded your current quota, please check your plan and billing details. For more information on this error, head to: https://ai.google.dev/gemini-api/docs/rate-limits.\\n* Quota exceeded for metric: generativelanguage.googleapis.com/generate_content_free_tier_requests, limit: 15\\nPlease retry in 42.220370233s.', 'status': 'RESOURCE_EXHAUSTED', 'details': [{'@type': 'type.googleapis.com/google.rpc.QuotaFailure', 'violations': [{'quotaMetric': 'generativelanguage.googleapis.com/generate_content_free_tier_requests', 'quotaId': 'GenerateRequestsPerMinutePerProjectPerModel-FreeTier', 'quotaDimensions': {'location': 'global', 'model': 'gemini-2.5-flash-lite'}, 'quotaValue': '15'}]}, {'@type': 'type.googleapis.com/google.rpc.Help', 'links': [{'description': 'Learn more about Gemini API quotas', 'url': 'https://ai.google.dev/gemini-api/docs/rate-limits'}]}, {'@type': 'type.googleapis.com/google.rpc.RetryInfo', 'retryDelay': '42s'}]}}\n",
      "Waiting to retry... Error: 'NoneType' object has no attribute 'replace'\n",
      "test_text: Taking umbrage because Jimmy Carr claimed that Bilbo Baggins went to Mordor on 8 out of 10 cats does Countdown. Know your Baggins', mate.\n",
      "Error occurred when generating response, error: 429 RESOURCE_EXHAUSTED. {'error': {'code': 429, 'message': 'You exceeded your current quota, please check your plan and billing details. For more information on this error, head to: https://ai.google.dev/gemini-api/docs/rate-limits.\\n* Quota exceeded for metric: generativelanguage.googleapis.com/generate_content_free_tier_requests, limit: 15\\nPlease retry in 26.98490382s.', 'status': 'RESOURCE_EXHAUSTED', 'details': [{'@type': 'type.googleapis.com/google.rpc.QuotaFailure', 'violations': [{'quotaMetric': 'generativelanguage.googleapis.com/generate_content_free_tier_requests', 'quotaId': 'GenerateRequestsPerMinutePerProjectPerModel-FreeTier', 'quotaDimensions': {'location': 'global', 'model': 'gemini-2.5-flash-lite'}, 'quotaValue': '15'}]}, {'@type': 'type.googleapis.com/google.rpc.Help', 'links': [{'description': 'Learn more about Gemini API quotas', 'url': 'https://ai.google.dev/gemini-api/docs/rate-limits'}]}, {'@type': 'type.googleapis.com/google.rpc.RetryInfo', 'retryDelay': '26s'}]}}\n",
      "Error occurred when generating response, error: 429 RESOURCE_EXHAUSTED. {'error': {'code': 429, 'message': 'You exceeded your current quota, please check your plan and billing details. For more information on this error, head to: https://ai.google.dev/gemini-api/docs/rate-limits.\\n* Quota exceeded for metric: generativelanguage.googleapis.com/generate_content_free_tier_requests, limit: 15\\nPlease retry in 26.830764654s.', 'status': 'RESOURCE_EXHAUSTED', 'details': [{'@type': 'type.googleapis.com/google.rpc.QuotaFailure', 'violations': [{'quotaMetric': 'generativelanguage.googleapis.com/generate_content_free_tier_requests', 'quotaId': 'GenerateRequestsPerMinutePerProjectPerModel-FreeTier', 'quotaDimensions': {'model': 'gemini-2.5-flash-lite', 'location': 'global'}, 'quotaValue': '15'}]}, {'@type': 'type.googleapis.com/google.rpc.Help', 'links': [{'description': 'Learn more about Gemini API quotas', 'url': 'https://ai.google.dev/gemini-api/docs/rate-limits'}]}, {'@type': 'type.googleapis.com/google.rpc.RetryInfo', 'retryDelay': '26s'}]}}\n",
      "Waiting to retry... Error: 'NoneType' object has no attribute 'replace'\n",
      "test_text: Taking umbrage because Jimmy Carr claimed that Bilbo Baggins went to Mordor on 8 out of 10 cats does Countdown. Know your Baggins', mate.\n",
      "Error occurred when generating response, error: 429 RESOURCE_EXHAUSTED. {'error': {'code': 429, 'message': 'You exceeded your current quota, please check your plan and billing details. For more information on this error, head to: https://ai.google.dev/gemini-api/docs/rate-limits.\\n* Quota exceeded for metric: generativelanguage.googleapis.com/generate_content_free_tier_requests, limit: 15\\nPlease retry in 11.654023536s.', 'status': 'RESOURCE_EXHAUSTED', 'details': [{'@type': 'type.googleapis.com/google.rpc.QuotaFailure', 'violations': [{'quotaMetric': 'generativelanguage.googleapis.com/generate_content_free_tier_requests', 'quotaId': 'GenerateRequestsPerMinutePerProjectPerModel-FreeTier', 'quotaDimensions': {'location': 'global', 'model': 'gemini-2.5-flash-lite'}, 'quotaValue': '15'}]}, {'@type': 'type.googleapis.com/google.rpc.Help', 'links': [{'description': 'Learn more about Gemini API quotas', 'url': 'https://ai.google.dev/gemini-api/docs/rate-limits'}]}, {'@type': 'type.googleapis.com/google.rpc.RetryInfo', 'retryDelay': '11s'}]}}\n"
     ]
    },
    {
     "name": "stderr",
     "output_type": "stream",
     "text": [
      "Processing samples for emotion: anger...:  60%|██████    | 12/20 [00:41<01:22, 10.26s/it]"
     ]
    },
    {
     "name": "stdout",
     "output_type": "stream",
     "text": [
      "Error occurred when generating response, error: 429 RESOURCE_EXHAUSTED. {'error': {'code': 429, 'message': 'You exceeded your current quota, please check your plan and billing details. For more information on this error, head to: https://ai.google.dev/gemini-api/docs/rate-limits.\\n* Quota exceeded for metric: generativelanguage.googleapis.com/generate_content_free_tier_requests, limit: 15\\nPlease retry in 10.733954178s.', 'status': 'RESOURCE_EXHAUSTED', 'details': [{'@type': 'type.googleapis.com/google.rpc.QuotaFailure', 'violations': [{'quotaMetric': 'generativelanguage.googleapis.com/generate_content_free_tier_requests', 'quotaId': 'GenerateRequestsPerMinutePerProjectPerModel-FreeTier', 'quotaDimensions': {'location': 'global', 'model': 'gemini-2.5-flash-lite'}, 'quotaValue': '15'}]}, {'@type': 'type.googleapis.com/google.rpc.Help', 'links': [{'description': 'Learn more about Gemini API quotas', 'url': 'https://ai.google.dev/gemini-api/docs/rate-limits'}]}, {'@type': 'type.googleapis.com/google.rpc.RetryInfo', 'retryDelay': '10s'}]}}\n",
      "Error occurred when generating response, error: 429 RESOURCE_EXHAUSTED. {'error': {'code': 429, 'message': 'You exceeded your current quota, please check your plan and billing details. For more information on this error, head to: https://ai.google.dev/gemini-api/docs/rate-limits.\\n* Quota exceeded for metric: generativelanguage.googleapis.com/generate_content_free_tier_requests, limit: 15\\nPlease retry in 10.683761747s.', 'status': 'RESOURCE_EXHAUSTED', 'details': [{'@type': 'type.googleapis.com/google.rpc.QuotaFailure', 'violations': [{'quotaMetric': 'generativelanguage.googleapis.com/generate_content_free_tier_requests', 'quotaId': 'GenerateRequestsPerMinutePerProjectPerModel-FreeTier', 'quotaDimensions': {'location': 'global', 'model': 'gemini-2.5-flash-lite'}, 'quotaValue': '15'}]}, {'@type': 'type.googleapis.com/google.rpc.Help', 'links': [{'description': 'Learn more about Gemini API quotas', 'url': 'https://ai.google.dev/gemini-api/docs/rate-limits'}]}, {'@type': 'type.googleapis.com/google.rpc.RetryInfo', 'retryDelay': '10s'}]}}\n",
      "Waiting to retry... Error: 'NoneType' object has no attribute 'replace'\n",
      "test_text: Just joined #pottermore and was sorted into HUFFLEPUFF 😡😡😡 #fuming\n"
     ]
    },
    {
     "name": "stderr",
     "output_type": "stream",
     "text": [
      "Processing samples for emotion: anger...:  75%|███████▌  | 15/20 [00:59<00:32,  6.41s/it]"
     ]
    },
    {
     "name": "stdout",
     "output_type": "stream",
     "text": [
      "Rate limit of 15 requests per minute reached. Waiting for 0.05 seconds.\n"
     ]
    },
    {
     "name": "stderr",
     "output_type": "stream",
     "text": [
      "Processing samples for emotion: anger...: 100%|██████████| 20/20 [01:04<00:00,  3.22s/it]\n",
      "Processing samples for emotion: fear...:  40%|████      | 8/20 [00:07<00:11,  1.02it/s]"
     ]
    },
    {
     "name": "stdout",
     "output_type": "stream",
     "text": [
      "Error occurred when generating response, error: 429 RESOURCE_EXHAUSTED. {'error': {'code': 429, 'message': 'You exceeded your current quota, please check your plan and billing details. For more information on this error, head to: https://ai.google.dev/gemini-api/docs/rate-limits.\\n* Quota exceeded for metric: generativelanguage.googleapis.com/generate_content_free_tier_requests, limit: 15\\nPlease retry in 40.032525899s.', 'status': 'RESOURCE_EXHAUSTED', 'details': [{'@type': 'type.googleapis.com/google.rpc.QuotaFailure', 'violations': [{'quotaMetric': 'generativelanguage.googleapis.com/generate_content_free_tier_requests', 'quotaId': 'GenerateRequestsPerMinutePerProjectPerModel-FreeTier', 'quotaDimensions': {'location': 'global', 'model': 'gemini-2.5-flash-lite'}, 'quotaValue': '15'}]}, {'@type': 'type.googleapis.com/google.rpc.Help', 'links': [{'description': 'Learn more about Gemini API quotas', 'url': 'https://ai.google.dev/gemini-api/docs/rate-limits'}]}, {'@type': 'type.googleapis.com/google.rpc.RetryInfo', 'retryDelay': '40s'}]}}\n",
      "Error occurred when generating response, error: 429 RESOURCE_EXHAUSTED. {'error': {'code': 429, 'message': 'You exceeded your current quota, please check your plan and billing details. For more information on this error, head to: https://ai.google.dev/gemini-api/docs/rate-limits.\\n* Quota exceeded for metric: generativelanguage.googleapis.com/generate_content_free_tier_requests, limit: 15\\nPlease retry in 39.93626505s.', 'status': 'RESOURCE_EXHAUSTED', 'details': [{'@type': 'type.googleapis.com/google.rpc.QuotaFailure', 'violations': [{'quotaMetric': 'generativelanguage.googleapis.com/generate_content_free_tier_requests', 'quotaId': 'GenerateRequestsPerMinutePerProjectPerModel-FreeTier', 'quotaDimensions': {'location': 'global', 'model': 'gemini-2.5-flash-lite'}, 'quotaValue': '15'}]}, {'@type': 'type.googleapis.com/google.rpc.Help', 'links': [{'description': 'Learn more about Gemini API quotas', 'url': 'https://ai.google.dev/gemini-api/docs/rate-limits'}]}, {'@type': 'type.googleapis.com/google.rpc.RetryInfo', 'retryDelay': '39s'}]}}\n",
      "Waiting to retry... Error: 'NoneType' object has no attribute 'replace'\n",
      "test_text: Losing to Villa...'@M0tivati0nQuote: Most of the things people worry about are things that won't even matter to them a few months from now.'\n",
      "Error occurred when generating response, error: 429 RESOURCE_EXHAUSTED. {'error': {'code': 429, 'message': 'You exceeded your current quota, please check your plan and billing details. For more information on this error, head to: https://ai.google.dev/gemini-api/docs/rate-limits.\\n* Quota exceeded for metric: generativelanguage.googleapis.com/generate_content_free_tier_requests, limit: 15\\nPlease retry in 24.149248456s.', 'status': 'RESOURCE_EXHAUSTED', 'details': [{'@type': 'type.googleapis.com/google.rpc.QuotaFailure', 'violations': [{'quotaMetric': 'generativelanguage.googleapis.com/generate_content_free_tier_requests', 'quotaId': 'GenerateRequestsPerMinutePerProjectPerModel-FreeTier', 'quotaDimensions': {'location': 'global', 'model': 'gemini-2.5-flash-lite'}, 'quotaValue': '15'}]}, {'@type': 'type.googleapis.com/google.rpc.Help', 'links': [{'description': 'Learn more about Gemini API quotas', 'url': 'https://ai.google.dev/gemini-api/docs/rate-limits'}]}, {'@type': 'type.googleapis.com/google.rpc.RetryInfo', 'retryDelay': '24s'}]}}\n",
      "Error occurred when generating response, error: 429 RESOURCE_EXHAUSTED. {'error': {'code': 429, 'message': 'You exceeded your current quota, please check your plan and billing details. For more information on this error, head to: https://ai.google.dev/gemini-api/docs/rate-limits.\\n* Quota exceeded for metric: generativelanguage.googleapis.com/generate_content_free_tier_requests, limit: 15\\nPlease retry in 24.057091052s.', 'status': 'RESOURCE_EXHAUSTED', 'details': [{'@type': 'type.googleapis.com/google.rpc.QuotaFailure', 'violations': [{'quotaMetric': 'generativelanguage.googleapis.com/generate_content_free_tier_requests', 'quotaId': 'GenerateRequestsPerMinutePerProjectPerModel-FreeTier', 'quotaDimensions': {'location': 'global', 'model': 'gemini-2.5-flash-lite'}, 'quotaValue': '15'}]}, {'@type': 'type.googleapis.com/google.rpc.Help', 'links': [{'description': 'Learn more about Gemini API quotas', 'url': 'https://ai.google.dev/gemini-api/docs/rate-limits'}]}, {'@type': 'type.googleapis.com/google.rpc.RetryInfo', 'retryDelay': '24s'}]}}\n",
      "Waiting to retry... Error: 'NoneType' object has no attribute 'replace'\n",
      "test_text: Losing to Villa...'@M0tivati0nQuote: Most of the things people worry about are things that won't even matter to them a few months from now.'\n"
     ]
    },
    {
     "name": "stderr",
     "output_type": "stream",
     "text": [
      "Processing samples for emotion: fear...:  45%|████▌     | 9/20 [00:40<01:57, 10.69s/it]"
     ]
    },
    {
     "name": "stdout",
     "output_type": "stream",
     "text": [
      "Error occurred when generating response, error: 429 RESOURCE_EXHAUSTED. {'error': {'code': 429, 'message': 'You exceeded your current quota, please check your plan and billing details. For more information on this error, head to: https://ai.google.dev/gemini-api/docs/rate-limits.\\n* Quota exceeded for metric: generativelanguage.googleapis.com/generate_content_free_tier_requests, limit: 15\\nPlease retry in 7.979612772s.', 'status': 'RESOURCE_EXHAUSTED', 'details': [{'@type': 'type.googleapis.com/google.rpc.QuotaFailure', 'violations': [{'quotaMetric': 'generativelanguage.googleapis.com/generate_content_free_tier_requests', 'quotaId': 'GenerateRequestsPerMinutePerProjectPerModel-FreeTier', 'quotaDimensions': {'model': 'gemini-2.5-flash-lite', 'location': 'global'}, 'quotaValue': '15'}]}, {'@type': 'type.googleapis.com/google.rpc.Help', 'links': [{'description': 'Learn more about Gemini API quotas', 'url': 'https://ai.google.dev/gemini-api/docs/rate-limits'}]}, {'@type': 'type.googleapis.com/google.rpc.RetryInfo', 'retryDelay': '7s'}]}}\n",
      "Error occurred when generating response, error: 429 RESOURCE_EXHAUSTED. {'error': {'code': 429, 'message': 'You exceeded your current quota, please check your plan and billing details. For more information on this error, head to: https://ai.google.dev/gemini-api/docs/rate-limits.\\n* Quota exceeded for metric: generativelanguage.googleapis.com/generate_content_free_tier_requests, limit: 15\\nPlease retry in 7.888433904s.', 'status': 'RESOURCE_EXHAUSTED', 'details': [{'@type': 'type.googleapis.com/google.rpc.QuotaFailure', 'violations': [{'quotaMetric': 'generativelanguage.googleapis.com/generate_content_free_tier_requests', 'quotaId': 'GenerateRequestsPerMinutePerProjectPerModel-FreeTier', 'quotaDimensions': {'location': 'global', 'model': 'gemini-2.5-flash-lite'}, 'quotaValue': '15'}]}, {'@type': 'type.googleapis.com/google.rpc.Help', 'links': [{'description': 'Learn more about Gemini API quotas', 'url': 'https://ai.google.dev/gemini-api/docs/rate-limits'}]}, {'@type': 'type.googleapis.com/google.rpc.RetryInfo', 'retryDelay': '7s'}]}}\n",
      "Waiting to retry... Error: 'NoneType' object has no attribute 'replace'\n",
      "test_text: @madhav_pastey moral of the story, never check mails in the night. PS. Most notices have nothing much to worry about. @ashwinikn\n"
     ]
    },
    {
     "name": "stderr",
     "output_type": "stream",
     "text": [
      "Processing samples for emotion: fear...: 100%|██████████| 20/20 [01:05<00:00,  3.28s/it]\n",
      "Processing samples for emotion: joy...:  25%|██▌       | 5/20 [00:04<00:14,  1.06it/s]"
     ]
    },
    {
     "name": "stdout",
     "output_type": "stream",
     "text": [
      "Rate limit of 15 requests per minute reached. Waiting for 46.17 seconds.\n"
     ]
    },
    {
     "name": "stderr",
     "output_type": "stream",
     "text": [
      "Processing samples for emotion: joy...: 100%|██████████| 20/20 [01:05<00:00,  3.27s/it]\n",
      "Processing samples for emotion: sadness...:   0%|          | 0/20 [00:00<?, ?it/s]"
     ]
    },
    {
     "name": "stdout",
     "output_type": "stream",
     "text": [
      "Rate limit of 15 requests per minute reached. Waiting for 45.45 seconds.\n"
     ]
    },
    {
     "name": "stderr",
     "output_type": "stream",
     "text": [
      "Processing samples for emotion: sadness...:  75%|███████▌  | 15/20 [01:01<00:05,  1.13s/it]"
     ]
    },
    {
     "name": "stdout",
     "output_type": "stream",
     "text": [
      "Rate limit of 15 requests per minute reached. Waiting for 44.42 seconds.\n"
     ]
    },
    {
     "name": "stderr",
     "output_type": "stream",
     "text": [
      "Processing samples for emotion: sadness...: 100%|██████████| 20/20 [01:50<00:00,  5.53s/it]"
     ]
    },
    {
     "name": "stdout",
     "output_type": "stream",
     "text": [
      "\n",
      "Results saved to ./results/llm_classification_results/results_samples_20_shots_1.csv\n",
      "Accuracy: 52.50%\n",
      "              precision    recall  f1-score   support\n",
      "\n",
      "       anger       0.50      0.65      0.57        20\n",
      "        fear       0.62      0.40      0.48        20\n",
      "         joy       0.48      0.70      0.57        20\n",
      "     sadness       0.58      0.35      0.44        20\n",
      "\n",
      "    accuracy                           0.53        80\n",
      "   macro avg       0.55      0.53      0.51        80\n",
      "weighted avg       0.55      0.53      0.51        80\n",
      "\n"
     ]
    },
    {
     "name": "stderr",
     "output_type": "stream",
     "text": [
      "\n"
     ]
    },
    {
     "data": {
      "image/png": "[encoded data removed]",
      "text/plain": [
       "<Figure size 500x500 with 2 Axes>"
      ]
     },
     "metadata": {},
     "output_type": "display_data"
    }
   ],
   "source": [
    "# If you see '429 RESOURCE_EXHAUSTED' errors it's fine, wait until the data gets processed, it will keep retrying until it finishes\n",
    "\n",
    "# Example of running the experiment with 1-shot prompting\n",
    "run_experiment(train_df, test_df, num_test_samples=20, num_shots=1)"
   ]
  },
  {
   "cell_type": "code",
   "execution_count": 59,
   "metadata": {},
   "outputs": [
    {
     "name": "stdout",
     "output_type": "stream",
     "text": [
      "\n",
      "You will be given a text extracted from social media and your task is to classify the text into one of the following emotion categories: \n",
      "\"anger\" | \"fear\" | \"joy\" | \"sadness\"\n",
      "    \n",
      "\n",
      "Examples: \n",
      "Text: Zero help from @ups customer service. Just pushing the buck back and forth and promising callbacks that don’t happen.  #loathing\n",
      "Class: anger\n",
      "\n",
      "Text: I offend u\n",
      "Class: anger\n",
      "\n",
      "Text: @paulkrugman relentless echo chamber - negative comments with lots of reverb. Typical bully behavior.\n",
      "Class: anger\n",
      "\n",
      "Text: When someone rudely says all women should have long hair and your inner feminist tries not to rage\n",
      "Class: anger\n",
      "\n",
      "Text: BANG! Gordon #Brown has been accused of abusing a gazillion #rabid parrots!\n",
      "Class: anger\n",
      "\n",
      "Text: When the sadness leaves you broken in your bed, I will hold you in the depths of your despair, and it's all in the name of love 🎶\n",
      "Class: fear\n",
      "\n",
      "Text: I just deleted my save file trying to load it up. Now I have to start. All. Over. Again. I am going to freaking kill someone. Pray for me.\n",
      "Class: fear\n",
      "\n",
      "Text: Recently changed to @firstdirect and its the worst service I've ever encountered nearly require DNA to access anything. #awful 😩😩😩\n",
      "Class: fear\n",
      "\n",
      "Text: Starting not to give a fuck and stopped fearing the consequence\n",
      "Class: fear\n",
      "\n",
      "Text: @Joey7Barton I remember Joey slagging England player's off bringing out books after crap tournaments..same same..crap player \n",
      "Class: fear\n",
      "\n",
      "Text: Thank you @twitter for the balloons today. #smile #goodday #48\n",
      "Class: joy\n",
      "\n",
      "Text: Sometimes I watch shitty tv to reinforce never giving up cuz if something is that fucking awful on tv, I still stand a chance. #optimism\n",
      "Class: joy\n",
      "\n",
      "Text: Be happy not because everything is good, but because you can see the good side of everything  #optimism\n",
      "Class: joy\n",
      "\n",
      "Text: At 12:01, Tumblr became sentient. At 1.:02, Tumblr posted gn animated gif about it. At 12:03, Tumblr shipped itself.\n",
      "Class: joy\n",
      "\n",
      "Text: @HytheHighborne -Sylvia was elated to receive kisses from the little prince, her bright smile clear as she glanced to Garrett and Elyse- --\n",
      "Class: joy\n",
      "\n",
      "Text: you never call me when your sober\n",
      "Class: sadness\n",
      "\n",
      "Text: Condolences to the  JC and the Georges family.. \n",
      "Class: sadness\n",
      "\n",
      "Text: Ill say it again. If I was a Black man Id be afraid to leave my house or have a moving violation.\\n\\n#TerranceCrutcher #truth #sad\n",
      "Class: sadness\n",
      "\n",
      "Text: @emorottie true sonicsatam was serious and a bit dark. Aosth is like super goofy and Looney toonie to a degree\n",
      "Class: sadness\n",
      "\n",
      "Text: I'm honestly upset that they rewarded Nicole 500k. #depressing #paulwasrobbed #rewardhardwork #bitterjury #bb18\n",
      "Class: sadness\n",
      "\n",
      "\n"
     ]
    },
    {
     "name": "stderr",
     "output_type": "stream",
     "text": [
      "Processing samples for emotion: anger...:  55%|█████▌    | 11/20 [00:10<00:08,  1.09it/s]"
     ]
    },
    {
     "name": "stdout",
     "output_type": "stream",
     "text": [
      "Error occurred when generating response, error: 429 RESOURCE_EXHAUSTED. {'error': {'code': 429, 'message': 'You exceeded your current quota, please check your plan and billing details. For more information on this error, head to: https://ai.google.dev/gemini-api/docs/rate-limits.\\n* Quota exceeded for metric: generativelanguage.googleapis.com/generate_content_free_tier_requests, limit: 15\\nPlease retry in 36.065427102s.', 'status': 'RESOURCE_EXHAUSTED', 'details': [{'@type': 'type.googleapis.com/google.rpc.QuotaFailure', 'violations': [{'quotaMetric': 'generativelanguage.googleapis.com/generate_content_free_tier_requests', 'quotaId': 'GenerateRequestsPerMinutePerProjectPerModel-FreeTier', 'quotaDimensions': {'location': 'global', 'model': 'gemini-2.5-flash-lite'}, 'quotaValue': '15'}]}, {'@type': 'type.googleapis.com/google.rpc.Help', 'links': [{'description': 'Learn more about Gemini API quotas', 'url': 'https://ai.google.dev/gemini-api/docs/rate-limits'}]}, {'@type': 'type.googleapis.com/google.rpc.RetryInfo', 'retryDelay': '36s'}]}}\n"
     ]
    },
    {
     "name": "stderr",
     "output_type": "stream",
     "text": [
      "Processing samples for emotion: anger...:  60%|██████    | 12/20 [00:11<00:06,  1.15it/s]"
     ]
    },
    {
     "name": "stdout",
     "output_type": "stream",
     "text": [
      "Error occurred when generating response, error: 429 RESOURCE_EXHAUSTED. {'error': {'code': 429, 'message': 'You exceeded your current quota, please check your plan and billing details. For more information on this error, head to: https://ai.google.dev/gemini-api/docs/rate-limits.\\n* Quota exceeded for metric: generativelanguage.googleapis.com/generate_content_free_tier_requests, limit: 15\\nPlease retry in 35.295128613s.', 'status': 'RESOURCE_EXHAUSTED', 'details': [{'@type': 'type.googleapis.com/google.rpc.QuotaFailure', 'violations': [{'quotaMetric': 'generativelanguage.googleapis.com/generate_content_free_tier_requests', 'quotaId': 'GenerateRequestsPerMinutePerProjectPerModel-FreeTier', 'quotaDimensions': {'location': 'global', 'model': 'gemini-2.5-flash-lite'}, 'quotaValue': '15'}]}, {'@type': 'type.googleapis.com/google.rpc.Help', 'links': [{'description': 'Learn more about Gemini API quotas', 'url': 'https://ai.google.dev/gemini-api/docs/rate-limits'}]}, {'@type': 'type.googleapis.com/google.rpc.RetryInfo', 'retryDelay': '35s'}]}}\n",
      "Error occurred when generating response, error: 429 RESOURCE_EXHAUSTED. {'error': {'code': 429, 'message': 'You exceeded your current quota, please check your plan and billing details. For more information on this error, head to: https://ai.google.dev/gemini-api/docs/rate-limits.\\n* Quota exceeded for metric: generativelanguage.googleapis.com/generate_content_free_tier_requests, limit: 15\\nPlease retry in 35.148018847s.', 'status': 'RESOURCE_EXHAUSTED', 'details': [{'@type': 'type.googleapis.com/google.rpc.QuotaFailure', 'violations': [{'quotaMetric': 'generativelanguage.googleapis.com/generate_content_free_tier_requests', 'quotaId': 'GenerateRequestsPerMinutePerProjectPerModel-FreeTier', 'quotaDimensions': {'location': 'global', 'model': 'gemini-2.5-flash-lite'}, 'quotaValue': '15'}]}, {'@type': 'type.googleapis.com/google.rpc.Help', 'links': [{'description': 'Learn more about Gemini API quotas', 'url': 'https://ai.google.dev/gemini-api/docs/rate-limits'}]}, {'@type': 'type.googleapis.com/google.rpc.RetryInfo', 'retryDelay': '35s'}]}}\n",
      "Waiting to retry... Error: 'NoneType' object has no attribute 'replace'\n",
      "test_text: Just joined #pottermore and was sorted into HUFFLEPUFF 😡😡😡 #fuming\n",
      "Error occurred when generating response, error: 429 RESOURCE_EXHAUSTED. {'error': {'code': 429, 'message': 'You exceeded your current quota, please check your plan and billing details. For more information on this error, head to: https://ai.google.dev/gemini-api/docs/rate-limits.\\n* Quota exceeded for metric: generativelanguage.googleapis.com/generate_content_free_tier_requests, limit: 15\\nPlease retry in 19.880699365s.', 'status': 'RESOURCE_EXHAUSTED', 'details': [{'@type': 'type.googleapis.com/google.rpc.QuotaFailure', 'violations': [{'quotaMetric': 'generativelanguage.googleapis.com/generate_content_free_tier_requests', 'quotaId': 'GenerateRequestsPerMinutePerProjectPerModel-FreeTier', 'quotaDimensions': {'model': 'gemini-2.5-flash-lite', 'location': 'global'}, 'quotaValue': '15'}]}, {'@type': 'type.googleapis.com/google.rpc.Help', 'links': [{'description': 'Learn more about Gemini API quotas', 'url': 'https://ai.google.dev/gemini-api/docs/rate-limits'}]}, {'@type': 'type.googleapis.com/google.rpc.RetryInfo', 'retryDelay': '19s'}]}}\n",
      "Error occurred when generating response, error: 429 RESOURCE_EXHAUSTED. {'error': {'code': 429, 'message': 'You exceeded your current quota, please check your plan and billing details. For more information on this error, head to: https://ai.google.dev/gemini-api/docs/rate-limits.\\n* Quota exceeded for metric: generativelanguage.googleapis.com/generate_content_free_tier_requests, limit: 15\\nPlease retry in 19.819559066s.', 'status': 'RESOURCE_EXHAUSTED', 'details': [{'@type': 'type.googleapis.com/google.rpc.QuotaFailure', 'violations': [{'quotaMetric': 'generativelanguage.googleapis.com/generate_content_free_tier_requests', 'quotaId': 'GenerateRequestsPerMinutePerProjectPerModel-FreeTier', 'quotaDimensions': {'location': 'global', 'model': 'gemini-2.5-flash-lite'}, 'quotaValue': '15'}]}, {'@type': 'type.googleapis.com/google.rpc.Help', 'links': [{'description': 'Learn more about Gemini API quotas', 'url': 'https://ai.google.dev/gemini-api/docs/rate-limits'}]}, {'@type': 'type.googleapis.com/google.rpc.RetryInfo', 'retryDelay': '19s'}]}}\n",
      "Waiting to retry... Error: 'NoneType' object has no attribute 'replace'\n",
      "test_text: Just joined #pottermore and was sorted into HUFFLEPUFF 😡😡😡 #fuming\n",
      "Error occurred when generating response, error: 429 RESOURCE_EXHAUSTED. {'error': {'code': 429, 'message': 'You exceeded your current quota, please check your plan and billing details. For more information on this error, head to: https://ai.google.dev/gemini-api/docs/rate-limits.\\n* Quota exceeded for metric: generativelanguage.googleapis.com/generate_content_free_tier_requests, limit: 15\\nPlease retry in 4.451800289s.', 'status': 'RESOURCE_EXHAUSTED', 'details': [{'@type': 'type.googleapis.com/google.rpc.QuotaFailure', 'violations': [{'quotaMetric': 'generativelanguage.googleapis.com/generate_content_free_tier_requests', 'quotaId': 'GenerateRequestsPerMinutePerProjectPerModel-FreeTier', 'quotaDimensions': {'location': 'global', 'model': 'gemini-2.5-flash-lite'}, 'quotaValue': '15'}]}, {'@type': 'type.googleapis.com/google.rpc.Help', 'links': [{'description': 'Learn more about Gemini API quotas', 'url': 'https://ai.google.dev/gemini-api/docs/rate-limits'}]}, {'@type': 'type.googleapis.com/google.rpc.RetryInfo', 'retryDelay': '4s'}]}}\n",
      "Error occurred when generating response, error: 429 RESOURCE_EXHAUSTED. {'error': {'code': 429, 'message': 'You exceeded your current quota, please check your plan and billing details. For more information on this error, head to: https://ai.google.dev/gemini-api/docs/rate-limits.\\n* Quota exceeded for metric: generativelanguage.googleapis.com/generate_content_free_tier_requests, limit: 15\\nPlease retry in 4.375107005s.', 'status': 'RESOURCE_EXHAUSTED', 'details': [{'@type': 'type.googleapis.com/google.rpc.QuotaFailure', 'violations': [{'quotaMetric': 'generativelanguage.googleapis.com/generate_content_free_tier_requests', 'quotaId': 'GenerateRequestsPerMinutePerProjectPerModel-FreeTier', 'quotaDimensions': {'location': 'global', 'model': 'gemini-2.5-flash-lite'}, 'quotaValue': '15'}]}, {'@type': 'type.googleapis.com/google.rpc.Help', 'links': [{'description': 'Learn more about Gemini API quotas', 'url': 'https://ai.google.dev/gemini-api/docs/rate-limits'}]}, {'@type': 'type.googleapis.com/google.rpc.RetryInfo', 'retryDelay': '4s'}]}}\n",
      "Waiting to retry... Error: 'NoneType' object has no attribute 'replace'\n",
      "test_text: Just joined #pottermore and was sorted into HUFFLEPUFF 😡😡😡 #fuming\n"
     ]
    },
    {
     "name": "stderr",
     "output_type": "stream",
     "text": [
      "Processing samples for emotion: anger...: 100%|██████████| 20/20 [01:06<00:00,  3.30s/it]\n",
      "Processing samples for emotion: fear...:  45%|████▌     | 9/20 [00:08<00:10,  1.00it/s]"
     ]
    },
    {
     "name": "stdout",
     "output_type": "stream",
     "text": [
      "Error occurred when generating response, error: 429 RESOURCE_EXHAUSTED. {'error': {'code': 429, 'message': 'You exceeded your current quota, please check your plan and billing details. For more information on this error, head to: https://ai.google.dev/gemini-api/docs/rate-limits.\\n* Quota exceeded for metric: generativelanguage.googleapis.com/generate_content_free_tier_requests, limit: 15\\nPlease retry in 31.700885234s.', 'status': 'RESOURCE_EXHAUSTED', 'details': [{'@type': 'type.googleapis.com/google.rpc.QuotaFailure', 'violations': [{'quotaMetric': 'generativelanguage.googleapis.com/generate_content_free_tier_requests', 'quotaId': 'GenerateRequestsPerMinutePerProjectPerModel-FreeTier', 'quotaDimensions': {'location': 'global', 'model': 'gemini-2.5-flash-lite'}, 'quotaValue': '15'}]}, {'@type': 'type.googleapis.com/google.rpc.Help', 'links': [{'description': 'Learn more about Gemini API quotas', 'url': 'https://ai.google.dev/gemini-api/docs/rate-limits'}]}, {'@type': 'type.googleapis.com/google.rpc.RetryInfo', 'retryDelay': '31s'}]}}\n",
      "Error occurred when generating response, error: 429 RESOURCE_EXHAUSTED. {'error': {'code': 429, 'message': 'You exceeded your current quota, please check your plan and billing details. For more information on this error, head to: https://ai.google.dev/gemini-api/docs/rate-limits.\\n* Quota exceeded for metric: generativelanguage.googleapis.com/generate_content_free_tier_requests, limit: 15\\nPlease retry in 31.195222346s.', 'status': 'RESOURCE_EXHAUSTED', 'details': [{'@type': 'type.googleapis.com/google.rpc.QuotaFailure', 'violations': [{'quotaMetric': 'generativelanguage.googleapis.com/generate_content_free_tier_requests', 'quotaId': 'GenerateRequestsPerMinutePerProjectPerModel-FreeTier', 'quotaDimensions': {'model': 'gemini-2.5-flash-lite', 'location': 'global'}, 'quotaValue': '15'}]}, {'@type': 'type.googleapis.com/google.rpc.Help', 'links': [{'description': 'Learn more about Gemini API quotas', 'url': 'https://ai.google.dev/gemini-api/docs/rate-limits'}]}, {'@type': 'type.googleapis.com/google.rpc.RetryInfo', 'retryDelay': '31s'}]}}\n",
      "Waiting to retry... Error: 'NoneType' object has no attribute 'replace'\n",
      "test_text: @madhav_pastey moral of the story, never check mails in the night. PS. Most notices have nothing much to worry about. @ashwinikn\n",
      "Error occurred when generating response, error: 429 RESOURCE_EXHAUSTED. {'error': {'code': 429, 'message': 'You exceeded your current quota, please check your plan and billing details. For more information on this error, head to: https://ai.google.dev/gemini-api/docs/rate-limits.\\n* Quota exceeded for metric: generativelanguage.googleapis.com/generate_content_free_tier_requests, limit: 15\\nPlease retry in 16.005407114s.', 'status': 'RESOURCE_EXHAUSTED', 'details': [{'@type': 'type.googleapis.com/google.rpc.QuotaFailure', 'violations': [{'quotaMetric': 'generativelanguage.googleapis.com/generate_content_free_tier_requests', 'quotaId': 'GenerateRequestsPerMinutePerProjectPerModel-FreeTier', 'quotaDimensions': {'location': 'global', 'model': 'gemini-2.5-flash-lite'}, 'quotaValue': '15'}]}, {'@type': 'type.googleapis.com/google.rpc.Help', 'links': [{'description': 'Learn more about Gemini API quotas', 'url': 'https://ai.google.dev/gemini-api/docs/rate-limits'}]}, {'@type': 'type.googleapis.com/google.rpc.RetryInfo', 'retryDelay': '16s'}]}}\n",
      "Error occurred when generating response, error: 429 RESOURCE_EXHAUSTED. {'error': {'code': 429, 'message': 'You exceeded your current quota, please check your plan and billing details. For more information on this error, head to: https://ai.google.dev/gemini-api/docs/rate-limits.\\n* Quota exceeded for metric: generativelanguage.googleapis.com/generate_content_free_tier_requests, limit: 15\\nPlease retry in 15.934395571s.', 'status': 'RESOURCE_EXHAUSTED', 'details': [{'@type': 'type.googleapis.com/google.rpc.QuotaFailure', 'violations': [{'quotaMetric': 'generativelanguage.googleapis.com/generate_content_free_tier_requests', 'quotaId': 'GenerateRequestsPerMinutePerProjectPerModel-FreeTier', 'quotaDimensions': {'location': 'global', 'model': 'gemini-2.5-flash-lite'}, 'quotaValue': '15'}]}, {'@type': 'type.googleapis.com/google.rpc.Help', 'links': [{'description': 'Learn more about Gemini API quotas', 'url': 'https://ai.google.dev/gemini-api/docs/rate-limits'}]}, {'@type': 'type.googleapis.com/google.rpc.RetryInfo', 'retryDelay': '15s'}]}}\n",
      "Waiting to retry... Error: 'NoneType' object has no attribute 'replace'\n",
      "test_text: @madhav_pastey moral of the story, never check mails in the night. PS. Most notices have nothing much to worry about. @ashwinikn\n",
      "Error occurred when generating response, error: 429 RESOURCE_EXHAUSTED. {'error': {'code': 429, 'message': 'You exceeded your current quota, please check your plan and billing details. For more information on this error, head to: https://ai.google.dev/gemini-api/docs/rate-limits.\\n* Quota exceeded for metric: generativelanguage.googleapis.com/generate_content_free_tier_requests, limit: 15\\nPlease retry in 650.378779ms.', 'status': 'RESOURCE_EXHAUSTED', 'details': [{'@type': 'type.googleapis.com/google.rpc.QuotaFailure', 'violations': [{'quotaMetric': 'generativelanguage.googleapis.com/generate_content_free_tier_requests', 'quotaId': 'GenerateRequestsPerMinutePerProjectPerModel-FreeTier', 'quotaDimensions': {'location': 'global', 'model': 'gemini-2.5-flash-lite'}, 'quotaValue': '15'}]}, {'@type': 'type.googleapis.com/google.rpc.Help', 'links': [{'description': 'Learn more about Gemini API quotas', 'url': 'https://ai.google.dev/gemini-api/docs/rate-limits'}]}, {'@type': 'type.googleapis.com/google.rpc.RetryInfo', 'retryDelay': '0s'}]}}\n",
      "Error occurred when generating response, error: 429 RESOURCE_EXHAUSTED. {'error': {'code': 429, 'message': 'You exceeded your current quota, please check your plan and billing details. For more information on this error, head to: https://ai.google.dev/gemini-api/docs/rate-limits.\\n* Quota exceeded for metric: generativelanguage.googleapis.com/generate_content_free_tier_requests, limit: 15\\nPlease retry in 603.626107ms.', 'status': 'RESOURCE_EXHAUSTED', 'details': [{'@type': 'type.googleapis.com/google.rpc.QuotaFailure', 'violations': [{'quotaMetric': 'generativelanguage.googleapis.com/generate_content_free_tier_requests', 'quotaId': 'GenerateRequestsPerMinutePerProjectPerModel-FreeTier', 'quotaDimensions': {'location': 'global', 'model': 'gemini-2.5-flash-lite'}, 'quotaValue': '15'}]}, {'@type': 'type.googleapis.com/google.rpc.Help', 'links': [{'description': 'Learn more about Gemini API quotas', 'url': 'https://ai.google.dev/gemini-api/docs/rate-limits'}]}, {'@type': 'type.googleapis.com/google.rpc.RetryInfo', 'retryDelay': '0s'}]}}\n",
      "Waiting to retry... Error: 'NoneType' object has no attribute 'replace'\n",
      "test_text: @madhav_pastey moral of the story, never check mails in the night. PS. Most notices have nothing much to worry about. @ashwinikn\n"
     ]
    },
    {
     "name": "stderr",
     "output_type": "stream",
     "text": [
      "Processing samples for emotion: fear...: 100%|██████████| 20/20 [01:07<00:00,  3.36s/it]\n",
      "Processing samples for emotion: joy...:  25%|██▌       | 5/20 [00:04<00:13,  1.09it/s]"
     ]
    },
    {
     "name": "stdout",
     "output_type": "stream",
     "text": [
      "Rate limit of 15 requests per minute reached. Waiting for 44.54 seconds.\n"
     ]
    },
    {
     "name": "stderr",
     "output_type": "stream",
     "text": [
      "Processing samples for emotion: joy...: 100%|██████████| 20/20 [01:03<00:00,  3.19s/it]\n",
      "Processing samples for emotion: sadness...:   0%|          | 0/20 [00:00<?, ?it/s]"
     ]
    },
    {
     "name": "stdout",
     "output_type": "stream",
     "text": [
      "Rate limit of 15 requests per minute reached. Waiting for 45.15 seconds.\n"
     ]
    },
    {
     "name": "stderr",
     "output_type": "stream",
     "text": [
      "Processing samples for emotion: sadness...:  75%|███████▌  | 15/20 [00:59<00:05,  1.04s/it]"
     ]
    },
    {
     "name": "stdout",
     "output_type": "stream",
     "text": [
      "Rate limit of 15 requests per minute reached. Waiting for 45.46 seconds.\n"
     ]
    },
    {
     "name": "stderr",
     "output_type": "stream",
     "text": [
      "Processing samples for emotion: sadness...: 100%|██████████| 20/20 [01:50<00:00,  5.51s/it]"
     ]
    },
    {
     "name": "stdout",
     "output_type": "stream",
     "text": [
      "\n",
      "Results saved to ./results/llm_classification_results/results_samples_20_shots_5.csv\n",
      "Accuracy: 60.00%\n",
      "              precision    recall  f1-score   support\n",
      "\n",
      "       anger       0.54      0.70      0.61        20\n",
      "        fear       0.64      0.45      0.53        20\n",
      "         joy       0.58      0.70      0.64        20\n",
      "     sadness       0.69      0.55      0.61        20\n",
      "\n",
      "    accuracy                           0.60        80\n",
      "   macro avg       0.61      0.60      0.60        80\n",
      "weighted avg       0.61      0.60      0.60        80\n",
      "\n"
     ]
    },
    {
     "name": "stderr",
     "output_type": "stream",
     "text": [
      "\n"
     ]
    },
    {
     "data": {
      "image/png": "[encoded data removed]",
      "text/plain": [
       "<Figure size 500x500 with 2 Axes>"
      ]
     },
     "metadata": {},
     "output_type": "display_data"
    }
   ],
   "source": [
    "# If you see '429 RESOURCE_EXHAUSTED' errors it's fine, wait until the data gets processed, it will keep retrying until it finishes\n",
    "\n",
    "# Example of running the experiment with 5-shot prompting\n",
    "run_experiment(train_df, test_df, num_test_samples=20, num_shots=5)"
   ]
  },
  {
   "cell_type": "markdown",
   "metadata": {},
   "source": [
    "---\n",
    "##### <a id='toc1_5_10_1_1_'></a>[**>>> Exercise 6 (Take home):**](#toc0_)\n",
    "\n",
    "Compare and discuss the overall results of the zero-shot, 1-shot and 5-shot classification."
   ]
  },
  {
   "cell_type": "code",
   "execution_count": null,
   "metadata": {},
   "outputs": [],
   "source": [
    "# Answer here\n",
    "'''\n",
    "- 0-shot vs. 1-shot: The jump from zero to one example only provided a very slight improvement. Accuracy increased by only 1.25%, and the macro average F1-score only rose by 0.02. This suggests that a single example was not enough to give the model strong guidance and may have even slightly confused it for some classes.\n",
    "- 1-shot vs. 5-shot: This is where the most significant leap occurred. Accuracy jumped by 7.5%, and the macro average F1-score increased sharply from 0.51 to 0.60. This improvement was consistent across all classes, indicating that the model finally had enough information to understand the nuances of each emotion.\n",
    "\n",
    "1. 0-Shot (Initial Guesswork): Without any examples, the model relies on its general, pre-trained knowledge. The results are unbalanced: it tends to over-predict 'joy' and 'anger' (high recall, low precision) while struggling to identify 'fear' and 'sadness' (low recall).\n",
    "2. 1-Shot (Unclear Guidance): The addition of a single example was insufficient. The minimal improvement suggests the lone example was either not representative enough or may have even slightly confused the model, as performance for 'sadness' decreased.\n",
    "3. 5-Shot (Strong Context): The significant jump to 60% accuracy shows that the model required a diversity of examples to build a robust understanding. With five examples, the model was able to learn:\n",
    "    - Linguistic Variation: It saw multiple ways each emotion could be expressed.\n",
    "    - Class Boundaries: It became much better at distinguishing between similar emotions, which improved both precision and recall across the board.\n",
    "'''"
   ]
  },
  {
   "cell_type": "markdown",
   "metadata": {},
   "source": [
    "---\n",
    "##### <a id='toc1_5_10_1_2_'></a>[**>>> Exercise 7 (Take home):**](#toc0_)\n",
    "\n",
    "**Case Study:** Check the results' files inside the `results/llm_classification_results` directory and find cases where the **text classification improves with more examples** (pred emotion is right with examples), **cases where it does not improve** (pred emotion always wrong) and **cases where the classification got worse with more examples** (pred emotion goes from right to wrong with examples). For this you need to load the results with pandas and handle the data using its dataframe functions. Discuss about the findings."
   ]
  },
  {
   "cell_type": "code",
   "execution_count": 69,
   "metadata": {},
   "outputs": [
    {
     "name": "stdout",
     "output_type": "stream",
     "text": [
      "\n",
      "Improvement:\n",
      "                                                 text true_emotion  \\\n",
      "18                 Eat my ass' is no longer an insult        anger   \n",
      "19  @LiamCannon1 He's just too raging to type prop...        anger   \n",
      "25  The moment you bring her to meet your best fri...         fear   \n",
      "26  Trying to book holiday flights on @britishairw...         fear   \n",
      "32  “We can easily #forgive a #child who is #afrai...         fear   \n",
      "\n",
      "   pred_emotion_0 pred_emotion_1 pred_emotion_5  \n",
      "18            joy          anger          anger  \n",
      "19            joy            joy          anger  \n",
      "25            joy            joy           fear  \n",
      "26          anger           fear           fear  \n",
      "32        sadness           fear           fear  \n"
     ]
    }
   ],
   "source": [
    "# Answer here\n",
    "import pandas as pd\n",
    "\n",
    "# Load the result files\n",
    "df_0_shot = pd.read_csv('./results/llm_classification_results/results_samples_20_shots_0.csv')\n",
    "df_1_shot = pd.read_csv('./results/llm_classification_results/results_samples_20_shots_1.csv')\n",
    "df_5_shot = pd.read_csv('./results/llm_classification_results/results_samples_20_shots_5.csv')\n",
    "\n",
    "\n",
    "df_0_shot.rename(columns={'predicted_emotion': 'pred_emotion_0'}, inplace=True)\n",
    "df_1_shot.rename(columns={'predicted_emotion': 'pred_emotion_1'}, inplace=True)\n",
    "df_5_shot.rename(columns={'predicted_emotion': 'pred_emotion_5'}, inplace=True)\n",
    "\n",
    "\n",
    "# Merge the dataframes for comparison\n",
    "merged_df = pd.merge(df_0_shot, df_1_shot, on=['text', 'true_emotion'])\n",
    "merged_df = pd.merge(merged_df, df_5_shot, on=['text', 'true_emotion'])\n",
    "\n",
    "# Find cases for each scenario\n",
    "improvement = merged_df[(merged_df['pred_emotion_0'] != merged_df['true_emotion']) & (merged_df['pred_emotion_5'] == merged_df['true_emotion'])]\n",
    "no_improvement = merged_df[(merged_df['pred_emotion_0'] != merged_df['true_emotion']) & (merged_df['pred_emotion_1'] != merged_df['true_emotion']) & (merged_df['pred_emotion_5'] != merged_df['true_emotion'])]\n",
    "degradation = merged_df[(merged_df['pred_emotion_0'] == merged_df['true_emotion']) & (merged_df['pred_emotion_5'] != merged_df['true_emotion'])]\n",
    "\n",
    "print(\"\\nImprovement:\")\n",
    "print(improvement.head())"
   ]
  },
  {
   "cell_type": "code",
   "execution_count": 70,
   "metadata": {},
   "outputs": [
    {
     "name": "stdout",
     "output_type": "stream",
     "text": [
      "\n",
      "No improvement:\n",
      "                                                 text true_emotion  \\\n",
      "2   I think @Sam_Canaday &amp; @KYLEJDOWSON must a...        anger   \n",
      "8   @LaureEve I am sitting here wrapped in a fluff...        anger   \n",
      "10  Having a baby born too soon is #lifechanging 6...        anger   \n",
      "13  I think our defense here at USC is playing wel...        anger   \n",
      "15  Kik to trade, have fun or a conversation  (kik...        anger   \n",
      "\n",
      "   pred_emotion_0 pred_emotion_1 pred_emotion_5  \n",
      "2         sadness        sadness        sadness  \n",
      "8             joy            joy            joy  \n",
      "10        sadness        sadness        sadness  \n",
      "13            joy            joy            joy  \n",
      "15            joy            joy            joy  \n"
     ]
    }
   ],
   "source": [
    "print(\"\\nNo improvement:\")\n",
    "print(no_improvement.head())"
   ]
  },
  {
   "cell_type": "code",
   "execution_count": 68,
   "metadata": {},
   "outputs": [
    {
     "name": "stdout",
     "output_type": "stream",
     "text": [
      "\\Degradation:\n",
      "                                                 text true_emotion  \\\n",
      "6   [ @HedgehogDylan ] *she would frown a bit, fol...        anger   \n",
      "40  @diehimbeertonis She developed her 'forced smi...          joy   \n",
      "45  How can l rule my mind !!!!!! \\nIt's hilarious...          joy   \n",
      "65  @Eeevah14 don't I know it, try not to fret my ...      sadness   \n",
      "\n",
      "   pred_emotion_0 pred_emotion_1 pred_emotion_5  \n",
      "6           anger           fear           fear  \n",
      "40            joy        sadness        sadness  \n",
      "45            joy        sadness        sadness  \n",
      "65        sadness           fear           fear  \n"
     ]
    }
   ],
   "source": [
    "print(\"\\Degradation:\")\n",
    "print(degradation.head())"
   ]
  },
  {
   "cell_type": "code",
   "execution_count": null,
   "metadata": {},
   "outputs": [],
   "source": [
    "'''\n",
    "- Improve\n",
    "The zero-shot model likely got confused by the social context (\"meet your best friend\") and misinterpreted \"crying\" as tears of joy, a common trope in stories. However, the explicit keyword \"scared\" is the true emotional signal here. After seeing five examples, the model learned to give more weight to direct emotional declarations. The few-shot examples for fear likely contained similar keywords (\"afraid,\" \"scared,\" \"worried\"), effectively teaching the model, \"When you see words like this, classify it as 'fear', regardless of the surrounding story.\"\n",
    "\n",
    "- Not improve\n",
    "This is a classic \"garbage in, garbage out\" problem. The text snippet itself contains overwhelmingly positive and cozy language (\"fluffy blanket,\" \"dog is snoring,\" \"so ready\"). The true emotion, anger, is impossible to determine without the wider context of the conversation. The model makes a perfectly reasonable prediction (joy) based on the available text. No number of few-shot examples for anger can help here, because there are simply no words in the text that align with those examples. The model correctly identifies the sentiment of the snippet, but fails on the task because the necessary information is missing.\n",
    "\n",
    "- Degradation\n",
    "The zero-shot model, using its broad, general knowledge, correctly identified that a \"frown\" is a common expression of anger. However, after seeing five examples, its prediction changed to fear. This suggests that the five examples provided for the anger class contained very strong and explicit keywords (e.g., \"rage,\" \"furious,\" \"hate,\" \"pissed\").\n",
    "'''"
   ]
  },
  {
   "cell_type": "markdown",
   "metadata": {},
   "source": [
    "---\n",
    "### <a id='toc1_5_11_'></a>[**2.7 Extra LLM Related Materials:**](#toc0_)\n",
    "So this will be it for the lab, but here are some extra materials if you would like to explore:\n",
    "\n",
    "- **How to use OpenAI ChatGPT model's API (Not Free API):** [Basics Video](https://www.youtube.com/watch?v=e9P7FLi5Zy8), [Basics GitHub](https://github.com/gkamradt/langchain-tutorials/blob/main/chatapi/ChatAPI%20%2B%20LangChain%20Basics.ipynb), [RAG's Basics Video](https://www.youtube.com/watch?v=9AXP7tCI9PI&t=300s), [RAG's Basics GitHub](https://github.com/techleadhd/chatgpt-retrieval)\n",
    "\n",
    "- **Advanced topic - QLoRA (Quantized Low-Rank Adapter):** QLoRA is a method used to make fine-tuning large language models more efficient. It works by adding a small, trainable part (LoRA) to a pre-trained model, while keeping the rest of the model frozen. At the same time, it reduces the size of the model’s data using a process called quantization, which makes the model require less memory. This allows you to fine-tune large models without needing as much computational power, making it easier to adapt models for specific tasks. Materials: [Paper GitHub](https://github.com/artidoro/qlora?tab=readme-ov-file), [Llama 3 Application Video](https://www.youtube.com/watch?v=YJNbgusTSF0&t=512s),[Llama 3 Application GitHub](https://github.com/adidror005/youtube-videos/blob/main/LLAMA_3_Fine_Tuning_for_Sequence_Classification_Actual_Video.ipynb)\n",
    "\n",
    "- **How to Fine-tune and run local LLMs with the `unsloth` library:** [unsloth tutorials](https://docs.unsloth.ai/models/tutorials-how-to-fine-tune-and-run-llms)\n",
    "\n",
    "- **Google's Agent Development Kit Documentation:** [ADK](https://google.github.io/adk-docs/)\n",
    "\n",
    "- **Build AI agents with LangGraph:** [LangGraph Documentation](https://langchain-ai.github.io/langgraph/concepts/why-langgraph/)"
   ]
  },
  {
   "cell_type": "markdown",
   "metadata": {
    "id": "_fF1woa8YTp5"
   },
   "source": [
    "---"
   ]
  }
 ],
 "metadata": {
  "colab": {
   "collapsed_sections": [
    "4e5eiVLOYTp5"
   ],
   "provenance": []
  },
  "kernelspec": {
   "display_name": "DM2",
   "language": "python",
   "name": ".venv"
  },
  "language_info": {
   "codemirror_mode": {
    "name": "ipython",
    "version": 3
   },
   "file_extension": ".py",
   "mimetype": "text/x-python",
   "name": "python",
   "nbconvert_exporter": "python",
   "pygments_lexer": "ipython3",
   "version": "3.11.7"
  },
  "varInspector": {
   "cols": {
    "lenName": 16,
    "lenType": 16,
    "lenVar": 40
   },
   "kernels_config": {
    "python": {
     "delete_cmd_postfix": "",
     "delete_cmd_prefix": "del ",
     "library": "var_list.py",
     "varRefreshCmd": "print(var_dic_list())"
    },
    "r": {
     "delete_cmd_postfix": ") ",
     "delete_cmd_prefix": "rm(",
     "library": "var_list.r",
     "varRefreshCmd": "cat(var_dic_list()) "
    }
   },
   "oldHeight": 594.85,
   "position": {
    "height": "40px",
    "left": "723px",
    "right": "20px",
    "top": "80px",
    "width": "250px"
   },
   "types_to_exclude": [
    "module",
    "function",
    "builtin_function_or_method",
    "instance",
    "_Feature"
   ],
   "varInspector_section_display": "none",
   "window_display": true
  }
 },
 "nbformat": 4,
 "nbformat_minor": 1
}
